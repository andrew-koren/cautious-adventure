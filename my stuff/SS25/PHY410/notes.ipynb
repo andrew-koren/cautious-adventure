{
 "cells": [
  {
   "cell_type": "markdown",
   "metadata": {},
   "source": [
    "Multiplicity - binomial\n",
    "\n",
    "nCr - # of ways r things can be put in n slots. g(N,t) in kittel\n",
    "\n",
    "binomial distribution variance $np(1-p)$\n",
    "\n"
   ]
  },
  {
   "cell_type": "markdown",
   "metadata": {},
   "source": [
    "Microstate notation\n",
    "\n",
    "$(\\uparrow + \\downarrow)$ or more generally $(p+q)^N = \\sum_{n=0}^{N} {N\\choose{n}} p^n q^{N-n}$ Probability of all outcomes"
   ]
  },
  {
   "cell_type": "code",
   "execution_count": 3,
   "metadata": {},
   "outputs": [
    {
     "data": {
      "text/plain": [
       "0.375"
      ]
     },
     "execution_count": 3,
     "metadata": {},
     "output_type": "execute_result"
    }
   ],
   "source": [
    "from math import comb\n",
    "comb(4, 2) * .5**2*.5**2"
   ]
  },
  {
   "cell_type": "markdown",
   "metadata": {},
   "source": [
    "Feynman trick $np^n = p \\frac{\\partial}{\\partial p} \\left( p^n \\right)$"
   ]
  },
  {
   "cell_type": "markdown",
   "metadata": {},
   "source": [
    "The important part: $\\langle n^2 \\rangle$\n",
    "\n",
    "$$\n",
    "\\langle n^2 \\rangle = \\sum_{n=0}^N {N \\choose n} n^2  p^n q^{N-n} = \\left( p \\frac{\\delta}{\\delta p} \\right)^2 \\sum_{n=0}^N {N \\choose n}   p^n q^{N-n}\n",
    "\\\\ = \\left( p \\frac{\\delta}{\\delta p} \\right)^2 \\left( p+ q\\right)^N = pN + p^2 N(N-1) \n",
    "\\\\ = (Np)^2 + Npq\n",
    "$$\n",
    "\n",
    "$$\n",
    "\\langle (n-\\langle n \\rangle)^2 \\rangle = \\langle n^2 \\rangle - \\langle n \\rangle^2 = (Np)^2 + Npq - (Np)^2 = Npq\n",
    "$$\n",
    "variance"
   ]
  },
  {
   "cell_type": "markdown",
   "metadata": {},
   "source": [
    "Stirling approximation (it's pretty good) $\\ln(N!) \\approx \\frac{1}{2} \\ln(2\\pi) + (N+\\frac{1}{2}) \\ln(N) - N$"
   ]
  },
  {
   "cell_type": "code",
   "execution_count": 50,
   "metadata": {},
   "outputs": [
    {
     "data": {
      "image/png": "[encoded data removed]",
      "text/plain": [
       "<Figure size 640x480 with 1 Axes>"
      ]
     },
     "metadata": {},
     "output_type": "display_data"
    }
   ],
   "source": [
    "import numpy as np\n",
    "import matplotlib.pyplot as plt\n",
    "from numpy import pi, log\n",
    "from scipy.special import factorial\n",
    "\n",
    "N = np.arange(2, 100)\n",
    "direct_calc = log(factorial(N))\n",
    "approx_calc = 1/2 * log(2*pi) + (N+1/2)*log(N) - N\n",
    "\n",
    "plt.plot(N, direct_calc, label='true value')\n",
    "plt.plot(N, approx_calc, label='approximation')\n",
    "plt.plot(N, direct_calc-approx_calc, label='residual')\n",
    "plt.yscale('log')\n",
    "plt.legend();"
   ]
  },
  {
   "cell_type": "markdown",
   "metadata": {},
   "source": [
    "g multiplicity\n",
    "\n",
    "$$\n",
    "g(N,s) = \\frac{N!}{(N-s)! s!} = \\frac{N!}{N_A! N_B!} \\\\\n",
    "g(N,s) \\approx g(N,0) e^{-2s^2/N} \\\\ g(N,0) \\approx \\sqrt{\\frac{2}{\\pi N}} 2^N \\\\\n",
    "g(N,s) = \\sum_{s_1} g_1 (N_1,s_1) g_2 ( N_2, s-s_2) \\\\\n",
    "g(N,U) = \\sum_{U_1} g_1 (N_1,U_1) g_2 (N_2, U_2),\\ U = U_1 + U_2\n",
    "$$\n",
    "\n",
    "Total energy is conserved $\\checkmark$"
   ]
  },
  {
   "cell_type": "markdown",
   "metadata": {},
   "source": [
    "$g_1 g_2$\n",
    "\n",
    "Thermal equilibrium is when $g_1g_2$ is maximized\n",
    "\n",
    "$$\n",
    "d(g_1,g_2) = \n",
    "\\left(\\frac{\\partial(g_1,g_2)}{\\partial U_1} \\right)_{N_1, N_2} dU_1 + \n",
    "\\left(\\frac{\\partial(g_1,g_2)}{\\partial U_2} \\right)_{N_1, N_2} dU_2 \\\\\n",
    "=\n",
    "g_2 \\frac{\\partial g_1}{\\partial U_1} dU_1 + g_1\\frac{\\partial g_2}{\\partial U_2} dU_2\n",
    "$$\n",
    "\n",
    "The little $N_1,N_2$ indicate these values are held constant"
   ]
  },
  {
   "cell_type": "markdown",
   "metadata": {},
   "source": [
    "When is $d(g_1, g_2)$ minimized? Let's separate\n",
    "\n",
    "$$\n",
    "\\frac{1}{g_1} \\frac{\\partial g_1}{\\partial U_1} - \\frac{1}{g_2} \\frac{\\partial g_2}{\\partial U_2} = 0 \\\\\n",
    "\\frac{\\partial \\ln(g_1)}{\\partial U_1} =\\frac{\\partial \\ln(g_2)}{\\partial U_2}\\\\\n",
    "\\frac{1}{\\tau_1} = \\frac{1}{\\tau_2}\n",
    "$$\n",
    "temperature achieved"
   ]
  },
  {
   "cell_type": "markdown",
   "metadata": {},
   "source": [
    "Next: entropy (also just dropped in our lap for now)\n",
    "\n",
    "$$\n",
    "\\sigma(N,U) = \\ln g(N,U)\n",
    "$$\n",
    "\n",
    "Entropy $\\sigma$ is unitless. Note that fundamental temperature $\\tau$ has energy units since $g$ is unitless. $\\tau = K_B T$\n",
    "\n",
    "We translate from $\\sigma$ to $S$ using $S = K_B \\sigma$"
   ]
  },
  {
   "cell_type": "markdown",
   "metadata": {},
   "source": [
    "Bonus: $\\tau = \\frac{\\partial U}{\\partial \\sigma}_N$ Not common.\n",
    "\n",
    "More common: $\\frac{1}{\\tau} = \\frac{\\partial \\sigma}{\\partial U}_N$\n",
    "\n",
    "This definition mean cold systems change entropy quickly, while hot systems change entropy slowly with respect to energy"
   ]
  },
  {
   "cell_type": "markdown",
   "metadata": {},
   "source": [
    "----"
   ]
  },
  {
   "cell_type": "markdown",
   "metadata": {},
   "source": [
    "Entropy"
   ]
  },
  {
   "cell_type": "markdown",
   "metadata": {},
   "source": [
    "$g_{tot} = g_1 g_2$ but $\\sigma_{tot} = \\sigma_1 + \\sigma_2$ Entropy adds.\n",
    "\n",
    "In practice we can't say as much when we're out of equilibrium.\n",
    "\n",
    "$$\n",
    "\\sigma_{tot} = \\ln(g_{tot}) = \\ln\\left(\\sum_{U_1} g_1 g_2\\right)\n",
    "$$\n",
    "\n",
    "If one state is much bigger than the rest, we can focus on that one\n",
    "$$\n",
    "\\sigma_{tot} \\approx \\ln(\\hat g_1 \\hat g_2) \\approx \\ln(\\hat g_1) + \\ln(\\hat g_2) = \\sigma_1^{eq} + \\sigma_2^{eq}\n",
    "$$\n",
    "\n",
    "We can use entropy to describe heat flow\n",
    "\n",
    "$$\n",
    "d \\sigma_{tot} = d \\sigma_1 + d \\sigma_2 \\\\\n",
    "= \\frac{\\partial \\sigma_1}{\\partial U_1 } \\delta U_1 + \\frac{\\partial \\sigma_2}{\\partial U_2 } \\delta U_2 \\\\\n",
    "$$\n",
    "Note that $\\delta U_2 = -\\delta U_1 $\n",
    "$$\n",
    "d \\sigma_{tot} =\\left(\\frac{1}{\\tau_1} - \\frac{1}{\\tau_2} \\right) \\delta U_1\n",
    "$$\n",
    "\n",
    "So entropy increases if heat flows from hot to cold, decreases if opposite"
   ]
  },
  {
   "cell_type": "markdown",
   "metadata": {},
   "source": [
    "Laws (not postulates) of thermodynamics\n",
    "\n",
    "0. If a and b are in equilibrium with c, they are in equilibrium\n",
    "1. Heat = Energy kinda\n",
    "2. If a state changes, entropy with stay constant/increase (usually)\n",
    "3. It definitely stays the same"
   ]
  },
  {
   "cell_type": "markdown",
   "metadata": {},
   "source": [
    "---"
   ]
  },
  {
   "cell_type": "markdown",
   "metadata": {},
   "source": [
    "Thermal contact & reservior"
   ]
  },
  {
   "cell_type": "markdown",
   "metadata": {},
   "source": [
    "If we have a reservoir R with temp $\\tau$ and total energy $U-\\epsilon_s$ in contact with our system $S$ with energy $\\epsilon_s$, probably the same temperature?\n",
    "\n",
    "How likely is $S$ in state $s$ with energy $\\epsilon_s$?"
   ]
  },
  {
   "cell_type": "markdown",
   "metadata": {},
   "source": [
    "$$\n",
    "g_R(U_0 - \\epsilon_s) \\times 1 = g_{tot} \\\\\n",
    "P(\\epsilon_s) \\propto g_R(U-\\epsilon_s)\n",
    "$$\n",
    "Great all we need is $g_R$ as a function of energy. We'll get there.\n",
    "\n",
    "Acutally, we're going to pull the $\\epsilon_s$ out of this.\n",
    "<details>\n",
    "\n",
    "$$\n",
    "\\ln(g_R(U_0)-\\epsilon_s) \\approx \\ln(g_R (U_0)) - \\epsilon_s \\left(\\frac{\\partial \\ln g(U)}{\\partial U} \\right)_{V,N} + \\dots \\\\\n",
    "\\approx \\ln(g_R(U_0)) - \\epsilon_s\\frac{1}{\\tau} \\\\\n",
    "$$\n",
    "Going back up via exponentiation gives us our final result\n",
    "</details>\n",
    "\n",
    "$$\n",
    "g_R(U-\\epsilon_s) \\approx g_R(U) e^{-\\epsilon_s/\\tau} \\\\\n",
    "P(\\epsilon_s) \\propto e^{-\\epsilon_s/\\tau}\n",
    "$$\n",
    "\n"
   ]
  },
  {
   "cell_type": "markdown",
   "metadata": {},
   "source": [
    "$$\n",
    "\\tau = \\frac{1}{40} \\\\\n",
    "E_1 = -13.6 \\\\\n",
    "E_2 = -3.4 \\\\\n",
    "\n",
    "% 40 = \\frac{d \\sigma}{d U} \\\\\n",
    "% \\sigma(U) = 40U \\\\\n",
    "% \\ln(g(U)) = 40U \\\\\n",
    "% g(U) = e^{40U} \\\\\n",
    "$$\n",
    "\n"
   ]
  },
  {
   "cell_type": "code",
   "execution_count": 7,
   "metadata": {},
   "outputs": [
    {
     "name": "stdout",
     "output_type": "stream",
     "text": [
      "6.424678257926741e-178\n"
     ]
    }
   ],
   "source": [
    "from numpy import exp\n",
    "print(exp(3.4*40) / exp(13.6*40))"
   ]
  },
  {
   "cell_type": "markdown",
   "metadata": {},
   "source": [
    "---\n",
    "Partition function\n",
    "\n",
    "$$\n",
    "Z = \\sum_{s'} e^{-\\epsilon_s'/T} \\\\\n",
    "\\langle X \\rangle \\equiv \\sum_s X_s P(s) = \\frac{\\sum_s X_s e^{-\\epsilon_s/T}}{Z} \\\\\n",
    "\\langle \\epsilon \\rangle \\equiv \\mathcal{U} %yippie \n",
    "$$\n",
    "Apply derivative\n",
    "$$\n",
    "\\mathcal{U}  = \\dfrac{\\tau^2 \\frac{\\partial}{\\partial \\tau} \\sum_s e^{-\\epsilon_s/\\tau}}{Z} = \\tau^2 \\dfrac{\\partial \\ln Z}{\\partial\\tau} \\\\\n",
    "\\beta \\equiv \\frac{1}{\\tau} \\rightarrow \\mathcal{U} = - \\frac{\\partial \\ln Z}{\\partial \\beta}\n",
    "$$\n",
    "\n",
    "Okay, how do we find the fluxuations (std)?\n",
    "\n",
    "$$\n",
    "\\langle \\epsilon^2 \\rangle = \\frac{\\frac{\\partial^2 Z}{\\partial \\beta^2}}{Z} \\\\\n",
    "\\langle (\\Delta \\epsilon)^2 \\rangle = \\frac{1}{Z} \\frac{\\partial^2 Z}{\\partial \\beta^2} - \\left(\\frac{d \\ln Z}{\\partial \\beta} \\right)^2 = \\frac{\\partial^2 \\ln Z}{\\partial \\beta^2}\n",
    "$$"
   ]
  },
  {
   "cell_type": "markdown",
   "metadata": {},
   "source": [
    "Microcanonical ensemble: \n",
    "\n",
    "multiplicity of $g(U,V,N)$ is probability of a quantum state <br>\n",
    "$\\sigma(U,N,V) = \\ln(g)$ <br>\n",
    "$\\beta = \\frac{\\partial \\sigma}{\\partial U}_{N,V}$\n",
    "\n",
    "Canonical ensemble: \n",
    "\n",
    "$Z = \\sum_s e^{-\\epsilon_s/\\tau}$<br>\n",
    "$P(s) = \\frac{e^{-\\epsilon_s \\beta}}{Z}$ <br>\n",
    "$\\mathcal U = - \\frac{\\partial \\ln Z}{\\partial \\beta}$ <br>\n",
    "entropy tbd"
   ]
  },
  {
   "cell_type": "markdown",
   "metadata": {},
   "source": [
    "---\n",
    "Extensive qantities scale with size (total energy), intensive dosen't scale (avg energy). A reversible process occurs when system remains at equilibrium throughout the process."
   ]
  },
  {
   "cell_type": "markdown",
   "metadata": {},
   "source": [
    "Reversible processes transform states, they do not move particles between states. Quantized energy levels should smoothly transfom to neq energy levels"
   ]
  }
 ],
 "metadata": {
  "kernelspec": {
   "display_name": ".venv",
   "language": "python",
   "name": "python3"
  },
  "language_info": {
   "codemirror_mode": {
    "name": "ipython",
    "version": 3
   },
   "file_extension": ".py",
   "mimetype": "text/x-python",
   "name": "python",
   "nbconvert_exporter": "python",
   "pygments_lexer": "ipython3",
   "version": "3.12.5"
  }
 },
 "nbformat": 4,
 "nbformat_minor": 2
}
