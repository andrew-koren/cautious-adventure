{
 "cells": [
  {
   "cell_type": "markdown",
   "metadata": {},
   "source": [
    "Multiplicity - binomial\n",
    "\n",
    "nCr - # of ways r things can be put in n slots. g(N,t) in kittel\n",
    "\n",
    "binomial distribution variance $np(1-p)$\n",
    "\n"
   ]
  }
 ],
 "metadata": {
  "language_info": {
   "name": "python"
  }
 },
 "nbformat": 4,
 "nbformat_minor": 2
}
