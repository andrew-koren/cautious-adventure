{
 "cells": [
  {
   "cell_type": "code",
   "execution_count": 30,
   "metadata": {},
   "outputs": [
    {
     "name": "stdout",
     "output_type": "stream",
     "text": [
      "Final state vector after applying XX + YY:\n",
      "[-1.+0.j  0.+0.j  0.+0.j  0.+0.j]\n"
     ]
    }
   ],
   "source": [
    "import cirq\n",
    "\n",
    "# Define two qubits\n",
    "q0 = cirq.LineQubit(0)\n",
    "q1 = cirq.LineQubit(1)\n",
    "\n",
    "# Define the |01> state\n",
    "initial_state = [0, 1, 0, 0]  # |01>\n",
    "\n",
    "# Define the XX + YY operator using Cirq's PauliString\n",
    "xx = cirq.PauliString(cirq.X(q0) * cirq.X(q1))\n",
    "yy = cirq.PauliString(cirq.Y(q0) * cirq.Y(q1))\n",
    "\n",
    "# Combine XX + YY\n",
    "operator = xx + yy\n",
    "\n",
    "# Create a circuit to apply the operator\n",
    "circuit = cirq.Circuit()\n",
    "\n",
    "# Prepare the initial state |01> using single-qubit gates\n",
    "circuit.append(cirq.X(q1))  # Flip q0 to |1> (now |01>)\n",
    "\n",
    "circuit.append(operator)\n",
    "\n",
    "## Add the XX + YY operator as a gate\n",
    "#circuit.append(cirq.PauliSumExponential(operator, exponent=1.0))\n",
    "#\n",
    "# Simulate the circuit\n",
    "simulator = cirq.Simulator()\n",
    "result = simulator.simulate(circuit, initial_state=initial_state)\n",
    "\n",
    "# Print the final state vector\n",
    "print(\"Final state vector after applying XX + YY:\")\n",
    "print(result.final_state_vector)\n",
    "#"
   ]
  },
  {
   "cell_type": "code",
   "execution_count": 31,
   "metadata": {},
   "outputs": [
    {
     "data": {
      "text/html": [
       "<pre style=\"overflow: auto; white-space: pre;\">0: ───────X─────────────────Y─────────────────\n",
       "          │                 │\n",
       "1: ───X───PauliString(+X)───PauliString(+Y)───</pre>"
      ],
      "text/plain": [
       "0: ───────X─────────────────Y─────────────────\n",
       "          │                 │\n",
       "1: ───X───PauliString(+X)───PauliString(+Y)───"
      ]
     },
     "execution_count": 31,
     "metadata": {},
     "output_type": "execute_result"
    }
   ],
   "source": [
    "circuit"
   ]
  }
 ],
 "metadata": {
  "kernelspec": {
   "display_name": ".venv",
   "language": "python",
   "name": "python3"
  },
  "language_info": {
   "codemirror_mode": {
    "name": "ipython",
    "version": 3
   },
   "file_extension": ".py",
   "mimetype": "text/x-python",
   "name": "python",
   "nbconvert_exporter": "python",
   "pygments_lexer": "ipython3",
   "version": "3.12.5"
  }
 },
 "nbformat": 4,
 "nbformat_minor": 2
}
