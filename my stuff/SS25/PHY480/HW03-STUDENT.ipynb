{
 "cells": [
  {
   "cell_type": "markdown",
   "id": "b04ab8c5",
   "metadata": {},
   "source": [
    "### <p style=\"text-align: right;\"> &#9989; Andrew Koren</p>"
   ]
  },
  {
   "cell_type": "markdown",
   "id": "fa08ba64",
   "metadata": {},
   "source": [
    "## Code from previous ICAs, etc here"
   ]
  },
  {
   "cell_type": "code",
   "execution_count": 2,
   "id": "0500da4c",
   "metadata": {},
   "outputs": [],
   "source": [
    "import numpy as np\n",
    "import matplotlib.pyplot as plt\n",
    "%matplotlib inline\n",
    "import scipy"
   ]
  },
  {
   "cell_type": "code",
   "execution_count": 3,
   "id": "e5e29ca6",
   "metadata": {},
   "outputs": [],
   "source": [
    "def forsub(L,bs):\n",
    "    n = bs.size\n",
    "    xs = np.zeros(n)\n",
    "    for i in range(n):\n",
    "        val = 0.\n",
    "        for j in range(i):\n",
    "            val += L[i,j]*xs[j]\n",
    "        xs[i] = (bs[i] - val)/L[i,i]\n",
    "    return xs\n",
    "\n",
    "\n",
    "def backsub(U,bs):\n",
    "    n = bs.size\n",
    "    xs = np.zeros(n)\n",
    "    for i in reversed(range(n)):\n",
    "        val = 0.\n",
    "        for j in range(i+1,n):\n",
    "            val += U[i,j]*xs[j]\n",
    "        xs[i] = (bs[i] - val)/U[i,i]\n",
    "    return xs\n",
    "\n",
    "def ludec( A ):\n",
    "    n = A.shape[0]\n",
    "    U = np.copy(A)\n",
    "    L = np.identity(n)\n",
    "\n",
    "    for j in range(n-1):\n",
    "        for i in range(j+1,n):\n",
    "            coeff = U[i,j]/U[j,j]\n",
    "            U[i,j:] -= coeff*U[j,j:]\n",
    "            L[i,j] = coeff\n",
    "\n",
    "    return L, U\n",
    "\n",
    "def mat_inverse(A):\n",
    "    n = A.shape[0]\n",
    "    L, U = ludec(A)\n",
    "    I = np.eye(n)\n",
    "    inv_A = np.zeros((n, n))\n",
    "    for i in range(n):\n",
    "        Y = forsub(L, I[:, i])\n",
    "        X = backsub(U, Y)\n",
    "        inv_A[:, i] = X\n",
    "\n",
    "    return inv_A\n",
    "\n",
    "# power iteration method to find the largest eigenvalue and its eigenvector\n",
    "# Input:\n",
    "# A -- (square) matrix\n",
    "# max_iter -- maximum number of iterations\n",
    "# Output:\n",
    "# largest eigenvalue, its eigenvector\n",
    "def power_method( A, max_iter=100 ):\n",
    "    '''\n",
    "    currently no convergence evaluation\n",
    "    '''\n",
    "\n",
    "    # read off the dimension\n",
    "    n = A.shape[0]\n",
    "\n",
    "    b = np.ones(n)\n",
    "    for _ in range(max_iter):\n",
    "        bk = A@b\n",
    "        b = bk / np.linalg.norm(bk)\n",
    "\n",
    "    # Rayleigh Quotient\n",
    "    eigenval = b@A@b/(b@b)\n",
    "\n",
    "    return eigenval, b\n",
    "\n",
    "def qrdec(A):\n",
    "    n = A.shape[0]\n",
    "    Ap = np.copy(A)\n",
    "    Q = np.zeros((n,n))\n",
    "    R = np.zeros((n,n))\n",
    "    for j in range(n):\n",
    "        for i in range(j):\n",
    "            R[i,j] = Q[:,i]@A[:,j]\n",
    "            Ap[:,j] -= R[i,j]*Q[:,i]\n",
    "\n",
    "        R[j,j] = np.linalg.norm(Ap[:,j])\n",
    "        Q[:,j] = Ap[:,j]/R[j,j]\n",
    "    return Q, R\n"
   ]
  },
  {
   "cell_type": "markdown",
   "id": "925dbf16",
   "metadata": {},
   "source": [
    "# PHY480 Homework 3\n"
   ]
  },
  {
   "cell_type": "markdown",
   "id": "d0df91a5",
   "metadata": {},
   "source": [
    "This homework contains exercises on the eigenvalue problems. There are two parts:\n",
    "\n",
    "- tensor of inertia,\n",
    "- one-dimensional quantum harmonic oscillator.\n",
    "\n",
    "For the first part we will use the QR method that we coded ourselves in class, for the second part the NumPy functions, such as `numpy.linalg.eig`.\n",
    "\n",
    "**There are 7 problems with the total of 37 points.**\n",
    "\n",
    "**The deadline for the homework is Wednesday, March 19, 2025, 6:00 pm.**\n"
   ]
  },
  {
   "cell_type": "markdown",
   "id": "17f1bd78",
   "metadata": {},
   "source": [
    "## Eigenvalue problems"
   ]
  },
  {
   "cell_type": "markdown",
   "id": "8a2562b0",
   "metadata": {},
   "source": [
    "### Inertia tensor"
   ]
  },
  {
   "cell_type": "markdown",
   "id": "96a93be5",
   "metadata": {},
   "source": [
    "**Problem 1 (6 points).** Consider the following geometrical shape in three dimensions: a region of space bounded by planes $x=0$, $y=0$, $z=0$ and a sphere $x^2+y^2+z^2=R^2=1$, where $x\\geqslant0$, $y\\geqslant0$, $z\\geqslant0$ and $x^2+y^2+z^2\\leqslant1$. (This is esentially $1/8$ slice of a sphere with the center at the origin.) Let this geometrical shape be filled with mass density $\\rho=1$.\n",
    "\n",
    "The tensor of inertia is a $3\\times3$ symmetric matrix $I_{ij}$ whose elements are given by (here $V$ is the volume occupied by the shape, the mass density $\\rho=1$ and $r^2=x^2+y^2+z^2$):\n",
    "\n",
    "$$\n",
    "I_{xx}=\\int_V dV\\, (r^2-x^2),\n",
    "$$\n",
    "\n",
    "for the diagonal elements (for $I_{yy}$ and $I_{zz}$ replace $x$ with $y$ and $z$, correspondingly), and\n",
    "\n",
    "$$\n",
    "I_{xy}=\\int_V dV\\, (-xy),\n",
    "$$\n",
    "\n",
    "for the non-diagonal elements (replace $x$ and $y$ correspondingly for the other non-diagonal elements).\n",
    "\n",
    "Evaluate the tensor of inertia for the described shape with respect to the origin, either analytically (preferable) or numerically. (It is convenient to work in spherical coordinates.)"
   ]
  },
  {
   "cell_type": "markdown",
   "id": "33260ad7",
   "metadata": {},
   "source": [
    "# Integrals:\n",
    "\n",
    "$$\n",
    "\\int dV = \\int_0^{2\\pi} \\int_0^\\pi \\int_0^R \\rho^2 \\sin \\phi d\\rho d\\phi d\\theta  \\\\\n",
    "x = \\rho \\cos \\theta \\sin \\phi \\\\\n",
    "y = \\rho \\sin \\theta \\sin \\phi \\\\\n",
    "z = \\rho \\cos \\phi\n",
    "$$\n",
    "\n",
    "Our bounds are less general\n",
    "\n",
    "$$\n",
    "\\int_0^{\\pi/2} \\int_0^{\\pi/2} \\int_0^1\n",
    "$$"
   ]
  },
  {
   "cell_type": "code",
   "execution_count": 4,
   "id": "b7a24aaa",
   "metadata": {},
   "outputs": [
    {
     "data": {
      "text/latex": [
       "$\\displaystyle \\frac{\\pi}{15}$"
      ],
      "text/plain": [
       "pi/15"
      ]
     },
     "metadata": {},
     "output_type": "display_data"
    },
    {
     "data": {
      "text/latex": [
       "$\\displaystyle - \\frac{1}{15}$"
      ],
      "text/plain": [
       "-1/15"
      ]
     },
     "metadata": {},
     "output_type": "display_data"
    }
   ],
   "source": [
    "import sympy as sm\n",
    "from sympy import cos, sin\n",
    "\n",
    "rho, theta, phi = sm.symbols('rho theta phi')\n",
    "x = rho * cos(theta) * sin(phi)\n",
    "y = rho * sin(theta) * sin(phi)\n",
    "z = rho * cos(phi)\n",
    "\n",
    "integrate_with_bounds = lambda integrand: sm.integrate(integrand * rho*rho * sin(phi), (rho, 0, 1), (theta, 0, sm.pi/2), (phi, 0, sm.pi/2))\n",
    "\n",
    "display(integrate_with_bounds(rho*rho-x*x)) #same for y, z\n",
    "display(integrate_with_bounds(-x*y)) #same for xz, yz\n"
   ]
  },
  {
   "cell_type": "code",
   "execution_count": 5,
   "id": "421777fb",
   "metadata": {},
   "outputs": [
    {
     "data": {
      "text/plain": [
       "array([[ 0.20943951, -0.06666667, -0.06666667],\n",
       "       [-0.06666667,  0.20943951, -0.06666667],\n",
       "       [-0.06666667, -0.06666667,  0.20943951]])"
      ]
     },
     "execution_count": 5,
     "metadata": {},
     "output_type": "execute_result"
    }
   ],
   "source": [
    "# tensor of inertia for 1/8 slice of a filled sphere\n",
    "# REPLACE 0s WITH PROPER VALUES\n",
    "from numpy import pi\n",
    "\n",
    "Itensor = np.array( [   \\\n",
    "    [ pi, -1, -1], \\\n",
    "    [ -1, pi, -1], \\\n",
    "    [ -1, -1, pi]  \\\n",
    "])/15\n",
    "\n",
    "Itensor"
   ]
  },
  {
   "cell_type": "markdown",
   "id": "45b26f63",
   "metadata": {},
   "source": [
    "**Problem 2 (5 points).** Use the QR method we considered in class to diagonalize the tensor of inertia and find its eigenvalues -- the principal moments of intertia. Sort the eigenvalues in ascending order. Check against `numpy.linalg.eig` calculation.\n",
    "\n",
    "**Note:** For this rigid body you may expect degenerate eigenvalues."
   ]
  },
  {
   "cell_type": "markdown",
   "id": "f2a315fb",
   "metadata": {},
   "source": [
    "Finding eigenvalues with QR:\n",
    "1. Symmetric matrix\n",
    "2. QR = A\n",
    "3. A' = RQ\n",
    "4. repeat, diagonal is eigenvalues\n",
    "\n",
    "$A' = Q^T A Q$ is the same as 3."
   ]
  },
  {
   "cell_type": "code",
   "execution_count": 6,
   "id": "64e33bd6",
   "metadata": {},
   "outputs": [],
   "source": [
    "def eigenvalues_with_QR( A, max_iter=100, print_iter=False ):\n",
    "\n",
    "    # store a copy so that the original matrix is not disturbed\n",
    "    Ak = A.copy()\n",
    "    for i in range(max_iter):\n",
    "        eigenvals = np.sort(np.diagonal(Ak))\n",
    "\n",
    "        Q, R = qrdec(Ak)\n",
    "        Ak = R@Q # also Q.T@Ak@Q\n",
    "        \n",
    "        if all(eigenvals == np.sort(np.diagonal(Ak))): #convergence to machine accuracy\n",
    "            return 0, eigenvals\n",
    "        \n",
    "        if print_iter:\n",
    "            print(i, eigenvals)\n",
    "\n",
    "    return 1, eigenvals # did not reach machine accuracy"
   ]
  },
  {
   "cell_type": "code",
   "execution_count": 7,
   "id": "3abcd26c",
   "metadata": {},
   "outputs": [
    {
     "name": "stdout",
     "output_type": "stream",
     "text": [
      "[0.07610618 0.27610618 0.27610618]\n",
      "[0.07610618 0.27610618 0.27610618]\n"
     ]
    }
   ],
   "source": [
    "success, eigenvals = eigenvalues_with_QR(Itensor) # repeated eigenvalue, makes sense\n",
    "print(eigenvals)\n",
    "print(np.sort(np.linalg.eig(Itensor)[0]))"
   ]
  },
  {
   "cell_type": "markdown",
   "id": "e2207ab2",
   "metadata": {},
   "source": [
    "They're the same!"
   ]
  },
  {
   "cell_type": "markdown",
   "id": "d5ee4c88",
   "metadata": {},
   "source": [
    "**Problem 3 (5 points).** Using the inverse power iteration method we considered in class, find the eigenvectors corresponding to the eigenvalues. Make sure the eigenvectors are normalized to have unit length. Check against `numpy.linalg.eig`.\n"
   ]
  },
  {
   "cell_type": "code",
   "execution_count": 8,
   "id": "6aaedc55",
   "metadata": {},
   "outputs": [],
   "source": [
    "def invpower_method( A, sigma=0, max_iter=100 ):\n",
    "    \n",
    "    # read off dimensions\n",
    "    n = A.shape[0]\n",
    "    # prepare the inverse for the power iteration method\n",
    "    B = mat_inverse( A - sigma*np.eye( n ) )\n",
    "    kappa, Bvec = power_method(B) #A and B have the same eigenvectors\n",
    "    eigenvalue = sigma + 1/kappa\n",
    "\n",
    "    return eigenvalue, Bvec"
   ]
  },
  {
   "cell_type": "code",
   "execution_count": 9,
   "id": "ae0c29f3",
   "metadata": {},
   "outputs": [
    {
     "data": {
      "text/plain": [
       "array([ 0.40824829,  0.40824829, -0.81649658])"
      ]
     },
     "execution_count": 9,
     "metadata": {},
     "output_type": "execute_result"
    }
   ],
   "source": [
    "invpower_method(Itensor, sigma=eigenvals[1], max_iter=int(1e7))[1]"
   ]
  },
  {
   "cell_type": "code",
   "execution_count": 10,
   "id": "974912e3",
   "metadata": {},
   "outputs": [
    {
     "name": "stdout",
     "output_type": "stream",
     "text": [
      "[array([0.57735027, 0.57735027, 0.57735027]), array([ 0.40824829,  0.40824829, -0.81649658]), array([ 0.40824829,  0.40824829, -0.81649658])]\n",
      "[[ 0.81649658 -0.57735027  0.3782647 ]\n",
      " [-0.40824829 -0.57735027 -0.81577967]\n",
      " [-0.40824829 -0.57735027  0.43751497]]\n"
     ]
    }
   ],
   "source": [
    "eigenvectors = [invpower_method(Itensor, sigma=eigenval, max_iter=int(1e7))[1] for eigenval in eigenvals]\n",
    "print(eigenvectors)\n",
    "print(np.linalg.eig(Itensor)[1])"
   ]
  },
  {
   "cell_type": "markdown",
   "id": "045bfc88",
   "metadata": {},
   "source": [
    "A bit out of order but we got there eventually. Eigenvalue degeneracy means we have a repeated eigenvector, also not all eigenvectors are orthogonal"
   ]
  },
  {
   "cell_type": "markdown",
   "id": "2760d0dc",
   "metadata": {},
   "source": [
    "**Problem 4 (5 points).** Eigenvectors corresponding to a degenerate eigenvalue may not be orthogonal. In fact, the inverse power iteration method may converge to the same eigenvector for degenerate eigenvalues. If some eigenvalues in this problem are degenerate, you can still _choose_ their eigenvectors to be orthogonal. Based on the eigenvectors computed by the QR method, build a set of three mutually orthogonal vectors. They will represent the _principal axes_ of the tensor of inertia. Demonstrate that the chosen vectors are orthonormal and that in the coordinate system where these vectors coincide with $x$, $y$, $z$ directions the tensor of inertia is diagonal."
   ]
  },
  {
   "cell_type": "markdown",
   "id": "87c9ae30",
   "metadata": {},
   "source": [
    "We know eigenval 2 & 3 are the same, so we'll make eigenvec 3"
   ]
  },
  {
   "cell_type": "code",
   "execution_count": 11,
   "id": "1fc169bb",
   "metadata": {},
   "outputs": [
    {
     "data": {
      "text/plain": [
       "[array([0.57735027, 0.57735027, 0.57735027]),\n",
       " array([ 0.40824829,  0.40824829, -0.81649658]),\n",
       " array([ 5.00000000e-01, -5.00000000e-01, -9.99200722e-16])]"
      ]
     },
     "execution_count": 11,
     "metadata": {},
     "output_type": "execute_result"
    }
   ],
   "source": [
    "def proj(u, v):\n",
    "    '''\n",
    "    projects u onto V axis\n",
    "    '''\n",
    "    return (u@v)/(v@v)*v\n",
    "\n",
    "def make_orthogonal_basis(orthogonal_vectors):\n",
    "    dim = orthogonal_vectors[0].size\n",
    "    basis = [*orthogonal_vectors] # just to be safe\n",
    "    test_val = 0\n",
    "    while len(basis) < dim:\n",
    "        # create vector outside span of basis\n",
    "        u = np.zeros(dim)\n",
    "        u[test_val] = 1\n",
    "        for v in basis:\n",
    "            u = u - proj(u, v)\n",
    "        if sum(u) == 0:\n",
    "            test_val += 1\n",
    "        else:\n",
    "            basis.append(u)\n",
    "    return basis\n",
    "\n",
    "make_orthogonal_basis(eigenvectors[:2])"
   ]
  },
  {
   "cell_type": "markdown",
   "id": "32f04ece",
   "metadata": {},
   "source": [
    "###  Quantum harmonic oscillator\n",
    "\n",
    "In general, a quantum-mechanical system can be described by a _wave function_ $\\psi(\\vec{r},t)$ that satisfies a time-dependent Schrodinger equation:\n",
    "\n",
    "$$\n",
    "i\\hbar \\frac{\\partial \\psi}{\\partial t}=\\hat H\\psi,\n",
    "$$\n",
    "\n",
    "where $\\hat H$ is the Hamiltonian (operator) and we set $\\hbar$ to 1 for simplicity. If the Hamiltonian does not depend on time $t$ explicitly, the problem can be reduced to a _time-independent_ Schrodinger equation:\n",
    "\n",
    "$$\n",
    "\\hat H\\psi =E\\psi\n",
    "$$\n",
    "\n",
    "that describes _stationary states_. Supplemented with some boundary conditions the above equation forms an eigenvalue problem for the operator $\\hat H$. Its solution gives us the energy levels $E$ (eigenvalues) that the system can occupy and the wave functions or state vectors $\\psi(\\vec{r})$ (eigenvectors). In this formulation this is an operator eigenvalue problem. It can be reduced to a matrix eigenvalue problem.\n",
    "\n",
    "The Hamiltonian is $\\hat H=\\hat T + \\hat V$, where $\\hat T$ is the kinetic energy and $\\hat V$ potential energy operators. We can simplify the problem by considering a single degree of freedom in one dimension with a unit mass $m=1$. Then\n",
    "\n",
    "$$\n",
    "\\hat T = - \\frac{1}{2}\\,\\frac{d^2}{dx^2}.\n",
    "$$\n",
    "\n",
    "For the potential energy part, consider a harmonic oscillator potential (the frequency $\\omega=1$ for simplicity):\n",
    "\n",
    "$$\n",
    "\\hat V = \\frac{1}{2}x^2.\n",
    "$$\n",
    "\n",
    "As this potential only supports bound states, a reasonable boundary condition is the wave function vanishing at infinity. All together, we have the following operator eigenvalue problem:\n",
    "\n",
    "$$\n",
    "\\left(- \\frac{1}{2}\\,\\frac{d^2}{dx^2}+\\frac{1}{2}x^2\\right)\\psi(x)=E\\psi(x),\n",
    "$$\n",
    "\n",
    "$$\n",
    "\\psi(x \\to\\pm\\infty)\\to0.\n",
    "$$\n"
   ]
  },
  {
   "cell_type": "markdown",
   "id": "985d57d1",
   "metadata": {},
   "source": [
    "**Problem 5 (4 points).** Let us turn the one-dimensional operator eigenvalue problem into a matrix eigenvalue problem. First, let us restrict the range of $x$ to $-x_{max}\\leqslant x \\leqslant x_{max}$ (where $x_{max}$ is obviously chosen to be positive). Let $N$ (strictly even) be the number of intervals to which we divide the range of $x$. The size of the interval in that case is\n",
    "\n",
    "$$\n",
    "\\Delta x = \\frac{2 x_{max}}{N}.\n",
    "$$\n",
    "\n",
    "The total number of points at which we are going to find the solution is $N+1$. (Example: $x_{max}=2$, $N=4$, then $\\Delta x = 1$ and the active points are $x=-2,-1,0,1,2$.) Choosing $N$ to be even simply means that 0 is included in the point set. To incorporate the boundary conditions, we set $\\psi(x)=0$ for any $|x|>x_{max}$. Then the solution to the discrete problem is a vector of $N+1$ entries -- aproximation to $\\psi(x)$ at the discrete set of $N+1$ points $x_i$ that we number in 0-based counting $i=0,1,\\dots,N$. Then, we have a matrix eigenvalue problem of the form:\n",
    "\n",
    "$$\n",
    "\\sum_{j=0}^{N}H_{ij}\\psi_j = E\\psi_i,\n",
    "$$\n",
    "\n",
    "where $H_{ij}$ approximates the continuous $\\hat H$ shown above.\n",
    "\n",
    "Recall that we discussed a finite-difference approximation to the second derivative of a function at point $i$ that involves also values at points $i-1$ and $i+1$. Write down a finite-difference approximation that together with the potential energy term gives $H_{ij}$. You should produce a tridiagonal matrix (i.e. the only non-zero entries are on the main diagonal, and the diagonals above and below). Complete the function below that produces $H_{ij}$. (Think how to properly use the boundary conditions for the first and last row of $H_{ij}$.)"
   ]
  },
  {
   "cell_type": "markdown",
   "id": "49bff90d",
   "metadata": {},
   "source": [
    "CFD:\n",
    "\n",
    "$$\n",
    "\\frac{df(i)}{dx} \\approx \\frac{f(i+1) - f(i-1)}{2\\Delta x} \\\\\n",
    "\\frac{d}{dx} \\frac{df(i)}{dx} \\approx \\frac{f(i+2) - 2f(i) + f(i-2)}{4\\Delta x^2}\n",
    "$$\n",
    "Aparently it is better to use a different CFD though\n",
    "$$\n",
    "\\frac{d^2 f(x_i)}{dx^2}=\\frac{f(x_{i+1}) - 2f(x_i) + f(x_{i-1})}{\\Delta x^2} \\\\\n",
    "$$"
   ]
  },
  {
   "cell_type": "code",
   "execution_count": 12,
   "id": "cdf9b579",
   "metadata": {},
   "outputs": [],
   "source": [
    "# make the Hamiltonian matrix\n",
    "# Input:\n",
    "# N -- number of intervals, always even\n",
    "# xmax -- bound on the x-range\n",
    "# Output:\n",
    "# the Hamiltonian matrix (N+1)x(N+1), should be tridiagonal\n",
    "def make_H( N=10, xmax=3 ):\n",
    "    \n",
    "    H = np.zeros( (N+1,N+1) )\n",
    "    Δx = 2*xmax/N\n",
    "    x = np.arange(-xmax, xmax+Δx, Δx)\n",
    "\n",
    "    if N%2 != 0: # N must be even\n",
    "        return H, x\n",
    "\n",
    "\n",
    "    for i in range(N+1):\n",
    "        H[i,i] = x[i]**2/2 + 1/Δx**2\n",
    "        if i+1 <= N:\n",
    "            H[i+1,i] = -0.5/Δx**2\n",
    "            H[i,i+1] = -0.5/Δx**2\n",
    "\n",
    "    \n",
    "    return H, x"
   ]
  },
  {
   "cell_type": "markdown",
   "id": "fdc1de5e",
   "metadata": {},
   "source": [
    "**Problem 6 (5 points).** In this part of the exercise we use `numpy.linalg.eig`, since it is much faster than our QR method. (As many NumPy subroutines actually call C or Fortran libraries, they are not written in Python.)\n",
    "Find the eigenvalues and eigenvectors of the Hamiltonian matrix $H_{ij}$. The eigenvalues and corresponding eigenvectors may be in some random order and the eigenvectors may have a random sign. Apply the following two transformations:\n",
    "\n",
    "- sort the eigenvalues (and eigenvectors) in the ascending order,\n",
    "- flip the sign of the eigenvector if needed, so that for all eigenvectors the approach $x\\to x_{max}$ is from _above_.\n",
    "\n",
    "Print out a few low-lying eigenvalues and plot the corresponding eigenvectors. Do they match your expectations? How well the theoretical values are reproduced?"
   ]
  },
  {
   "cell_type": "code",
   "execution_count": 89,
   "id": "003be470",
   "metadata": {},
   "outputs": [
    {
     "data": {
      "text/plain": [
       "<matplotlib.legend.Legend at 0x1f607aef8c0>"
      ]
     },
     "execution_count": 89,
     "metadata": {},
     "output_type": "execute_result"
    },
    {
     "data": {
      "image/png": "[encoded data removed]",
      "text/plain": [
       "<Figure size 640x480 with 1 Axes>"
      ]
     },
     "metadata": {},
     "output_type": "display_data"
    }
   ],
   "source": [
    "# number of eigenvectors to plot\n",
    "Ne = 3\n",
    "\n",
    "# experiment with different pairs of (xmax,N), starting with low values,\n",
    "# for example, start with xmax=3, try N=10, 20, 50,\n",
    "# increase xmax to 4,5 and higher and try different N starting from low values\n",
    "# (work with combinations that keep dx=2*xmax/N less than 1)\n",
    "xmax = 3\n",
    "N = 1000\n",
    "\n",
    "assert 2*xmax/N < 1\n",
    "H, x = make_H( N, xmax )\n",
    "\n",
    "# YOUR CODE HERE\n",
    "eigenvals, eigenvecs = np.linalg.eig(H)\n",
    "\n",
    "# sorting\n",
    "idx = np.argsort(eigenvals)\n",
    "eigenvals = eigenvals[idx]\n",
    "eigenvecs = eigenvecs[:, idx] \n",
    "\n",
    "# makes x=x_max positive\n",
    "for i in range(len(eigenvecs)):\n",
    "    if eigenvecs[-1, i] < 0:\n",
    "        eigenvecs[:, i] *= -1\n",
    "\n",
    "\n",
    "for eigenvec, eigenval in zip(eigenvecs[:Ne], eigenvals[:Ne]):\n",
    "    plt.scatter(x, eigenvec, label=f'{eigenval:.3f}', s=10)\n",
    "plt.legend()"
   ]
  },
  {
   "cell_type": "markdown",
   "id": "17bd6a48",
   "metadata": {},
   "source": [
    "**Problem 7 (7 points).** To compare with the exact solution to the one-dimensional quantum harmonic oscillator problem the state vectors (eigenvectors of $H_{ij}$ that you found) need to be properly normalized. Namely, the normalization condition is\n",
    "\n",
    "$$\n",
    "\\int dx |\\psi(x)|^2=1.\n",
    "$$\n",
    "\n",
    "Use a numerical integration scheme to properly normalize the eigenvectors for the low-lying states you found in the previous problem. Plot the normalized eigenvectors together with the exact solutions.\n",
    "\n",
    "**Note:** The exact solution is given in terms of the Hermite polynomials. Consult the relevant literature on quantum mechanics (or Wikipedia)."
   ]
  },
  {
   "cell_type": "markdown",
   "id": "b5d1ad82",
   "metadata": {},
   "source": [
    "$$\n",
    "\\psi_n(x) = \\left( \\frac{1}{\\sqrt{2^n n! \\sqrt{\\pi}}} \\right) e^{-x^2/2} H_n(x) \\\\\n",
    "\\psi_0(x) = \\left( \\frac{1}{\\sqrt{\\sqrt{\\pi}}} \\right) e^{-x^2/2} \\\\\n",
    "\\psi_1(x) = \\left( \\frac{1}{\\sqrt{2 \\sqrt{\\pi}}} \\right) e^{-x^2/2} (2x) \\\\\n",
    "\\psi_2(x) = \\left( \\frac{1}{\\sqrt{4 \\sqrt{\\pi}}} \\right) e^{-x^2/2} (-2 + 4x^2) \\\\\n",
    "\n",
    "$$"
   ]
  },
  {
   "cell_type": "code",
   "execution_count": 90,
   "id": "af2d35e1",
   "metadata": {},
   "outputs": [
    {
     "data": {
      "image/png": "[encoded data removed]",
      "text/plain": [
       "<Figure size 640x480 with 3 Axes>"
      ]
     },
     "metadata": {},
     "output_type": "display_data"
    }
   ],
   "source": [
    "from scipy.integrate import simpson\n",
    "from math import factorial\n",
    "\n",
    "norm_eigenvecs = [eigenvec/np.sqrt(simpson(y=abs(eigenvec**2), x=x)) for eigenvec in eigenvecs[:3]]\n",
    "\n",
    "def exact_sol(x, n):\n",
    "    '''\n",
    "    n = 0,1,2\n",
    "    '''\n",
    "    n0 = 1\n",
    "    n1 = 2*x\n",
    "    n2 = -2+4*x**2\n",
    "    ni = [n0, n1, n2]\n",
    "\n",
    "    return 1/(np.sqrt(2**n*factorial(n)*np.sqrt(np.pi)))*np.exp(-x**2/2)*ni[n]\n",
    "\n",
    "\n",
    "fig, axs = plt.subplots(3, 1)\n",
    "for i in range(3):\n",
    "    axs[i].scatter(x, norm_eigenvecs[i], s=.5, color='red')\n",
    "    axs[i].plot(x, exact_sol(x,i))"
   ]
  },
  {
   "cell_type": "markdown",
   "id": "85215589",
   "metadata": {},
   "source": [
    "&#169; Copyright 2025,  Michigan State University Board of Trustees"
   ]
  }
 ],
 "metadata": {
  "kernelspec": {
   "display_name": ".venv",
   "language": "python",
   "name": "python3"
  },
  "language_info": {
   "codemirror_mode": {
    "name": "ipython",
    "version": 3
   },
   "file_extension": ".py",
   "mimetype": "text/x-python",
   "name": "python",
   "nbconvert_exporter": "python",
   "pygments_lexer": "ipython3",
   "version": "3.12.5"
  }
 },
 "nbformat": 4,
 "nbformat_minor": 5
}
