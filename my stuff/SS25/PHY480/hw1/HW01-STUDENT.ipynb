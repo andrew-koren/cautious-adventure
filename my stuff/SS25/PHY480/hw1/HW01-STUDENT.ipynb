{
 "cells": [
  {
   "cell_type": "markdown",
   "id": "cc953071",
   "metadata": {},
   "source": [
    "### <p style=\"text-align: right;\"> &#9989; Andrew Koren</p>"
   ]
  },
  {
   "cell_type": "markdown",
   "id": "bd4cc677",
   "metadata": {},
   "source": [
    "# PHY480 Homework 1\n"
   ]
  },
  {
   "cell_type": "markdown",
   "id": "56104fbb",
   "metadata": {},
   "source": [
    "This homework contains exercises on the following topics:\n",
    "\n",
    "- errors in numerical calculations,\n",
    "- numerical derivatives (and gradients),\n",
    "- root finding with the Newton-Raphson method,\n",
    "- minimization/maximization with the gradient descent method.\n",
    "\n",
    "Some of the techniques are illustrated with a projectile motion example.\n",
    "\n",
    "**There are five problems with the total of 60 points.**\n",
    "\n",
    "**The deadline for the homework is Friday, Feb. 7, 2025, 6:00 pm.**\n",
    "\n"
   ]
  },
  {
   "cell_type": "code",
   "execution_count": 1,
   "id": "3e9b9b77",
   "metadata": {},
   "outputs": [],
   "source": [
    "import numpy as np\n",
    "import matplotlib.pyplot as plt\n",
    "%matplotlib inline\n"
   ]
  },
  {
   "cell_type": "markdown",
   "id": "cbe1c6c7",
   "metadata": {},
   "source": [
    "## Errors in numerical calculations\n",
    "\n",
    "**Problem 1 (10 points).** Write a function `sine_series(x,n)` that calculates $\\sin(x)$ by summing the Taylor expansion with $n$ terms. (I.e. for $n=1$ $\\sin(x)$ is approximated as $x$.) $n$ is provided as a parameter to the function. Calculate $\\sin(x)$ with your function at several values and compare to the NumPy `np.sin` to make sure it works properly.\n",
    "\n",
    "Consider $\\sin(\\pi/6)$. The exact value is a rational number, let us call it $s_0$ (look it up, it is important to use the exact value here). Calculate the distance between the result of your function for $x=\\pi/6$ and $s_0$, defined as $d(n)\\equiv |s_0-\\text{sine\\_series}(x,n)|$. Plot $\\ln(d(n))$ as function of $n$ for $n\\in[1,14]$.\n",
    "\n",
    "Taylor's theorem also allows you to estimate the series truncation error, also as function of $n$. On the same figure plot the logarithm of the estimated truncation error for $\\sin(x)$ as function of $n$.\n",
    "\n",
    "Compare the error $d(n)$ that you obtained numerically with the estimated Taylor series truncation error and discuss your findings.\n"
   ]
  },
  {
   "attachments": {
    "image.png": {
     "image/png": "[encoded data removed]"
    }
   },
   "cell_type": "markdown",
   "id": "6b3f462a",
   "metadata": {},
   "source": [
    "from the interwebs: <br>\n",
    "![image.png](attachment:image.png)"
   ]
  },
  {
   "cell_type": "code",
   "execution_count": 12,
   "id": "1a1d5ff6",
   "metadata": {},
   "outputs": [
    {
     "data": {
      "text/plain": [
       "0.49999999999999994"
      ]
     },
     "execution_count": 12,
     "metadata": {},
     "output_type": "execute_result"
    }
   ],
   "source": [
    "np.sin(np.pi/6)"
   ]
  },
  {
   "cell_type": "code",
   "execution_count": 22,
   "id": "03baecad",
   "metadata": {},
   "outputs": [],
   "source": [
    "# approximate sin(x) with Taylor series of n terms\n",
    "# Input:\n",
    "# x\n",
    "# n -- number of terms\n",
    "# Output:\n",
    "# approximate sin(x) \n",
    "\n",
    "from math import factorial\n",
    "from numpy import pi\n",
    "\n",
    "def sine_series( x, n ):\n",
    "    return sum([(-1)**i/factorial(2*i+1)*x**(2*i+1) for i in range(n)])\n",
    "\n",
    "d = lambda n: abs(0.5 - sine_series(pi/6, n))"
   ]
  },
  {
   "cell_type": "code",
   "execution_count": 33,
   "id": "807f2574",
   "metadata": {},
   "outputs": [
    {
     "name": "stderr",
     "output_type": "stream",
     "text": [
      "C:\\Users\\andre\\AppData\\Local\\Temp\\ipykernel_34320\\29586494.py:3: RuntimeWarning: divide by zero encountered in log\n",
      "  plt.scatter(n_vals, [np.log(d(n)) for n in n_vals])\n"
     ]
    },
    {
     "data": {
      "text/plain": [
       "<matplotlib.collections.PathCollection at 0x21fa7240d70>"
      ]
     },
     "execution_count": 33,
     "metadata": {},
     "output_type": "execute_result"
    },
    {
     "data": {
      "image/png": "[encoded data removed]",
      "text/plain": [
       "<Figure size 640x480 with 1 Axes>"
      ]
     },
     "metadata": {},
     "output_type": "display_data"
    }
   ],
   "source": [
    "n_vals = np.arange(15) #[0-14] rather than [1-14]\n",
    "\n",
    "plt.scatter(n_vals, [np.log(d(n)) for n in n_vals])"
   ]
  },
  {
   "cell_type": "markdown",
   "id": "283c416d",
   "metadata": {},
   "source": [
    "**Discuss what you observe in this cell.**"
   ]
  },
  {
   "cell_type": "markdown",
   "id": "64bee6e0",
   "metadata": {},
   "source": [
    "The error rapidly decays down to $e^{-35} = 10^{-16}$, but doesn't get any more accurate. This is around the machine accuracy for float64, so it's likely the error shrinks exponentially"
   ]
  },
  {
   "cell_type": "code",
   "execution_count": 31,
   "id": "6191e069",
   "metadata": {},
   "outputs": [
    {
     "data": {
      "text/plain": [
       "finfo(resolution=1e-15, min=-1.7976931348623157e+308, max=1.7976931348623157e+308, dtype=float64)"
      ]
     },
     "execution_count": 31,
     "metadata": {},
     "output_type": "execute_result"
    }
   ],
   "source": [
    "np.finfo(type(d(1)))"
   ]
  },
  {
   "cell_type": "markdown",
   "id": "ccf5bfd8",
   "metadata": {},
   "source": [
    "## Gradient\n",
    "\n",
    "**Problem 2 (10 points).** Write a function that calculates the gradient of a function $f(\\vec{r})$, where $\\vec{r}$ is a vector of arbitrary dimension $n$, given as a list or NumPy array. (You can read the dimension internally as, e.g., `n=len(r)`.) Use the central finite difference to calculate the gradient. The result to be returned is $\\vec{\\nabla}f$, -- a NumPy array of size $n$.\n",
    "\n",
    "To test your function consider a function $f(\\vec{r})=\\cos(x^2+xy)$. Derive a closed-form expression for its gradient and also program it as a function. Calculate the gradient both ways at different $(x,y)$ points to check that both functions work properly. Print out the result at $(1,1)$.\n",
    "Calculate the norm of the difference between the exact and approximate gradient at $(1,1)$ for a list of step sizes $\\varepsilon$ given below and plot the norm of the difference versus the step size on a log-log plot. (For the norm you can use `np.linalg.norm`.) Discuss your observations.\n",
    "\n"
   ]
  },
  {
   "cell_type": "code",
   "execution_count": null,
   "id": "fe7a422a",
   "metadata": {},
   "outputs": [],
   "source": [
    "# central finite difference\n",
    "# Input:\n",
    "# fun -- function to be derived\n",
    "# x -- at which point\n",
    "# dim -- input number to vary\n",
    "# eps -- step size for approximations\n",
    "def df_central( fun, x, dim=None, eps=0.001, *args):\n",
    "    if dim==None:\n",
    "        return (fun(x+eps/2, *args) - fun(x-eps/2, *args))/2\n",
    "\n",
    "    x = list(x)\n",
    "    x[dim] += eps/2 # i'm sure messing with x won't cause any problems\n",
    "    f1 = fun(x, *args)\n",
    "    x[dim] -= eps\n",
    "    f2 = fun(x, *args)\n",
    "    x[dim] += eps/2 # just in case\n",
    "\n",
    "    return (f1 - f2)/eps\n"
   ]
  },
  {
   "cell_type": "code",
   "execution_count": 38,
   "id": "e1cebad7",
   "metadata": {},
   "outputs": [],
   "source": [
    "# gradient of a given function\n",
    "# Input:\n",
    "# fun -- (scalar) function of a vector argument\n",
    "# r -- argument of dimension n\n",
    "# eps -- step size for the central difference approximation\n",
    "# Output\n",
    "# gradient as NumPy array of size n\n",
    "\n",
    "def grad( fun, r, eps=0.001 ):\n",
    "    \n",
    "    grad = []\n",
    "    for dim in range(len(r)):\n",
    "        partial = df_central(fun, r, dim, eps)\n",
    "        grad.append(partial)\n",
    "\n",
    "    return np.array(grad)"
   ]
  },
  {
   "cell_type": "code",
   "execution_count": 43,
   "id": "f21b94db",
   "metadata": {},
   "outputs": [
    {
     "data": {
      "text/plain": [
       "array([-2.72789095, -0.90929739])"
      ]
     },
     "execution_count": 43,
     "metadata": {},
     "output_type": "execute_result"
    }
   ],
   "source": [
    "# test function\n",
    "# Input:\n",
    "# r -- two-dimensional argument\n",
    "# Output:\n",
    "# cos( x*x + x*y )\n",
    "def fcos( r ):\n",
    "    return np.cos( r[0]*r[0] + r[0]*r[1] )\n",
    "\n",
    "grad(fcos, (1,1))"
   ]
  },
  {
   "cell_type": "code",
   "execution_count": 55,
   "id": "99b81311",
   "metadata": {},
   "outputs": [
    {
     "data": {
      "text/latex": [
       "$\\displaystyle - x \\sin{\\left(x^{2} + x y \\right)}$"
      ],
      "text/plain": [
       "-x*sin(x**2 + x*y)"
      ]
     },
     "execution_count": 55,
     "metadata": {},
     "output_type": "execute_result"
    }
   ],
   "source": [
    "import sympy as sym\n",
    "\n",
    "x, y =sym.symbols('x y')\n",
    "cos_eqn = sym.cos(x*x + x*y)\n",
    "sym.diff(cos_eqn, y)\n"
   ]
  },
  {
   "cell_type": "code",
   "execution_count": 58,
   "id": "3593b2ac",
   "metadata": {},
   "outputs": [
    {
     "data": {
      "text/plain": [
       "array([-2.72789228, -0.90929743])"
      ]
     },
     "execution_count": 58,
     "metadata": {},
     "output_type": "execute_result"
    }
   ],
   "source": [
    "# gradient of test function (analytic)\n",
    "# Input:\n",
    "# r -- two-dimensional argument\n",
    "# Output:\n",
    "# gradient of cos( x*x + x*y ) as NumPy array of size 2\n",
    "from numpy import sin\n",
    "\n",
    "def grad_fcos_theory( r ):\n",
    "    x, y = r\n",
    "    return np.array([-(2*x+y)*sin(x*x+x*y), -x*sin(x*x+x*y)])\n",
    "\n",
    "grad_fcos_theory((1,1))"
   ]
  },
  {
   "cell_type": "code",
   "execution_count": 74,
   "id": "1a43ff7c",
   "metadata": {},
   "outputs": [
    {
     "data": {
      "image/png": "[encoded data removed]",
      "text/plain": [
       "<Figure size 640x480 with 1 Axes>"
      ]
     },
     "metadata": {},
     "output_type": "display_data"
    }
   ],
   "source": [
    "from numpy.linalg import norm\n",
    "\n",
    "test_location = (1,2)\n",
    "actual = grad_fcos_theory(test_location)\n",
    "\n",
    "# list of step sizes\n",
    "eps_list = [ 1/10**(i+1) for i in range(10) ]\n",
    "\n",
    "results = []\n",
    "for eps in eps_list:\n",
    "    results.append(\n",
    "        norm(actual - grad(fcos, test_location, eps=eps))\n",
    "        )\n",
    "\n",
    "plt.scatter(eps_list, results)\n",
    "plt.xscale('log')\n",
    "plt.yscale('log')"
   ]
  },
  {
   "cell_type": "markdown",
   "id": "e5333ea1",
   "metadata": {},
   "source": [
    "**Discuss what you observe in this cell.**"
   ]
  },
  {
   "cell_type": "markdown",
   "id": "bbed0eb8",
   "metadata": {},
   "source": [
    "The central finite difference approximates the gradient pretty well for a variety of points, with ~1e-3 for 1e-3 step size. It becomes more accurate as step size increases, but strangely becomes less accurate when steps size is ~1e-6, which is unexpected. This is likely because a very small step size results in very large division in the central finite difference $\\Delta f/ \\epsilon$, but the $\\Delta f$ term isn't garunteed to shrink as evenly, resulting in error"
   ]
  },
  {
   "cell_type": "markdown",
   "id": "8e37e2d8",
   "metadata": {},
   "source": [
    "# Root finding\n"
   ]
  },
  {
   "cell_type": "markdown",
   "id": "90c29530",
   "metadata": {},
   "source": [
    "**Problem 3 (20 points).** Consider the following two-dimensional problem on projectile motion (this is similar to a throw in basketball). An object starts with the initial velocity $\\vec{v}_0$ from the point $(0,y_0)$. The goal is to adjust the initial angle so that the trajectory passes through a given final point $(x_f,y_f)$. The following is given: $y_0=2$ m, $x_f=4.5$ m, $y_f=3$ m, $v_0=|\\vec{v}_0|=7.5$ m/s, the acceleration due to gravity $g=|\\vec{g}|=9.8m/s^2$. See the following diagram.\n",
    "\n",
    "\n",
    "![diagram](HW01_diag.png)\n",
    "\n",
    "\n",
    "The equation of motion in vector form is:\n",
    "\n",
    "$$\n",
    "\\vec{r}=\\vec{r}_0+\\vec{v}_0t+\\frac{1}{2}\\vec{g}t^2.\n",
    "$$\n",
    "\n",
    "In the component form, taking into account the initial conditions:\n",
    "\n",
    "$$\n",
    "x = v_0\\cos(\\theta)\\,t\n",
    "$$\n",
    "$$\n",
    "y = y_0+v_0\\sin(\\theta)\\,t-\\frac{1}{2}gt^2\n",
    "$$\n",
    "\n",
    "Solve the first equation for $t$ and substitute into the second equation. You now have an equation that gives $y$ as function of $x$, i.e., _the equation of the trajectory_ $y(x)$.\n",
    "\n",
    "Next, substitute the final point $x=x_f$ and $y=y_f$ into $y(x)$ -- you have an equation with a single unknown -- the angle $\\theta$ that makes the trajectory pass through the point $(x_f,y_f)$.\n",
    "\n",
    "This equation involves trigonometic funcitons, rewrite it in the form so that they do not appear in the denominator. You should be able to write the equation for $\\theta$ in the form:\n",
    "\n",
    "$$\n",
    "f(\\theta)=\\dots\\cos^2(\\theta)\\dots\\dots\\sin(\\theta)\\cos(\\theta)\\dots\\dots\\, = 0\n",
    "$$\n",
    "\n",
    "(or an equivalent form depending on how you transform expressions with the trigonometric functions).\n",
    "\n",
    "To solve this equation, program the Newton-Raphson root finding method. It requires the first derivative of $f(\\theta)$. Program the Newton-Raphson method such that either the derivative is provided as an argument, or that argument is set to `None` in which case the Newton-Raphson method internally uses the central finite difference.\n",
    "\n",
    "Program a function to implement the derivative of $f(\\theta)$ analytically and solve the equation for $\\theta$ with the Newton-Raphson method in two ways: providing the exact analytic derivative and providing `None` (i.e., letting the method internally use the central difference).\n",
    "\n",
    "You may expect more than one solution. Find all solutions for the the angle $\\theta$ and also calculate the time $t$ it takes to reach $(x_f,y_f)$ for all solutions."
   ]
  },
  {
   "cell_type": "markdown",
   "id": "223fe3dd",
   "metadata": {},
   "source": [
    "$$\n",
    "x = v_0 \\cos(\\theta) t \\\\\n",
    "t = \\frac{x}{v_0 \\cos(\\theta)} = \\frac{4.5}{7.5 \\cos(\\theta)} \\\\\n",
    "\\Delta y = \\frac{v_0x \\sin(\\theta)}{v_0 \\cos(\\theta)}- \\frac{gx^2}{2v_0^2 \\cos^2(\\theta)} \\\\\n",
    "1 = 4.5 \\tan(\\theta)- \\frac{198.45}{112.5 \\cos^2(\\theta)}\n",
    "$$"
   ]
  },
  {
   "cell_type": "code",
   "execution_count": 89,
   "id": "f27506fd",
   "metadata": {},
   "outputs": [],
   "source": [
    "from numpy import tan, cos\n",
    "\n",
    "def trajectory(theta, params):\n",
    "    v0, x, Dy, g = params\n",
    "    return x*tan(theta) - g*x*x/(2*v0*v0*(cos(theta))**2)-Dy"
   ]
  },
  {
   "cell_type": "code",
   "execution_count": 164,
   "id": "0c07c8bb",
   "metadata": {},
   "outputs": [],
   "source": [
    "# analytical solution\n",
    "import sympy as sym\n",
    "\n",
    "th = sym.symbols('theta')\n",
    "\n",
    "derivative = sym.diff(4.5 * sym.tan(th) - 198.45/(112.5*(sym.cos(th))**2) - 1, th)\n",
    "\n",
    "def dtrajectory(x):\n",
    "    return np.float64(derivative.replace(th, x).evalf())"
   ]
  },
  {
   "cell_type": "code",
   "execution_count": 307,
   "id": "32be910c",
   "metadata": {},
   "outputs": [],
   "source": [
    "# Newton-Raphson root finding method\n",
    "# Input:\n",
    "# fun -- function f(x)\n",
    "# dfun -- derivative f'(x) or None (use central difference internally)\n",
    "# x0 -- starting point\n",
    "# tol -- tolerance, the search stops once |f(x)| is less than the tolerance\n",
    "# max_iter -- maximum number of iterations\n",
    "# Output:\n",
    "# status -- =0, if the search was successful\n",
    "# x -- the solution (last iterate)\n",
    "# i -- number of iterations it took\n",
    "# xlist -- the list of all iterates\n",
    "\n",
    "def root_newton_raphson( fun, x0, dfun=None, tol=1e-4, max_iter=100 ):\n",
    "    xn = [x0]\n",
    "    i = 0\n",
    "    status = 1\n",
    "\n",
    "    if dfun==None:\n",
    "        def dfun(x):\n",
    "            return df_central(fun, x)\n",
    "\n",
    "    while abs(fun(xn[-1])) > tol or i == max_iter:\n",
    "        if dfun(xn[-1]) == 0:\n",
    "            i = max_iter\n",
    "            break\n",
    "\n",
    "        xn1 = xn[-1] - fun(xn[-1])/dfun(xn[-1])\n",
    "        xn.append(xn1)\n",
    "        i += 1\n",
    "    \n",
    "    if i != max_iter:\n",
    "        status = 0\n",
    "\n",
    "    return status, i, xn[-1], fun(xn[-1]), xn"
   ]
  },
  {
   "cell_type": "code",
   "execution_count": null,
   "id": "0a7e90c2",
   "metadata": {},
   "outputs": [],
   "source": [
    "def preset_trajectory(theta):\n",
    "    v0 = 7.5\n",
    "    x = 4.5\n",
    "    Dy = 1\n",
    "    g = 9.8\n",
    "    params = (v0, x, Dy, g)\n",
    "    return trajectory(theta, params)\n",
    "\n",
    "numerical_results = []\n",
    "analyitical_ish_results = []\n",
    "\n",
    "x0_list = np.linspace(0, 2*pi, 10)\n",
    "for x0 in x0_list:\n",
    "    #print('\\n', x0)\n",
    "    # numerical derivative\n",
    "    status, i, theta, epsilon, steps = root_newton_raphson(preset_trajectory, x0=x0)\n",
    "    #print(status, theta) # feels like gradient descent might be better in this one\n",
    "    numerical_results.append(theta % (2*pi))\n",
    "\n",
    "    # analyitical derivative\n",
    "    status, i, theta, epsilon, steps = root_newton_raphson(preset_trajectory, x0=x0, dfun=dtrajectory)\n",
    "    #print(status, theta) # feels like gradient descent might be better in this one\n",
    "    analyitical_ish_results.append(theta % (2*pi))\n",
    "\n"
   ]
  },
  {
   "cell_type": "code",
   "execution_count": 211,
   "id": "8d628ef6",
   "metadata": {},
   "outputs": [
    {
     "name": "stdout",
     "output_type": "stream",
     "text": [
      "angle (rad) and time (s):\n"
     ]
    },
    {
     "data": {
      "text/plain": [
       "[(3.9420445967643616, -0.8615955410289254),\n",
       " (0.8004501938861566, 0.8615939877793871),\n",
       " (4.130627591005911, -1.0919088380006028),\n",
       " (0.9890824251439838, 1.0919876850516133)]"
      ]
     },
     "execution_count": 211,
     "metadata": {},
     "output_type": "execute_result"
    },
    {
     "data": {
      "image/png": "[encoded data removed]",
      "text/plain": [
       "<Figure size 640x480 with 1 Axes>"
      ]
     },
     "metadata": {},
     "output_type": "display_data"
    }
   ],
   "source": [
    "theta_space = np.linspace(0, 2*pi, 1000)\n",
    "plt.plot(theta_space, preset_trajectory(theta_space))\n",
    "plt.ylim(-10, 1) #/cos causes problems\n",
    "plt.axhline(0)\n",
    "plt.scatter(analyitical_ish_results, preset_trajectory(np.array(analyitical_ish_results)), color='green');\n",
    "plt.scatter(numerical_results, preset_trajectory(np.array(numerical_results)), s=15, color = 'red');\n",
    "\n",
    "time = lambda theta: 4.5/(7.5*cos(theta)) # derived at the start\n",
    "\n",
    "times = time(np.array(numerical_results))\n",
    "\n",
    "print('angle (rad) and time (s):')\n",
    "list(zip(numerical_results[:4], times[:4]))"
   ]
  },
  {
   "cell_type": "markdown",
   "id": "b5d52c1c",
   "metadata": {},
   "source": [
    "**Problem 4 (5 points).** Now that you found the solutions for the starting angle $\\theta$, you can go back to the equation of the trajectory $y(x)$. Code a function that outputs $y$ for a given $x$ on the trajectory (for a given starting angle $\\theta$). Plot the trajectories for the angles $\\theta$ that you found previously on one plot in the $x$-range $[0,x_f]$. (And check that the trajectories indeed end at $(x_f,y_f)$.)"
   ]
  },
  {
   "cell_type": "code",
   "execution_count": 237,
   "id": "11ba9fc1",
   "metadata": {},
   "outputs": [
    {
     "data": {
      "image/png": "[encoded data removed]",
      "text/plain": [
       "<Figure size 640x480 with 1 Axes>"
      ]
     },
     "metadata": {},
     "output_type": "display_data"
    }
   ],
   "source": [
    "def y(x, params):\n",
    "    y0, v0, g, theta, = params\n",
    "    t = x/(v0*cos(theta))\n",
    "    return y0 + v0*sin(theta)*t - g*t**2/2\n",
    "\n",
    "y0 = 2\n",
    "v0 = 7.5\n",
    "g = 9.8\n",
    "\n",
    "# hand-picked valid theta values (t>0)\n",
    "params1 = (y0, v0, g, numerical_results[1])\n",
    "params2 = (y0, v0, g, numerical_results[3])\n",
    "\n",
    "x_range= np.linspace(0, 4.5)\n",
    "plt.plot(x_range, y(x_range, params1), label=rf'{360*numerical_results[1]/(2*pi):.1f} degrees, t={time(numerical_results[1]):.2f}s')\n",
    "plt.plot(x_range, y(x_range, params2), label=rf'{360*numerical_results[3]/(2*pi):.1f} degrees, t={time(numerical_results[3]):.2f}s')\n",
    "plt.scatter((0, 4.5), (2, 3), color='red')\n",
    "plt.ylim(0, 5)\n",
    "plt.xlim(-.25, 4.75)\n",
    "plt.grid()\n",
    "plt.legend();"
   ]
  },
  {
   "cell_type": "markdown",
   "id": "63eb571e",
   "metadata": {},
   "source": [
    "## Minimization/maximization\n",
    "\n",
    "**Problem 5 (15 points).** Focus now on the trajectory that corresponds to the shortest overall time. Find the location of the highest point $(x_{max},y_{max})$ of the trajectory with the gradient descent method. This is a maximization problem that can be turned into a minimization problem by considering $-y(x)$ instead of $y(x)$.\n",
    "\n",
    "Code the gradient descent method where the second argument is either a user-provided function to calculate the first derivative, or `None` in which case the method internally calculates the central finite difference (similarly to how you coded the Newton-Raphson method).\n",
    "\n",
    "Solve the optimization problem in two ways: providing a function that analytically calculates the first derivative $y'(x)$ and with using the default central difference. Print out the location of the maximum $(x_{max},y_{max})$ and the time it takes to get to that point.\n"
   ]
  },
  {
   "cell_type": "code",
   "execution_count": 311,
   "id": "4a83512f",
   "metadata": {},
   "outputs": [],
   "source": [
    "# minimization with fixed step size gradient descent\n",
    "# Input:\n",
    "# fun -- function to be minimized\n",
    "# dfun -- its derivative or None (central finite difference used)\n",
    "# alpha -- step size\n",
    "# tol -- minimization is stopped when |f'(x)| < tol\n",
    "# max_iter -- bound on the number of iterations\n",
    "# Output:\n",
    "# status -- =0, if the search was successful\n",
    "# x -- the solution (last iterate)\n",
    "# k -- number of iterations it took\n",
    "# xlist -- the list of all iterates\n",
    "\n",
    "def minimize_gradient_descent(fun, x0, dfun=None, alpha=0.01, tol=1e-4, max_iter=100, maxima = False, eps=0.001):\n",
    "    status = 0\n",
    "    i = 0\n",
    "\n",
    "    if dfun==None:\n",
    "        def dfun(x):\n",
    "            return df_central(fun, x, eps=eps)\n",
    "        \n",
    "    steps = [x0]\n",
    "    while abs(dfun(steps[-1])) > tol and i != max_iter:\n",
    "        steps.append(steps[-1] - alpha*dfun(steps[-1])*(-1)**(maxima)) # negative dfun if flipped\n",
    "        i += 1\n",
    "\n",
    "    if i == max_iter:\n",
    "        status = 1\n",
    "\n",
    "    if steps[-1] == np.inf or steps[-1] == -np.inf:\n",
    "        status = 2 # out of bounds error\n",
    "\n",
    "    return status, steps[-1], i, steps"
   ]
  },
  {
   "cell_type": "code",
   "execution_count": 312,
   "id": "2fa38e77",
   "metadata": {},
   "outputs": [
    {
     "name": "stdout",
     "output_type": "stream",
     "text": [
      "-0.179628966859762*x**2 + 1.03056645666566*x + 2\n",
      "1.03056645666566 - 0.359257933719523*x\n"
     ]
    }
   ],
   "source": [
    "import sympy as sym\n",
    "\n",
    "sym_x = sym.symbols('x')\n",
    "th = numerical_results[1]\n",
    "\n",
    "eqn = v0*sym_x*sym.sin(th)/(v0*sym.cos(th))- g*sym_x*sym_x/(2*v0**2*(sym.cos(th))**2)+2\n",
    "print(eqn)\n",
    "print(sym.diff(eqn, sym_x))\n",
    "\n",
    "def dpreset_y(x_in):\n",
    "    return np.float64(sym.diff(eqn, sym_x).replace(sym_x, x_in))"
   ]
  },
  {
   "cell_type": "code",
   "execution_count": 314,
   "id": "7254ae83",
   "metadata": {},
   "outputs": [
    {
     "name": "stdout",
     "output_type": "stream",
     "text": [
      "0 19558\n",
      "0 241\n"
     ]
    }
   ],
   "source": [
    "preset_y = lambda x: y(x, params1)\n",
    "\n",
    "# numerical derivative #gives up early if eps is to small\n",
    "status, result, i, steps = minimize_gradient_descent(preset_y, x0=1, alpha=0.1, max_iter=100000, maxima=True, eps=0.01)\n",
    "x_no_deriv = result\n",
    "print(status, i)\n",
    "\n",
    "# analytical derivative\n",
    "status, result, i, steps = minimize_gradient_descent(preset_y, x0=1, dfun=dpreset_y, alpha=0.1, max_iter=100000, maxima=True)\n",
    "x_deriv = result\n",
    "print(status, i)"
   ]
  },
  {
   "cell_type": "code",
   "execution_count": 319,
   "id": "359949ca",
   "metadata": {},
   "outputs": [
    {
     "data": {
      "image/png": "[encoded data removed]",
      "text/plain": [
       "<Figure size 640x480 with 1 Axes>"
      ]
     },
     "metadata": {},
     "output_type": "display_data"
    }
   ],
   "source": [
    "x_range= np.linspace(0, 4.5)\n",
    "\n",
    "plt.scatter(x_no_deriv, preset_y(x_no_deriv), label = f'{x_no_deriv:.3f}, {preset_y(x_no_deriv):.4f}')\n",
    "plt.scatter(x_deriv, preset_y(x_deriv), label = f'{x_deriv:.3f}, {preset_y(x_deriv):.4f}')\n",
    "  \n",
    "\n",
    "plt.plot(x_range, y(x_range, params1)) #label=rf'{360*numerical_results[1]/(2*pi):.1f} degrees, t={time(numerical_results[1]):.2f}s')\n",
    "plt.scatter((0, 4.5), (2, 3), color='red')\n",
    "plt.ylim(0, 5)\n",
    "plt.xlim(-.25, 4.75)\n",
    "plt.grid()\n",
    "plt.legend();"
   ]
  },
  {
   "cell_type": "markdown",
   "id": "e125abb7",
   "metadata": {},
   "source": [
    "&#169; Copyright 2025,  Michigan State University Board of Trustees"
   ]
  }
 ],
 "metadata": {
  "kernelspec": {
   "display_name": ".venv",
   "language": "python",
   "name": "python3"
  },
  "language_info": {
   "codemirror_mode": {
    "name": "ipython",
    "version": 3
   },
   "file_extension": ".py",
   "mimetype": "text/x-python",
   "name": "python",
   "nbconvert_exporter": "python",
   "pygments_lexer": "ipython3",
   "version": "3.12.5"
  }
 },
 "nbformat": 4,
 "nbformat_minor": 5
}
