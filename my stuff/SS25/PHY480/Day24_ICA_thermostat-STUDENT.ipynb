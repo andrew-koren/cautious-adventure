{
 "cells": [
  {
   "cell_type": "markdown",
   "id": "edda7793",
   "metadata": {},
   "source": [
    "### <p style=\"text-align: right;\"> &#9989; Andrew Koren</p>"
   ]
  },
  {
   "cell_type": "markdown",
   "id": "cf0e304b",
   "metadata": {},
   "source": [
    "Nose' - Hoover thermostat.\n",
    "\n",
    "Consider lagrangian\n",
    "\n",
    "$$\n",
    "L = \\sum_{i=1}^N \\frac{m_i \\dot r_i^2}{2} - V(\\{\\vec r \\}) \\\\\n",
    "L_{\\text{Nose}} = \\sum_{i=1}^N \\frac{m_i}{2} s^2 \\dot r^2_i - V(\\{\\vec r\\}) + \\frac{Q}{2} \\dot s^2 - \\frac{L}{\\beta} \\ln s \n",
    "$$\n",
    "\n",
    "Now the hamiltonian\n",
    "\n",
    "$$\n",
    "H_{\\text{Nose}} = \\sum_{i=1}^N \\frac{p_i^2}{2m_i s^2} + V(\\{\\vec r\\}) + \\frac{p_s^2}{2Q} + \\frac{L}{\\beta} \\ln s \n",
    "$$\n",
    "\n",
    "$s$ is used to rescale from our virtual variables to real ones. \n",
    "\n",
    "$$\n",
    "\\vec r' = \\vec r \\\\\n",
    "\\vec p' = \\vec p/s \\\\\n",
    "s' = s \\\\\n",
    "\\Delta t' = \\Delta t/s\n",
    "$$\n",
    "\n",
    "Now we convert a microcanonical simulation with $6N+2$ DoF in virtual variables to a canonical ensemble with real variables. "
   ]
  },
  {
   "cell_type": "markdown",
   "id": "5fc5299c",
   "metadata": {},
   "source": [
    "Hoover figured out \n",
    "\n",
    "$$\n",
    "\\frac{ d\\vec r_i}{d t} = \\frac{\\vec p_i}{m_i} \\\\\n",
    "\\frac{d\\vec p_i}{dt} = - \\vec \\nabla_i V(\\{\\vec r\\}) - \\eta \\vec p_i\n",
    "$$\n",
    "Where the last term is \"friction\"\n",
    "$$\n",
    "\\xi \\equiv \\frac{d \\eta}{dt} = \\frac{1}{Q} \\left( \\sum_{i=1}^N \\frac{p_i^2}{m_i} - \\frac{3N}{\\beta}\\right)\n",
    "$$\n",
    "Hover used $\\eta = \\frac{\\dot s}{s} = \\frac{d \\ln s}{dt}$. In fact, this is the only choice that reporduces the canonical ensemble. \n",
    "\n",
    "The \"fake\" system-thermostat hamiltonian is conserved\n",
    "\n",
    "$$\n",
    "H_{NH} = \\sum_{i=1}^N \\frac{p_i^2}{2m_i} + V(\\{\\vec r \\}) + \\frac{Q\\eta^2}{2} + \\frac{3N}{\\beta} \\ln s\n",
    "$$"
   ]
  },
  {
   "cell_type": "markdown",
   "id": "63d484c5",
   "metadata": {},
   "source": [
    "Here's our algorithm with velocity-verlet\n",
    "\n",
    "<br> 0: Propogate $\\{ \\xi, \\eta, \\vec V_i \\} \\overset{\\Delta t/2}{\\rightarrow} \\{ \\xi, \\eta, \\vec V_i \\}$\n",
    "<br> 1: $\\Delta K = \\left( \\sum_{i=1}^N m_i v_i^2 - 3NT\\right) /Q$\n",
    "<br> $\\eta \\leftarrow \\eta + \\Delta K \\frac{\\Delta t}{4} $\n",
    "<br> 2: $\\vec v_i \\leftarrow e^{-\\eta \\frac{\\Delta t}{2} \\vec v_i}$\n",
    "<br> 3: $\\vec r_i \\leftarrow \\vec r_i + \\vec v_i \\Delta t$ \n",
    "<br> 4: $\\vec f_i = -\\vec \\nabla_i V(\\{\\vec r \\})$\n",
    "<br> 5: repeat 2\n",
    "<br> 6: repeat 1"
   ]
  },
  {
   "cell_type": "markdown",
   "id": "2bfd0df8",
   "metadata": {},
   "source": [
    "# PHY480 Day 24\n",
    "\n",
    "## In-class assignment: Molecular dynamics simulations -- thermostatting\n",
    "\n",
    "In this in-class assignment we add the Nose-Hoover thermostat that allows us to sample the canonical ensemble with a very elegant coupling to a single degree of freedom.\n"
   ]
  },
  {
   "cell_type": "code",
   "execution_count": null,
   "id": "0a1e2297",
   "metadata": {},
   "outputs": [],
   "source": [
    "import numpy as np\n",
    "import matplotlib.pyplot as plt\n",
    "%matplotlib inline\n"
   ]
  },
  {
   "cell_type": "markdown",
   "id": "c6371482",
   "metadata": {},
   "source": [
    "**Task 1.** Assuming that we have a fully working microcanonical molecular dynamics code for Lennard-Jones fluid (i.e. initialization, forces, velocity-Verlet updating), implement the Nose-Hoover thermostat which updates the thermostat variables and rescales the velocitites. To pass the thermostat variables around, use a two-value array `eta_zeta` where the first entry is $\\eta$ and the second is $\\zeta$.\n"
   ]
  },
  {
   "cell_type": "code",
   "execution_count": null,
   "id": "e60e29fc",
   "metadata": {},
   "outputs": [],
   "source": [
    "# Nose-Hoover thermostat\n",
    "# dt -- time step\n",
    "# v -- array with particle velocities\n",
    "# eta_zeta -- array of two values: eta and zeta -- thermostat variables\n",
    "# Q -- thermostat coupling\n",
    "# T -- temperature\n",
    "# massess -- array with particle masses\n",
    "# Output:\n",
    "# the input v and eta_zeta is changed\n",
    "def nose_hoover_thermo( dt, v, eta_zeta, Q, T, masses ):\n",
    "    \n",
    "    # get the instantaneous kinetic energy\n",
    "\n",
    "    # deviation of the kinetic energy from the average\n",
    "    \n",
    "    # propagate zeta for dt/4\n",
    "    \n",
    "    # scale velocities with the new zeta\n",
    "\n",
    "    # propagate eta=ds/dt/s for dt/4\n",
    "\n",
    "    # get the instantaneous kinetic energy\n",
    "\n",
    "    # deviation of the kinetic energy from the average\n",
    "\n",
    "    # propagate zeta for dt/4\n",
    "\n",
    "    return\n"
   ]
  },
  {
   "cell_type": "markdown",
   "id": "4e4678f6",
   "metadata": {},
   "source": [
    "**Task 2.** Put together full canonical molecular dynamics simulation for Lennard-Jones fluid. Measure the total Nose-Hoover energy (conserved quantity) during the evoluton, as well as the instantaneous temperature, kinetic and potential energy of the system."
   ]
  },
  {
   "cell_type": "code",
   "execution_count": null,
   "id": "7e77504a",
   "metadata": {},
   "outputs": [],
   "source": [
    "### main parameters\n",
    "\n",
    "# dimension\n",
    "dim = 2\n",
    "\n",
    "# number of particles\n",
    "N = 10 # increase once the code is working properly\n",
    "\n",
    "# particle radius (for plotting)\n",
    "radius = 0.5\n",
    "\n",
    "# set potential to zero at this distance\n",
    "rcut = 2.5\n",
    "\n",
    "# box sizes (the size of this array should match \"dim\"),\n",
    "# to simplify, box size should be >= 2*rcut\n",
    "lbox = np.array( [8.0,8.0] )\n",
    "\n",
    "# allocate arrays for the position r and velocity v,\n",
    "# the first index is particle index and the second is the vector component\n",
    "r = np.zeros( (N,dim) )\n",
    "v = np.zeros( (N,dim) )\n",
    "\n",
    "# allocate array for the forces\n",
    "f = np.zeros( (N,dim) )\n",
    "\n",
    "# array with masses (set to 1 for now)\n",
    "masses = np.full( N, 1.0 )\n",
    "\n",
    "\n",
    "# for reproducibility\n",
    "np.random.seed(2)\n",
    "\n",
    "# time step\n",
    "dt = 0.003\n",
    "\n",
    "# temperature (in microcanonical distribution it is only used for the initial configuration)\n",
    "Temp = 5\n",
    "\n",
    "# number of simulation steps\n",
    "Nsim = 100\n",
    "Ninner = 5\n",
    "\n",
    "# periodic boundary conditions if True\n",
    "PBC = True\n",
    "\n",
    "# Nose-Hoover thermostat coupling\n",
    "Q = 0.5\n",
    "eta_zeta = np.zeros( 2 )\n",
    "\n",
    "# Nose-Hoover thermostat if True\n",
    "NHT = True\n",
    "\n"
   ]
  },
  {
   "cell_type": "code",
   "execution_count": null,
   "id": "902ca6cd",
   "metadata": {},
   "outputs": [],
   "source": [
    "# initialize particle positions and velocities\n"
   ]
  },
  {
   "cell_type": "code",
   "execution_count": null,
   "id": "96615747",
   "metadata": {},
   "outputs": [],
   "source": [
    "# precompute forces\n",
    "\n",
    "\n",
    "# main simulation loop\n",
    "    \n",
    "    # inner loop\n",
    "    \n",
    "        # Nose-Hoover thermostat by dt/2\n",
    "\n",
    "        # propagate velocities by dt/2\n",
    "\n",
    "        # propagate positions r by dt\n",
    "\n",
    "        # apply boundary conditions\n",
    "\n",
    "        # compute forces\n",
    "\n",
    "        # propagate velocities by dt/2\n",
    "    \n",
    "        # Nose-Hoover thermostat by dt/2\n",
    "\n",
    "    # compute observables (kinetic, potential energy, Nose-Hoover total energy, etc.)\n",
    "\n",
    "    # print info\n",
    "\n"
   ]
  },
  {
   "cell_type": "markdown",
   "id": "2a9a18c9",
   "metadata": {},
   "source": [
    "&#169; Copyright 2025,  Michigan State University Board of Trustees"
   ]
  }
 ],
 "metadata": {
  "kernelspec": {
   "display_name": "Python 3 (ipykernel)",
   "language": "python",
   "name": "python3"
  },
  "language_info": {
   "codemirror_mode": {
    "name": "ipython",
    "version": 3
   },
   "file_extension": ".py",
   "mimetype": "text/x-python",
   "name": "python",
   "nbconvert_exporter": "python",
   "pygments_lexer": "ipython3",
   "version": "3.11.5"
  }
 },
 "nbformat": 4,
 "nbformat_minor": 5
}
