{
 "cells": [
  {
   "cell_type": "markdown",
   "id": "108ac550",
   "metadata": {},
   "source": [
    "### <p style=\"text-align: right;\"> &#9989; Andrew </p>"
   ]
  },
  {
   "cell_type": "markdown",
   "id": "8d55c298",
   "metadata": {},
   "source": [
    "# PHY480 Day 11\n",
    "\n",
    "## In-class assignment: Linear algebra continued, eigenvalue problems\n",
    "\n",
    "In this in-class assignment we examine the power iteration method that allows one to find the largest eigenvalue of a matrix and its corresponding eigenvector. We then examine the _inverse_ power iteration method with shifts that essentially allows one to find the eigenvalue closest to the shift and its corresponding eigenvector.\n",
    "\n",
    "A simple algorithm for finding eigenvalues is the QR method which is based on QR decomposition. Once the eigenvalues are found, we can use the inverse power iteration method with shifts to find all eigenvectors.\n",
    "\n",
    "The QR decomposition of $A$ is written as\n",
    "\n",
    "$$\n",
    "A = QR,\n",
    "$$\n",
    "where $Q$ is orthogonal, $Q^TQ=I$ and $R$ is upper triangular. (This can be generalized: if A is complex, then $Q$ is unitary, $Q^\\dagger Q=I$.)\n"
   ]
  },
  {
   "cell_type": "code",
   "execution_count": 580,
   "id": "493b15f2",
   "metadata": {},
   "outputs": [],
   "source": [
    "import numpy as np\n",
    "import matplotlib.pyplot as plt\n",
    "%matplotlib inline\n"
   ]
  },
  {
   "cell_type": "markdown",
   "id": "04e165d4",
   "metadata": {},
   "source": [
    "## Power iteration method"
   ]
  },
  {
   "cell_type": "markdown",
   "id": "8278f4e8",
   "metadata": {},
   "source": [
    "**Task 1.** A real matrix can potentially have complex eigenvalues and eigenvectors. To simplify the work that you are going to do in this notebook, we restrict the discussion to symmetric matrices $A^T=A$ that have real eigenvalues.\n",
    "\n",
    "Generate a real symmetric matrix, i.e., generate a random matrix $A$ and then symmetrize it as\n",
    "\n",
    "$$\n",
    "A \\leftarrow \\frac{1}{2}(A+A^T).\n",
    "$$\n",
    "\n",
    "You will use this matrix in the exercises below. Once you have completed them, return to this point, generate matrices of different dimension and rerun all exercises, to check that everything works as intended for different input matrices.\n",
    "\n",
    "Use `np.linalg.eig` to calculate the eigenvalues and eigenvectors, so you can use them for reference.\n"
   ]
  },
  {
   "cell_type": "code",
   "execution_count": 581,
   "id": "4b3c3d9d",
   "metadata": {},
   "outputs": [],
   "source": [
    "# YOUR CODE HERE\n",
    "np.random.seed( 1 )\n",
    "\n",
    "def random_symmetric_matrix(n):\n",
    "    A = np.random.rand(n, n)\n",
    "    return A + A.T\n",
    "\n",
    "A = random_symmetric_matrix(5)\n",
    "assert all(np.linalg.eig(A)[0].real == np.linalg.eig(A)[0])"
   ]
  },
  {
   "cell_type": "markdown",
   "id": "a32c6713",
   "metadata": {},
   "source": [
    "**Task 2.** Code the power method that successively applies (symmetric) matrix $A$ to a starting vector (that can be chosen as, for instance, $[1\\,1\\,\\dots1]$) and converges to the largest (in magnitude) eigenvalue and its eigenvector. Make sure to normalize the vector after each iteration. Return the eigenvalue and the eigenvector.\n"
   ]
  },
  {
   "cell_type": "code",
   "execution_count": 582,
   "id": "a71b594c",
   "metadata": {},
   "outputs": [],
   "source": [
    "# power iteration method to find the largest eigenvalue and its eigenvector\n",
    "# Input:\n",
    "# A -- (square) matrix\n",
    "# max_iter -- maximum number of iterations\n",
    "# Output:\n",
    "# largest eigenvalue, its eigenvector\n",
    "def power_method( A, max_iter=100 ):\n",
    "    '''\n",
    "    currently no convergence evaluation\n",
    "    '''\n",
    "\n",
    "    # read off the dimension\n",
    "    n = A.shape[0]\n",
    "\n",
    "    b = np.ones(n)\n",
    "    for _ in range(max_iter):\n",
    "        bk = A@b\n",
    "        b = bk / np.linalg.norm(bk)\n",
    "\n",
    "    # Rayleigh Quotient\n",
    "    eigenval = b@A@b/(b@b)\n",
    "\n",
    "    return eigenval, b\n",
    "\n"
   ]
  },
  {
   "cell_type": "code",
   "execution_count": 583,
   "id": "02f0d948",
   "metadata": {},
   "outputs": [
    {
     "name": "stdout",
     "output_type": "stream",
     "text": [
      "(4.499016357284714, array([0.40163425, 0.45887678, 0.35255653, 0.42177956, 0.57090098])) \n",
      " 4.499016357284721\n"
     ]
    }
   ],
   "source": [
    "# YOUR CODE HERE\n",
    "print(\n",
    "    power_method(A),\n",
    "    '\\n',\n",
    "    max(np.linalg.eig(A)[0])\n",
    ")"
   ]
  },
  {
   "cell_type": "markdown",
   "id": "cc17a0e3",
   "metadata": {},
   "source": [
    "## Inverse power iteration method with shifts"
   ]
  },
  {
   "cell_type": "markdown",
   "id": "b459ad16",
   "metadata": {},
   "source": [
    "**Task 3.** Use the code for matrix inversion with the LU decomposition that you coded in the previous in-class assignment. (If you have not finished that part and do not have a working code, use `numpy.linalg.inv` instead.) Compute the inverse of the matrix that you produced in the previous exercise, and then use the power method that you coded to compute its eigenvalue. See if this application finds the smallest eigenvalue of the original matrix. (Do not forget to take the inverse of the eigenvalue that you found. Running the power method on the inverse matrix finds its largest eigenvalue -- which is the inverse of the smallest eigenvalue of the original matrix.)\n"
   ]
  },
  {
   "cell_type": "code",
   "execution_count": 584,
   "id": "aeb39988",
   "metadata": {},
   "outputs": [],
   "source": [
    "def forsub(L,bs):\n",
    "    n = bs.size\n",
    "    xs = np.zeros(n)\n",
    "    for i in range(n):\n",
    "        val = 0.\n",
    "        for j in range(i):\n",
    "            val += L[i,j]*xs[j]\n",
    "        xs[i] = (bs[i] - val)/L[i,i]\n",
    "    return xs\n",
    "\n",
    "\n",
    "def backsub(U,bs):\n",
    "    n = bs.size\n",
    "    xs = np.zeros(n)\n",
    "    for i in reversed(range(n)):\n",
    "        val = 0.\n",
    "        for j in range(i+1,n):\n",
    "            val += U[i,j]*xs[j]\n",
    "        xs[i] = (bs[i] - val)/U[i,i]\n",
    "    return xs\n",
    "\n",
    "def ludec( A ):\n",
    "    n = A.shape[0]\n",
    "    U = np.copy(A)\n",
    "    L = np.identity(n)\n",
    "\n",
    "    for j in range(n-1):\n",
    "        for i in range(j+1,n):\n",
    "            coeff = U[i,j]/U[j,j]\n",
    "            U[i,j:] -= coeff*U[j,j:]\n",
    "            L[i,j] = coeff\n",
    "\n",
    "    return L, U\n",
    "\n",
    "def mat_inverse(A):\n",
    "    n = A.shape[0]\n",
    "    L, U = ludec(A)\n",
    "    I = np.eye(n)\n",
    "    inv_A = np.zeros((n, n))\n",
    "    for i in range(n):\n",
    "        Y = forsub(L, I[:, i])\n",
    "        X = backsub(U, Y)\n",
    "        inv_A[:, i] = X\n",
    "\n",
    "    return inv_A"
   ]
  },
  {
   "cell_type": "markdown",
   "id": "c76df1a4",
   "metadata": {},
   "source": [
    "**Task 4.** Now that we understand the general idea, code the inverse power iteration method with an eigenvalue shift. The idea of this method is the following:\n",
    "\n",
    "- Subtract the shift $\\sigma$ from the original matrix $A$ and invert, i.e., let $B=(A-\\sigma \\mathbb{1})^{-1}$.\n",
    "- Run the power iteration method on $B$, let the returned eigenvalue be $\\kappa$.\n",
    "- Then $\\kappa$ is the largest eigenvalue of $B$ and $\\kappa=1/(\\lambda-\\sigma)$, where $\\lambda$ is some eigenvalue of $A$. This procedure effectively finds the smallest $\\lambda-\\sigma$.\n",
    "- Shift back by adding $\\sigma$ to $1/\\kappa$ ($=\\lambda-\\sigma$) and you get $\\lambda$ -- one of the eigenvalues of the original matrix $A$ which is close to the input shift $\\sigma$.\n",
    "- Recall that together with $\\lambda$ you also get the eigenvector that corresponds to that eigenvalue from the power iteration method.\n",
    "\n",
    "Essentially, the outlined method allows for finding eigenvectors for known eigenvalues and we use this idea in the next task. If you coded the inverse power iteration method correctly, the final vector is normalized to have unit length.\n",
    "\n",
    "Test your code by running it on the same matrix you created above and providing a value for the shift that is close to one of the eigenvalues (that you know from using `numpy.linalg.eig` above).\n"
   ]
  },
  {
   "cell_type": "code",
   "execution_count": 585,
   "id": "06415373",
   "metadata": {},
   "outputs": [],
   "source": [
    "# inverse power method: given matrix A and shift sigma find the eigenvalue closest\n",
    "# to sigma and its corresponding eigenvector (the shifted matrix A is inverted inside\n",
    "# this subroutine, and the power iteration method is run on the inverse)\n",
    "# Input:\n",
    "# A -- (square) matrix\n",
    "# sigma -- shift\n",
    "# max_iter -- maximum number of iterations\n",
    "# Output:\n",
    "# eigenvalue of A close to the shift sigma, its eigenvector\n",
    "def invpower_method( A, sigma=0, max_iter=100 ):\n",
    "    \n",
    "    # read off dimensions\n",
    "    n = A.shape[0]\n",
    "    # prepare the inverse for the power iteration method\n",
    "    B = mat_inverse( A - sigma*np.eye( n ) )\n",
    "    kappa, Bvec = power_method(B) #A and B have the same eigenvectors\n",
    "    eigenvalue = sigma + 1/kappa\n",
    "\n",
    "    return eigenvalue, Bvec"
   ]
  },
  {
   "cell_type": "code",
   "execution_count": 586,
   "id": "090b7d50",
   "metadata": {},
   "outputs": [
    {
     "name": "stdout",
     "output_type": "stream",
     "text": [
      "[0.40163425 0.45887678 0.35255653 0.42177956 0.57090098]\n",
      "[ 0.19049617 -0.38587861  0.62923828 -0.60360849  0.23350566]\n",
      "[ 0.13563534  0.76218267  0.03786448 -0.53501774 -0.33615908]\n",
      "[ 0.88537464 -0.24145961 -0.30864498  0.01546805 -0.24961576]\n",
      "[ 0.01076773 -0.03611968  0.61892459  0.41385451 -0.66651049]\n"
     ]
    }
   ],
   "source": [
    "# YOUR CODE HERE\n",
    "eigenvals, eigenvecs = np.linalg.eig(A)\n",
    "eigenval = eigenvals[2]\n",
    "\n",
    "for eigenval in eigenvals:\n",
    "    result_eigenval, eigenvec = invpower_method(A, eigenval)\n",
    "    print(eigenvec)\n"
   ]
  },
  {
   "cell_type": "code",
   "execution_count": 587,
   "id": "8f4ca7d8",
   "metadata": {},
   "outputs": [
    {
     "data": {
      "text/plain": [
       "array([[-0.40163425, -0.45887678, -0.35255653, -0.42177956, -0.57090098],\n",
       "       [-0.19049617,  0.38587861, -0.62923828,  0.60360849, -0.23350566],\n",
       "       [ 0.13563534,  0.76218267,  0.03786448, -0.53501774, -0.33615908],\n",
       "       [-0.88537464,  0.24145961,  0.30864498, -0.01546805,  0.24961576],\n",
       "       [-0.01076773,  0.03611968, -0.61892459, -0.41385451,  0.66651049]])"
      ]
     },
     "execution_count": 587,
     "metadata": {},
     "output_type": "execute_result"
    }
   ],
   "source": [
    "eigenvecs.T"
   ]
  },
  {
   "cell_type": "markdown",
   "id": "0e889d61",
   "metadata": {},
   "source": [
    "## QR decomposition"
   ]
  },
  {
   "cell_type": "markdown",
   "id": "764b1372",
   "metadata": {},
   "source": [
    "**Task 5.** Complete the function performing QR decomposition below using the code from the book of Gezerlis, chapter 4 (code 4.8 in the 2023 edition). Test it by comparing to `np.linalg.qr` (read the NumPy documentation, use `complete` for the `mode`).\n",
    "\n",
    "**Note:** You expect the magnitudes to match but the signs may be different. (We are following the convention of Gezerlis where the diagonal elements of $R$ are taken as always positive. In this case the QR decomposition is unique.)"
   ]
  },
  {
   "cell_type": "code",
   "execution_count": 588,
   "id": "4bc7911d",
   "metadata": {},
   "outputs": [],
   "source": [
    "# QR decomposition of a (square) matrix A = QR\n",
    "# Input:\n",
    "# A -- (square) matrix\n",
    "# Output:\n",
    "# Q, R\n",
    "\n",
    "def qrdec(A):\n",
    "    n = A.shape[0]\n",
    "    Ap = np.copy(A)\n",
    "    Q = np.zeros((n,n))\n",
    "    R = np.zeros((n,n))\n",
    "    for j in range(n):\n",
    "        for i in range(j):\n",
    "            R[i,j] = Q[:,i]@A[:,j]\n",
    "            Ap[:,j] -= R[i,j]*Q[:,i]\n",
    "\n",
    "        R[j,j] = np.linalg.norm(Ap[:,j])\n",
    "        Q[:,j] = Ap[:,j]/R[j,j]\n",
    "    return Q, R\n"
   ]
  },
  {
   "cell_type": "code",
   "execution_count": 589,
   "id": "ea5bbc92",
   "metadata": {},
   "outputs": [],
   "source": [
    "# YOUR CODE HERE\n",
    "Q, R = np.linalg.qr(A, mode='complete')\n",
    "myQ, myR = qrdec(A)\n",
    "assert np.sum(abs(Q)-abs(myQ)) < 1e-14\n",
    "assert np.sum(abs(R)-abs(myR)) < 1e-14"
   ]
  },
  {
   "cell_type": "markdown",
   "id": "283db131",
   "metadata": {},
   "source": [
    "## QR method for finding eigenvalues\n"
   ]
  },
  {
   "cell_type": "markdown",
   "id": "82c0287d",
   "metadata": {},
   "source": [
    "**Task 6.** Complete the function below that uses QR decomposition to find the eigenvalues of the (symmetric) matrix that you produced at the beginning of the notebook. Output the current estimate of the eigenvalues during each iteration, so you can observe the convergence of the method. (This can be controlled by a logical variable in the arguments `print_iter` so you can easily switch this printing functionality on and off.)\n"
   ]
  },
  {
   "cell_type": "code",
   "execution_count": null,
   "id": "fd7e44b5",
   "metadata": {},
   "outputs": [],
   "source": [
    "# find all eigenvalues of a matrix by iterating the QR decomposition\n",
    "# Input:\n",
    "# A -- (square) matrix\n",
    "# max_iter -- maximum number of iterations\n",
    "# print_iter -- if True, print the current state of the eigenvalues\n",
    "# Output:\n",
    "# array with the eigenvalues of A\n",
    "def eigenvalues_with_QR( A, max_iter=100, print_iter=False ):\n",
    "\n",
    "    # store a copy so that the original matrix is not disturbed\n",
    "    Ak = A.copy()\n",
    "    for i in range(max_iter):\n",
    "        eigenvals = np.sort(np.diagonal(Ak))\n",
    "\n",
    "        Q, R = qrdec(Ak)\n",
    "        Ak = R@Q # also Q.T@Ak@Q\n",
    "        \n",
    "        if all(eigenvals == np.sort(np.diagonal(Ak))): #convergence to machine accuracy\n",
    "            return 0, eigenvals\n",
    "        \n",
    "        if print_iter:\n",
    "            print(i, eigenvals)\n",
    "\n",
    "    return 1, eigenvals # did not reach machine accuracy"
   ]
  },
  {
   "cell_type": "code",
   "execution_count": 591,
   "id": "74e05632",
   "metadata": {},
   "outputs": [
    {
     "name": "stdout",
     "output_type": "stream",
     "text": [
      "0 [0.28077388 0.37252042 0.4089045  0.83404401 1.7527783 ]\n",
      "1 [-1.00023026 -0.47622971  0.29105743  0.50873947  4.32568418]\n",
      "2 [-1.29220332 -0.53800802  0.21192556  0.77927523  4.48803168]\n",
      "3 [-1.33525589 -0.59423662  0.21497117  0.86548477  4.49805769]\n",
      "4 [-1.34461931 -0.62816452  0.21595022  0.906924    4.49893073]\n",
      "5 [-1.347023   -0.64728509  0.21608776  0.92823277  4.49900868]\n",
      "6 [-1.34771579 -0.65741786  0.21610401  0.93903508  4.49901567]\n",
      "7 [-1.34794117 -0.66260329  0.21610581  0.94444348  4.4990163 ]\n",
      "8 [-1.34802436 -0.66521075  0.216106    0.94713387  4.49901635]\n",
      "9 [-1.34805864 -0.66651061  0.21610602  0.94846799  4.49901636]\n",
      "10 [-1.34807395 -0.66715587  0.21610602  0.94912855  4.49901636]\n",
      "11 [-1.34808112 -0.66747551  0.21610602  0.94945536  4.49901636]\n",
      "12 [-1.34808458 -0.66763368  0.21610602  0.949617    4.49901636]\n",
      "13 [-1.34808627 -0.66771192  0.21610602  0.94969692  4.49901636]\n",
      "14 [-1.3480871  -0.6677506   0.21610602  0.94973644  4.49901636]\n",
      "15 [-1.34808752 -0.66776973  0.21610602  0.94975598  4.49901636]\n",
      "16 [-1.34808772 -0.66777918  0.21610602  0.94976564  4.49901636]\n",
      "17 [-1.34808782 -0.66778386  0.21610602  0.94977041  4.49901636]\n",
      "18 [-1.34808787 -0.66778617  0.21610602  0.94977277  4.49901636]\n",
      "19 [-1.3480879  -0.66778731  0.21610602  0.94977394  4.49901636]\n",
      "20 [-1.34808791 -0.66778788  0.21610602  0.94977452  4.49901636]\n",
      "21 [-1.34808792 -0.66778815  0.21610602  0.9497748   4.49901636]\n",
      "22 [-1.34808792 -0.66778829  0.21610602  0.94977495  4.49901636]\n",
      "23 [-1.34808792 -0.66778836  0.21610602  0.94977502  4.49901636]\n",
      "24 [-1.34808792 -0.66778839  0.21610602  0.94977505  4.49901636]\n",
      "25 [-1.34808792 -0.66778841  0.21610602  0.94977507  4.49901636]\n",
      "26 [-1.34808792 -0.66778842  0.21610602  0.94977508  4.49901636]\n",
      "27 [-1.34808792 -0.66778842  0.21610602  0.94977508  4.49901636]\n",
      "28 [-1.34808792 -0.66778843  0.21610602  0.94977508  4.49901636]\n",
      "29 [-1.34808792 -0.66778843  0.21610602  0.94977508  4.49901636]\n",
      "30 [-1.34808792 -0.66778843  0.21610602  0.94977508  4.49901636]\n",
      "31 [-1.34808792 -0.66778843  0.21610602  0.94977508  4.49901636]\n",
      "32 [-1.34808792 -0.66778843  0.21610602  0.94977508  4.49901636]\n",
      "33 [-1.34808792 -0.66778843  0.21610602  0.94977508  4.49901636]\n",
      "34 [-1.34808792 -0.66778843  0.21610602  0.94977508  4.49901636]\n",
      "35 [-1.34808792 -0.66778843  0.21610602  0.94977508  4.49901636]\n",
      "36 [-1.34808792 -0.66778843  0.21610602  0.94977508  4.49901636]\n",
      "37 [-1.34808792 -0.66778843  0.21610602  0.94977508  4.49901636]\n",
      "38 [-1.34808792 -0.66778843  0.21610602  0.94977508  4.49901636]\n",
      "39 [-1.34808792 -0.66778843  0.21610602  0.94977508  4.49901636]\n",
      "40 [-1.34808792 -0.66778843  0.21610602  0.94977508  4.49901636]\n",
      "41 [-1.34808792 -0.66778843  0.21610602  0.94977508  4.49901636]\n",
      "42 [-1.34808792 -0.66778843  0.21610602  0.94977508  4.49901636]\n",
      "43 [-1.34808792 -0.66778843  0.21610602  0.94977508  4.49901636]\n",
      "44 [-1.34808792 -0.66778843  0.21610602  0.94977508  4.49901636]\n",
      "45 [-1.34808792 -0.66778843  0.21610602  0.94977508  4.49901636]\n",
      "46 [-1.34808792 -0.66778843  0.21610602  0.94977508  4.49901636]\n",
      "47 [-1.34808792 -0.66778843  0.21610602  0.94977508  4.49901636]\n",
      "48 [-1.34808792 -0.66778843  0.21610602  0.94977508  4.49901636]\n",
      "49 [-1.34808792 -0.66778843  0.21610602  0.94977508  4.49901636]\n",
      "50 [-1.34808792 -0.66778843  0.21610602  0.94977508  4.49901636]\n",
      "51 [-1.34808792 -0.66778843  0.21610602  0.94977508  4.49901636]\n"
     ]
    },
    {
     "data": {
      "text/plain": [
       "(0, array([-1.34808792, -0.66778843,  0.21610602,  0.94977508,  4.49901636]))"
      ]
     },
     "execution_count": 591,
     "metadata": {},
     "output_type": "execute_result"
    }
   ],
   "source": [
    "eigenvalues_with_QR(A, max_iter=1000, print_iter=True)"
   ]
  },
  {
   "cell_type": "markdown",
   "id": "88323a51",
   "metadata": {},
   "source": [
    "## Computing eigenvectors for known eigenvalues"
   ]
  },
  {
   "cell_type": "markdown",
   "id": "d695f329",
   "metadata": {},
   "source": [
    "**Task 7.** Now there is everything in place to compute all eigenvectors of the symmetric matrix that you produced at the beginning of this notebook. First, compute the eigenvalues with the QR-based method that you coded in the previous exercise. Then loop over the eigenvalues, use them as shifts for the inverse power iteration method (to avoid divisions by zero, add $10^{-7}$ to the shift) to get the corresponding eigenvectors. Print the eigenvectors and compare with the result of `numpy.linalg.eig`. Remember that while the normalization in your code should be the same as in NumPy (i.e. the eigenvectors are normalized to have unit length), the overall sign is arbitrary. Thus, while you expect your results match the NumPy results in magnitude, they may have flipped signs.\n"
   ]
  },
  {
   "cell_type": "code",
   "execution_count": 592,
   "id": "21f95d20",
   "metadata": {},
   "outputs": [],
   "source": [
    "success, eigenvals = eigenvalues_with_QR(A)\n",
    "\n",
    "eigenvecs = []\n",
    "for eigenval in eigenvals:\n",
    "    r_eigenval, eigenvec = invpower_method(A, eigenval+1e-7)\n",
    "    eigenvecs.append(eigenvec)\n",
    "\n",
    "linalg_eigenval, linalg_eigenvec = np.linalg.eig(A)\n",
    "\n",
    "qr_vals, qr_vecs = zip(*sorted(zip(eigenvals, np.abs(eigenvecs))))\n",
    "lialg_vals, linalg_vecs = zip(*sorted(zip(linalg_eigenval, np.abs(linalg_eigenvec.T))))\n",
    "\n",
    "assert np.all(np.isclose(qr_vecs, linalg_vecs, rtol=1e-14))"
   ]
  },
  {
   "cell_type": "markdown",
   "id": "8d24fc25",
   "metadata": {},
   "source": [
    "&#169; Copyright 2025,  Michigan State University Board of Trustees"
   ]
  }
 ],
 "metadata": {
  "kernelspec": {
   "display_name": ".venv",
   "language": "python",
   "name": "python3"
  },
  "language_info": {
   "codemirror_mode": {
    "name": "ipython",
    "version": 3
   },
   "file_extension": ".py",
   "mimetype": "text/x-python",
   "name": "python",
   "nbconvert_exporter": "python",
   "pygments_lexer": "ipython3",
   "version": "3.12.5"
  }
 },
 "nbformat": 4,
 "nbformat_minor": 5
}
