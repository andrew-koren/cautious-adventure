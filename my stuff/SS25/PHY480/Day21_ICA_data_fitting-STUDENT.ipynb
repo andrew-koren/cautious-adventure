{
 "cells": [
  {
   "cell_type": "markdown",
   "id": "9d8d3489",
   "metadata": {},
   "source": [
    "### <p style=\"text-align: right;\"> &#9989; Put your name here.</p>"
   ]
  },
  {
   "cell_type": "markdown",
   "id": "f31b876d",
   "metadata": {},
   "source": [
    "# PHY480 Day 21\n",
    "\n",
    "## In-class assignment: Data fitting\n",
    "\n",
    "In this in-class assignment we experiment with data fitting, using non-linear least squares.\n"
   ]
  },
  {
   "cell_type": "code",
   "execution_count": 11,
   "id": "70ae3eeb",
   "metadata": {},
   "outputs": [],
   "source": [
    "import numpy as np\n",
    "import scipy\n",
    "import matplotlib.pyplot as plt\n",
    "%matplotlib inline\n"
   ]
  },
  {
   "cell_type": "markdown",
   "id": "1715b547",
   "metadata": {},
   "source": [
    "**Task 1.** Use `scipy.optimize.curve_fit` to fit the following data with polynomials of degree from 1 to 4. Print out the parameters and the $\\chi^2$ per degree of freedom (i.e. number of data points minus the number of parameters) and their errorbars (as returned by the fitter)."
   ]
  },
  {
   "cell_type": "code",
   "execution_count": 12,
   "id": "8dfb9e41",
   "metadata": {},
   "outputs": [],
   "source": [
    "# data\n",
    "x_i = np.array( [0.18, 0.36, 0.54, 0.72, 0.9,  1.08, 1.26, 1.44, 1.62, 1.8 ] )\n",
    "y_i = np.array( [1.09503784, 0.71869347, 0.50444052, 0.26076108, 0.54495008, 0.4792106, 0.90324932, 1.46314384, 2.50635488, 4.46996314] )\n",
    "sigma_i = np.array( [0.15554048, 0.04750824, 0.16485571, 0.19314984, 0.19452022, 0.09068985, 0.12180849, 0.1551053,  0.12832267, 0.14440365] )\n"
   ]
  },
  {
   "cell_type": "code",
   "execution_count": null,
   "id": "51da1c61",
   "metadata": {},
   "outputs": [],
   "source": [
    "f1 = lambda x, m1: x*m1\n",
    "f2 = lambda x, m1, m2: x*m1 + x**2*m2\n",
    "f3 = lambda x, m1, m2, m3: x*m1 + x**2*m2 + x**3*m3 \n",
    "f4 = lambda x, m1, m2, m3, m4: x*m1 + x**2*m2 + x**3*m3 + x**4*m4\n",
    "\n",
    "fs = [f1, f2, f3, f4]\n",
    "\n",
    "all_params = []\n",
    "all_xi2 = []\n",
    "\n",
    "for f in fs:\n",
    "    params, xi2 = scipy.optimize.curve_fit(f, x_i, y_i, sigma=sigma_i ) #measured in units of standard deviation\n",
    "    all_params.append(params)\n",
    "    all_xi2.append(xi2)"
   ]
  },
  {
   "cell_type": "code",
   "execution_count": 29,
   "id": "1013a7ef",
   "metadata": {},
   "outputs": [
    {
     "data": {
      "image/png": "[encoded data removed]",
      "text/plain": [
       "<Figure size 640x480 with 4 Axes>"
      ]
     },
     "metadata": {},
     "output_type": "display_data"
    }
   ],
   "source": [
    "x = np.linspace(x_i.min(), x_i.max(), 1000)\n",
    "\n",
    "fig, axs = plt.subplots(2,2)\n",
    "axs = axs.flatten()\n",
    "\n",
    "for ax, f, m in zip(axs, fs, all_params):\n",
    "    ax.errorbar(x_i, y_i, yerr=sigma_i, fmt='o')\n",
    "    ax.plot(x, f(x,*m))"
   ]
  },
  {
   "cell_type": "markdown",
   "id": "95849d84",
   "metadata": {},
   "source": [
    "&#169; Copyright 2025,  Michigan State University Board of Trustees"
   ]
  },
  {
   "cell_type": "markdown",
   "id": "0d11ad75",
   "metadata": {},
   "source": [
    "$$\n",
    "p_i \\sim e^{-\\frac{\\left(y_i - f(x_i, \\vec a)\\right)^2}{2\\sigma_i^2}}\n",
    "$$\n",
    "\n",
    "This means\n",
    "\n",
    "$$\n",
    "p(\\{y_i \\}) \\sim p_1 p_2 p_3 \\dots \\sim e^{-\\sum_{i=0}^n \\frac{\\left(y_i - f(x_i, \\vec a)\\right)^2}{2\\sigma_i^2} }\n",
    "$$\n",
    "Which is kinda gaussian. This tells us the probability of the result $\\{y_i\\}$ from given paramenters $\\vec a$"
   ]
  },
  {
   "cell_type": "markdown",
   "id": "afc6003b",
   "metadata": {},
   "source": [
    "Another way of looking at this:\n",
    "\n",
    "Assume $f(x_i;\\vec a)$ are known and unknown parameters which maximize that term above $\\Rightarrow$ maximium likelihood of estimate $\\vec a$\n",
    "\n",
    "We can pull out the normalization $2$, which means that $\\xi^2$ is\n",
    "\n",
    "$$\n",
    "x^2 = \\sum_{i=1}^{n} \\left( \\frac{y_i - f(x_i ; \\bar{a})}{\\sigma_i}\\right)^2\n",
    "$$\n",
    "\n",
    "A non-linear least squares problem. The linear problem has an analytical solution"
   ]
  },
  {
   "cell_type": "markdown",
   "id": "a856a6dd",
   "metadata": {},
   "source": [
    "How does scipy work?\n",
    "\n",
    "$$\n",
    "\\mathcal F (\\vec a) = \\frac{1}{2} \\sum_{i=1}^{m} r_i^2 (\\vec a) \\\\\n",
    "r_i(\\vec a) = \\frac{y_i - f(x_i, \\vec a)}{\\sigma_i} \\\\\n",
    "$$\n",
    "More:\n",
    "$$\n",
    "\\vec r(\\vec a) = (r_1(\\vec a) , r_2(\\vec a), r_3(\\vec a), r_4(\\vec a))^T \\\\\n",
    "$$\n",
    "$\\vec a$ has $n$ parameters, and $m \\geq n \\rightarrow \\mathcal F(\\vec a) - \\frac{1}{2} |\\vec r|^2$\n",
    "\n",
    "$\\vec r(\\vec a)$ is our function to minimize.\n",
    "\n",
    "$$\n",
    "\\mathcal J(\\vec a) = \\frac{\\partial r_j}{\\partial a_i} \\equiv \\left( \\vec \\nabla r_1 (\\vec a) , \\vec \\nabla r_2 (\\vec a) , \\dots  \\right)^T \\\\\n",
    "\\mathcal H_{\\mathcal F} = \\mathcal J^T J + \\sum_{j=1}^m r_j (\\vec a) \\nabla^2 r_j (\\vec a)\n",
    "$$"
   ]
  },
  {
   "cell_type": "markdown",
   "id": "e5277c61",
   "metadata": {},
   "source": [
    "Scipy is 2nd order  <br>\n",
    "->\n",
    "\n",
    "$$\n",
    "\\mathcal H_{\\mathcal F} (\\vec a_k) \\vec P_k^{\\text{Generalized Newton}} = - \\vec \\nabla \\mathcal F (\\vec a_k) \\\\\n",
    "\\text{specific: } \\mathcal J^T(\\vec a_k) \\mathcal J (\\vec a_k) \\vec p_K^{\\text{GN}} = - J(\\vec a_k) \\vec r(\\vec a_k) \\\\\n",
    "$$\n",
    "We can get even more specific to overcome saddle points, etc.: Lovenberg - Marquardt. \n",
    "\n",
    "$$\n",
    "\\left( \\mathcal J_k^T \\mathcal J_k + \\lambda_k I \\right) \\vec p_k^{\\text{LM}}  = - \\mathcal J_k^T \\vec r_k \n",
    "$$\n",
    "This gives us an adjustable parameter $\\lambda_k$ that allows us to get to descent direction"
   ]
  },
  {
   "cell_type": "markdown",
   "id": "ef634509",
   "metadata": {},
   "source": [
    "$$\n",
    "\\xi^2 = \\sum_i \\left( \\frac{y_i - f(x_i;\\vec a)}{\\sigma_i}\\right)^2 \\\\\n",
    "\\frac{\\xi^2}{\\text{dof}}=1 \\\\\n",
    "1 = \\int_{-\\infty}^{\\infty} dy_1 \\int_{-\\infty}^{\\infty} \\dots \\int_{-\\infty}^{\\infty} dy_m \\prod_{i=1}^{m} \\frac{1}{\\sqrt{2\\pi} \\sigma_i}e^{-\\left(\\frac{y_i - f(x_i ; \\vec a)}{\\sqrt{2}\\sigma_i}\\right)^2} \\\\\n",
    "\\times \\int_0^\\infty d(\\xi^2) \\delta\\left(\\xi^2 - \\sum_{i=1}^m \\left(\\frac{y_i - f(x_i;\\vec a)}{\\sigma_i} \\right)^2 \\right)\n",
    "$$\n",
    "Applying the delta function gives us\n",
    "\n",
    "$$\n",
    "1 = \\int_0^\\infty d(\\xi^2) e^{-\\xi^2/2}\n",
    "$$"
   ]
  }
 ],
 "metadata": {
  "kernelspec": {
   "display_name": ".venv",
   "language": "python",
   "name": "python3"
  },
  "language_info": {
   "codemirror_mode": {
    "name": "ipython",
    "version": 3
   },
   "file_extension": ".py",
   "mimetype": "text/x-python",
   "name": "python",
   "nbconvert_exporter": "python",
   "pygments_lexer": "ipython3",
   "version": "3.12.5"
  }
 },
 "nbformat": 4,
 "nbformat_minor": 5
}
