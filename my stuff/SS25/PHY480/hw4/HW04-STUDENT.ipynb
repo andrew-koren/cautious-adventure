{
 "cells": [
  {
   "cell_type": "markdown",
   "id": "cb311856",
   "metadata": {},
   "source": [
    "### <p style=\"text-align: right;\"> &#9989; Andrew Koren</p>"
   ]
  },
  {
   "cell_type": "markdown",
   "id": "a7b43663",
   "metadata": {},
   "source": [
    "# PHY480 Homework 4"
   ]
  },
  {
   "cell_type": "markdown",
   "id": "ec527dc4",
   "metadata": {},
   "source": [
    "This homework contains exercises on\n",
    "\n",
    "- conjugate gradient for linear systems,\n",
    "- sampling univariate probability distributions,\n",
    "- central limit theorem.\n",
    "\n",
    "**There are 7 problems with the total of 41 points.**\n",
    "\n",
    "**The deadline for the homework is Monday, March 31, 2025, 6:00 pm.**\n",
    "\n"
   ]
  },
  {
   "cell_type": "code",
   "execution_count": 73,
   "id": "7e4ae003",
   "metadata": {},
   "outputs": [],
   "source": [
    "import numpy as np\n",
    "import matplotlib.pyplot as plt\n",
    "%matplotlib inline\n"
   ]
  },
  {
   "cell_type": "markdown",
   "id": "5eae4e9a",
   "metadata": {},
   "source": [
    "## Conjugate gradient\n"
   ]
  },
  {
   "cell_type": "markdown",
   "id": "20be546d",
   "metadata": {},
   "source": [
    "**Problem 1 (10 points).** Implement the conjugate gradient method for solving $A\\vec{x}=\\vec{b}$. Test it by comparing to NumPy methods for solving linear systems or your own implementations of the methods that we discussed previously. (Remember that the conjugate gradient requires a symmetric positive-definite matrix.)\n"
   ]
  },
  {
   "cell_type": "code",
   "execution_count": 74,
   "id": "e08889ca",
   "metadata": {},
   "outputs": [],
   "source": [
    "# solve a linear system Ax=b with the conjugate gradient algorithm,\n",
    "# relative and absolute tolerances are interpreted as in SciPy\n",
    "# Input:\n",
    "# A -- symmetric positive-definite n*n matrix,\n",
    "# b -- r.h.s. vector of size n,\n",
    "# x0 -- initial guess vector of size n\n",
    "# rtol, atol -- relative and absolute tolerance, for the loop condition:\n",
    "#               repeat while |r| > max( rtol*|b|, atol ),\n",
    "# max_iter -- maximum number of iterations.\n",
    "# Output: comma separated list of the following \n",
    "# status -- =0 on success, =1 if exceeded the maximum number of iterations,\n",
    "# x -- solution vector,\n",
    "# number of iterations,\n",
    "# list of all intermediate x values visited by the algorithm.\n",
    "def solve_CG( A, b, x0, rtol=1e-5, atol=0, max_iter=5000 ):\n",
    "\n",
    "    # dimensionality\n",
    "    n = len( x0 )\n",
    "    \n",
    "    # r.h.s. norm for comparisons\n",
    "    bnorm = np.linalg.norm( b )\n",
    "\n",
    "    # initial residual\n",
    "    r = A.dot(x0) - b\n",
    "\n",
    "    # initial direction\n",
    "    p = -r.copy()\n",
    "    # starting point\n",
    "    x = x0.copy()\n",
    "\n",
    "    r2 = r@r\n",
    "    xlist = [x.copy()]\n",
    "\n",
    "    for k in range(max_iter):\n",
    "        Ap = A @ p\n",
    "        alpha = r2 / np.dot(p, Ap)\n",
    "        x = x + alpha * p\n",
    "        r = r + alpha * Ap  # Flipping the residual update\n",
    "        r2new = np.dot(r, r)\n",
    "        \n",
    "        xlist.append(x.copy())\n",
    "        \n",
    "        if np.linalg.norm(r) <= max(rtol * bnorm, atol):\n",
    "            return 0, x, k + 1, xlist\n",
    "        \n",
    "        beta = r2new / r2\n",
    "        p = -r + beta * p  # Flipping p explicitly\n",
    "        r2 = r2new\n",
    "    \n",
    "    return 1, x, max_iter, xlist"
   ]
  },
  {
   "cell_type": "markdown",
   "id": "5d470a0d",
   "metadata": {},
   "source": [
    "**Problem 2 (4 points).** Check the NumPy documentation on how to read matrices (defined as two-dimensional Numpy arrays) from `.npy` files. Once you can read a matrix from file, write a function that can calculate direct or staggered sum of all elements, defined correspondingly as\n",
    "\n",
    "$$\n",
    "\\text{direct}=\\sum_{i=0}^{n-1}\\sum_{j=0}^{n-1}A_{ij},\\,\\,\\,\\,\\,\\,\\,\n",
    "\\text{staggered}=\\sum_{i=0}^{n-1}\\sum_{j=0}^{n-1}(-1)^{i+j}A_{ij},\n",
    "$$\n",
    "where $n$ is the matrix dimension. (The sum bounds follow the 0-based counting convention of Python.)\n",
    "\n",
    "Read in the three matrices provided in the files `A1.npy`, `A2.npy` and `A3.npy` and check that you are getting (close to, up to the round-off errors) the following values for the sums:\n",
    "\n",
    "- A1: `25.950316988423985`,`49.17039341584824`,\n",
    "- A2: `513.369735702169`,`453.27450572307526`,\n",
    "- A3: `36060.807011517405`,`32718.368804757476`.\n",
    "\n",
    "This is a quick check that you are able to correctly read the matrices from files on your platform.\n",
    "\n"
   ]
  },
  {
   "cell_type": "code",
   "execution_count": 75,
   "id": "9a0d8af2",
   "metadata": {},
   "outputs": [],
   "source": [
    "def staggered_sum(A):\n",
    "    return np.sum(A * np.fromfunction(lambda i, j: (-1)**(i+j), A.shape))"
   ]
  },
  {
   "cell_type": "code",
   "execution_count": 76,
   "id": "ba3fbb5c",
   "metadata": {},
   "outputs": [
    {
     "name": "stdout",
     "output_type": "stream",
     "text": [
      "25.95031698842397 49.17039341584825\n",
      "513.3697357021688 453.27450572307464\n",
      "36060.80701151771 32718.368804757454\n"
     ]
    }
   ],
   "source": [
    "# YOUR CODE HERE\n",
    "A1 = np.load('A1.npy')\n",
    "A2 = np.load('A2.npy')\n",
    "A3 = np.load('A3.npy')\n",
    "\n",
    "\n",
    "print(np.sum(A1), staggered_sum(A1))\n",
    "print(np.sum(A2), staggered_sum(A2))\n",
    "print(np.sum(A3), staggered_sum(A3))"
   ]
  },
  {
   "cell_type": "markdown",
   "id": "1c7c376b",
   "metadata": {},
   "source": [
    "**Problem 3 (6 points).** Solve the linear system\n",
    "\n",
    "$$\n",
    "Ax = b\n",
    "$$\n",
    "\n",
    "for the three matrices $A$ that you read from the provided files. For the right-hand-side vector use $b=[1\\,1\\,\\dots1]^T$ of the matching dimension. Use $x_0=[0\\,0\\,\\dots0]^T$ as a starting guess.\n",
    "\n",
    "Demonstrate that your solution is correct by comparing with the solution from a NumPy or SciPy solver. Print out how many iterations it took for your version of the conjugate gradient to converge to the solution.\n"
   ]
  },
  {
   "cell_type": "code",
   "execution_count": 77,
   "id": "9eae4298",
   "metadata": {},
   "outputs": [
    {
     "name": "stdout",
     "output_type": "stream",
     "text": [
      "1.5543122344752192e-15\n",
      "1.1499247128510248e-05\n",
      "1.3476916509227999e-06\n"
     ]
    }
   ],
   "source": [
    "# YOUR CODE HERE\n",
    "success, x, i, x_list = solve_CG(A1, np.ones(len(A1)), x0 = np.zeros(len(A1)))\n",
    "assert success == 0\n",
    "x_np = np.linalg.inv(A1)@np.ones(len(A1))\n",
    "print(np.max(abs(x-x_np))) # max error\n",
    "\n",
    "success, x, i, x_list = solve_CG(A2, np.ones(len(A2)), x0 = np.zeros(len(A2)))\n",
    "assert success == 0\n",
    "x_np = np.linalg.inv(A2)@np.ones(len(A2))\n",
    "print(np.max(abs(x-x_np))) # max error\n",
    "\n",
    "success, x, i, x_list = solve_CG(A3, np.ones(len(A3)), x0 = np.zeros(len(A3)))\n",
    "assert success == 0\n",
    "x_np = np.linalg.inv(A3)@np.ones(len(A3))\n",
    "print(np.max(abs(x-x_np))) # max error\n"
   ]
  },
  {
   "cell_type": "markdown",
   "id": "73824aca",
   "metadata": {},
   "source": [
    "## Probability distributions and the central limit theorem\n"
   ]
  },
  {
   "cell_type": "markdown",
   "id": "96976ded",
   "metadata": {},
   "source": [
    "**Problem 4 (4 points).** Implement a function that generates random numbers from the distribution\n",
    "\n",
    "$$\n",
    "P(x)=4-2x,\\,\\,\\,\\,\\,x\\in[1,2].\n",
    "$$\n"
   ]
  },
  {
   "cell_type": "code",
   "execution_count": 78,
   "id": "68d237c2",
   "metadata": {},
   "outputs": [],
   "source": [
    "def dist(u): #inverse cdf\n",
    "    return 2 - np.sqrt(1 - u )"
   ]
  },
  {
   "cell_type": "markdown",
   "id": "dedc2ec8",
   "metadata": {},
   "source": [
    "**Problem 5 (5 points).** Generate $n$ random numbers from the distribution discussed in the previous problem. Compute the mean and the variance and compare with the exact results. Try different $n=100$, $100000$, etc.\n"
   ]
  },
  {
   "cell_type": "code",
   "execution_count": 79,
   "id": "49137447",
   "metadata": {},
   "outputs": [],
   "source": [
    "import sympy as sp\n",
    "x = sp.symbols('x')\n",
    "true_mean = sp.integrate(x*(4-2*x), (x, 1, 2))\n",
    "true_var = sp.integrate((x-true_mean)**2*(4-2*x), (x, 1, 2))"
   ]
  },
  {
   "cell_type": "code",
   "execution_count": 80,
   "id": "fe7f0e2f",
   "metadata": {},
   "outputs": [
    {
     "name": "stdout",
     "output_type": "stream",
     "text": [
      "n = 10\n",
      "4/3-1.1829 = 0.1504\n",
      "1/18-0.0177 = 0.0378\n",
      "n = 100\n",
      "4/3-1.3500 = -0.0167\n",
      "1/18-0.0605 = -0.0050\n",
      "n = 1000\n",
      "4/3-1.3345 = -0.0012\n",
      "1/18-0.0545 = 0.0010\n",
      "n = 10000\n",
      "4/3-1.3314 = 0.0019\n",
      "1/18-0.0545 = 0.0010\n",
      "n = 100000\n",
      "4/3-1.3333 = 0.0000\n",
      "1/18-0.0559 = -0.0003\n",
      "n = 1000000\n",
      "4/3-1.3332 = 0.0001\n",
      "1/18-0.0555 = 0.0001\n"
     ]
    }
   ],
   "source": [
    "# set the seed for reproducibility\n",
    "np.random.seed(1)\n",
    "\n",
    "# list with sample sizes\n",
    "n_list = [10,100,1000,10000,100000,1000000]\n",
    "\n",
    "for n in n_list:\n",
    "    n_rand = dist(np.random.rand(n))\n",
    "    stat_mean = n_rand.mean()\n",
    "    stat_var = n_rand.var()\n",
    "    \n",
    "    print(f'n = {n}')\n",
    "    print(f'{true_mean}-{stat_mean:.4f} = {true_mean-stat_mean:.4f}')\n",
    "    print(f'{true_var}-{stat_var:.4f} = {true_var-stat_var:.4f}')"
   ]
  },
  {
   "cell_type": "markdown",
   "id": "6d24febe",
   "metadata": {},
   "source": [
    "**Problem 6 (6 points).** Test the central limit theorem by using the distribution from the previous two problems  in the following way. Generate a sequence of random numbers from that distribution of length $n$. Construct a new sequence by taking the average of each $n_{sum}$ random numbers from the original sequence. Let us denote that average $\\bar x$. Shift and rescale $\\bar x$ as\n",
    "\n",
    "$$\n",
    "y \\equiv \\sqrt{n_{sum}}\\,\\frac{\\bar x - \\mu}{\\sigma},\n",
    "$$\n",
    "\n",
    "where $\\mu$ and $\\sigma$ are the mean and standard deviation of the distribution from the previous problem. The $y$ sequence has then correspondingly $n/n_{sum}$ elements. Make a histrogram for the $y$ sequence and compare it with the Gaussian distribution ${\\cal N}(0,1)$. Try various values of $n_{sum}$ from 1 to 20 (or more, if needed) to understand how the convergence to the limit happens. For a nicer looking result try a sequence where the number of $y$ elements is of the order of $10^5$.\n",
    "\n"
   ]
  },
  {
   "cell_type": "code",
   "execution_count": 82,
   "id": "c974e514",
   "metadata": {},
   "outputs": [
    {
     "data": {
      "image/png": "[encoded data removed]",
      "text/plain": [
       "<Figure size 640x480 with 1 Axes>"
      ]
     },
     "metadata": {},
     "output_type": "display_data"
    }
   ],
   "source": [
    "\n",
    "x = np.linspace(-15, 15, 1000)\n",
    "gaussian = lambda x: 1/(2*np.pi)**(1/2)*np.exp(-x**2/2)\n",
    "plt.plot(x, gaussian(x))\n",
    "\n",
    "# YOUR CODE HERE\n",
    "loop = 1e5\n",
    "nsum = 30\n",
    "\n",
    "mu = true_mean\n",
    "sigma = true_var\n",
    "y_list = []\n",
    "\n",
    "for i in range(int(loop)):\n",
    "    sample_vals = dist(np.random.rand(nsum))\n",
    "    xbar = sample_vals.mean()\n",
    "    y = np.sqrt(nsum)*(xbar-mu)/sigma\n",
    "    y_list.append(y)\n",
    "    \n",
    "result = np.array(y_list).astype(float)\n",
    "\n",
    "plt.hist(result, density=True, bins=200);"
   ]
  },
  {
   "cell_type": "markdown",
   "id": "6f7304b8",
   "metadata": {},
   "source": [
    "**Problem 7 (6 points).** Test the central limit theorem in the same way as in the previous problem for $P(x)=e^{-x}$, $x\\in[0,\\infty).$\n"
   ]
  },
  {
   "cell_type": "code",
   "execution_count": 83,
   "id": "e807b909",
   "metadata": {},
   "outputs": [
    {
     "data": {
      "image/png": "[encoded data removed]",
      "text/plain": [
       "<Figure size 640x480 with 1 Axes>"
      ]
     },
     "metadata": {},
     "output_type": "display_data"
    }
   ],
   "source": [
    "dist2 = lambda u: -np.log(1-u)\n",
    "\n",
    "plt.plot(x, gaussian(x))\n",
    "\n",
    "# YOUR CODE HERE\n",
    "loop = 1e5\n",
    "nsum = 30\n",
    "\n",
    "mu = 1\n",
    "sigma = 1\n",
    "y_list = []\n",
    "\n",
    "for i in range(int(loop)):\n",
    "    sample_vals = dist2(np.random.rand(nsum))\n",
    "    xbar = sample_vals.mean()\n",
    "    y = np.sqrt(nsum)*(xbar-mu)/sigma\n",
    "    y_list.append(y)\n",
    "    \n",
    "result = np.array(y_list).astype(float)\n",
    "\n",
    "plt.hist(result, density=True, bins=200);\n",
    "\n"
   ]
  },
  {
   "cell_type": "markdown",
   "id": "92809906",
   "metadata": {},
   "source": [
    "&#169; Copyright 2025,  Michigan State University Board of Trustees"
   ]
  }
 ],
 "metadata": {
  "kernelspec": {
   "display_name": ".venv",
   "language": "python",
   "name": "python3"
  },
  "language_info": {
   "codemirror_mode": {
    "name": "ipython",
    "version": 3
   },
   "file_extension": ".py",
   "mimetype": "text/x-python",
   "name": "python",
   "nbconvert_exporter": "python",
   "pygments_lexer": "ipython3",
   "version": "3.12.5"
  }
 },
 "nbformat": 4,
 "nbformat_minor": 5
}
