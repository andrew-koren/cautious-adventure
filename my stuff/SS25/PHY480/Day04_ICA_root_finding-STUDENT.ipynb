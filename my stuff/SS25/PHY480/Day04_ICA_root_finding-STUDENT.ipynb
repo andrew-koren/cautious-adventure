{
 "cells": [
  {
   "cell_type": "markdown",
   "id": "e7223686",
   "metadata": {},
   "source": [
    "### <p style=\"text-align: right;\"> &#9989; Andrew Koren</p>"
   ]
  },
  {
   "cell_type": "markdown",
   "id": "cffc9052",
   "metadata": {},
   "source": [
    "# PHY480 Day 4\n",
    "\n",
    "## In-class assignment: Root finding\n"
   ]
  },
  {
   "cell_type": "code",
   "execution_count": 1,
   "id": "d6c803f5",
   "metadata": {},
   "outputs": [],
   "source": [
    "import numpy as np\n"
   ]
  },
  {
   "cell_type": "markdown",
   "id": "8561c531",
   "metadata": {},
   "source": [
    "## Bisection method\n",
    "\n",
    "To find a root of $f(x)=0$ with a zeroth order method (i.e. the one that requires only function evaluations), namely, _bisection method_, we need two steps. First, find such interval $[a,b]$ that $f(a)$ and $f(b)$ have opposite signs. Assuming the function is smooth it means that there is at least one root within the interval. This process is called _bracketing_. Then, starting from $[a,b]$, choose a midpoint $c$ and then choose left or right interval maintaining that the function values at the endpoints have opposite signs. Once the interval shrinks below predefined tolerance, stop the search.\n",
    "\n",
    "The function below illustrates a simple bracketing algorithm which requires a starting point $x_0$ and a search direction -- to the right or to the left."
   ]
  },
  {
   "cell_type": "code",
   "execution_count": 2,
   "id": "a95a6a4f",
   "metadata": {},
   "outputs": [],
   "source": [
    "# function to bracket a root\n",
    "# Input:\n",
    "# fun -- function f(x)\n",
    "# x0 -- starting point for bracketing\n",
    "# step -- initial step size which is doubled at every step\n",
    "# search_to_the_right -- if True, bracketing in the positive direction, otherwise - negative direction\n",
    "# max_iter -- maximum number of iterations\n",
    "# Output:\n",
    "# status -- =0, if bracketing was successful\n",
    "# i -- number of iterations it took\n",
    "# [xa,xb] -- bracketing interval\n",
    "def root_bracket( fun, x0=0, step=0.01, search_to_the_right=True, max_iter=100 ):\n",
    "\n",
    "    # initialization\n",
    "    f0 = fun( x0 )\n",
    "    x = x0\n",
    "    fx = f0\n",
    "    if search_to_the_right:\n",
    "        h = step\n",
    "    else:\n",
    "        h = -step\n",
    "\n",
    "    # iterate until we find opposite signs at the endpoints\n",
    "    i = 0\n",
    "    while f0*fx >=0 and i < max_iter:\n",
    "        \n",
    "        x += h\n",
    "            \n",
    "        fx = fun(x)\n",
    "\n",
    "        step *= 2\n",
    "        i += 1\n",
    "\n",
    "\n",
    "    if f0*fx >= 0:\n",
    "        status = 1\n",
    "        xa = x0\n",
    "        xb = x0\n",
    "    else:\n",
    "        status = 0\n",
    "        if search_to_the_right: # return interval in increasing order\n",
    "            xa = x0\n",
    "            xb = x\n",
    "        else:\n",
    "            xa = x\n",
    "            xb = x0\n",
    "        \n",
    "        \n",
    "    return status, i, [ xa, xb ]\n",
    "    "
   ]
  },
  {
   "cell_type": "markdown",
   "id": "00a7c3fa",
   "metadata": {},
   "source": [
    "The next function illustrates the bisection method. It requires a proper bracketing interval to start the search."
   ]
  },
  {
   "cell_type": "code",
   "execution_count": 3,
   "id": "2037c872",
   "metadata": {},
   "outputs": [],
   "source": [
    "# bisection method\n",
    "# Input:\n",
    "# fun -- function f(x)\n",
    "# x_interval -- bracketing interval\n",
    "# tol -- tolerance, the search stops once the interval is less than the tolerance\n",
    "# max_iter -- maximum number of iterations\n",
    "# Output:\n",
    "# status -- =0, if the search was successful\n",
    "# i -- number of iterations it took\n",
    "# x0 -- the solution (taken at the middle of the last interval)\n",
    "# fun(x0) -- function value at the solution (should be close to 0)\n",
    "def root_bisection( fun, x_interval, tol=1e-4, max_iter=100 ):\n",
    "    \n",
    "    # initialization\n",
    "    a = x_interval[0]\n",
    "    b = x_interval[1]\n",
    "    fa = fun( a )\n",
    "    fb = fun( b )\n",
    "\n",
    "    # check if bracketing interval is reasonable\n",
    "    if fa*fb >= 0:\n",
    "        return 1, 0, a, fa\n",
    "\n",
    "    # iterate until the interval below the tolerance\n",
    "    i = 0\n",
    "    while abs( b - a ) > tol and i < max_iter:\n",
    "\n",
    "        # check is something wrong happened during the bisecting\n",
    "        # (if the function is not smooth)\n",
    "        if fa*fb >= 0:\n",
    "            status = 1\n",
    "            x0 = a\n",
    "            return status, i, x0, fa\n",
    "\n",
    "        # take the middle point\n",
    "        c = ( a + b ) / 2\n",
    "        fc = fun( c )\n",
    "        # decide which end to move\n",
    "        if fa*fc>0:\n",
    "            a = c\n",
    "            fa = fc\n",
    "        else:\n",
    "            b = c\n",
    "            fb = fc\n",
    "            \n",
    "        i += 1\n",
    "\n",
    "    # check if the process actually converged\n",
    "    if abs( b - a ) > tol:\n",
    "        status = 1\n",
    "        x0 = a\n",
    "    else:\n",
    "        status = 0\n",
    "        x0 = ( a + b ) / 2\n",
    "        \n",
    "\n",
    "    return status, i, x0, fun( x0 )\n",
    "        "
   ]
  },
  {
   "cell_type": "markdown",
   "id": "e2158ac0",
   "metadata": {},
   "source": [
    "To experiment with root finding, consider the following function."
   ]
  },
  {
   "cell_type": "code",
   "execution_count": 4,
   "id": "89ad4bf3",
   "metadata": {},
   "outputs": [],
   "source": [
    "def f3( x ):\n",
    "    return (x-1)*(x-2)*(x-3)\n"
   ]
  },
  {
   "cell_type": "markdown",
   "id": "fc5a03ca",
   "metadata": {},
   "source": [
    "**Task 1.** Try bracketing from different starting points. Try bracketing to the right and to the left of the starting point. Try also points and directions from which bracketing fails. Print out the results for each case."
   ]
  },
  {
   "cell_type": "code",
   "execution_count": 34,
   "id": "5e541c62",
   "metadata": {},
   "outputs": [
    {
     "name": "stdout",
     "output_type": "stream",
     "text": [
      "(1, 100, [1, 1]) \n",
      " (0, 90, [1.1, 2.000000000000001]) \n",
      " (1, 100, [-7, -7]) \n",
      " (0, 51, [2.990000000000011, 3.5]) \n",
      " (1, 100, [4, 4]) \n",
      "\n"
     ]
    }
   ],
   "source": [
    "print(\n",
    "root_bracket(f3, x0=1), '\\n',\n",
    "root_bracket(f3, x0=1.1), '\\n',\n",
    "root_bracket(f3, x0=-7, search_to_the_right=False), '\\n',\n",
    "root_bracket(f3, x0=3.5, search_to_the_right=False), '\\n',\n",
    "root_bracket(f3, x0=4, search_to_the_right=False), '\\n',\n",
    ")\n",
    "\n",
    "interval_1 = root_bracket(f3, x0=1.1)[-1]\n",
    "interval_2 = root_bracket(f3, x0=3.5, search_to_the_right=False)[-1]\n"
   ]
  },
  {
   "cell_type": "markdown",
   "id": "1838004a",
   "metadata": {},
   "source": [
    "**Task 2.** Try finding roots using the same starting points and the bracketing intervals that you found. Print out the results. Try different tolerances, e.g., $10^{-4}$, $10^{-6}$, $10^{-10}$."
   ]
  },
  {
   "cell_type": "code",
   "execution_count": 42,
   "id": "4c405f16",
   "metadata": {},
   "outputs": [
    {
     "name": "stdout",
     "output_type": "stream",
     "text": [
      "(0, 34, 1.9999999999738074, 2.6192603641561618e-11) \n",
      " (0, 19, 3.000000333786021, 6.675723763294751e-07)\n"
     ]
    }
   ],
   "source": [
    "print(\n",
    "root_bisection(f3, interval_1, tol=1e-10), '\\n',\n",
    "root_bisection(f3, interval_2, tol=1e-6)\n",
    ")\n"
   ]
  },
  {
   "cell_type": "markdown",
   "id": "45282b7d",
   "metadata": {},
   "source": [
    "## Iterative square root\n",
    "\n",
    "**Task 3.** Program the Babylonian method for $\\sqrt{a}$:\n",
    "\n",
    "$$\n",
    "x_{n+1}=\\frac{1}{2}\\left(x_n+\\frac{a}{x_n}\\right).\n",
    "$$\n",
    "\n",
    "Use $x_0=a$ to start the iteration and $|x_{n+1}-x_n|<\\text{ tolerance}$ as the stopping criteria. Output at every iteration current iterate $x_n$ (use 15 digits). At the end, print out the result, how many iterations it took and also print the result of the NumPy square root function."
   ]
  },
  {
   "cell_type": "markdown",
   "id": "027f41c5",
   "metadata": {},
   "source": [
    "The output may look like this:\n",
    "\n",
    "```\n",
    "2.000000000000000\n",
    "1.500000000000000\n",
    "1.416666666666667\n",
    "1.414215686274510\n",
    "1.414213562374690\n",
    "1.414213562373095\n",
    "Babylonian:\n",
    "Took 5 iterations\n",
    "1.414213562373095\n",
    "\n",
    "Postindustrial:\n",
    "1.414213562373095\n",
    "\n",
    "```"
   ]
  },
  {
   "cell_type": "code",
   "execution_count": 58,
   "id": "f03ab53a",
   "metadata": {},
   "outputs": [
    {
     "name": "stdout",
     "output_type": "stream",
     "text": [
      "1.414213562373095\n",
      "1.4142135623730951\n",
      "4.47213595499958\n",
      "4.47213595499958\n",
      "14.142135623730951\n",
      "14.142135623730951\n",
      "44.721359549995796\n",
      "44.721359549995796\n",
      "141.4213562373095\n",
      "141.4213562373095\n",
      "447.21359549995793\n",
      "447.21359549995793\n"
     ]
    }
   ],
   "source": [
    "a_list = (2, 20, 200, 2000, 20000, 200000)\n",
    "\n",
    "def babylonian(a, tol=1e-15, maxiter=100):\n",
    "    i = 0\n",
    "    status = 0\n",
    "    xn0 = [a]\n",
    "    xn1 = 1/2 * (xn0[-1] + a/xn0[-1])\n",
    "\n",
    "    while abs(xn1 - xn0[-1]) > tol and i<maxiter:\n",
    "        xn0.append(xn1)\n",
    "        xn1 = 1/2 * (xn0[-1] + a/xn0[-1])\n",
    "        i += 1\n",
    "\n",
    "    if i != maxiter:\n",
    "        status = 1\n",
    "\n",
    "    return status, i, xn1, xn0\n",
    "    \n",
    "for a in a_list:\n",
    "    print(babylonian(a)[2])\n",
    "    print(np.sqrt(a))"
   ]
  },
  {
   "cell_type": "markdown",
   "id": "d359164c",
   "metadata": {},
   "source": [
    "## Newton-Raphson method\n",
    "\n",
    "**Task 4.** Program now a general Newton-Raphson method to solve $f(x)=0$. This is a first-order method, as it requires $f(x)$ and $f'(x)$. The input and output of the function are described below. Use $|f(x)|<\\mbox{ tolerance}$ as the stopping criteria. In the loop, add a condition that interrupts the search if $|f'(x)|<\\mbox{ tolerance}$. Return a list of all iterates $x_n$. To test correctnes, compare with the results you got with the bisection method for the `f3` function. (Note that you also need to program the derivative of that function.) Next, use the Newton-Raphson method and a proper function to calculate $\\sqrt{a}$ for $a=2$, $20$, $200$."
   ]
  },
  {
   "cell_type": "code",
   "execution_count": 1,
   "id": "72cd85ea",
   "metadata": {},
   "outputs": [
    {
     "ename": "NameError",
     "evalue": "name 'f3' is not defined",
     "output_type": "error",
     "traceback": [
      "\u001b[1;31m---------------------------------------------------------------------------\u001b[0m",
      "\u001b[1;31mNameError\u001b[0m                                 Traceback (most recent call last)",
      "Cell \u001b[1;32mIn[1], line 35\u001b[0m\n\u001b[0;32m     31\u001b[0m     \u001b[38;5;28;01mreturn\u001b[39;00m status, i, xn[\u001b[38;5;241m-\u001b[39m\u001b[38;5;241m1\u001b[39m], fun(xn[\u001b[38;5;241m-\u001b[39m\u001b[38;5;241m1\u001b[39m]), xn\n\u001b[0;32m     33\u001b[0m df3 \u001b[38;5;241m=\u001b[39m  \u001b[38;5;28;01mlambda\u001b[39;00m x: \u001b[38;5;241m3\u001b[39m\u001b[38;5;241m*\u001b[39mx\u001b[38;5;241m*\u001b[39m\u001b[38;5;241m*\u001b[39m\u001b[38;5;241m2\u001b[39m \u001b[38;5;241m-\u001b[39m \u001b[38;5;241m12\u001b[39m\u001b[38;5;241m*\u001b[39mx \u001b[38;5;241m+\u001b[39m \u001b[38;5;241m11\u001b[39m\n\u001b[1;32m---> 35\u001b[0m x_vals \u001b[38;5;241m=\u001b[39m root_newton_raphson(\u001b[43mf3\u001b[49m, df3, x0\u001b[38;5;241m=\u001b[39m\u001b[38;5;241m-\u001b[39m\u001b[38;5;241m10\u001b[39m, tol\u001b[38;5;241m=\u001b[39m\u001b[38;5;241m1e-15\u001b[39m)[\u001b[38;5;241m-\u001b[39m\u001b[38;5;241m1\u001b[39m]\n",
      "\u001b[1;31mNameError\u001b[0m: name 'f3' is not defined"
     ]
    }
   ],
   "source": [
    "# Newton-Raphson root finding method\n",
    "# Input:\n",
    "# fun -- function f(x)\n",
    "# dfun -- derivative f'(x)\n",
    "# x0 -- starting point\n",
    "# tol -- tolerance, the search stops once |f(x)| is less than the tolerance\n",
    "# max_iter -- maximum number of iterations\n",
    "# Output:\n",
    "# status -- =0, if the search was successful\n",
    "# x -- the solution (last iterate)\n",
    "# k -- number of iterations it took\n",
    "# xlist -- the list of all iterates\n",
    "\n",
    "def root_newton_raphson( fun, dfun, x0, tol=1e-4, max_iter=100 ):\n",
    "    xn = [x0]\n",
    "    i = 0\n",
    "    status = 1\n",
    "\n",
    "    while abs(fun(xn[-1])) > tol or i == max_iter:\n",
    "        if dfun(xn[-1]) == 0:\n",
    "            i = max_iter\n",
    "            break\n",
    "\n",
    "        xn1 = xn[-1] - fun(xn[-1])/dfun(xn[-1])\n",
    "        xn.append(xn1)\n",
    "        i += 1\n",
    "    \n",
    "    if i != max_iter:\n",
    "        status = 0\n",
    "\n",
    "    return status, i, xn[-1], fun(xn[-1]), xn\n",
    "\n",
    "df3 =  lambda x: 3*x**2 - 12*x + 11\n",
    "\n",
    "x_vals = root_newton_raphson(f3, df3, x0=-10, tol=1e-15)[-1]"
   ]
  },
  {
   "cell_type": "code",
   "execution_count": 97,
   "id": "1f8c9771",
   "metadata": {},
   "outputs": [
    {
     "data": {
      "image/png": "[encoded data removed]",
      "text/plain": [
       "<Figure size 640x480 with 1 Axes>"
      ]
     },
     "metadata": {},
     "output_type": "display_data"
    }
   ],
   "source": [
    "import matplotlib.pyplot as plt\n",
    "\n",
    "x = np.array(x_vals)\n",
    "fx = abs(f3(x))\n",
    "dfx = abs(df3(x))\n",
    "\n",
    "plt.scatter(x, fx, label='abs(f(x))')\n",
    "plt.scatter(x, dfx, label = 'abs(f\\'(x))')\n",
    "plt.yscale('log')\n",
    "plt.legend();"
   ]
  },
  {
   "cell_type": "code",
   "execution_count": 96,
   "id": "6100bef4",
   "metadata": {},
   "outputs": [
    {
     "data": {
      "text/plain": [
       "array([-1.71600000e+03, -5.07553519e+02, -1.49789251e+02, -4.39796002e+01,\n",
       "       -1.27565191e+01, -3.58881168e+00, -9.28730103e-01, -1.86971633e-01,\n",
       "       -1.75030219e-02, -2.19521692e-04, -3.61211848e-08, -8.88178420e-16])"
      ]
     },
     "execution_count": 96,
     "metadata": {},
     "output_type": "execute_result"
    }
   ],
   "source": [
    "fx"
   ]
  },
  {
   "cell_type": "markdown",
   "id": "a9356e96",
   "metadata": {},
   "source": [
    "&#169; Copyright 2025,  Michigan State University Board of Trustees"
   ]
  }
 ],
 "metadata": {
  "kernelspec": {
   "display_name": ".venv",
   "language": "python",
   "name": "python3"
  },
  "language_info": {
   "codemirror_mode": {
    "name": "ipython",
    "version": 3
   },
   "file_extension": ".py",
   "mimetype": "text/x-python",
   "name": "python",
   "nbconvert_exporter": "python",
   "pygments_lexer": "ipython3",
   "version": "3.12.5"
  }
 },
 "nbformat": 4,
 "nbformat_minor": 5
}
