{
 "cells": [
  {
   "cell_type": "markdown",
   "id": "658c4c4f",
   "metadata": {},
   "source": [
    "### <p style=\"text-align: right;\"> &#9989; Andrew Koren</p>"
   ]
  },
  {
   "cell_type": "markdown",
   "id": "a1d59967",
   "metadata": {},
   "source": [
    "# PHY480 Day 15\n",
    "\n",
    "## In-class assignment: Optimization and solving linear systems\n",
    "\n",
    "In this assignment we consider an elegant modification of the Newton-Raphson optimization method that regularizes the Hessian and makes the method move only towards minima. The second part of this notebook is focused on the conjugate gradient method. For a quadratic form with a symmetric positive-definite matrix, minimization is equivalent to solving a linear system. The conjugate gradient method, originally developed for solving linear systems is also an optimization method, in its original form, for quadratic functions. (A generalization, called nonlinear conjugate gradient method, is a first-order optimization method for generic objective functions.)\n"
   ]
  },
  {
   "cell_type": "code",
   "execution_count": 22,
   "id": "884d543e",
   "metadata": {},
   "outputs": [],
   "source": [
    "import numpy as np\n",
    "import matplotlib.pyplot as plt\n",
    "%matplotlib inline\n",
    "from numpy.linalg import inv, norm\n"
   ]
  },
  {
   "cell_type": "markdown",
   "id": "581c275f",
   "metadata": {},
   "source": [
    "## Modified Newton-Raphson method\n",
    "\n",
    "**Task 1.** Modify the Newton-Raphson method considered in the Day 14 in-class assignment in the following way. Change the iteration to:\n",
    "\n",
    "$$\n",
    "\\vec{x}_{k+1}=\\vec{x}_k-\\frac{1}{H(\\vec{x}_k)+s\\mathbb{I}}\\vec{\\nabla}f(\\vec{x}_k),\n",
    "$$\n",
    "\n",
    "where $s$ is a parameter originally set to 1. In the main iteration loop introduce an inner loop that produces a new direction $\\vec{d}_k$ and adjusts $s$, if necessary. The inner loop includes the following steps:\n",
    "\n",
    "1. Evaluate $\\vec{d}_k=-[H(\\vec{x}_k)+s\\mathbb{I}]^{-1}\\vec{\\nabla}f(\\vec{x}_k)$.\n",
    "2. Check if $\\vec{d}_k$ is a descent direction: $\\vec{d}_k\\cdot\\vec{\\nabla}f(\\vec{x}_k)<0$ ? If not, set $s\\leftarrow 2s$ and repeat from 1.\n",
    "3. Check if the function value at the projected new point is lower: $f(\\vec{x}_k+\\vec{d}_k)\\leqslant f(\\vec{x}_k)$ ? If not, set $s\\leftarrow 2s$ and repeat from 1. If yes, set $s\\leftarrow s/2$, proceed with the move $\\vec{x}_{k+1}=\\vec{x}_k+\\vec{d}_k$ and exit the inner loop.\n"
   ]
  },
  {
   "cell_type": "code",
   "execution_count": 77,
   "id": "5a961ad0",
   "metadata": {},
   "outputs": [],
   "source": [
    "# Newton-Raphson optimization method with Levenberg-Marquardt type improvement\n",
    "# Input:\n",
    "# fun -- scalar function f(x) of a vector argument x\n",
    "# dfun -- the gradient of f\n",
    "# ddfun -- the Hessian of f\n",
    "# x0 -- starting point (as NumPy vector of proper dimension)\n",
    "# tol -- tolerance, the search stops once ||grad f(x)|| is less than the tolerance\n",
    "# max_iter -- maximum number of iterations\n",
    "# is_verbose -- print ||grad f(x)|| on every tenth iteration if True\n",
    "# Output:\n",
    "# status -- =0, if the search was successful, =1, if maximum number of iterations was exhausted\n",
    "# x -- the solution (last iterate)\n",
    "# k -- number of iterations it took\n",
    "# xlist -- the list of all iterates\n",
    "def optimize_newton_raphson_lm( x0, fun, dfun, ddfun, tol=1e-5, max_iter=100, is_verbose=False ):\n",
    "    status = 1\n",
    "    # initialize\n",
    "    n = x0.shape[0]\n",
    "    lm_scale = 1.0  # scale for the unit matrix\n",
    "    unitm = np.identity( n )\n",
    "    xlist = [ x0.copy() ]\n",
    "    x = x0.copy()\n",
    "    df = dfun( x )\n",
    "    ddf = dfun( x )\n",
    "    k = 0\n",
    "    timeout_limit = 30 # separate timeout, prevents inifinite s\n",
    "    s = 1\n",
    "\n",
    "    if is_verbose:\n",
    "        print( \"lm =\", lm_scale )\n",
    "\n",
    "    while k < max_iter:\n",
    "        if norm(df) < tol:\n",
    "            status = 0\n",
    "            break\n",
    "        if is_verbose and k%10==0:\n",
    "            print(df)\n",
    "\n",
    "        # stuff with d,s. I could have used elif here but oh well\n",
    "        d = -inv(ddf+s*unitm)@df\n",
    "        for i in range(timeout_limit): # check if lower \n",
    "            for i in range(timeout_limit): # check descent\n",
    "                if d@df < 0: \n",
    "                    break\n",
    "                else: \n",
    "                    s *= 2\n",
    "                    d = -inv(ddf+s*unitm)@df\n",
    "            if fun(x+d) < fun(x):\n",
    "                s *= 1/2\n",
    "                break\n",
    "            else:\n",
    "                s *=2\n",
    "        \n",
    "      \n",
    "        # update\n",
    "        x = x - inv(ddf+s*unitm)@df\n",
    "        xlist.append(x.copy())\n",
    "\n",
    "        # prepare next round\n",
    "        df = dfun(x)\n",
    "        ddf = ddfun(x)\n",
    "        k += 1\n",
    "\n",
    "    return status, x, k, xlist\n"
   ]
  },
  {
   "cell_type": "markdown",
   "id": "ff6fb557",
   "metadata": {},
   "source": [
    "**Task 2.** Test the modified Newton-Raphson optimization method on the four test functions given below. Again, you need their gradients and Hessians.\n"
   ]
  },
  {
   "cell_type": "code",
   "execution_count": 18,
   "id": "007834a0",
   "metadata": {},
   "outputs": [],
   "source": [
    "# multivariate function 1\n",
    "def multifun1( x_vec ):\n",
    "\n",
    "    # unpack the argument\n",
    "    x = x_vec[0]\n",
    "    y = x_vec[1]\n",
    "\n",
    "    return ( 4*x - 4 )**2 + ( y - 2 )**2\n",
    "\n",
    "# multivariate function 2\n",
    "def multifun2( x_vec ):\n",
    "\n",
    "    # unpack the argument\n",
    "    x = x_vec[0]\n",
    "    y = x_vec[1]\n",
    "\n",
    "    return ( 4*x - 4*y - 1 )**2 + ( x + y - 2 )**2\n",
    "\n",
    "# multivariate function 3\n",
    "def multifun3( x_vec, a=1, b=10 ):\n",
    "\n",
    "    # unpack the argument\n",
    "    x = x_vec[0]\n",
    "    y = x_vec[1]\n",
    "\n",
    "    return ( a - x )**2 + b*( y - x**2 )**2\n",
    "\n",
    "# multivariate function 4\n",
    "def multifun4( x_vec, a=1.5 ):\n",
    "\n",
    "    # unpack the argument\n",
    "    x = x_vec[0]\n",
    "    y = x_vec[1]\n",
    "\n",
    "    return -np.exp( -( x*y - a )**2 - ( y - a )**2 )\n"
   ]
  },
  {
   "cell_type": "code",
   "execution_count": 19,
   "id": "19bd9272",
   "metadata": {},
   "outputs": [],
   "source": [
    "import sympy as sp\n",
    "\n",
    "x, y = sp.symbols('x y')\n",
    "\n",
    "\n",
    "multifun1sp = ( 4*x - 4 )**2 + ( y - 2 )**2\n",
    "multifun2sp = ( 4*x - 4*y - 1 )**2 + ( x + y - 2 )**2\n",
    "a = 1\n",
    "b = 10\n",
    "multifun3sp = ( a - x )**2 + b*( y - x**2 )**2\n",
    "a = 1.5\n",
    "multifun4sp = -sp.exp( -( x*y - a )**2 - ( y - a )**2 )\n",
    "\n",
    "mf_list = (multifun1sp, multifun2sp, multifun3sp, multifun4sp)\n"
   ]
  },
  {
   "cell_type": "code",
   "execution_count": 79,
   "id": "c1b5a4de",
   "metadata": {},
   "outputs": [],
   "source": [
    "# set to 1, 2, 3 or 4 to run optimization and plot\n",
    "icase = 3\n",
    "\n",
    "if icase == 1:\n",
    "    xtrue = np.array( [1,2] )\n",
    "    x0_list = [ np.array( [ 10, 10 ] ), np.array( [ 3, 10 ] ), np.array( [ 10, 0 ] ), \\\n",
    "                np.array( [ 2, 7 ] ), np.array( [ 0, 5 ] ) ]\n",
    "    ax, bx = -2, 12\n",
    "    ay, by = -2, 12\n",
    "elif icase == 2:\n",
    "    xtrue = np.array( [1.125, 0.875] )\n",
    "    x0_list = [ np.array( [ 10, 10 ] ), np.array( [ 3, 10 ] ), np.array( [ 10, 0 ] ), \\\n",
    "                np.array( [ 2, 7 ] ), np.array( [ 0, 5 ] ) ]\n",
    "    ax, bx = -2, 12\n",
    "    ay, by = -2, 12\n",
    "elif icase == 3:\n",
    "    xtrue = np.array( [1.0, 1.0] )\n",
    "    x0_list = [ np.array( [ 0, 2 ] ), np.array( [ 1, 0 ] ), np.array( [ 1, -1 ] ), \\\n",
    "                np.array( [ -0.5, 2 ] ), np.array( [ -2, -1 ] ) ]\n",
    "    ax, bx = -2, 2\n",
    "    ay, by = -1, 3\n",
    "elif icase == 4:\n",
    "    xtrue = np.array( [1.0, 1.5] )\n",
    "    x0_list = [ np.array( [0,1.8] ), np.array( [2,2] ), np.array( [0.5,2.5] ), np.array( [1.2,1.5] ), \\\n",
    "                np.array( [1.5,1.] ) ]\n",
    "    ax, bx = 0, 3\n",
    "    ay, by = 0, 3\n",
    "\n",
    "contour_mf = (multifun1, multifun2, multifun3, multifun4)[icase-1]\n",
    "multifun = mf_list[icase-1]\n",
    "g = (sp.diff(multifun, x), sp.diff(multifun, y))\n",
    "h = sp.hessian(multifun, (x,y))\n",
    "\n",
    "mf = lambda r: sp.lambdify((x,y), multifun)(r[0], r[1])\n",
    "dmf = lambda r: np.array(sp.lambdify((x,y), g)(r[0], r[1]))\n",
    "ddmf = lambda r: sp.lambdify((x,y), h)(r[0], r[1])"
   ]
  },
  {
   "cell_type": "code",
   "execution_count": 81,
   "id": "928cb7c0",
   "metadata": {},
   "outputs": [
    {
     "name": "stdout",
     "output_type": "stream",
     "text": [
      "lm = 1.0\n",
      "[-2 40]\n",
      "[-2.00014863 39.99923782]\n",
      "[-2.15715319 39.22872708]\n",
      "[0.01501653 0.02726775]\n",
      "lm = 1.0\n",
      "[ 40 -20]\n",
      "[ 39.99458909 -19.9980947 ]\n",
      "[ 35.07858865 -18.22724686]\n",
      "[-0.00850113 -0.30755101]\n",
      "lm = 1.0\n",
      "[ 80 -40]\n",
      "[ 79.9861304  -39.99618955]\n",
      "[ 67.87183756 -36.56397384]\n",
      "[ 0.0745442  -0.68185571]\n",
      "lm = 1.0\n",
      "[32. 35.]\n",
      "lm = 1.0\n",
      "[-406 -100]\n",
      "[-405.99959075  -99.99993584]\n",
      "[-405.5809479   -99.93429097]\n",
      "[-196.92184581  -63.21823414]\n",
      "[ 0.39467425 -1.00494538]\n"
     ]
    },
    {
     "data": {
      "text/plain": [
       "(-1.0, 3.0)"
      ]
     },
     "execution_count": 81,
     "metadata": {},
     "output_type": "execute_result"
    },
    {
     "data": {
      "image/png": "[encoded data removed]",
      "text/plain": [
       "<Figure size 640x480 with 2 Axes>"
      ]
     },
     "metadata": {},
     "output_type": "display_data"
    }
   ],
   "source": [
    "xar = np.linspace(ax, bx, 1000) #x,y taken by sympy\n",
    "yar = np.linspace(ay, by, 1000)\n",
    "X, Y = np.meshgrid(xar,yar)\n",
    "\n",
    "Z = contour_mf((X, Y))\n",
    "\n",
    "\n",
    "countour = plt.contourf(X, Y, Z, levels=30)\n",
    "cbar = plt.colorbar(countour)\n",
    "\n",
    "for x0 in x0_list:\n",
    "    plt.scatter(*x0)\n",
    "    status, result, steps, step_list = optimize_newton_raphson_lm(x0, mf, dmf, ddmf, max_iter=1000, is_verbose=True)\n",
    "    path = np.array(step_list)\n",
    "    plt.plot(path[:,0], path[:,1])\n",
    "\n",
    "plt.scatter(xtrue[0], xtrue[1])\n",
    "plt.xlim(ax, bx)\n",
    "plt.ylim(ay, by)"
   ]
  },
  {
   "cell_type": "markdown",
   "id": "64cda407",
   "metadata": {},
   "source": [
    "## Conjugate gradient method for symmetric positive-definite linear systems\n",
    "\n",
    "**Task 3.** Program the conjugate gradient method for solving a linear system $A\\vec{x}=\\vec{b}$.\n"
   ]
  },
  {
   "cell_type": "code",
   "execution_count": 87,
   "id": "cca3f31f",
   "metadata": {},
   "outputs": [],
   "source": [
    "# solve a linear system Ax=b with the conjugate gradient algorithm,\n",
    "# relative and absolute tolerances are interpreted as in SciPy\n",
    "# Input:\n",
    "# A -- symmetric positive-definite n*n matrix,\n",
    "# b -- r.h.s. vector of size n,\n",
    "# x0 -- initial guess vector of size n\n",
    "# rtol, atol -- relative and absolute tolerance, for the loop condition:\n",
    "#               repeat while |r| > max( rtol*|b|, atol ),\n",
    "# max_iter -- maximum number of iterations.\n",
    "# Output: comma separated list of the following \n",
    "# status -- =0 on success, =1 if exceeded the maximum number of iterations,\n",
    "# x -- solution vector,\n",
    "# number of iterations,\n",
    "# list of all intermediate x values visited by the algorithm.\n",
    "def solve_CG( A, b, x0, rtol=1e-5, atol=0, max_iter=5000 ):\n",
    "\n",
    "    # dimensionality\n",
    "    n = len( x0 )\n",
    "    \n",
    "    # r.h.s. norm for comparisons\n",
    "    bnorm = np.linalg.norm( b )\n",
    "\n",
    "    # initial residual\n",
    "    r = A.dot(x0) - b\n",
    "\n",
    "    # initial direction\n",
    "    p = -r.copy()\n",
    "    # starting point\n",
    "    x = x0.copy()\n",
    "\n",
    "    r2 = r@r\n",
    "    xlist = [x.copy()]\n",
    "\n",
    "    for k in range(max_iter):\n",
    "        Ap = A @ p\n",
    "        alpha = r2 / np.dot(p, Ap)\n",
    "        x = x + alpha * p\n",
    "        r = r + alpha * Ap  # Flipping the residual update\n",
    "        r2new = np.dot(r, r)\n",
    "        \n",
    "        xlist.append(x.copy())\n",
    "        \n",
    "        if np.linalg.norm(r) <= max(rtol * bnorm, atol):\n",
    "            return 0, x, k + 1, xlist\n",
    "        \n",
    "        beta = r2new / r2\n",
    "        p = -r + beta * p  # Flipping p explicitly\n",
    "        r2 = r2new\n",
    "    \n",
    "    return 1, x, max_iter, xlist\n"
   ]
  },
  {
   "cell_type": "markdown",
   "id": "5cd1db4c",
   "metadata": {},
   "source": [
    "**Task 4.** Test the conjugate gradient method on the system given below:\n",
    "\n",
    "$$\n",
    "A=\\left[\\begin{array}{rrr}\n",
    "5 & 3 & 0 \\\\\n",
    "3 & 4 & 1 \\\\\n",
    "0 & 1 & 5\n",
    "\\end{array}\\right],\n",
    "\\,\\,\\,\\,\\,\\,\\,\n",
    "b=\\left[\\begin{array}{r}\n",
    "21 \\\\\n",
    "18 \\\\\n",
    "7\n",
    "\\end{array}\\right].\n",
    "$$\n",
    "\n",
    "Find the solution of this linear system to compare to the results of your conjugate gradient function. Test your function with different initial guesses $x_0$, e.g., $[0\\ 0\\ 0]^T$, $[1\\ 1\\ 1]^T$, $[100\\ 100\\ 100]^T$, etc. Experiment with different `rtol` parameter values.\n"
   ]
  },
  {
   "cell_type": "code",
   "execution_count": 98,
   "id": "feb3b9a5",
   "metadata": {},
   "outputs": [
    {
     "data": {
      "text/plain": [
       "(0,\n",
       " array([3., 2., 1.]),\n",
       " 4,\n",
       " [array([100,   0, 100]),\n",
       "  array([ 32.99192791, -53.43858776,  31.03344564]),\n",
       "  array([ 33.30485894, -29.66676806,   1.77069844]),\n",
       "  array([3., 2., 1.]),\n",
       "  array([3., 2., 1.])])"
      ]
     },
     "execution_count": 98,
     "metadata": {},
     "output_type": "execute_result"
    }
   ],
   "source": [
    "A = np.array( [[5,3,0],[3,4,1],[0,1,5]], dtype=float )\n",
    "b = np.array( [ 21, 18, 7 ], dtype=float )\n",
    "\n",
    "\n",
    "solve_CG(A, b, x0=np.array([100,0,100]), rtol=1e-15)"
   ]
  },
  {
   "cell_type": "markdown",
   "id": "9a8be8e4",
   "metadata": {},
   "source": [
    "&#169; Copyright 2025,  Michigan State University Board of Trustees"
   ]
  }
 ],
 "metadata": {
  "kernelspec": {
   "display_name": ".venv",
   "language": "python",
   "name": "python3"
  },
  "language_info": {
   "codemirror_mode": {
    "name": "ipython",
    "version": 3
   },
   "file_extension": ".py",
   "mimetype": "text/x-python",
   "name": "python",
   "nbconvert_exporter": "python",
   "pygments_lexer": "ipython3",
   "version": "3.12.5"
  }
 },
 "nbformat": 4,
 "nbformat_minor": 5
}
