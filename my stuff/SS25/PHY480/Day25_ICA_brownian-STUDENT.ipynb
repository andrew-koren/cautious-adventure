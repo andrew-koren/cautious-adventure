{
 "cells": [
  {
   "cell_type": "markdown",
   "id": "09b1ad59",
   "metadata": {},
   "source": [
    "### <p style=\"text-align: right;\"> &#9989; Andrew Koren</p>"
   ]
  },
  {
   "cell_type": "markdown",
   "id": "97d57620",
   "metadata": {},
   "source": [
    "## Brownian motion\n",
    "\n",
    "One large particle. Many DoF, many fast and few slow particles.\n",
    "\n",
    "Explicit solvent models everything, but we're really only concerned with the particle with brownian motion\n",
    "\n",
    "\n",
    "Desired properties: <br>\n",
    "a) $\\vec v = 0 \\Rightarrow$ solvent should transfer momentum to heavy particle <br>\n",
    "b) Fast heavy particle has friction effects\n",
    "\n",
    "Brownian dynamics Langevin equation\n",
    "\n",
    "$$\n",
    "\\langle \\vec r (t) \\rangle = 0\\\\\n",
    "\\langle \\vec r^2 (t) \\rangle = 2d Dt\n",
    "$$\n",
    "\n",
    "$D$ is an input\n",
    "\n",
    "$$\n",
    "m \\frac{d\\vec v}{dt} = -\\vec \\nabla V(\\vec r)\n",
    "$$\n",
    "But it goes to zero in a one-particle or non-interacting system\n",
    "\n",
    "With random force: (see Stratonovich/Ito)\n",
    "$$\n",
    "m \\frac{d\\vec v}{dt} = -\\vec \\nabla V(\\vec r) - \\zeta \\vec v + \\vec R\n",
    "$$\n",
    "$\\zeta$ is the friction coefficient, $\\frac{m}{\\zeta} $ is the characteristic time scale\n",
    "\n",
    "Constraints:\n",
    "$$\n",
    "\\langle \\vec R \\rangle = 0 \\\\\n",
    "\\langle \\vec R (t) \\vec R(t+s ) \\rangle = \\langle R^2 (t) \\rangle \\phi (s) \\\\\n",
    "= \\langle R^2 \\rangle \\delta (s)\n",
    "$$\n",
    "keeps $s=0$?\n",
    "\n",
    "$$\n",
    "\\langle \\vec R (t) \\cdot \\vec r(s) \\rangle = 0 \\\\\n",
    "\\langle \\vec R (t) \\cdot \\vec v (s) \\rangle = 0, t>s \n",
    "$$\n",
    "Step\n",
    "\n",
    "Multiplying the original equation by $\\vec r(t)$ & taking the average\n",
    "$$\n",
    "\\frac {d^2}{dt^2} = \\frac{d}{dt} \\left(2\\vec r \\frac{d\\vec r}{dt} \\right) = 2 \\left(\\frac{d \\vec r}{dt} \\right)^2 + 2\\vec r \\frac{d^2 \\vec r}{dt^2} \\\\\n",
    "\n",
    "\\frac{m}{2} \\left\\langle \\frac{d^2}{dt^2 } \\vec r^2 \\right \\rangle - m \\langle \\vec v^2 \\rangle = \\frac{\\zeta}{2} \\left \\langle \\frac{d\\vec r^2}{dt} \\right \\rangle \\\\\n",
    "m\\langle \\vec v^2 \\rangle = d k_B T\n",
    "\n",
    "$$\n",
    "This gives us our 1st order equation\n",
    "\n",
    "$$\n",
    "\\frac{m}{2} \\frac{d^2}{dt^2} \\langle \\vec r^2 (t) \\rangle + \\frac{\\zeta}{2} \\frac{d}{dt} \\underset{y(t)}{\\langle \\vec r^2 (t) \\rangle} = dk_B T \\\\\n",
    "y' + \\frac{\\zeta}{M} y = \\underset{h(t)}{\\frac{2dk_B T}{M}} \\vec r(t) \\\\\n",
    "$$\n",
    "The solution is\n",
    "$$\n",
    "y(t) = Ce^{-\\gamma t} + e^{-\\gamma t} \\int_0^t dt' e^{\\gamma t'} h(t') \\\\\n",
    "\\gamma = \\frac{\\zeta }{m} \\\\\n",
    "y(0) = \\langle \\vec r(0) \\cdot \\vec v(0) \\rangle = 0 \\Rightarrow C=0 \\\\\n",
    "\\langle r^2 (t) \\rangle = \\int y(t) dt = \\frac{2dk_B T}{\\zeta} \\left( t+ \\frac{ e^{-\\gamma t}}{\\gamma} + C_2\\right)\n",
    "$$"
   ]
  },
  {
   "cell_type": "markdown",
   "id": "c389bfd6",
   "metadata": {},
   "source": [
    "Result (trust me bro):\n",
    "\n",
    "$$\n",
    "\\langle r^2(t) \\rangle = \\frac{2dk_B T}{\\zeta} t + \\frac{2dk_B T m}{\\zeta^2} \\left( e^{- \\gamma t}-1\\right) \\\\\n",
    "D = \\frac{k_B T}{\\zeta} \\\\\n",
    "t \\gg \\frac{1}{\\gamma}= \\frac{m}{\\zeta}\n",
    "$$"
   ]
  },
  {
   "cell_type": "markdown",
   "id": "0d4405e2",
   "metadata": {},
   "source": [
    "Fluctuation-dissipation theorem:\n",
    "\n",
    "$$\n",
    "\\langle R_i (t) R_j (t') \\rangle = 2k_B T \\zeta \\delta_{ij} d(t-t')\n",
    "$$"
   ]
  },
  {
   "cell_type": "markdown",
   "id": "67bf87b3",
   "metadata": {},
   "source": [
    "$$\n",
    "\\langle F_i^2 \\rangle = \\frac{2k_B T \\zeta}{\\Delta T} \\\\\n",
    "\\vec v (t + \\Delta t) = (1-\\gamma \\Delta t) \\vec v(t) + \\frac{1}{m} \\vec F_R \\Delta t \\\\\n",
    "\\vec r (t+ \\Delta t) = \\vec r(t) + \\vec v(t + \\Delta t) \\Delta t\n",
    "$$\n"
   ]
  },
  {
   "cell_type": "markdown",
   "id": "1d979c70",
   "metadata": {},
   "source": [
    "# PHY480 Day 25\n",
    "\n",
    "## In-class assignment: Brownian dynamics simulations\n",
    "\n",
    "In this in-class assignment we consider Brownian dynamics modeled with the Langevin equation for a single degree of freedom."
   ]
  },
  {
   "cell_type": "code",
   "execution_count": null,
   "id": "5abf5848",
   "metadata": {},
   "outputs": [],
   "source": [
    "import numpy as np\n",
    "import matplotlib.pyplot as plt\n",
    "%matplotlib inline\n"
   ]
  },
  {
   "cell_type": "markdown",
   "id": "429c8e2d",
   "metadata": {},
   "source": [
    "**Task 1.** Implement random force for Langevin equation with the variance\n",
    "\n",
    "$$\n",
    "\\langle \\vec{F}^2\\rangle=\\frac{2dT\\zeta}{\\Delta t},\n",
    "$$\n",
    "\n",
    "where $d$ is dimensionality, $T$ temperature, $\\zeta$ the friction coefficient and $\\Delta t$ the integration step size. Implement for $N$ particles, so you can run a simulation for $N$ non-interacting particles.\n"
   ]
  },
  {
   "cell_type": "code",
   "execution_count": null,
   "id": "1be98498",
   "metadata": {},
   "outputs": [],
   "source": [
    "# generate random forces for Langevin equation\n",
    "# Input:\n",
    "# f -- force array of size N * d, N -- number of particles, d -- dimensionality\n",
    "# fstd -- standard deviation to generate the forces\n",
    "# Output:\n",
    "# the input f is changed\n",
    "def random_forces( f, fstd ):\n",
    "    \n",
    "    return\n"
   ]
  },
  {
   "cell_type": "markdown",
   "id": "1efed771",
   "metadata": {},
   "source": [
    "**Task 2.** Implement simple Euler integrator scheme for the Langevin equation.\n"
   ]
  },
  {
   "cell_type": "code",
   "execution_count": null,
   "id": "80ac4d90",
   "metadata": {},
   "outputs": [],
   "source": [
    "# propagate v and r by dt\n",
    "# Input:\n",
    "# r, v -- positions and velocities, N*d\n",
    "# f -- random forces, N*d\n",
    "# zeta -- friction coefficient\n",
    "# masses -- array with masses\n",
    "# dt -- step size\n",
    "# Output:\n",
    "# inputs r, v changed\n",
    "def update_v_r( r, v, f, zeta, masses, dt ):\n",
    "\n",
    "    return\n"
   ]
  },
  {
   "cell_type": "markdown",
   "id": "1e9bf3f1",
   "metadata": {},
   "source": [
    "**Task 3.** Implement a Brownian dynamics simulation with the Langevin equation for $N$ non-interacting particles. You can initialize particles in the box (you do not need to check their distance since the particles are non-interacting), but do not use any boundary conditions, so that the particles can drift away freely from their initial positions."
   ]
  },
  {
   "cell_type": "code",
   "execution_count": null,
   "id": "0c2a73aa",
   "metadata": {},
   "outputs": [],
   "source": [
    "### main parameters\n",
    "\n",
    "# dimension\n",
    "dim = 2\n",
    "\n",
    "# number of particles\n",
    "N = 10 # increase once the code is working properly\n",
    "\n",
    "# particle radius (for plotting)\n",
    "radius = 0.5\n",
    "\n",
    "# box sizes (the size of this array should match \"dim\"),\n",
    "# to simplify, box size should be >= 2*rcut\n",
    "lbox = np.array( [8.0,8.0] )\n",
    "\n",
    "# allocate arrays for the position r and velocity v,\n",
    "# the first index is particle index and the second is the vector component\n",
    "r = np.zeros( (N,dim) )\n",
    "v = np.zeros( (N,dim) )\n",
    "\n",
    "# allocate array for the forces\n",
    "f = np.zeros( (N,dim) )\n",
    "\n",
    "# array with masses (set to 1 for now)\n",
    "masses = np.full( N, 1.0 )\n",
    "\n",
    "\n",
    "# for reproducibility\n",
    "np.random.seed(2)\n",
    "\n",
    "# time step\n",
    "dt = 0.01\n",
    "\n",
    "# temperature\n",
    "Temp = 5\n",
    "\n",
    "# number of simulation steps\n",
    "Nsim = 100\n",
    "Ninner = 1\n",
    "\n",
    "# friction\n",
    "zeta = 1\n"
   ]
  },
  {
   "cell_type": "markdown",
   "id": "becf3968",
   "metadata": {},
   "source": [
    "**Task 4.** Calculate the mean squared displacement $\\langle r^2(t)\\rangle$ as function of time and check if it matches the theoretical expectations."
   ]
  },
  {
   "cell_type": "markdown",
   "id": "17370e10",
   "metadata": {},
   "source": [
    "&#169; Copyright 2025,  Michigan State University Board of Trustees"
   ]
  }
 ],
 "metadata": {
  "kernelspec": {
   "display_name": "Python 3 (ipykernel)",
   "language": "python",
   "name": "python3"
  },
  "language_info": {
   "codemirror_mode": {
    "name": "ipython",
    "version": 3
   },
   "file_extension": ".py",
   "mimetype": "text/x-python",
   "name": "python",
   "nbconvert_exporter": "python",
   "pygments_lexer": "ipython3",
   "version": "3.11.5"
  }
 },
 "nbformat": 4,
 "nbformat_minor": 5
}
