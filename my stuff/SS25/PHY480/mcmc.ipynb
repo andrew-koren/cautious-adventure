{
 "cells": [
  {
   "cell_type": "markdown",
   "metadata": {},
   "source": [
    "Metropolis algorithm\n",
    "\n",
    "1) $p_i$ - equilibrium distribution <br>\n",
    "    $p_i$ is an eigenvector of $T_{ij}$ with an eigenvalue of $1$\n",
    "\n",
    "2) $\\sum_i T_{ij} = 1 $\n",
    "\n",
    "$$\n",
    "\\sum_j T_{ij} p_j = 1 p_i  \\\\\n",
    "1 = \\sum_j T_{ji} \\\\\n",
    "\\sum_j T_{ij} p_j = \\sum_j T_{ji} p_i\n",
    "$$"
   ]
  },
  {
   "cell_type": "markdown",
   "metadata": {},
   "source": []
  }
 ],
 "metadata": {
  "language_info": {
   "name": "python"
  }
 },
 "nbformat": 4,
 "nbformat_minor": 2
}
