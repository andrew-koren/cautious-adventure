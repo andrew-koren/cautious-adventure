{
 "cells": [
  {
   "cell_type": "markdown",
   "metadata": {},
   "source": [
    "Metropolis algorithm\n",
    "\n",
    "1) $p_i$ - equilibrium distribution <br>\n",
    "    $p_i$ is an eigenvector of $T_{ij}$ with an eigenvalue of $1$\n",
    "\n",
    "2) $\\sum_i T_{ij} = 1 $\n",
    "\n",
    "$$\n",
    "\\sum_j T_{ij} p_j = 1 p_i  \\\\\n",
    "1 = \\sum_j T_{ji} \\\\\n",
    "\\sum_j T_{ij} p_j = \\sum_j T_{ji} p_i\n",
    "$$"
   ]
  },
  {
   "cell_type": "markdown",
   "metadata": {},
   "source": [
    "Note that probability doesn't really need the partition function\n",
    "\n",
    "$$\n",
    "p_i \\sim e^{-\\beta H(\\{\\sigma\\}_i)}\n",
    "$$\n",
    "\n",
    "The metropolis algorithm is thus:\n",
    "1. Propose a new state from some distribution $T_{0,ij}$\n",
    "2. Accept state depending on condition\n",
    "\n",
    "New state with:\n",
    "$$\n",
    "T_{A,ij} = \\min\\left\\{1, \\frac{T_{0,ji} p_i}{T_{0,ij} p_j} \\right\\} \\\\\n",
    "= \\min\\left\\{1, \\frac{p_i}{T_{0,ij}}/\\frac{p_j}{T_{0,ji}} \\right\\}\n",
    "$$\n",
    "\n",
    "We need $T_0$ to be easy/known though. Use ergodic $T_{ij} = T_{0,ij} T_{A,ij}$"
   ]
  }
 ],
 "metadata": {
  "language_info": {
   "name": "python"
  }
 },
 "nbformat": 4,
 "nbformat_minor": 2
}
