{
 "cells": [
  {
   "cell_type": "markdown",
   "id": "ee590633",
   "metadata": {},
   "source": [
    "### <p style=\"text-align: right;\"> &#9989; Andrew Koren.</p>"
   ]
  },
  {
   "cell_type": "markdown",
   "id": "ce424ba1",
   "metadata": {},
   "source": [
    "# PHY480 Day 19\n",
    "\n",
    "## In-class assignment: Metropolis algorithm\n",
    "\n",
    "In this in-class assignment we experiment with the Metropolis algorithm.\n"
   ]
  },
  {
   "cell_type": "code",
   "execution_count": 1,
   "id": "b70c312f",
   "metadata": {},
   "outputs": [],
   "source": [
    "import numpy as np\n",
    "import matplotlib.pyplot as plt\n",
    "%matplotlib inline\n"
   ]
  },
  {
   "cell_type": "markdown",
   "id": "bae87fde",
   "metadata": {},
   "source": [
    "**Task 1.** Consider the following probability density function (PDF):\n",
    "\n",
    "$$\n",
    "P(x)\\sim (1-x^2)^{3/2},\\,\\,\\,\\,\\,x\\in[-1,1].\n",
    "$$\n",
    "\n",
    "Find the proper normalization so that the integral of the PDF is 1. Compute the mean and the variance. This will help the comparisons later.\n"
   ]
  },
  {
   "cell_type": "code",
   "execution_count": 13,
   "id": "222d2c11",
   "metadata": {},
   "outputs": [
    {
     "data": {
      "text/latex": [
       "$\\displaystyle 1.17809724509617$"
      ],
      "text/plain": [
       "1.17809724509617"
      ]
     },
     "execution_count": 13,
     "metadata": {},
     "output_type": "execute_result"
    }
   ],
   "source": [
    "import sympy as sp\n",
    "\n",
    "x = sp.symbols('x')\n",
    "sp.integrate((1-(x**2))**(3/2), (x, -1, 1)).evalf()"
   ]
  },
  {
   "cell_type": "markdown",
   "id": "5fe05ee0",
   "metadata": {},
   "source": [
    "Mean $\\mu = \\int_a^b x f(x) dx$ <br>\n",
    "Variance $\\int_a^b x^2 f(x) dx - \\mu^2$"
   ]
  },
  {
   "cell_type": "markdown",
   "id": "ff21582e",
   "metadata": {},
   "source": [
    "Looks like we have\n",
    "$P(x) = \\frac{\\left(1-x^2\\right)^{3/2}}{1.178}$"
   ]
  },
  {
   "cell_type": "markdown",
   "id": "07fd2c08",
   "metadata": {},
   "source": [
    "**Task 2.** Code the Metropolis algorithm where the proposed moves are drawn from the uniform distribution, $x\\in[-1,1]$.\n"
   ]
  },
  {
   "cell_type": "markdown",
   "id": "837d89d9",
   "metadata": {},
   "source": [
    "Notes: \n",
    "\n",
    "initialize x = x0 <br>\n",
    "accpt = 0 <br>\n",
    "for i = 1->N draw x' from Q(x) <br>\n",
    "Q(x) = 1 &  x' = 2r-1 (arbitrary, q can be different)<br>\n",
    "\n",
    "Compute $T_A = \\min\\left\\{ 1, \\frac{P(x')}{Q(x')}/\\frac{P(x)}{Q(x)} \\right\\}$\n",
    "\n",
    "Probability of staying vs going.\n",
    "\n"
   ]
  },
  {
   "cell_type": "code",
   "execution_count": null,
   "id": "8da690ca",
   "metadata": {},
   "outputs": [],
   "source": [
    "# sample (1-x^2)^{3/2} distribution, the proposal distribution is uniform\n",
    "# Input:\n",
    "# x -- current value\n",
    "# Output:\n",
    "# x, n -- x is the new value (may be the same if the move was rejected),\n",
    "#         n = 1, if the new move was accepted, and = 0, if the move was rejected\n",
    "def get_rand_x32_flat( x ):\n",
    "    \n",
    "    # proposal\n",
    "    \n",
    "    # acceptance probability\n",
    "\n",
    "    # ...\n",
    "\n",
    "    return # something\n"
   ]
  },
  {
   "cell_type": "markdown",
   "id": "5d47c587",
   "metadata": {},
   "source": [
    "**Task 3.** Generate a number of samples from the PDF you coded above, make a histogram and compare with the (normalized) PDF. Also, compute and print the acceptance rate."
   ]
  },
  {
   "cell_type": "code",
   "execution_count": null,
   "id": "8b58cba7",
   "metadata": {},
   "outputs": [],
   "source": [
    "# random seed for reproducibility\n",
    "np.random.seed(3)\n"
   ]
  },
  {
   "cell_type": "code",
   "execution_count": null,
   "id": "c2de5524",
   "metadata": {},
   "outputs": [],
   "source": [
    "# YOUR CODE HERE\n"
   ]
  },
  {
   "cell_type": "markdown",
   "id": "5a55e04b",
   "metadata": {},
   "source": [
    "**Task 4.** Compute the mean and the variance from the data and compare with the exact results.\n"
   ]
  },
  {
   "cell_type": "code",
   "execution_count": null,
   "id": "0e9ce544",
   "metadata": {},
   "outputs": [],
   "source": [
    "# YOUR CODE HERE\n"
   ]
  },
  {
   "cell_type": "markdown",
   "id": "73fafdc6",
   "metadata": {},
   "source": [
    "**Task 5.** Compute the autocorrelation function:\n",
    "\n",
    "$$\n",
    "C(t)=\\frac{1}{N-t_{max}}\\sum_{i=1}^{N-t_{max}}(x_i-\\bar x)(x_{i+t}-\\bar x),\n",
    "$$\n",
    "\n",
    "where $\\bar x$ is the mean. Use $t_{max}=10$. Plot the normalized autocorrelation function\n",
    "\n",
    "$$\n",
    "c(t)=\\frac{C(t)}{C(0)}.\n",
    "$$\n",
    "\n",
    "For comparison, generate a series of random numbers uniformly distributed in $[0,1)$, compute and plot their autocorrelation function.\n"
   ]
  },
  {
   "cell_type": "code",
   "execution_count": null,
   "id": "4dbd93d4",
   "metadata": {},
   "outputs": [],
   "source": [
    "# YOUR CODE HERE\n"
   ]
  },
  {
   "cell_type": "markdown",
   "id": "302bfcd5",
   "metadata": {},
   "source": [
    "**Task 6.** Modify the Metropolis algorithm so that the proposed moves are drawn from the PDF:\n",
    "\n",
    "$$\n",
    "Q(x)\\sim \\cos\\left(\\frac{\\pi x}{2}\\right).\n",
    "$$\n",
    "\n",
    "(Plot $P(x)$ and $Q(x)$ to understand why this proposal distribution may be more beneficial than the uniform one.)\n",
    "\n"
   ]
  },
  {
   "cell_type": "code",
   "execution_count": null,
   "id": "e6c3dc65",
   "metadata": {},
   "outputs": [],
   "source": [
    "# sample (1-x^2)^{3/2} distribution, the proposal distribution is cos(pi*x/2)\n",
    "# Input:\n",
    "# x -- current value\n",
    "# Output:\n",
    "# x, n -- x is the new value (may be the same if the move was rejected),\n",
    "#         n = 1, if the new move was accepted, and = 0, if the move was rejected\n",
    "def get_rand_x32_cos( x ):\n",
    "\n",
    "    # proposal\n",
    "    \n",
    "    # acceptance probability\n",
    "\n",
    "    # ...\n",
    "\n",
    "    return # something\n"
   ]
  },
  {
   "cell_type": "markdown",
   "id": "edcbe8c5",
   "metadata": {},
   "source": [
    "**Task 7.** Repeat the previous tasks for the modified Metropolis algorithm: generate a sequence, plot a histogram, compute the mean and the variance, compute and plot the autocorrelation function. Compare the acceptance rate from the modified to the original version of the Metropolis algorithm with the uniform proposal distribution.\n"
   ]
  },
  {
   "cell_type": "code",
   "execution_count": null,
   "id": "c559a9d8",
   "metadata": {},
   "outputs": [],
   "source": [
    "# YOUR CODE HERE\n"
   ]
  },
  {
   "cell_type": "markdown",
   "id": "bf464e39",
   "metadata": {},
   "source": [
    "&#169; Copyright 2025,  Michigan State University Board of Trustees"
   ]
  }
 ],
 "metadata": {
  "kernelspec": {
   "display_name": ".venv",
   "language": "python",
   "name": "python3"
  },
  "language_info": {
   "codemirror_mode": {
    "name": "ipython",
    "version": 3
   },
   "file_extension": ".py",
   "mimetype": "text/x-python",
   "name": "python",
   "nbconvert_exporter": "python",
   "pygments_lexer": "ipython3",
   "version": "3.12.5"
  }
 },
 "nbformat": 4,
 "nbformat_minor": 5
}
