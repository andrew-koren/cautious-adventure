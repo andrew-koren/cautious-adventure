{
 "cells": [
  {
   "cell_type": "markdown",
   "id": "e2fd6b91",
   "metadata": {},
   "source": [
    "### <p style=\"text-align: right;\"> &#9989; Andrew Koren.</p>"
   ]
  },
  {
   "cell_type": "markdown",
   "id": "ce08443c",
   "metadata": {},
   "source": [
    "# PHY480 Day 22\n",
    "\n",
    "## In-class assignment: Molecular dynamics simulations\n",
    "\n",
    "In this in-class assignment we start building code for molecular dynamics simulations, in particular, handling of the periodic and hard wall boundary conditions.\n"
   ]
  },
  {
   "cell_type": "code",
   "execution_count": 2,
   "id": "3ae7a94c",
   "metadata": {},
   "outputs": [],
   "source": [
    "import numpy as np\n",
    "import matplotlib.pyplot as plt\n",
    "%matplotlib inline\n"
   ]
  },
  {
   "cell_type": "markdown",
   "id": "52e6a8a0",
   "metadata": {},
   "source": [
    "Consider a system of particles in a box with sizes given by `lbox` array. Here we consider two-dimensional systems that can be easily illustrated, however, the code can be written to work in any dimensions, since the operations are done with vectors, so their sizes do not actually matter."
   ]
  },
  {
   "cell_type": "code",
   "execution_count": 3,
   "id": "2f002986",
   "metadata": {},
   "outputs": [],
   "source": [
    "### main parameters\n",
    "\n",
    "# dimension\n",
    "dim = 2\n",
    "\n",
    "# number of particles\n",
    "N = 10 # increase once the code is working properly\n",
    "\n",
    "# particle radius (for later plotting)\n",
    "radius = 0.1\n",
    "\n",
    "# box sizes (the size of this array should match \"dim\")\n",
    "lbox = np.array( [4.0,4.0] )\n",
    "\n",
    "# allocate arrays for the position r and velocity v,\n",
    "# the first index is particle index and the second is the vector component\n",
    "r = np.zeros( (N,dim) )\n",
    "v = np.zeros( (N,dim) )\n"
   ]
  },
  {
   "cell_type": "markdown",
   "id": "080ffbd5",
   "metadata": {},
   "source": [
    "**Task 1.** Write a function that initializes the positions of particles uniformly randomly in the given box."
   ]
  },
  {
   "cell_type": "code",
   "execution_count": 4,
   "id": "8db8125e",
   "metadata": {},
   "outputs": [],
   "source": [
    "# initialize particle positions\n",
    "# Input:\n",
    "# lbox -- array with sizes\n",
    "# r -- allocated array of shape N * dim,\n",
    "#      where N is the number of particles and dim is the dimensionality\n",
    "# Output:\n",
    "# the input r is changed\n",
    "def initial_r( lbox, r ):\n",
    "\n",
    "    r[:] = np.random.rand(*r.shape) * lbox\n",
    "\n",
    "\n"
   ]
  },
  {
   "cell_type": "markdown",
   "id": "2ee08970",
   "metadata": {},
   "source": [
    "**Task 2.** Write a similar function that initializes the velocity uniformly in the range $[-1,1]$. This is enough for testing purposes but in general we will need a Gaussian distribution.\n"
   ]
  },
  {
   "cell_type": "code",
   "execution_count": 5,
   "id": "0fe8dd44",
   "metadata": {},
   "outputs": [],
   "source": [
    "# initialize particle velocities\n",
    "# Input:\n",
    "# lbox -- array with sizes\n",
    "# v -- allocated array of shape N * dim,\n",
    "#      where N is the number of particles and dim is the dimensionality\n",
    "# Output:\n",
    "# the input v is changed\n",
    "def initial_v( lbox, v, sigma=1, mu=0 ):\n",
    "\n",
    "    v[:] = np.random.rand(*v.shape) * 2 - 1\n",
    "    #v[:] = sigma * np.random.randn(*v.shape) * lbox + mu"
   ]
  },
  {
   "cell_type": "markdown",
   "id": "ccc21e0f",
   "metadata": {},
   "source": [
    "**Task 3.** Write a function that updates the positions `r` based on the current value of `v`."
   ]
  },
  {
   "cell_type": "code",
   "execution_count": 6,
   "id": "4f75145f",
   "metadata": {},
   "outputs": [],
   "source": [
    "# propagate the particle positions by step dt\n",
    "# Input:\n",
    "# dt -- time step\n",
    "# r -- array with particle positions\n",
    "# v -- array with particle velocities\n",
    "# Output:\n",
    "# the input r is changed\n",
    "def update_r( dt, r, v ):\n",
    "\n",
    "    r[:] = r + v*dt"
   ]
  },
  {
   "cell_type": "markdown",
   "id": "ca686251",
   "metadata": {},
   "source": [
    "**Task 4.** Write a function that handles periodic boundary conditions, i.e. if it finds positions that are outside of the box, it folds them properly back in."
   ]
  },
  {
   "cell_type": "code",
   "execution_count": 7,
   "id": "5ad035dd",
   "metadata": {},
   "outputs": [],
   "source": [
    "# apply periodic boundary conditions\n",
    "# Input:\n",
    "# lbox -- array with sizes\n",
    "# r -- array with particle positions\n",
    "# v -- array with particle velocities\n",
    "# Output:\n",
    "# the input r is changed\n",
    "def boundary_periodic( lbox, r, v ):\n",
    "\n",
    "    r[:] = r % lbox"
   ]
  },
  {
   "cell_type": "markdown",
   "id": "923db51b",
   "metadata": {},
   "source": [
    "**Task 5.** Write a function that handles the hard wall boundary conditions."
   ]
  },
  {
   "cell_type": "code",
   "execution_count": 8,
   "id": "1268aa12",
   "metadata": {},
   "outputs": [],
   "source": [
    "# apply hard wall boundary conditions\n",
    "# Input:\n",
    "# lbox -- array with sizes\n",
    "# r -- array with particle positions\n",
    "# v -- array with particle velocities\n",
    "# Output:\n",
    "# the inputs r and v are changed\n",
    "def boundary_wall( lbox, r, v ):\n",
    "\n",
    "    # loop on particles and r components,\n",
    "    # if r is outside, reflect back in,\n",
    "    # reverse the velocity if needed\n",
    "    \n",
    "    #safety\n",
    "    if (abs(r - lbox/2) > lbox*1.5).any():\n",
    "        raise ValueError('full ring not implemented!')\n",
    "\n",
    "    #hard wall\n",
    "    v[r<0] *= -1\n",
    "    r[r<0] *= -1\n",
    "\n",
    "    v[r>lbox] *= -1\n",
    "    r[:] = np.where(r>lbox, 2*lbox-r, r)"
   ]
  },
  {
   "cell_type": "markdown",
   "id": "7d3b2b38",
   "metadata": {},
   "source": [
    "**Task 6.** Run a short simulation where the velocities are unchanged and the positions are propagated and debug your functions."
   ]
  },
  {
   "cell_type": "code",
   "execution_count": 77,
   "id": "b39248a8",
   "metadata": {},
   "outputs": [
    {
     "data": {
      "image/png": "[encoded data removed]",
      "text/plain": [
       "<Figure size 640x480 with 1 Axes>"
      ]
     },
     "metadata": {},
     "output_type": "display_data"
    },
    {
     "name": "stdout",
     "output_type": "stream",
     "text": [
      "11.11111111111111\n"
     ]
    }
   ],
   "source": [
    "from IPython.display import display, clear_output\n",
    "import time \n",
    "\n",
    "\n",
    "# for reproducibility\n",
    "np.random.seed(1)\n",
    "\n",
    "# time step\n",
    "fps = 100\n",
    "dt = 1/fps\n",
    "display_rate = 1\n",
    "\n",
    "\n",
    "# number of simulation steps\n",
    "runtime = 10 # seconds\n",
    "Nsim = int(runtime*fps)\n",
    "\n",
    "# initialize particle positions and velocities\n",
    "initial_r( lbox, r )\n",
    "initial_v( lbox, v )\n",
    "\n",
    "# periodic boundary conditions if True\n",
    "PBC = True\n",
    "boundary = [boundary_wall, boundary_periodic]\n",
    "\n",
    "fig, ax = plt.subplots(1,1)\n",
    "plt.xlim(0, lbox[0])\n",
    "plt.ylim(0, lbox[1])\n",
    "\n",
    "particle_plot = ax.scatter(r[:,0], r[:,1])\n",
    "a = time.time()\n",
    "\n",
    "# main simulation loop\n",
    "for i in range(Nsim):\n",
    "    # propagate positions r\n",
    "    update_r( dt, r, v)\n",
    "    # apply boundary conditions\n",
    "    boundary[PBC](lbox, r, v)\n",
    "\n",
    "    # true live display, not ideal for more complex calculations\n",
    "    clear_output(wait=True) \n",
    "    b = time.time()\n",
    "    if i % display_rate == 0:\n",
    "        particle_plot.set_offsets(r)\n",
    "        if b - a < dt*display_rate:\n",
    "            time.sleep(dt*display_rate-(b-a))\n",
    "            a = time.time()\n",
    "            display(fig)  \n",
    "        else:\n",
    "            display_rate += 1        \n",
    "\n",
    "print(fps/display_rate)\n",
    "plt.close()"
   ]
  },
  {
   "cell_type": "code",
   "execution_count": null,
   "id": "c2847253",
   "metadata": {},
   "outputs": [
    {
     "data": {
      "text/plain": [
       "1"
      ]
     },
     "execution_count": 65,
     "metadata": {},
     "output_type": "execute_result"
    }
   ],
   "source": []
  },
  {
   "cell_type": "code",
   "execution_count": 40,
   "id": "4fd0bc1e",
   "metadata": {},
   "outputs": [
    {
     "ename": "KeyboardInterrupt",
     "evalue": "",
     "output_type": "error",
     "traceback": [
      "\u001b[1;31m---------------------------------------------------------------------------\u001b[0m",
      "\u001b[1;31mKeyboardInterrupt\u001b[0m                         Traceback (most recent call last)",
      "Cell \u001b[1;32mIn[40], line 2\u001b[0m\n\u001b[0;32m      1\u001b[0m a \u001b[38;5;241m=\u001b[39m time\u001b[38;5;241m.\u001b[39mtime()\n\u001b[1;32m----> 2\u001b[0m \u001b[43mtime\u001b[49m\u001b[38;5;241;43m.\u001b[39;49m\u001b[43msleep\u001b[49m\u001b[43m(\u001b[49m\u001b[38;5;241;43m19\u001b[39;49m\u001b[43m)\u001b[49m\n\u001b[0;32m      4\u001b[0m time\u001b[38;5;241m.\u001b[39msleep((dt\u001b[38;5;241m-\u001b[39m(time\u001b[38;5;241m.\u001b[39mtime() \u001b[38;5;241m-\u001b[39m a))\u001b[38;5;241m%\u001b[39mdt )\n\u001b[0;32m      6\u001b[0m (time\u001b[38;5;241m.\u001b[39mtime() \u001b[38;5;241m-\u001b[39m a)\u001b[38;5;241m%\u001b[39mdt\n",
      "\u001b[1;31mKeyboardInterrupt\u001b[0m: "
     ]
    }
   ],
   "source": [
    "a = time.time()\n",
    "time.sleep(19)\n",
    "\n",
    "time.sleep((dt-(time.time() - a))%dt )\n",
    "\n",
    "(time.time() - a)%dt"
   ]
  },
  {
   "cell_type": "code",
   "execution_count": 21,
   "id": "b43916bd",
   "metadata": {},
   "outputs": [
    {
     "data": {
      "text/plain": [
       "0.016666666666666666"
      ]
     },
     "execution_count": 21,
     "metadata": {},
     "output_type": "execute_result"
    }
   ],
   "source": [
    "dt"
   ]
  },
  {
   "cell_type": "code",
   "execution_count": null,
   "id": "7310edf8",
   "metadata": {},
   "outputs": [
    {
     "ename": "NameError",
     "evalue": "name 'time' is not defined",
     "output_type": "error",
     "traceback": [
      "\u001b[1;31m---------------------------------------------------------------------------\u001b[0m",
      "\u001b[1;31mNameError\u001b[0m                                 Traceback (most recent call last)",
      "Cell \u001b[1;32mIn[1], line 1\u001b[0m\n\u001b[1;32m----> 1\u001b[0m \u001b[43mtime\u001b[49m\u001b[38;5;241m.\u001b[39msleep(dt)\n",
      "\u001b[1;31mNameError\u001b[0m: name 'time' is not defined"
     ]
    }
   ],
   "source": [
    "time.sleep(dt)"
   ]
  },
  {
   "cell_type": "markdown",
   "id": "c850a8f3",
   "metadata": {},
   "source": [
    "&#169; Copyright 2025,  Michigan State University Board of Trustees"
   ]
  }
 ],
 "metadata": {
  "kernelspec": {
   "display_name": ".venv",
   "language": "python",
   "name": "python3"
  },
  "language_info": {
   "codemirror_mode": {
    "name": "ipython",
    "version": 3
   },
   "file_extension": ".py",
   "mimetype": "text/x-python",
   "name": "python",
   "nbconvert_exporter": "python",
   "pygments_lexer": "ipython3",
   "version": "3.12.5"
  }
 },
 "nbformat": 4,
 "nbformat_minor": 5
}
