{
 "cells": [
  {
   "cell_type": "markdown",
   "id": "e2fd6b91",
   "metadata": {},
   "source": [
    "### <p style=\"text-align: right;\"> &#9989; Andrew Koren.</p>"
   ]
  },
  {
   "cell_type": "markdown",
   "id": "ce08443c",
   "metadata": {},
   "source": [
    "# PHY480 Day 22\n",
    "\n",
    "## In-class assignment: Molecular dynamics simulations\n",
    "\n",
    "In this in-class assignment we start building code for molecular dynamics simulations, in particular, handling of the periodic and hard wall boundary conditions.\n"
   ]
  },
  {
   "cell_type": "code",
   "execution_count": 240,
   "id": "3ae7a94c",
   "metadata": {},
   "outputs": [],
   "source": [
    "import numpy as np\n",
    "import matplotlib.pyplot as plt\n",
    "%matplotlib inline\n"
   ]
  },
  {
   "cell_type": "markdown",
   "id": "52e6a8a0",
   "metadata": {},
   "source": [
    "Consider a system of particles in a box with sizes given by `lbox` array. Here we consider two-dimensional systems that can be easily illustrated, however, the code can be written to work in any dimensions, since the operations are done with vectors, so their sizes do not actually matter."
   ]
  },
  {
   "cell_type": "code",
   "execution_count": 241,
   "id": "2f002986",
   "metadata": {},
   "outputs": [],
   "source": [
    "### main parameters\n",
    "\n",
    "# dimension\n",
    "dim = 2\n",
    "\n",
    "# number of particles\n",
    "N = 10 # increase once the code is working properly\n",
    "\n",
    "# particle radius (for later plotting)\n",
    "radius = 0.1\n",
    "\n",
    "# box sizes (the size of this array should match \"dim\")\n",
    "lbox = np.array( [4.0,4.0] )\n",
    "\n",
    "# allocate arrays for the position r and velocity v,\n",
    "# the first index is particle index and the second is the vector component\n",
    "r = np.zeros( (N,dim) )\n",
    "v = np.zeros( (N,dim) )\n"
   ]
  },
  {
   "cell_type": "markdown",
   "id": "080ffbd5",
   "metadata": {},
   "source": [
    "**Task 1.** Write a function that initializes the positions of particles uniformly randomly in the given box."
   ]
  },
  {
   "cell_type": "code",
   "execution_count": 242,
   "id": "8db8125e",
   "metadata": {},
   "outputs": [],
   "source": [
    "# initialize particle positions\n",
    "# Input:\n",
    "# lbox -- array with sizes\n",
    "# r -- allocated array of shape N * dim,\n",
    "#      where N is the number of particles and dim is the dimensionality\n",
    "# Output:\n",
    "# the input r is changed\n",
    "def initial_r( lbox, r ):\n",
    "\n",
    "    r[:] = np.random.rand(*r.shape) * lbox"
   ]
  },
  {
   "cell_type": "markdown",
   "id": "2ee08970",
   "metadata": {},
   "source": [
    "**Task 2.** Write a similar function that initializes the velocity uniformly in the range $[-1,1]$. This is enough for testing purposes but in general we will need a Gaussian distribution.\n"
   ]
  },
  {
   "cell_type": "code",
   "execution_count": 243,
   "id": "0fe8dd44",
   "metadata": {},
   "outputs": [],
   "source": [
    "# initialize particle velocities\n",
    "# Input:\n",
    "# lbox -- array with sizes\n",
    "# v -- allocated array of shape N * dim,\n",
    "#      where N is the number of particles and dim is the dimensionality\n",
    "# Output:\n",
    "# the input v is changed\n",
    "def initial_v( lbox, v, sigma=1, mu=0 ):\n",
    "\n",
    "    #v[:] = np.random.rand(*v.shape) * 2 - 1\n",
    "    v[:] = sigma * np.random.randn(*v.shape) * lbox + mu"
   ]
  },
  {
   "cell_type": "markdown",
   "id": "ccc21e0f",
   "metadata": {},
   "source": [
    "**Task 3.** Write a function that updates the positions `r` based on the current value of `v`."
   ]
  },
  {
   "cell_type": "code",
   "execution_count": 244,
   "id": "4f75145f",
   "metadata": {},
   "outputs": [],
   "source": [
    "# propagate the particle positions by step dt\n",
    "# Input:\n",
    "# dt -- time step\n",
    "# r -- array with particle positions\n",
    "# v -- array with particle velocities\n",
    "# Output:\n",
    "# the input r is changed\n",
    "def update_r( dt, r, v ):\n",
    "\n",
    "    r[:] = r + v*dt"
   ]
  },
  {
   "cell_type": "markdown",
   "id": "ca686251",
   "metadata": {},
   "source": [
    "**Task 4.** Write a function that handles periodic boundary conditions, i.e. if it finds positions that are outside of the box, it folds them properly back in."
   ]
  },
  {
   "cell_type": "code",
   "execution_count": 245,
   "id": "5ad035dd",
   "metadata": {},
   "outputs": [],
   "source": [
    "# apply periodic boundary conditions\n",
    "# Input:\n",
    "# lbox -- array with sizes\n",
    "# r -- array with particle positions\n",
    "# v -- array with particle velocities\n",
    "# Output:\n",
    "# the input r is changed\n",
    "def boundary_periodic( lbox, r, v ):\n",
    "\n",
    "    r[:] = r % lbox"
   ]
  },
  {
   "cell_type": "markdown",
   "id": "923db51b",
   "metadata": {},
   "source": [
    "**Task 5.** Write a function that handles the hard wall boundary conditions."
   ]
  },
  {
   "cell_type": "code",
   "execution_count": 246,
   "id": "1268aa12",
   "metadata": {},
   "outputs": [],
   "source": [
    "# apply hard wall boundary conditions\n",
    "# Input:\n",
    "# lbox -- array with sizes\n",
    "# r -- array with particle positions\n",
    "# v -- array with particle velocities\n",
    "# Output:\n",
    "# the inputs r and v are changed\n",
    "def boundary_wall( lbox, r, v ):\n",
    "\n",
    "    # loop on particles and r components,\n",
    "    # if r is outside, reflect back in,\n",
    "    # reverse the velocity if needed\n",
    "    \n",
    "    #safety\n",
    "    if (abs(r - lbox/2) > lbox*1.5).any():\n",
    "        raise ValueError('full ring not implemented!')\n",
    "\n",
    "    #hard wall\n",
    "    v[r<0] *= -1\n",
    "    r[r<0] *= -1\n",
    "\n",
    "    v[r>lbox] *= -1\n",
    "    r[:] = np.where(r>lbox, 2*lbox-r, r)"
   ]
  },
  {
   "cell_type": "markdown",
   "id": "7d3b2b38",
   "metadata": {},
   "source": [
    "**Task 6.** Run a short simulation where the velocities are unchanged and the positions are propagated and debug your functions."
   ]
  },
  {
   "cell_type": "code",
   "execution_count": 219,
   "id": "b39248a8",
   "metadata": {},
   "outputs": [
    {
     "name": "stdout",
     "output_type": "stream",
     "text": [
      "12.5\n"
     ]
    }
   ],
   "source": [
    "from IPython.display import display, clear_output\n",
    "import time \n",
    "\n",
    "\n",
    "# for reproducibility\n",
    "np.random.seed(1)\n",
    "\n",
    "# time step\n",
    "fps = 100\n",
    "dt = 1/fps\n",
    "display_rate = 1\n",
    "\n",
    "\n",
    "# number of simulation steps\n",
    "runtime = 10 # seconds\n",
    "Nsim = int(runtime*fps)\n",
    "\n",
    "# initialize particle positions and velocities\n",
    "initial_r( lbox, r )\n",
    "initial_v( lbox, v )\n",
    "\n",
    "# periodic boundary conditions if True\n",
    "PBC = True\n",
    "boundary = [boundary_wall, boundary_periodic]\n",
    "\n",
    "fig, ax = plt.subplots(1,1)\n",
    "plt.xlim(0, lbox[0])\n",
    "plt.ylim(0, lbox[1])\n",
    "\n",
    "particle_plot = ax.scatter(r[:,0], r[:,1])\n",
    "a = time.time()\n",
    "\n",
    "# main simulation loop\n",
    "for i in range(Nsim):\n",
    "    # propagate positions r\n",
    "    update_r( dt, r, v)\n",
    "    # apply boundary conditions\n",
    "    boundary[PBC](lbox, r, v)\n",
    "\n",
    "    # true live display, not ideal for more complex calculations\n",
    "    clear_output(wait=True) \n",
    "    b = time.time()\n",
    "    if i % display_rate == 0:\n",
    "        particle_plot.set_offsets(r)\n",
    "        if b - a < dt*display_rate:\n",
    "            time.sleep(dt*display_rate-(b-a))\n",
    "            a = time.time()\n",
    "            display(fig)  \n",
    "        else:\n",
    "            display_rate += 1        \n",
    "\n",
    "print(fps/display_rate)\n",
    "plt.close()"
   ]
  },
  {
   "cell_type": "markdown",
   "id": "eaf0a4ab",
   "metadata": {},
   "source": [
    "# Alternative Display"
   ]
  },
  {
   "cell_type": "code",
   "execution_count": 267,
   "id": "41c7a3a6",
   "metadata": {},
   "outputs": [
    {
     "name": "stdout",
     "output_type": "stream",
     "text": [
      "0.01 s per frame\n",
      "1000 frames\n"
     ]
    }
   ],
   "source": [
    "## Parameters\n",
    "\n",
    "PBC = False\n",
    "runtime = 10 # seconds\n",
    "fps = 100\n",
    "\n",
    "capture_period = max((1, int(fps/60)))\n",
    "\n",
    "\n",
    "dt = 1/fps\n",
    "Nsim = int(runtime*fps)\n",
    "\n",
    "print(dt, 's per frame')\n",
    "print(Nsim, 'frames')"
   ]
  },
  {
   "cell_type": "code",
   "execution_count": 268,
   "id": "138cdc6b",
   "metadata": {},
   "outputs": [
    {
     "ename": "KeyboardInterrupt",
     "evalue": "",
     "output_type": "error",
     "traceback": [
      "\u001b[1;31m---------------------------------------------------------------------------\u001b[0m",
      "\u001b[1;31mKeyboardInterrupt\u001b[0m                         Traceback (most recent call last)",
      "Cell \u001b[1;32mIn[268], line 43\u001b[0m\n\u001b[0;32m     40\u001b[0m plt\u001b[38;5;241m.\u001b[39mclose(fig) \u001b[38;5;66;03m## needed to stop another static image from being displayed\u001b[39;00m\n\u001b[0;32m     42\u001b[0m \u001b[38;5;66;03m# Display the animation in the notebook\u001b[39;00m\n\u001b[1;32m---> 43\u001b[0m HTML(\u001b[43mani\u001b[49m\u001b[38;5;241;43m.\u001b[39;49m\u001b[43mto_jshtml\u001b[49m\u001b[43m(\u001b[49m\u001b[43m)\u001b[49m)\n",
      "File \u001b[1;32mc:\\Users\\andre\\OneDrive\\Documents\\koolis\\cautious-adventure\\.venv\\Lib\\site-packages\\matplotlib\\animation.py:1333\u001b[0m, in \u001b[0;36mAnimation.to_jshtml\u001b[1;34m(self, fps, embed_frames, default_mode)\u001b[0m\n\u001b[0;32m   1329\u001b[0m         path \u001b[38;5;241m=\u001b[39m Path(tmpdir, \u001b[38;5;124m\"\u001b[39m\u001b[38;5;124mtemp.html\u001b[39m\u001b[38;5;124m\"\u001b[39m)\n\u001b[0;32m   1330\u001b[0m         writer \u001b[38;5;241m=\u001b[39m HTMLWriter(fps\u001b[38;5;241m=\u001b[39mfps,\n\u001b[0;32m   1331\u001b[0m                             embed_frames\u001b[38;5;241m=\u001b[39membed_frames,\n\u001b[0;32m   1332\u001b[0m                             default_mode\u001b[38;5;241m=\u001b[39mdefault_mode)\n\u001b[1;32m-> 1333\u001b[0m         \u001b[38;5;28;43mself\u001b[39;49m\u001b[38;5;241;43m.\u001b[39;49m\u001b[43msave\u001b[49m\u001b[43m(\u001b[49m\u001b[38;5;28;43mstr\u001b[39;49m\u001b[43m(\u001b[49m\u001b[43mpath\u001b[49m\u001b[43m)\u001b[49m\u001b[43m,\u001b[49m\u001b[43m \u001b[49m\u001b[43mwriter\u001b[49m\u001b[38;5;241;43m=\u001b[39;49m\u001b[43mwriter\u001b[49m\u001b[43m)\u001b[49m\n\u001b[0;32m   1334\u001b[0m         \u001b[38;5;28mself\u001b[39m\u001b[38;5;241m.\u001b[39m_html_representation \u001b[38;5;241m=\u001b[39m path\u001b[38;5;241m.\u001b[39mread_text()\n\u001b[0;32m   1336\u001b[0m \u001b[38;5;28;01mreturn\u001b[39;00m \u001b[38;5;28mself\u001b[39m\u001b[38;5;241m.\u001b[39m_html_representation\n",
      "File \u001b[1;32mc:\\Users\\andre\\OneDrive\\Documents\\koolis\\cautious-adventure\\.venv\\Lib\\site-packages\\matplotlib\\animation.py:1085\u001b[0m, in \u001b[0;36mAnimation.save\u001b[1;34m(self, filename, writer, fps, dpi, codec, bitrate, extra_args, metadata, extra_anim, savefig_kwargs, progress_callback)\u001b[0m\n\u001b[0;32m   1082\u001b[0m \u001b[38;5;28;01mfor\u001b[39;00m data \u001b[38;5;129;01min\u001b[39;00m \u001b[38;5;28mzip\u001b[39m(\u001b[38;5;241m*\u001b[39m[a\u001b[38;5;241m.\u001b[39mnew_saved_frame_seq() \u001b[38;5;28;01mfor\u001b[39;00m a \u001b[38;5;129;01min\u001b[39;00m all_anim]):\n\u001b[0;32m   1083\u001b[0m     \u001b[38;5;28;01mfor\u001b[39;00m anim, d \u001b[38;5;129;01min\u001b[39;00m \u001b[38;5;28mzip\u001b[39m(all_anim, data):\n\u001b[0;32m   1084\u001b[0m         \u001b[38;5;66;03m# TODO: See if turning off blit is really necessary\u001b[39;00m\n\u001b[1;32m-> 1085\u001b[0m         \u001b[43manim\u001b[49m\u001b[38;5;241;43m.\u001b[39;49m\u001b[43m_draw_next_frame\u001b[49m\u001b[43m(\u001b[49m\u001b[43md\u001b[49m\u001b[43m,\u001b[49m\u001b[43m \u001b[49m\u001b[43mblit\u001b[49m\u001b[38;5;241;43m=\u001b[39;49m\u001b[38;5;28;43;01mFalse\u001b[39;49;00m\u001b[43m)\u001b[49m\n\u001b[0;32m   1086\u001b[0m         \u001b[38;5;28;01mif\u001b[39;00m progress_callback \u001b[38;5;129;01mis\u001b[39;00m \u001b[38;5;129;01mnot\u001b[39;00m \u001b[38;5;28;01mNone\u001b[39;00m:\n\u001b[0;32m   1087\u001b[0m             progress_callback(frame_number, total_frames)\n",
      "File \u001b[1;32mc:\\Users\\andre\\OneDrive\\Documents\\koolis\\cautious-adventure\\.venv\\Lib\\site-packages\\matplotlib\\animation.py:1121\u001b[0m, in \u001b[0;36mAnimation._draw_next_frame\u001b[1;34m(self, framedata, blit)\u001b[0m\n\u001b[0;32m   1119\u001b[0m \u001b[38;5;28mself\u001b[39m\u001b[38;5;241m.\u001b[39m_pre_draw(framedata, blit)\n\u001b[0;32m   1120\u001b[0m \u001b[38;5;28mself\u001b[39m\u001b[38;5;241m.\u001b[39m_draw_frame(framedata)\n\u001b[1;32m-> 1121\u001b[0m \u001b[38;5;28;43mself\u001b[39;49m\u001b[38;5;241;43m.\u001b[39;49m\u001b[43m_post_draw\u001b[49m\u001b[43m(\u001b[49m\u001b[43mframedata\u001b[49m\u001b[43m,\u001b[49m\u001b[43m \u001b[49m\u001b[43mblit\u001b[49m\u001b[43m)\u001b[49m\n",
      "File \u001b[1;32mc:\\Users\\andre\\OneDrive\\Documents\\koolis\\cautious-adventure\\.venv\\Lib\\site-packages\\matplotlib\\animation.py:1146\u001b[0m, in \u001b[0;36mAnimation._post_draw\u001b[1;34m(self, framedata, blit)\u001b[0m\n\u001b[0;32m   1144\u001b[0m     \u001b[38;5;28mself\u001b[39m\u001b[38;5;241m.\u001b[39m_blit_draw(\u001b[38;5;28mself\u001b[39m\u001b[38;5;241m.\u001b[39m_drawn_artists)\n\u001b[0;32m   1145\u001b[0m \u001b[38;5;28;01melse\u001b[39;00m:\n\u001b[1;32m-> 1146\u001b[0m     \u001b[38;5;28;43mself\u001b[39;49m\u001b[38;5;241;43m.\u001b[39;49m\u001b[43m_fig\u001b[49m\u001b[38;5;241;43m.\u001b[39;49m\u001b[43mcanvas\u001b[49m\u001b[38;5;241;43m.\u001b[39;49m\u001b[43mdraw_idle\u001b[49m\u001b[43m(\u001b[49m\u001b[43m)\u001b[49m\n",
      "File \u001b[1;32mc:\\Users\\andre\\OneDrive\\Documents\\koolis\\cautious-adventure\\.venv\\Lib\\site-packages\\matplotlib\\backend_bases.py:1905\u001b[0m, in \u001b[0;36mFigureCanvasBase.draw_idle\u001b[1;34m(self, *args, **kwargs)\u001b[0m\n\u001b[0;32m   1903\u001b[0m \u001b[38;5;28;01mif\u001b[39;00m \u001b[38;5;129;01mnot\u001b[39;00m \u001b[38;5;28mself\u001b[39m\u001b[38;5;241m.\u001b[39m_is_idle_drawing:\n\u001b[0;32m   1904\u001b[0m     \u001b[38;5;28;01mwith\u001b[39;00m \u001b[38;5;28mself\u001b[39m\u001b[38;5;241m.\u001b[39m_idle_draw_cntx():\n\u001b[1;32m-> 1905\u001b[0m         \u001b[38;5;28;43mself\u001b[39;49m\u001b[38;5;241;43m.\u001b[39;49m\u001b[43mdraw\u001b[49m\u001b[43m(\u001b[49m\u001b[38;5;241;43m*\u001b[39;49m\u001b[43margs\u001b[49m\u001b[43m,\u001b[49m\u001b[43m \u001b[49m\u001b[38;5;241;43m*\u001b[39;49m\u001b[38;5;241;43m*\u001b[39;49m\u001b[43mkwargs\u001b[49m\u001b[43m)\u001b[49m\n",
      "File \u001b[1;32mc:\\Users\\andre\\OneDrive\\Documents\\koolis\\cautious-adventure\\.venv\\Lib\\site-packages\\matplotlib\\backends\\backend_agg.py:387\u001b[0m, in \u001b[0;36mFigureCanvasAgg.draw\u001b[1;34m(self)\u001b[0m\n\u001b[0;32m    384\u001b[0m \u001b[38;5;66;03m# Acquire a lock on the shared font cache.\u001b[39;00m\n\u001b[0;32m    385\u001b[0m \u001b[38;5;28;01mwith\u001b[39;00m (\u001b[38;5;28mself\u001b[39m\u001b[38;5;241m.\u001b[39mtoolbar\u001b[38;5;241m.\u001b[39m_wait_cursor_for_draw_cm() \u001b[38;5;28;01mif\u001b[39;00m \u001b[38;5;28mself\u001b[39m\u001b[38;5;241m.\u001b[39mtoolbar\n\u001b[0;32m    386\u001b[0m       \u001b[38;5;28;01melse\u001b[39;00m nullcontext()):\n\u001b[1;32m--> 387\u001b[0m     \u001b[38;5;28;43mself\u001b[39;49m\u001b[38;5;241;43m.\u001b[39;49m\u001b[43mfigure\u001b[49m\u001b[38;5;241;43m.\u001b[39;49m\u001b[43mdraw\u001b[49m\u001b[43m(\u001b[49m\u001b[38;5;28;43mself\u001b[39;49m\u001b[38;5;241;43m.\u001b[39;49m\u001b[43mrenderer\u001b[49m\u001b[43m)\u001b[49m\n\u001b[0;32m    388\u001b[0m     \u001b[38;5;66;03m# A GUI class may be need to update a window using this draw, so\u001b[39;00m\n\u001b[0;32m    389\u001b[0m     \u001b[38;5;66;03m# don't forget to call the superclass.\u001b[39;00m\n\u001b[0;32m    390\u001b[0m     \u001b[38;5;28msuper\u001b[39m()\u001b[38;5;241m.\u001b[39mdraw()\n",
      "File \u001b[1;32mc:\\Users\\andre\\OneDrive\\Documents\\koolis\\cautious-adventure\\.venv\\Lib\\site-packages\\matplotlib\\artist.py:95\u001b[0m, in \u001b[0;36m_finalize_rasterization.<locals>.draw_wrapper\u001b[1;34m(artist, renderer, *args, **kwargs)\u001b[0m\n\u001b[0;32m     93\u001b[0m \u001b[38;5;129m@wraps\u001b[39m(draw)\n\u001b[0;32m     94\u001b[0m \u001b[38;5;28;01mdef\u001b[39;00m \u001b[38;5;21mdraw_wrapper\u001b[39m(artist, renderer, \u001b[38;5;241m*\u001b[39margs, \u001b[38;5;241m*\u001b[39m\u001b[38;5;241m*\u001b[39mkwargs):\n\u001b[1;32m---> 95\u001b[0m     result \u001b[38;5;241m=\u001b[39m \u001b[43mdraw\u001b[49m\u001b[43m(\u001b[49m\u001b[43martist\u001b[49m\u001b[43m,\u001b[49m\u001b[43m \u001b[49m\u001b[43mrenderer\u001b[49m\u001b[43m,\u001b[49m\u001b[43m \u001b[49m\u001b[38;5;241;43m*\u001b[39;49m\u001b[43margs\u001b[49m\u001b[43m,\u001b[49m\u001b[43m \u001b[49m\u001b[38;5;241;43m*\u001b[39;49m\u001b[38;5;241;43m*\u001b[39;49m\u001b[43mkwargs\u001b[49m\u001b[43m)\u001b[49m\n\u001b[0;32m     96\u001b[0m     \u001b[38;5;28;01mif\u001b[39;00m renderer\u001b[38;5;241m.\u001b[39m_rasterizing:\n\u001b[0;32m     97\u001b[0m         renderer\u001b[38;5;241m.\u001b[39mstop_rasterizing()\n",
      "File \u001b[1;32mc:\\Users\\andre\\OneDrive\\Documents\\koolis\\cautious-adventure\\.venv\\Lib\\site-packages\\matplotlib\\artist.py:72\u001b[0m, in \u001b[0;36mallow_rasterization.<locals>.draw_wrapper\u001b[1;34m(artist, renderer)\u001b[0m\n\u001b[0;32m     69\u001b[0m     \u001b[38;5;28;01mif\u001b[39;00m artist\u001b[38;5;241m.\u001b[39mget_agg_filter() \u001b[38;5;129;01mis\u001b[39;00m \u001b[38;5;129;01mnot\u001b[39;00m \u001b[38;5;28;01mNone\u001b[39;00m:\n\u001b[0;32m     70\u001b[0m         renderer\u001b[38;5;241m.\u001b[39mstart_filter()\n\u001b[1;32m---> 72\u001b[0m     \u001b[38;5;28;01mreturn\u001b[39;00m \u001b[43mdraw\u001b[49m\u001b[43m(\u001b[49m\u001b[43martist\u001b[49m\u001b[43m,\u001b[49m\u001b[43m \u001b[49m\u001b[43mrenderer\u001b[49m\u001b[43m)\u001b[49m\n\u001b[0;32m     73\u001b[0m \u001b[38;5;28;01mfinally\u001b[39;00m:\n\u001b[0;32m     74\u001b[0m     \u001b[38;5;28;01mif\u001b[39;00m artist\u001b[38;5;241m.\u001b[39mget_agg_filter() \u001b[38;5;129;01mis\u001b[39;00m \u001b[38;5;129;01mnot\u001b[39;00m \u001b[38;5;28;01mNone\u001b[39;00m:\n",
      "File \u001b[1;32mc:\\Users\\andre\\OneDrive\\Documents\\koolis\\cautious-adventure\\.venv\\Lib\\site-packages\\matplotlib\\figure.py:3162\u001b[0m, in \u001b[0;36mFigure.draw\u001b[1;34m(self, renderer)\u001b[0m\n\u001b[0;32m   3159\u001b[0m             \u001b[38;5;66;03m# ValueError can occur when resizing a window.\u001b[39;00m\n\u001b[0;32m   3161\u001b[0m     \u001b[38;5;28mself\u001b[39m\u001b[38;5;241m.\u001b[39mpatch\u001b[38;5;241m.\u001b[39mdraw(renderer)\n\u001b[1;32m-> 3162\u001b[0m     \u001b[43mmimage\u001b[49m\u001b[38;5;241;43m.\u001b[39;49m\u001b[43m_draw_list_compositing_images\u001b[49m\u001b[43m(\u001b[49m\n\u001b[0;32m   3163\u001b[0m \u001b[43m        \u001b[49m\u001b[43mrenderer\u001b[49m\u001b[43m,\u001b[49m\u001b[43m \u001b[49m\u001b[38;5;28;43mself\u001b[39;49m\u001b[43m,\u001b[49m\u001b[43m \u001b[49m\u001b[43martists\u001b[49m\u001b[43m,\u001b[49m\u001b[43m \u001b[49m\u001b[38;5;28;43mself\u001b[39;49m\u001b[38;5;241;43m.\u001b[39;49m\u001b[43msuppressComposite\u001b[49m\u001b[43m)\u001b[49m\n\u001b[0;32m   3165\u001b[0m     renderer\u001b[38;5;241m.\u001b[39mclose_group(\u001b[38;5;124m'\u001b[39m\u001b[38;5;124mfigure\u001b[39m\u001b[38;5;124m'\u001b[39m)\n\u001b[0;32m   3166\u001b[0m \u001b[38;5;28;01mfinally\u001b[39;00m:\n",
      "File \u001b[1;32mc:\\Users\\andre\\OneDrive\\Documents\\koolis\\cautious-adventure\\.venv\\Lib\\site-packages\\matplotlib\\image.py:132\u001b[0m, in \u001b[0;36m_draw_list_compositing_images\u001b[1;34m(renderer, parent, artists, suppress_composite)\u001b[0m\n\u001b[0;32m    130\u001b[0m \u001b[38;5;28;01mif\u001b[39;00m not_composite \u001b[38;5;129;01mor\u001b[39;00m \u001b[38;5;129;01mnot\u001b[39;00m has_images:\n\u001b[0;32m    131\u001b[0m     \u001b[38;5;28;01mfor\u001b[39;00m a \u001b[38;5;129;01min\u001b[39;00m artists:\n\u001b[1;32m--> 132\u001b[0m         \u001b[43ma\u001b[49m\u001b[38;5;241;43m.\u001b[39;49m\u001b[43mdraw\u001b[49m\u001b[43m(\u001b[49m\u001b[43mrenderer\u001b[49m\u001b[43m)\u001b[49m\n\u001b[0;32m    133\u001b[0m \u001b[38;5;28;01melse\u001b[39;00m:\n\u001b[0;32m    134\u001b[0m     \u001b[38;5;66;03m# Composite any adjacent images together\u001b[39;00m\n\u001b[0;32m    135\u001b[0m     image_group \u001b[38;5;241m=\u001b[39m []\n",
      "File \u001b[1;32mc:\\Users\\andre\\OneDrive\\Documents\\koolis\\cautious-adventure\\.venv\\Lib\\site-packages\\matplotlib\\artist.py:72\u001b[0m, in \u001b[0;36mallow_rasterization.<locals>.draw_wrapper\u001b[1;34m(artist, renderer)\u001b[0m\n\u001b[0;32m     69\u001b[0m     \u001b[38;5;28;01mif\u001b[39;00m artist\u001b[38;5;241m.\u001b[39mget_agg_filter() \u001b[38;5;129;01mis\u001b[39;00m \u001b[38;5;129;01mnot\u001b[39;00m \u001b[38;5;28;01mNone\u001b[39;00m:\n\u001b[0;32m     70\u001b[0m         renderer\u001b[38;5;241m.\u001b[39mstart_filter()\n\u001b[1;32m---> 72\u001b[0m     \u001b[38;5;28;01mreturn\u001b[39;00m \u001b[43mdraw\u001b[49m\u001b[43m(\u001b[49m\u001b[43martist\u001b[49m\u001b[43m,\u001b[49m\u001b[43m \u001b[49m\u001b[43mrenderer\u001b[49m\u001b[43m)\u001b[49m\n\u001b[0;32m     73\u001b[0m \u001b[38;5;28;01mfinally\u001b[39;00m:\n\u001b[0;32m     74\u001b[0m     \u001b[38;5;28;01mif\u001b[39;00m artist\u001b[38;5;241m.\u001b[39mget_agg_filter() \u001b[38;5;129;01mis\u001b[39;00m \u001b[38;5;129;01mnot\u001b[39;00m \u001b[38;5;28;01mNone\u001b[39;00m:\n",
      "File \u001b[1;32mc:\\Users\\andre\\OneDrive\\Documents\\koolis\\cautious-adventure\\.venv\\Lib\\site-packages\\matplotlib\\axes\\_base.py:3137\u001b[0m, in \u001b[0;36m_AxesBase.draw\u001b[1;34m(self, renderer)\u001b[0m\n\u001b[0;32m   3134\u001b[0m \u001b[38;5;28;01mif\u001b[39;00m artists_rasterized:\n\u001b[0;32m   3135\u001b[0m     _draw_rasterized(\u001b[38;5;28mself\u001b[39m\u001b[38;5;241m.\u001b[39mfigure, artists_rasterized, renderer)\n\u001b[1;32m-> 3137\u001b[0m \u001b[43mmimage\u001b[49m\u001b[38;5;241;43m.\u001b[39;49m\u001b[43m_draw_list_compositing_images\u001b[49m\u001b[43m(\u001b[49m\n\u001b[0;32m   3138\u001b[0m \u001b[43m    \u001b[49m\u001b[43mrenderer\u001b[49m\u001b[43m,\u001b[49m\u001b[43m \u001b[49m\u001b[38;5;28;43mself\u001b[39;49m\u001b[43m,\u001b[49m\u001b[43m \u001b[49m\u001b[43martists\u001b[49m\u001b[43m,\u001b[49m\u001b[43m \u001b[49m\u001b[38;5;28;43mself\u001b[39;49m\u001b[38;5;241;43m.\u001b[39;49m\u001b[43mfigure\u001b[49m\u001b[38;5;241;43m.\u001b[39;49m\u001b[43msuppressComposite\u001b[49m\u001b[43m)\u001b[49m\n\u001b[0;32m   3140\u001b[0m renderer\u001b[38;5;241m.\u001b[39mclose_group(\u001b[38;5;124m'\u001b[39m\u001b[38;5;124maxes\u001b[39m\u001b[38;5;124m'\u001b[39m)\n\u001b[0;32m   3141\u001b[0m \u001b[38;5;28mself\u001b[39m\u001b[38;5;241m.\u001b[39mstale \u001b[38;5;241m=\u001b[39m \u001b[38;5;28;01mFalse\u001b[39;00m\n",
      "File \u001b[1;32mc:\\Users\\andre\\OneDrive\\Documents\\koolis\\cautious-adventure\\.venv\\Lib\\site-packages\\matplotlib\\image.py:132\u001b[0m, in \u001b[0;36m_draw_list_compositing_images\u001b[1;34m(renderer, parent, artists, suppress_composite)\u001b[0m\n\u001b[0;32m    130\u001b[0m \u001b[38;5;28;01mif\u001b[39;00m not_composite \u001b[38;5;129;01mor\u001b[39;00m \u001b[38;5;129;01mnot\u001b[39;00m has_images:\n\u001b[0;32m    131\u001b[0m     \u001b[38;5;28;01mfor\u001b[39;00m a \u001b[38;5;129;01min\u001b[39;00m artists:\n\u001b[1;32m--> 132\u001b[0m         \u001b[43ma\u001b[49m\u001b[38;5;241;43m.\u001b[39;49m\u001b[43mdraw\u001b[49m\u001b[43m(\u001b[49m\u001b[43mrenderer\u001b[49m\u001b[43m)\u001b[49m\n\u001b[0;32m    133\u001b[0m \u001b[38;5;28;01melse\u001b[39;00m:\n\u001b[0;32m    134\u001b[0m     \u001b[38;5;66;03m# Composite any adjacent images together\u001b[39;00m\n\u001b[0;32m    135\u001b[0m     image_group \u001b[38;5;241m=\u001b[39m []\n",
      "File \u001b[1;32mc:\\Users\\andre\\OneDrive\\Documents\\koolis\\cautious-adventure\\.venv\\Lib\\site-packages\\matplotlib\\artist.py:72\u001b[0m, in \u001b[0;36mallow_rasterization.<locals>.draw_wrapper\u001b[1;34m(artist, renderer)\u001b[0m\n\u001b[0;32m     69\u001b[0m     \u001b[38;5;28;01mif\u001b[39;00m artist\u001b[38;5;241m.\u001b[39mget_agg_filter() \u001b[38;5;129;01mis\u001b[39;00m \u001b[38;5;129;01mnot\u001b[39;00m \u001b[38;5;28;01mNone\u001b[39;00m:\n\u001b[0;32m     70\u001b[0m         renderer\u001b[38;5;241m.\u001b[39mstart_filter()\n\u001b[1;32m---> 72\u001b[0m     \u001b[38;5;28;01mreturn\u001b[39;00m \u001b[43mdraw\u001b[49m\u001b[43m(\u001b[49m\u001b[43martist\u001b[49m\u001b[43m,\u001b[49m\u001b[43m \u001b[49m\u001b[43mrenderer\u001b[49m\u001b[43m)\u001b[49m\n\u001b[0;32m     73\u001b[0m \u001b[38;5;28;01mfinally\u001b[39;00m:\n\u001b[0;32m     74\u001b[0m     \u001b[38;5;28;01mif\u001b[39;00m artist\u001b[38;5;241m.\u001b[39mget_agg_filter() \u001b[38;5;129;01mis\u001b[39;00m \u001b[38;5;129;01mnot\u001b[39;00m \u001b[38;5;28;01mNone\u001b[39;00m:\n",
      "File \u001b[1;32mc:\\Users\\andre\\OneDrive\\Documents\\koolis\\cautious-adventure\\.venv\\Lib\\site-packages\\matplotlib\\axis.py:1427\u001b[0m, in \u001b[0;36mAxis.draw\u001b[1;34m(self, renderer)\u001b[0m\n\u001b[0;32m   1424\u001b[0m tlb1, tlb2 \u001b[38;5;241m=\u001b[39m \u001b[38;5;28mself\u001b[39m\u001b[38;5;241m.\u001b[39m_get_ticklabel_bboxes(ticks_to_draw, renderer)\n\u001b[0;32m   1426\u001b[0m \u001b[38;5;28;01mfor\u001b[39;00m tick \u001b[38;5;129;01min\u001b[39;00m ticks_to_draw:\n\u001b[1;32m-> 1427\u001b[0m     \u001b[43mtick\u001b[49m\u001b[38;5;241;43m.\u001b[39;49m\u001b[43mdraw\u001b[49m\u001b[43m(\u001b[49m\u001b[43mrenderer\u001b[49m\u001b[43m)\u001b[49m\n\u001b[0;32m   1429\u001b[0m \u001b[38;5;66;03m# Shift label away from axes to avoid overlapping ticklabels.\u001b[39;00m\n\u001b[0;32m   1430\u001b[0m \u001b[38;5;28mself\u001b[39m\u001b[38;5;241m.\u001b[39m_update_label_position(renderer)\n",
      "File \u001b[1;32mc:\\Users\\andre\\OneDrive\\Documents\\koolis\\cautious-adventure\\.venv\\Lib\\site-packages\\matplotlib\\artist.py:72\u001b[0m, in \u001b[0;36mallow_rasterization.<locals>.draw_wrapper\u001b[1;34m(artist, renderer)\u001b[0m\n\u001b[0;32m     69\u001b[0m     \u001b[38;5;28;01mif\u001b[39;00m artist\u001b[38;5;241m.\u001b[39mget_agg_filter() \u001b[38;5;129;01mis\u001b[39;00m \u001b[38;5;129;01mnot\u001b[39;00m \u001b[38;5;28;01mNone\u001b[39;00m:\n\u001b[0;32m     70\u001b[0m         renderer\u001b[38;5;241m.\u001b[39mstart_filter()\n\u001b[1;32m---> 72\u001b[0m     \u001b[38;5;28;01mreturn\u001b[39;00m \u001b[43mdraw\u001b[49m\u001b[43m(\u001b[49m\u001b[43martist\u001b[49m\u001b[43m,\u001b[49m\u001b[43m \u001b[49m\u001b[43mrenderer\u001b[49m\u001b[43m)\u001b[49m\n\u001b[0;32m     73\u001b[0m \u001b[38;5;28;01mfinally\u001b[39;00m:\n\u001b[0;32m     74\u001b[0m     \u001b[38;5;28;01mif\u001b[39;00m artist\u001b[38;5;241m.\u001b[39mget_agg_filter() \u001b[38;5;129;01mis\u001b[39;00m \u001b[38;5;129;01mnot\u001b[39;00m \u001b[38;5;28;01mNone\u001b[39;00m:\n",
      "File \u001b[1;32mc:\\Users\\andre\\OneDrive\\Documents\\koolis\\cautious-adventure\\.venv\\Lib\\site-packages\\matplotlib\\axis.py:277\u001b[0m, in \u001b[0;36mTick.draw\u001b[1;34m(self, renderer)\u001b[0m\n\u001b[0;32m    274\u001b[0m renderer\u001b[38;5;241m.\u001b[39mopen_group(\u001b[38;5;28mself\u001b[39m\u001b[38;5;241m.\u001b[39m\u001b[38;5;18m__name__\u001b[39m, gid\u001b[38;5;241m=\u001b[39m\u001b[38;5;28mself\u001b[39m\u001b[38;5;241m.\u001b[39mget_gid())\n\u001b[0;32m    275\u001b[0m \u001b[38;5;28;01mfor\u001b[39;00m artist \u001b[38;5;129;01min\u001b[39;00m [\u001b[38;5;28mself\u001b[39m\u001b[38;5;241m.\u001b[39mgridline, \u001b[38;5;28mself\u001b[39m\u001b[38;5;241m.\u001b[39mtick1line, \u001b[38;5;28mself\u001b[39m\u001b[38;5;241m.\u001b[39mtick2line,\n\u001b[0;32m    276\u001b[0m                \u001b[38;5;28mself\u001b[39m\u001b[38;5;241m.\u001b[39mlabel1, \u001b[38;5;28mself\u001b[39m\u001b[38;5;241m.\u001b[39mlabel2]:\n\u001b[1;32m--> 277\u001b[0m     \u001b[43martist\u001b[49m\u001b[38;5;241;43m.\u001b[39;49m\u001b[43mdraw\u001b[49m\u001b[43m(\u001b[49m\u001b[43mrenderer\u001b[49m\u001b[43m)\u001b[49m\n\u001b[0;32m    278\u001b[0m renderer\u001b[38;5;241m.\u001b[39mclose_group(\u001b[38;5;28mself\u001b[39m\u001b[38;5;241m.\u001b[39m\u001b[38;5;18m__name__\u001b[39m)\n\u001b[0;32m    279\u001b[0m \u001b[38;5;28mself\u001b[39m\u001b[38;5;241m.\u001b[39mstale \u001b[38;5;241m=\u001b[39m \u001b[38;5;28;01mFalse\u001b[39;00m\n",
      "File \u001b[1;32mc:\\Users\\andre\\OneDrive\\Documents\\koolis\\cautious-adventure\\.venv\\Lib\\site-packages\\matplotlib\\artist.py:72\u001b[0m, in \u001b[0;36mallow_rasterization.<locals>.draw_wrapper\u001b[1;34m(artist, renderer)\u001b[0m\n\u001b[0;32m     69\u001b[0m     \u001b[38;5;28;01mif\u001b[39;00m artist\u001b[38;5;241m.\u001b[39mget_agg_filter() \u001b[38;5;129;01mis\u001b[39;00m \u001b[38;5;129;01mnot\u001b[39;00m \u001b[38;5;28;01mNone\u001b[39;00m:\n\u001b[0;32m     70\u001b[0m         renderer\u001b[38;5;241m.\u001b[39mstart_filter()\n\u001b[1;32m---> 72\u001b[0m     \u001b[38;5;28;01mreturn\u001b[39;00m \u001b[43mdraw\u001b[49m\u001b[43m(\u001b[49m\u001b[43martist\u001b[49m\u001b[43m,\u001b[49m\u001b[43m \u001b[49m\u001b[43mrenderer\u001b[49m\u001b[43m)\u001b[49m\n\u001b[0;32m     73\u001b[0m \u001b[38;5;28;01mfinally\u001b[39;00m:\n\u001b[0;32m     74\u001b[0m     \u001b[38;5;28;01mif\u001b[39;00m artist\u001b[38;5;241m.\u001b[39mget_agg_filter() \u001b[38;5;129;01mis\u001b[39;00m \u001b[38;5;129;01mnot\u001b[39;00m \u001b[38;5;28;01mNone\u001b[39;00m:\n",
      "File \u001b[1;32mc:\\Users\\andre\\OneDrive\\Documents\\koolis\\cautious-adventure\\.venv\\Lib\\site-packages\\matplotlib\\text.py:800\u001b[0m, in \u001b[0;36mText.draw\u001b[1;34m(self, renderer)\u001b[0m\n\u001b[0;32m    796\u001b[0m             textrenderer\u001b[38;5;241m.\u001b[39mdraw_tex(gc, x, y, clean_line,\n\u001b[0;32m    797\u001b[0m                                   \u001b[38;5;28mself\u001b[39m\u001b[38;5;241m.\u001b[39m_fontproperties, angle,\n\u001b[0;32m    798\u001b[0m                                   mtext\u001b[38;5;241m=\u001b[39mmtext)\n\u001b[0;32m    799\u001b[0m         \u001b[38;5;28;01melse\u001b[39;00m:\n\u001b[1;32m--> 800\u001b[0m             \u001b[43mtextrenderer\u001b[49m\u001b[38;5;241;43m.\u001b[39;49m\u001b[43mdraw_text\u001b[49m\u001b[43m(\u001b[49m\u001b[43mgc\u001b[49m\u001b[43m,\u001b[49m\u001b[43m \u001b[49m\u001b[43mx\u001b[49m\u001b[43m,\u001b[49m\u001b[43m \u001b[49m\u001b[43my\u001b[49m\u001b[43m,\u001b[49m\u001b[43m \u001b[49m\u001b[43mclean_line\u001b[49m\u001b[43m,\u001b[49m\n\u001b[0;32m    801\u001b[0m \u001b[43m                                   \u001b[49m\u001b[38;5;28;43mself\u001b[39;49m\u001b[38;5;241;43m.\u001b[39;49m\u001b[43m_fontproperties\u001b[49m\u001b[43m,\u001b[49m\u001b[43m \u001b[49m\u001b[43mangle\u001b[49m\u001b[43m,\u001b[49m\n\u001b[0;32m    802\u001b[0m \u001b[43m                                   \u001b[49m\u001b[43mismath\u001b[49m\u001b[38;5;241;43m=\u001b[39;49m\u001b[43mismath\u001b[49m\u001b[43m,\u001b[49m\u001b[43m \u001b[49m\u001b[43mmtext\u001b[49m\u001b[38;5;241;43m=\u001b[39;49m\u001b[43mmtext\u001b[49m\u001b[43m)\u001b[49m\n\u001b[0;32m    804\u001b[0m gc\u001b[38;5;241m.\u001b[39mrestore()\n\u001b[0;32m    805\u001b[0m renderer\u001b[38;5;241m.\u001b[39mclose_group(\u001b[38;5;124m'\u001b[39m\u001b[38;5;124mtext\u001b[39m\u001b[38;5;124m'\u001b[39m)\n",
      "File \u001b[1;32mc:\\Users\\andre\\OneDrive\\Documents\\koolis\\cautious-adventure\\.venv\\Lib\\site-packages\\matplotlib\\backends\\backend_agg.py:193\u001b[0m, in \u001b[0;36mRendererAgg.draw_text\u001b[1;34m(self, gc, x, y, s, prop, angle, ismath, mtext)\u001b[0m\n\u001b[0;32m    190\u001b[0m font \u001b[38;5;241m=\u001b[39m \u001b[38;5;28mself\u001b[39m\u001b[38;5;241m.\u001b[39m_prepare_font(prop)\n\u001b[0;32m    191\u001b[0m \u001b[38;5;66;03m# We pass '0' for angle here, since it will be rotated (in raster\u001b[39;00m\n\u001b[0;32m    192\u001b[0m \u001b[38;5;66;03m# space) in the following call to draw_text_image).\u001b[39;00m\n\u001b[1;32m--> 193\u001b[0m \u001b[43mfont\u001b[49m\u001b[38;5;241;43m.\u001b[39;49m\u001b[43mset_text\u001b[49m\u001b[43m(\u001b[49m\u001b[43ms\u001b[49m\u001b[43m,\u001b[49m\u001b[43m \u001b[49m\u001b[38;5;241;43m0\u001b[39;49m\u001b[43m,\u001b[49m\u001b[43m \u001b[49m\u001b[43mflags\u001b[49m\u001b[38;5;241;43m=\u001b[39;49m\u001b[43mget_hinting_flag\u001b[49m\u001b[43m(\u001b[49m\u001b[43m)\u001b[49m\u001b[43m)\u001b[49m\n\u001b[0;32m    194\u001b[0m font\u001b[38;5;241m.\u001b[39mdraw_glyphs_to_bitmap(\n\u001b[0;32m    195\u001b[0m     antialiased\u001b[38;5;241m=\u001b[39mgc\u001b[38;5;241m.\u001b[39mget_antialiased())\n\u001b[0;32m    196\u001b[0m d \u001b[38;5;241m=\u001b[39m font\u001b[38;5;241m.\u001b[39mget_descent() \u001b[38;5;241m/\u001b[39m \u001b[38;5;241m64.0\u001b[39m\n",
      "\u001b[1;31mKeyboardInterrupt\u001b[0m: "
     ]
    }
   ],
   "source": [
    "from matplotlib.animation import FuncAnimation\n",
    "from IPython.display import HTML\n",
    "\n",
    "## setup sim\n",
    "\n",
    "r_storage = np.zeros([Nsim,*r.shape])\n",
    "initial_r( lbox, r )\n",
    "initial_v( lbox, v )\n",
    "boundary = [boundary_wall, boundary_periodic]\n",
    "\n",
    "# run sim\n",
    "\n",
    "for i in range(Nsim): #burns the last frame 'shrug'\n",
    "    r_storage[i] = r\n",
    "    update_r( dt, r, v)\n",
    "    boundary[PBC](lbox, r, v ) \n",
    "    \n",
    "\n",
    "## animate\n",
    "\n",
    "fig, ax = plt.subplots(figsize=(6,6))\n",
    "plt.xlim(0-radius, lbox[0]+radius)\n",
    "plt.ylim(0-radius, lbox[1]+radius)\n",
    "\n",
    "data_to_pixels = ax.transData.transform\n",
    "p0 = data_to_pixels((0, 0))      # Origin in pixels\n",
    "p1 = data_to_pixels((radius, 0))      # Point at (r, 0) in pixels\n",
    "pixel_r = p1[0] - p0[0]          # Pixel distance for `r`\n",
    "points_per_pixel = 72 / fig.dpi   # Standard typographic conversion\n",
    "diameter_points = 2 * pixel_r * points_per_pixel\n",
    "s = diameter_points ** 2\n",
    "\n",
    "particles = ax.scatter(r_storage[0, :,0], r_storage[0, :,1], s=s) #repeats first frame but whatever\n",
    "\n",
    "def update(frame):\n",
    "    particles.set_offsets(frame)\n",
    "    return particles,\n",
    "\n",
    "ani = FuncAnimation(fig, update, frames=r_storage[::capture_period], blit=True, interval=dt*1000*capture_period)\n",
    "plt.close(fig) ## needed to stop another static image from being displayed\n",
    "\n",
    "# Display the animation in the notebook\n",
    "HTML(ani.to_jshtml())"
   ]
  },
  {
   "cell_type": "code",
   "execution_count": 260,
   "id": "6ae90a54",
   "metadata": {},
   "outputs": [
    {
     "data": {
      "text/plain": [
       "(500, 10, 2)"
      ]
     },
     "execution_count": 260,
     "metadata": {},
     "output_type": "execute_result"
    }
   ],
   "source": []
  },
  {
   "cell_type": "markdown",
   "id": "a2b14d95",
   "metadata": {},
   "source": [
    "$$\n",
    "\\frac{\\partial}{\\partial x} \\sqrt{x^2 + y^2 + z^2} \\\\\n",
    "\\vec \\nabla_i | \\vec r_j - \\vec r_i | = \\sum_{k=1}^d \\hat e_k \\frac{\\partial }{\\partial r_{i,k}} \\sqrt{\\sum_{l=1}^d (r_{j,l}-r_{i,l})^2} \\\\\n",
    "= \\sum_{k=1}^d \\hat e_k \\frac{r_{j,k} - r_{i,k}}{\\sqrt{r_j - r_i}} = \\frac{- \\vec r_j - \\vec r_i}{|\\vec r_j - \\vec r_i|}\n",
    "$$\n",
    "\n",
    "Now we can implement the radient of $LJ$\n",
    "\n",
    "$$\n",
    "\\vec \\nabla V (\\vec r_i, \\vec r_j) = 4 \\left( -12 |r_j - r_i|^{-13} \\vec \\nabla_i | \\vec r_j - \\vec r_i | +  6 |r_j - r_i|^{-7} \\vec \\nabla_i | \\vec r_j - \\vec r_i |\\right) \\\\\n",
    "F_{ij} = - \\vec \\nabla V (\\vec r_i, \\vec r_j) = \\frac{24}{|\\vec r_j - \\vec r_i |^8} \\left( 1 - \\frac{2}{|\\vec r_j - \\vec r_i|}\\right) \\left(\\vec r_j - \\vec r_i \\right)\n",
    "$$\n",
    "Only loop through half of indicies, update forces in an array to skip double counting"
   ]
  },
  {
   "cell_type": "markdown",
   "id": "28bec6df",
   "metadata": {},
   "source": [
    "Suggested loop:\n",
    "\n",
    "```python\n",
    "\n",
    "f = np.zeros(N)\n",
    "for i in range(1,N):\n",
    "    for j in range(i+1, N):\n",
    "        fij = f(r[i], r[j])\n",
    "        f[i] += fij\n",
    "        f[j] -= fij"
   ]
  },
  {
   "cell_type": "markdown",
   "id": "085fafaa",
   "metadata": {},
   "source": [
    "Boundary for periodic: need to account for image. Rather than complicate things, we'll just adjust our visible range.\n",
    "\n",
    "$$\n",
    "\\Delta x_{ij} = x_j - x_i > 0 \\\\\n",
    "\\text{if } \\Delta x_{ij} > L_x/2 \\\\\n",
    "\\quad \\Delta x_{ij} = \\Delta x_{ij} - L\n",
    "$$"
   ]
  },
  {
   "cell_type": "markdown",
   "id": "c850a8f3",
   "metadata": {},
   "source": [
    "&#169; Copyright 2025,  Michigan State University Board of Trustees"
   ]
  }
 ],
 "metadata": {
  "kernelspec": {
   "display_name": ".venv",
   "language": "python",
   "name": "python3"
  },
  "language_info": {
   "codemirror_mode": {
    "name": "ipython",
    "version": 3
   },
   "file_extension": ".py",
   "mimetype": "text/x-python",
   "name": "python",
   "nbconvert_exporter": "python",
   "pygments_lexer": "ipython3",
   "version": "3.12.5"
  }
 },
 "nbformat": 4,
 "nbformat_minor": 5
}
