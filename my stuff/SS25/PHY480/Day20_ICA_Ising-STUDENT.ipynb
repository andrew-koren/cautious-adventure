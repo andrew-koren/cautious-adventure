{
 "cells": [
  {
   "cell_type": "markdown",
   "id": "5b922a1e",
   "metadata": {},
   "source": [
    "### <p style=\"text-align: right;\"> &#9989; Andrew Koren</p>"
   ]
  },
  {
   "cell_type": "markdown",
   "id": "81120d35",
   "metadata": {},
   "source": [
    "# PHY480 Day 20\n",
    "\n",
    "## In-class assignment: Ising model in one dimension\n",
    "\n",
    "In this in-class assignment we implement the Metropolis algorithm for the Ising model in one dimension where the exact solution can also be computed.\n"
   ]
  },
  {
   "cell_type": "code",
   "execution_count": 3,
   "id": "0e25ee85",
   "metadata": {},
   "outputs": [],
   "source": [
    "import numpy as np\n",
    "import matplotlib.pyplot as plt\n",
    "%matplotlib inline\n"
   ]
  },
  {
   "cell_type": "markdown",
   "id": "da355211",
   "metadata": {},
   "source": [
    "$$\n",
    "-J \\sum_{\\langle i,j \\rangle} s_i s_j\n",
    "$$"
   ]
  },
  {
   "cell_type": "markdown",
   "id": "63180520",
   "metadata": {},
   "source": [
    "Often we need our code to be flexible with respect to the dimensionality of the problem, especially for grid-based problems such as the Ising model, defined on a lattice. The physical case is three (for classical statistical systems) or four (for relativistic systems or field theories) dimensions. Sometimes in a lower dimensionality exact solutions are avialable. One possible approach is to map the coordinates of a lattice site to a linear integer index. For instance, consider a two-dimensional $2\\times2$ lattice. The coordinates of its sites may be chosen $(0,0)$, $(1,0)$, $(0,1)$ and $(1,1)$. Also we use periodic boundary condtions. Instead of two-dimensional vectors, these sites may be labeled with an integer index taking the values $0$, $1$, $2$ and $3$, in that order. The code below defines a lattice indexer class that, provided the number of dimensions and array with lattice sizes, initializes an object and its nearest neighbor arrays."
   ]
  },
  {
   "cell_type": "code",
   "execution_count": 4,
   "id": "6313a850",
   "metadata": {},
   "outputs": [],
   "source": [
    "# lattice indexer\n",
    "\n",
    "# class for lattice indexing with support of arbitary dimensionality\n",
    "# Input:\n",
    "# number of dimensions\n",
    "# lattice size array\n",
    "class lattice:\n",
    "    \n",
    "    def __init__( self, num_dim, size ):\n",
    "        \n",
    "        self._is_init = False\n",
    "        if type(num_dim) != int:\n",
    "            print( \"ERROR: lattice class initializaiton: num_dim must be integer.\")\n",
    "            return\n",
    "        if len( size ) != num_dim:\n",
    "            print( \"ERROR: lattice class initialization: size array does not match num_dim.\" )\n",
    "            return\n",
    "        for i in range( num_dim ):\n",
    "            if size[i] < 0:\n",
    "                print( \"ERROR: lattice class initialization: size must be positive.\" )\n",
    "                return\n",
    "        \n",
    "        # initialization flag\n",
    "        self._is_init = True\n",
    "        # number of dimensions\n",
    "        self._num_dim = int( num_dim )\n",
    "        # lattice size\n",
    "        self._size = np.array( size, dtype=int )\n",
    "        # total number of sites (volume)\n",
    "        self._volume = 1\n",
    "        for i in range( num_dim ):\n",
    "            self._volume *= size[i]\n",
    "        self._volume = int(self._volume)\n",
    "            \n",
    "        # forward and backward nearest neighbor index arrays\n",
    "        # (periodic boundary conditions)\n",
    "        self._neighbor_forward  = np.zeros( ( self._volume, self._num_dim ), dtype=int )\n",
    "        self._neighbor_backward = np.zeros( ( self._volume, self._num_dim ), dtype=int )\n",
    "        for i in range( self._volume ):\n",
    "            r = self.map_index_to_vec( i )\n",
    "            for j in range( self._num_dim ):\n",
    "                \n",
    "                # forward\n",
    "                # index to vector\n",
    "                q = r.copy()\n",
    "                q[j] += 1\n",
    "                q[j] %= self._size[j]\n",
    "                # vector to index\n",
    "                self._neighbor_forward[i,j] = self.map_vec_to_index( q )\n",
    "\n",
    "                # backward\n",
    "                # index to vector\n",
    "                q = r.copy()\n",
    "                q[j] += self._size[j] - 1\n",
    "                q[j] %= self._size[j]\n",
    "                # vector to index\n",
    "                self._neighbor_backward[i,j] = self.map_vec_to_index( q )\n",
    "\n",
    "\n",
    "    # convert site coordinates to linear index\n",
    "    # Input:\n",
    "    # r -- coordinate array\n",
    "    # Output:\n",
    "    # linear integer site index\n",
    "    def map_vec_to_index( self, r ):\n",
    "        \n",
    "        if self._is_init == False:\n",
    "            print( \"ERROR: attempt to call map_vec_to_index on an unitialized lattice instance.\")\n",
    "            return -1\n",
    "        if len(r) != self._num_dim:\n",
    "            print( \"ERROR: in map_vec_to_index vector has wrong dimensions:\", len(r) )\n",
    "            return -2\n",
    "        for i in range(self._num_dim):\n",
    "            if r[i]<0 or r[i]>=self._size[i]:\n",
    "                print( \"ERROR: in map_vec_to_index vector component\", i, \"is out of range.\" )\n",
    "                return -3\n",
    "            \n",
    "        index = 0\n",
    "        v = 1\n",
    "        for i in range(self._num_dim):\n",
    "            index += int(r[i])*v\n",
    "            v *= self._size[i]\n",
    "            \n",
    "        return int(index)\n",
    "    \n",
    "    # convert linear site index to site coordinates\n",
    "    # Input:\n",
    "    # index -- linear integer site index\n",
    "    # Output:\n",
    "    # site coordinate array\n",
    "    def map_index_to_vec( self, index ):\n",
    "\n",
    "        if self._is_init == False:\n",
    "            print( \"ERROR: attempt to call map_index_to_vec on an unitialized lattice instance.\")\n",
    "            return -1\n",
    "        if index < 0 or index >= self._volume:\n",
    "            print( \"ERROR: in map_index_to_vec index is out of range.\")\n",
    "            return -2\n",
    "            \n",
    "        v = int(index)\n",
    "        r = np.zeros( self._num_dim, dtype=int )\n",
    "        for i in range(self._num_dim):\n",
    "            r[i] = int( v % self._size[i] )\n",
    "            v = v // self._size[i]\n",
    "        \n",
    "        return r\n"
   ]
  },
  {
   "cell_type": "markdown",
   "id": "667d174e",
   "metadata": {},
   "source": [
    "To help you understand how the lattice indexer works, study the following example."
   ]
  },
  {
   "cell_type": "code",
   "execution_count": 5,
   "id": "4c831a70",
   "metadata": {},
   "outputs": [
    {
     "name": "stdout",
     "output_type": "stream",
     "text": [
      "Site index: 0\n",
      "Coordinates: [0 0]\n",
      "Index of the forward  neighbor in x direction: 1\n",
      "Index of the backward neighbor in x direction: 2\n",
      "Index of the forward  neighbor in y direction: 3\n",
      "Index of the backward neighbor in y direction: 3\n",
      "\n",
      "Site index: 1\n",
      "Coordinates: [1 0]\n",
      "Index of the forward  neighbor in x direction: 2\n",
      "Index of the backward neighbor in x direction: 0\n",
      "Index of the forward  neighbor in y direction: 4\n",
      "Index of the backward neighbor in y direction: 4\n",
      "\n",
      "Site index: 2\n",
      "Coordinates: [2 0]\n",
      "Index of the forward  neighbor in x direction: 0\n",
      "Index of the backward neighbor in x direction: 1\n",
      "Index of the forward  neighbor in y direction: 5\n",
      "Index of the backward neighbor in y direction: 5\n",
      "\n",
      "Site index: 3\n",
      "Coordinates: [0 1]\n",
      "Index of the forward  neighbor in x direction: 4\n",
      "Index of the backward neighbor in x direction: 5\n",
      "Index of the forward  neighbor in y direction: 0\n",
      "Index of the backward neighbor in y direction: 0\n",
      "\n",
      "Site index: 4\n",
      "Coordinates: [1 1]\n",
      "Index of the forward  neighbor in x direction: 5\n",
      "Index of the backward neighbor in x direction: 3\n",
      "Index of the forward  neighbor in y direction: 1\n",
      "Index of the backward neighbor in y direction: 1\n",
      "\n",
      "Site index: 5\n",
      "Coordinates: [2 1]\n",
      "Index of the forward  neighbor in x direction: 3\n",
      "Index of the backward neighbor in x direction: 4\n",
      "Index of the forward  neighbor in y direction: 2\n",
      "Index of the backward neighbor in y direction: 2\n",
      "\n"
     ]
    }
   ],
   "source": [
    "# define 3x2 lattice\n",
    "lat = lattice( 2, [3,2] )\n",
    "\n",
    "# loop over sites (labeled from 0 to 5),\n",
    "# _volume is class variable that defines the volume = total number of sites\n",
    "for i in range( lat._volume ):\n",
    "    \n",
    "    print( \"Site index:\", i )\n",
    "    print( \"Coordinates:\", lat.map_index_to_vec( i ) )\n",
    "    print( \"Index of the forward  neighbor in x direction:\", lat._neighbor_forward[i,0]  )\n",
    "    print( \"Index of the backward neighbor in x direction:\", lat._neighbor_backward[i,0] )\n",
    "    print( \"Index of the forward  neighbor in y direction:\", lat._neighbor_forward[i,1]  )\n",
    "    print( \"Index of the backward neighbor in y direction:\", lat._neighbor_backward[i,1] )\n",
    "    print()\n"
   ]
  },
  {
   "cell_type": "markdown",
   "id": "c8cbae8a",
   "metadata": {},
   "source": [
    "This way, all loops over the lattice are one-dimensional and the nearest neighbors can be accessed from the initialized nearest neighbor arrays, for instance, when computing the energy in the Ising model."
   ]
  },
  {
   "cell_type": "markdown",
   "id": "93b087e0",
   "metadata": {},
   "source": [
    "**Task 1.** Write two functions which inialize an array of spins in the following way: a) spins are chosen uniformly randomly $+1$ or $-1$ (so-called hot start), b) spins are all set to +1 (cold start)."
   ]
  },
  {
   "cell_type": "code",
   "execution_count": 6,
   "id": "68516428",
   "metadata": {},
   "outputs": [],
   "source": [
    "# initialize spin array randomly\n",
    "# Input:\n",
    "# spin -- array of size volume\n",
    "# volume -- total number of sites on the lattice\n",
    "# Output:\n",
    "# no value returned, but the spin array is changed\n",
    "def make_hot_start( spin_lat, J = 1 ):\n",
    "\n",
    "    volume = spin_lat._volume\n",
    "    states = (np.random.rand(volume) < 0.5)*2-1\n",
    "    spin_lat._states = states\n",
    "    spin_lat._J = J\n",
    "    \n",
    "        \n",
    "# initialize spin array to 1 for all spins\n",
    "# Input:\n",
    "# spin -- array of size volume\n",
    "# volume -- total number of sites on the lattice\n",
    "# Output:\n",
    "# no value returned, but the spin array is changed\n",
    "def make_cold_start( spin_lat, J = 1 ):\n",
    "\n",
    "\n",
    "    volume = spin_lat._volume\n",
    "    states = np.ones(volume, dtype=int)\n",
    "    spin_lat._states = states\n",
    "    spin_lat._J = J\n",
    "\n"
   ]
  },
  {
   "cell_type": "markdown",
   "id": "09e1d3b6",
   "metadata": {},
   "source": [
    "**Task 2.** Write a function that computes contribution to the energy for a given value `iq` ($+1$ or $-1$, provided as input) of the spin on site `isite`. Test it on a given hot and cold configuration to make sure it works properly. Test it in one and two dimensions. The `lat` object should be initialized and the `spin` array allocated, i.e. `spin=np.array( lat._volume, dtype=int )`.\n",
    "\n",
    "**Note:** For the code to work properly you need to ensure that spin values are always integer variables."
   ]
  },
  {
   "cell_type": "code",
   "execution_count": 7,
   "id": "0714ae34",
   "metadata": {},
   "outputs": [],
   "source": [
    "# compute local contribution to the energy if the spin on site isite has value iq\n",
    "# Input:\n",
    "# lat -- lattice object\n",
    "# spin -- spin array\n",
    "# isite -- integer index of the site for which the energy contribution is computed\n",
    "# iq -- spin value (+1 or -1)\n",
    "# Output:\n",
    "# energy, computed as sum of the -J sigma_i sigma_j for the site isite and its nearest neighbors\n",
    "def compute_energy( spin_lat, isite, iq=None):\n",
    "    \n",
    "    J = spin_lat._J\n",
    "\n",
    "    if iq == None:\n",
    "        sigma_i = spin_lat._states[isite]\n",
    "    else:\n",
    "        sigma_i = iq\n",
    "\n",
    "    neigbor_indicies = [spin_lat._neighbor_forward[isite,dim] for dim in range(spin_lat._num_dim)] + [spin_lat._neighbor_backward[isite,dim] for dim in range(spin_lat._num_dim)]\n",
    "\n",
    "    sigma_j = spin_lat._states[neigbor_indicies]\n",
    "    \n",
    "    energy = -J*sum(sigma_i*sigma_j)\n",
    "\n",
    "    return energy\n"
   ]
  },
  {
   "cell_type": "markdown",
   "id": "3f8dfafc",
   "metadata": {},
   "source": [
    "**Task 3.** Write a function that implements the Metropolis algorithm to produce a new value at site `isite`:\n",
    "\n",
    "- generate a new value `q_new`, +1 or -1 with equal probability (50%),\n",
    "- compute the energy for the current value of `spin[isite]` and for the proposed value `q_new`,\n",
    "- compute accept/reject probability,\n",
    "- accept or reject the move based on a uniform random number,\n",
    "- if the move is accepted, return `q_new` and `acpt=1`, otherwise return `spin[isite]` (old value) and `acpt=0`.\n",
    "\n",
    "Test this function by choosing a site on a given spin configuration (hot or cold start) and generating a new value for it."
   ]
  },
  {
   "cell_type": "markdown",
   "id": "c9de9380",
   "metadata": {},
   "source": [
    "$$\n",
    "Z = \\sum_s e^{-\\beta \\epsilon_s} \\\\\n",
    "P_s = \\frac{e^{-\\beta \\epsilon_s}}{Z} \\\\\n",
    "\\frac{P_{1}}{P_{1}+P_{2}} = \\frac{\\frac{e^{-\\beta \\epsilon_1}}{Z}}{\\frac{e^{-\\beta \\epsilon_1}}{Z}+\\frac{e^{-\\beta \\epsilon_2}}{Z}} \\\\\n",
    "= \\frac{1}{1+e^{-\\beta(\\epsilon_2-\\epsilon_1)}} = \\frac{1}{1+e^{\\beta(\\epsilon_1 - \\epsilon_2)}}\n",
    "$$"
   ]
  },
  {
   "cell_type": "code",
   "execution_count": 8,
   "id": "40ff177d",
   "metadata": {},
   "outputs": [],
   "source": [
    "# generate a new spin value (+1 or -1) with the Metropolis algorithm based on the\n",
    "# current nearest neighbor environment\n",
    "# Input:\n",
    "# lat -- lattice object\n",
    "# spin -- array with spin values\n",
    "# isite -- current site for which new spin value is generated\n",
    "# J -- Ising model coupling\n",
    "# beta -- inverse temperature\n",
    "# Output:\n",
    "# new spin value generated (can be the same as old, if the proposal is rejected)\n",
    "# acceptance -- =1 if accepted, =0 if rejected\n",
    "def generate_spin_met( spin_lat, isite, beta ):\n",
    "\n",
    "    # propose new spin value (uniform)\n",
    "    q_new = (np.random.rand() < 0.5)*2-1\n",
    "    \n",
    "    # save some compute \n",
    "    if spin_lat._states[isite] == q_new:\n",
    "        return q_new, (np.random.rand() < 0.5)*1\n",
    "\n",
    "    # compute old energy\n",
    "    Eold = compute_energy(spin_lat, isite)\n",
    "    \n",
    "    # compute new energy\n",
    "    Enew = compute_energy(spin_lat, isite, q_new)\n",
    "\n",
    "    # accept/reject\n",
    "    Pnew = 1/(1+np.exp(beta*(Enew-Eold)))\n",
    "    if Pnew > np.random.rand():\n",
    "        spin_lat._states[isite] = q_new\n",
    "        return q_new, 1        \n",
    "    else:\n",
    "        return spin_lat._states[isite], 0"
   ]
  },
  {
   "cell_type": "markdown",
   "id": "3cbc340f",
   "metadata": {},
   "source": [
    "**Task 4.** When all spins on the lattice are sequantially updated, this process is often called a \"sweep\". Write a function that uses the previous function to sequantially update all spins on the lattice with the generated values.\n"
   ]
  },
  {
   "cell_type": "code",
   "execution_count": 9,
   "id": "f2f28823",
   "metadata": {},
   "outputs": [],
   "source": [
    "# make one sweep through the lattice, updating each spin with the Metropolis algorithm\n",
    "# Input:\n",
    "# lat -- lattice object\n",
    "# spin -- array with spin values\n",
    "# J -- Ising model coupling\n",
    "# beta -- inverse temperature\n",
    "# Output:\n",
    "# total sum of accepted moves\n",
    "def sweep_met( spin_lat, beta ):\n",
    "    \n",
    "    new_spin = []\n",
    "    acceptance_total = 0\n",
    "    \n",
    "    for isite in range(spin_lat._volume):\n",
    "        spin, acceptance = generate_spin_met( spin_lat, isite, beta) # updates during sweep?\n",
    "        new_spin.append(spin)\n",
    "        acceptance_total += acceptance\n",
    "\n",
    "    return acceptance_total\n"
   ]
  },
  {
   "cell_type": "markdown",
   "id": "79ae1972",
   "metadata": {},
   "source": [
    "**Task 5.** Implement a function which performs a Monte Carlo simulation. Namely, it performs `Nequi` sweeps for equilibration when no measurements are taken. Then it performs sweeps in a double loop: `Nsim` and `Ninner` where the measurements are taken in the `Nsim` loop only. (This allows us to control the number of measurements, so it does not get too large, for instance, if `Nsim=10` and `Ninner=3`, in total the simulation will perform 30 sweeps through the lattice, however, only every third sweep a measurement is taken, resulting in 10 measurements.) What we are going to measure is the energy density. This can be achieved with the `compute_energy` function written earlier: that function computes the contribution into the total energy for a given site. If we call it for every site, we get twice the total energy (because in such a sum the pairs are double counted). We normalize the energy by dividing that total by 2 and by the total number of _links_ on the lattice (which is equal to the number of sites times the number of dimensions), i.e. we compute the energy density. The `simulate_met` function should measure the energy density at every iteration of the `Nsim` loop and return an array with the energy density values and the acceptance rate."
   ]
  },
  {
   "cell_type": "code",
   "execution_count": 10,
   "id": "b6cd5076",
   "metadata": {},
   "outputs": [],
   "source": [
    "# make a simulation with Nequi sweeps for equilibration and Nsim x Ninner sweeps,\n",
    "# measurements are performed once in every Ninner sweeps\n",
    "# Input:\n",
    "# lat -- lattice object\n",
    "# spin -- spin array\n",
    "# J -- Ising model coupling\n",
    "# beta -- inverse temperature\n",
    "# Nequi -- number of sweeps for equilibration\n",
    "# Nsim -- number of simulation steps in the outer loop, where the measurements are performed\n",
    "# Ninner -- number of simulations steps (i.e. sweeps) in the inner loop without measurements\n",
    "# Output:\n",
    "# array with energy density values of size Nsim\n",
    "# acceptance rate\n",
    "def simulate_met( spin_lat, beta, Nequi, Nsim, Ninner ):\n",
    "\n",
    "    # equilibration\n",
    "    for i in range(Nequi):\n",
    "        sweep_met(spin_lat, beta)\n",
    "\n",
    "        \n",
    "    # initialize energy array\n",
    "    energies = []\n",
    "    acceptance_rates = []\n",
    "    # main production loop: Nsim\n",
    "    for _ in range(Nsim):\n",
    "        total_acceptance = 0\n",
    "        # inner loop: Ninner\n",
    "        for _ in range(Ninner):\n",
    "            # sweep over the lattice\n",
    "            total_acceptance += sweep_met(spin_lat, beta)\n",
    "\n",
    "        # compute the energy density\n",
    "        energy = sum([compute_energy(spin_lat, i) for i in range(spin_lat._volume)])\n",
    "        e_density = energy/(2*spin_lat._volume)\n",
    "        acceptance_rate = total_acceptance/(Ninner*spin_lat._volume)\n",
    "\n",
    "        energies.append(e_density)\n",
    "        acceptance_rates.append(acceptance_rate)\n",
    "        \n",
    "        \n",
    "    return energies, acceptance_rates"
   ]
  },
  {
   "cell_type": "markdown",
   "id": "c1be4d04",
   "metadata": {},
   "source": [
    "**Task 6.** Implement a function to compute the energy density exactly for one-dimensional Ising model on a chain of $N$ sites with periodic boundary conditions."
   ]
  },
  {
   "cell_type": "code",
   "execution_count": 11,
   "id": "c3803c63",
   "metadata": {},
   "outputs": [],
   "source": [
    "# **Task 6.** Implement a function to compute the energy density exactly for one-dimensional Ising model on a chain of $N$ sites with periodic boundary conditions.\n",
    "\n",
    "# compute exact energy density for 1D Ising model\n",
    "# Input:\n",
    "# N -- number of site\n",
    "# J -- Ising model coupling\n",
    "# beta -- inverse temperature\n",
    "# Output:\n",
    "# energy density\n",
    "\n",
    "def energy_exact(N, J, beta):\n",
    "    lambda_plus = np.exp(beta * J) + np.exp(-beta * J)\n",
    "    lambda_minus = np.exp(beta * J) - np.exp(-beta * J)\n",
    "    return -J * np.sinh(beta * J) / (np.cosh(beta * J) + (lambda_minus / lambda_plus) ** N)\n"
   ]
  },
  {
   "cell_type": "markdown",
   "id": "6167d961",
   "metadata": {},
   "source": [
    "**Task 7.** Compute the energy density in the Ising model on a one-dimensional lattice of a chosen size up to 8 for several `beta` values given below. Use `Nequi=100`, `Nsim=5000` (or less if too slow), `Ninner=5`. Calculate the mean energy density and its errorbar (i.e. square root of the variance of the mean). Compute the exact energy density at the same `beta` and compare with the Monte Carlo results. Plot the Monte Carlo averages and the exact results. "
   ]
  },
  {
   "cell_type": "code",
   "execution_count": 15,
   "id": "584fcd9d",
   "metadata": {},
   "outputs": [],
   "source": [
    "from copy import deepcopy\n",
    "\n",
    "np.random.seed(3)\n",
    "\n",
    "# initialize lattice\n",
    "spin_lat = lattice( 1, [4] )\n",
    "\n",
    "# Ising coupling\n",
    "J = 0.7 # experiment with changing to check that it is used properly in the functions\n",
    "\n",
    "# initialize spins\n",
    "make_hot_start( spin_lat, J=J ) # experiment with cold start\n",
    "\n",
    "# simulation parameters\n",
    "Nequi = 100\n",
    "Nsim = 5000 # try smaller values before you make the code work properly\n",
    "Ninner = 5\n",
    "\n",
    "# inverse temperatures\n",
    "betas = np.linspace(0, 4, 10)\n",
    "\n",
    "# storage for the mean and errorbar\n",
    "mean_energies = []\n",
    "beta_energy_std = []\n",
    "\n",
    "# loop on beta values\n",
    "for beta in betas:\n",
    "\n",
    "    # call simulate function to get the energy density time series\n",
    "    test_spin_lat = deepcopy(spin_lat)\n",
    "    energies, a_rates = simulate_met(test_spin_lat, beta, Nequi, Nsim, Ninner)\n",
    "\n",
    "    # get the mean and errorbar\n",
    "    mean_energies.append(np.array(energies).mean())\n",
    "    beta_energy_std.append(np.array(energies).std())\n",
    "\n"
   ]
  },
  {
   "cell_type": "code",
   "execution_count": 16,
   "id": "74a89b9f",
   "metadata": {},
   "outputs": [
    {
     "data": {
      "text/plain": [
       "Text(0, 0.5, 'Mean energy $\\\\mu$')"
      ]
     },
     "execution_count": 16,
     "metadata": {},
     "output_type": "execute_result"
    },
    {
     "data": {
      "image/png": "[encoded data removed]",
      "text/plain": [
       "<Figure size 640x480 with 1 Axes>"
      ]
     },
     "metadata": {},
     "output_type": "display_data"
    }
   ],
   "source": [
    "plt.errorbar(betas, mean_energies, yerr=beta_energy_std, fmt='o')\n",
    "plt.xlabel(r'Inverse temp $1/\\tau$')\n",
    "plt.ylabel(r'Mean energy $\\mu$')"
   ]
  },
  {
   "cell_type": "markdown",
   "id": "80664391",
   "metadata": {},
   "source": [
    "&#169; Copyright 2025,  Michigan State University Board of Trustees"
   ]
  }
 ],
 "metadata": {
  "kernelspec": {
   "display_name": ".venv",
   "language": "python",
   "name": "python3"
  },
  "language_info": {
   "codemirror_mode": {
    "name": "ipython",
    "version": 3
   },
   "file_extension": ".py",
   "mimetype": "text/x-python",
   "name": "python",
   "nbconvert_exporter": "python",
   "pygments_lexer": "ipython3",
   "version": "3.12.5"
  }
 },
 "nbformat": 4,
 "nbformat_minor": 5
}
