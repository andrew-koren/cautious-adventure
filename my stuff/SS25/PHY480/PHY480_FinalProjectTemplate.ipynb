{
 "cells": [
  {
   "cell_type": "markdown",
   "metadata": {},
   "source": [
    "# PHY 480 Final Project\n",
    "### &#9989; Andrew Koren\n",
    "#### &#9989; 4/29/25"
   ]
  },
  {
   "cell_type": "markdown",
   "metadata": {},
   "source": [
    "# ___PARTICLES GO BRRR___ <br>\n",
    "## ___simulating more molecules on a cpu___"
   ]
  },
  {
   "cell_type": "markdown",
   "metadata": {},
   "source": [
    "## Background and Motivation"
   ]
  },
  {
   "cell_type": "markdown",
   "metadata": {},
   "source": [
    "In class, we've shown how to implement molecular dynamics with symplectic time stepping and discussed how to couple to a thermostat as a step towards working in the canonical ensemble. These simulations can be valuable as means to better understand statistical physics and the dynamics that come as a result of many simple potentials interacting together. \n",
    "\n",
    "I'm currently working on an honors project for PHY 410 where I use simulation to analyze a system and compare to a similar analytical system. I've enjoyed the overlap between these two classes, especially being able to apply computational methods to not only analyze but also visualize physical systems we'd otherwise only see as equations with long chains of variables and differentials.  \n",
    "\n",
    "With visualization and simulation in mind, I've decided to learn more about computational methods that would allow me to observe larger and more complex systems. In particular, I'm investigating assumptions that can be made to improve molecular dynamics per-particle scaling laws. I want to be able to run simulations with thousands of particles without scaling up hardware or switching my implementation to gpu. \n",
    "\n",
    "Since this is a rather broad and rich goal, I've read up and picked out one particular limit to particle scaling: all-to-all long range interactions. As I mention in __Methodology__, a primary slowdown of my code comes from calculating distances between particles, even though most particles are too far to actually have an impact on eachother. "
   ]
  },
  {
   "cell_type": "markdown",
   "metadata": {},
   "source": [
    "## Methodology"
   ]
  },
  {
   "cell_type": "markdown",
   "metadata": {},
   "source": [
    "_(How did you go about answering your question(s)? Most of your code will be\n",
    "contained in this section.)_"
   ]
  },
  {
   "cell_type": "markdown",
   "metadata": {},
   "source": [
    "## Results"
   ]
  },
  {
   "cell_type": "markdown",
   "metadata": {},
   "source": [
    "_(What did you find when you carried out your methods? Some of your code related to\n",
    "presenting results/figures/data may be replicated from the methodology section or may only be present in\n",
    "this section.)_"
   ]
  },
  {
   "cell_type": "markdown",
   "metadata": {},
   "source": [
    "## Discussion and Conclusion"
   ]
  },
  {
   "cell_type": "markdown",
   "metadata": {},
   "source": [
    "_(What did you learn from your results? What obstacles did you run into? What would you do differently next time? Clearly provide quantitative answers to your question(s).)_"
   ]
  },
  {
   "cell_type": "markdown",
   "metadata": {},
   "source": [
    "### References"
   ]
  },
  {
   "cell_type": "markdown",
   "metadata": {},
   "source": [
    "1. Frenkel, D. & Smit, B. Understanding Molecular Simulation: From Algorithms to Applications. (Academic Press, San Diego, 2001)."
   ]
  }
 ],
 "metadata": {
  "kernelspec": {
   "display_name": "Python 3 (ipykernel)",
   "language": "python",
   "name": "python3"
  },
  "language_info": {
   "codemirror_mode": {
    "name": "ipython",
    "version": 3
   },
   "file_extension": ".py",
   "mimetype": "text/x-python",
   "name": "python",
   "nbconvert_exporter": "python",
   "pygments_lexer": "ipython3",
   "version": "3.11.5"
  }
 },
 "nbformat": 4,
 "nbformat_minor": 4
}
