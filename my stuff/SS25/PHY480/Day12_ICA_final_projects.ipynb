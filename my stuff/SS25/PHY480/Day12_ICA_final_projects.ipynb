{
 "cells": [
  {
   "cell_type": "markdown",
   "id": "9fda26d7",
   "metadata": {},
   "source": [
    "### <p style=\"text-align: right;\"> &#9989; Andrew</p>"
   ]
  },
  {
   "cell_type": "markdown",
   "id": "58318fd8",
   "metadata": {},
   "source": [
    "# PHY480 Day 12\n",
    "\n",
    "## In-class assignment: Discussion of final projects\n",
    "\n",
    "The purpose of this in-class assignment is to discuss possible final project ideas.\n"
   ]
  },
  {
   "cell_type": "markdown",
   "id": "5b46bf7c",
   "metadata": {},
   "source": [
    "**Task 1.** Think about three possible project ideas. Prepare to discuss them with a small group of 4-6 students. Make 2-3 slides to illustrate your points.\n"
   ]
  },
  {
   "cell_type": "markdown",
   "id": "fd592a78",
   "metadata": {},
   "source": [
    "**Task 2.** To help you organize your thoughts, for each project idea think about, for instance, the following:\n",
    "\n",
    "- Why a chosen project idea is of interest to you? What do you want to learn working on that project?\n",
    "- What do you envision the final outcome of the project to be?\n",
    "- What information and skills you need to complete the project?\n",
    "- How much time do you estimate it is going to take?\n"
   ]
  },
  {
   "cell_type": "markdown",
   "id": "5588c167",
   "metadata": {},
   "source": [
    "**Task 3.** Record your project ideas here."
   ]
  },
  {
   "cell_type": "markdown",
   "id": "eb22133f",
   "metadata": {},
   "source": [
    "- ....\n",
    "- ....\n",
    "- ...."
   ]
  },
  {
   "cell_type": "markdown",
   "id": "76ba0904",
   "metadata": {},
   "source": [
    " "
   ]
  }
 ],
 "metadata": {
  "kernelspec": {
   "display_name": "Python 3 (ipykernel)",
   "language": "python",
   "name": "python3"
  },
  "language_info": {
   "codemirror_mode": {
    "name": "ipython",
    "version": 3
   },
   "file_extension": ".py",
   "mimetype": "text/x-python",
   "name": "python",
   "nbconvert_exporter": "python",
   "pygments_lexer": "ipython3",
   "version": "3.11.5"
  }
 },
 "nbformat": 4,
 "nbformat_minor": 5
}
