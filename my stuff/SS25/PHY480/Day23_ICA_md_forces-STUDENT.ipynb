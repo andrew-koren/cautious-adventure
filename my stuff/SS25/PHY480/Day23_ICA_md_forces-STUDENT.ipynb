{
 "cells": [
  {
   "cell_type": "markdown",
   "id": "edda7793",
   "metadata": {},
   "source": [
    "### <p style=\"text-align: right;\"> &#9989; Andrew Koren</p>"
   ]
  },
  {
   "cell_type": "markdown",
   "id": "2bfd0df8",
   "metadata": {},
   "source": [
    "# PHY480 Day 23\n",
    "\n",
    "## In-class assignment: Molecular dynamics simulations\n",
    "\n",
    "In this in-class assignment we incorporate forces in the molecular dynamics simulations as well as modify the initialization functions.\n"
   ]
  },
  {
   "cell_type": "code",
   "execution_count": 3,
   "id": "0a1e2297",
   "metadata": {},
   "outputs": [],
   "source": [
    "import numpy as np\n",
    "import matplotlib.pyplot as plt\n",
    "from numba import njit\n",
    "%matplotlib inline\n"
   ]
  },
  {
   "cell_type": "markdown",
   "id": "c6371482",
   "metadata": {},
   "source": [
    "**Task 1.** Implement computation of forces for Lennard-Jones potential (set to zero for $r>r_{cut}$). Compute them also by hand for the three particles given below with periodic boundary conditions and check that your code produces the same result. Take into account that some particles are closer through the boundary.\n"
   ]
  },
  {
   "cell_type": "code",
   "execution_count": 160,
   "id": "16306550",
   "metadata": {},
   "outputs": [],
   "source": [
    "### main parameters\n",
    "\n",
    "# dimension\n",
    "dim = 2\n",
    "\n",
    "# number of particles\n",
    "N = 3\n",
    "\n",
    "# particle radius (for later plotting)\n",
    "radius = 0.5\n",
    "\n",
    "# set potential to zero at this distance\n",
    "rcut = 2.5\n",
    "\n",
    "# box sizes (the size of this array should match \"dim\"),\n",
    "# to simplify, box size should be >= 2*rcut\n",
    "lbox = np.array( [5.0,5.0] )\n",
    "\n",
    "# allocate position array\n",
    "r = np.zeros( (N,dim) )\n",
    "\n",
    "# allocate array for the forces\n",
    "f = np.zeros( (N,dim) )\n",
    "\n",
    "# set fixed positions\n",
    "r[0,0], r[0,1] = 0.5, 2\n",
    "r[1,0], r[1,1] = 4, 1\n",
    "r[2,0], r[2,1] = 2, 3.5\n"
   ]
  },
  {
   "cell_type": "code",
   "execution_count": null,
   "id": "9381a0a8",
   "metadata": {},
   "outputs": [],
   "source": [
    "# compute force on every particle due to all other particles,\n",
    "# Lennard-Jones potential 4(1/r^12-1/r^6)\n",
    "# Input:\n",
    "# lbox -- array with sizes\n",
    "# r -- allocated array of shape N * dim,\n",
    "#      where N is the number of particles and dim is the dimensionality\n",
    "# f -- array for forces, same shape as r\n",
    "# rcut -- maximum distance for the Lennard-Jones potential (set to 0 beyond)\n",
    "# PBC -- =True if periodic boundary conditions are used, =False for hardwall boundary conditions\n",
    "# Output:\n",
    "# the input array f is changed\n",
    "@njit\n",
    "def forces_lj( lbox, r, f, rcut, PBC ):\n",
    "\n",
    "    # set the parameters for calculation\n",
    "    n = r.shape[0]  # read off the number of particles\n",
    "    nd = r.shape[1] # read off the dimensions\n",
    "    rcut_sq = rcut*rcut # to speed up comparisons #whats this for?\n",
    "    dr = np.zeros(nd) # vector between two particles\n",
    "    df = np.zeros(nd) # force contribution from one pair\n",
    "    lbox2 = lbox/2 # speed up calculations\n",
    "    \n",
    "    # set the force array to zero\n",
    "    f *= 0\n",
    "    \n",
    "    # loop over the first particle\n",
    "    for i in range(N):\n",
    "        # loop over the second particle\n",
    "        for j in range(i+1, N):\n",
    "            Dx = r[j] - r[i]\n",
    "            if PBC:\n",
    "                Dx = (Dx + lbox2) % lbox - lbox2\n",
    "\n",
    "            # if dist_sq is less than rcut_sq, there is a contribution to the force from this pair\n",
    "            dist = np.sqrt(np.sum(Dx**2))\n",
    "            if dist < rcut:\n",
    "                continue\n",
    "            \n",
    "            df = 24/dist**8 * ( 1 - 2/dist) * Dx\n",
    "            f[i] += df\n",
    "            f[j] -= df\n"
   ]
  },
  {
   "cell_type": "markdown",
   "id": "62fbd45f",
   "metadata": {},
   "source": [
    "**Task 2.** Implement computation of the potential energy, i.e. summing up the Lennard-Jones potential for all pairs within $r_{cut}$. Compute it also by hand for the same three-particle arrangement with periodic boundary conditions and check that your code produces the same result."
   ]
  },
  {
   "cell_type": "code",
   "execution_count": 35,
   "id": "f7d1d12c",
   "metadata": {},
   "outputs": [],
   "source": [
    "# compute potential energy for particles interacting with\n",
    "# Lennard-Jones potential 4(1/r^12-1/r^6)\n",
    "# Input:\n",
    "# lbox -- array with sizes\n",
    "# r -- allocated array of shape N * dim,\n",
    "#      where N is the number of particles and dim is the dimensionality\n",
    "# PBC -- =True if periodic boundary conditions are used, =False for hardwall boundary conditions\n",
    "# Output:\n",
    "# potential energy\n",
    "def measure_pot( lbox, r, rcut, PBC=True ):\n",
    "    \n",
    "    # read off parameters\n",
    "    n = r.shape[0]\n",
    "    nd = r.shape[1]\n",
    "    rcut_sq = rcut*rcut\n",
    "    dr = np.zeros(nd)\n",
    "    lbox2 = lbox/2\n",
    "\n",
    "    pot = 0\n",
    "    \n",
    "    # loop over the first particle\n",
    "    for i in range(N):\n",
    "        # loop over the second particle\n",
    "        for j in range(i+1, N):\n",
    "            Dx = r[j] - r[i]\n",
    "            if PBC:\n",
    "                Dx = (Dx + lbox2) % lbox - lbox2\n",
    "            \n",
    "            dist = np.sqrt(np.sum(Dx**2))\n",
    "            if dist < rcut:\n",
    "                continue    \n",
    "\n",
    "            pot += 4 * (dist**(-12) - dist**(-6))\n",
    "\n",
    "\n",
    "    return pot\n"
   ]
  },
  {
   "cell_type": "markdown",
   "id": "b4e545ef",
   "metadata": {},
   "source": [
    "**Task 3.** Implement computation of the kinetic energy, i.e. summing $m_iv_i^2/2$ for all particles.\n"
   ]
  },
  {
   "cell_type": "code",
   "execution_count": 36,
   "id": "0c4fa117",
   "metadata": {},
   "outputs": [],
   "source": [
    "# compute the kinetic energy -- sum of mv^2/2 for all particles\n",
    "# Input:\n",
    "# v -- velocities, N*dim array\n",
    "# masses -- arrya of size N with particle masses\n",
    "def measure_kin( v, masses ):\n",
    "\n",
    "    v2 = np.sum(Dx**2)\n",
    "    \n",
    "    return sum(v2*masses/2)\n"
   ]
  },
  {
   "cell_type": "markdown",
   "id": "e9d20674",
   "metadata": {},
   "source": [
    "**Task 4.** Modify the function that generates random particle positions (we already built one in the previous in-class assignment) in the following way:\n",
    "\n",
    "- loop over particles ($N$ in total),\n",
    "- generate a random particle position,\n",
    "- loop over the particles that you have already generated and check if the new particle is at distance $r\\geqslant1$ away from every other particle,\n",
    "- if that is not the case, discard and regenerate a new random position for that particle,\n",
    "- repeat the process until an acceptable random position is found,\n",
    "- add this particle position to the `r` array and proceed with the next particle.\n",
    "\n",
    "This method will insure that the initial particle configuration cannot produce instabilities (i.e. large forces).\n"
   ]
  },
  {
   "cell_type": "code",
   "execution_count": null,
   "id": "6c25f2e2",
   "metadata": {},
   "outputs": [],
   "source": [
    "from scipy.spatial.distance import cdist\n",
    "\n",
    "# initialize particle positions\n",
    "# Input:\n",
    "# lbox -- array with sizes\n",
    "# r -- allocated array of shape N * dim,\n",
    "#      where N is the number of particles and dim is the dimensionality\n",
    "# Output:\n",
    "# the input r is changed\n",
    "def initial_r( lbox, r ):\n",
    "    N, dim = r.shape\n",
    "\n",
    "    r[:] = np.random.rand(*r.shape) * lbox\n",
    "    for i in range(1,N):\n",
    "        while (cdist(r[:N+1],r[:N+1]) + np.eye(len(r[:N+1]), len(r[:N+1]))*2 < 1).any():\n",
    "            r[i] = np.random.rand(2) * lbox\n",
    "\n"
   ]
  },
  {
   "cell_type": "markdown",
   "id": "42e069f9",
   "metadata": {},
   "source": [
    "**Task 5.** Modify the function that generates the initial velocities. The components of the velocity for each particle $i$ should be drawn from a Gaussian distribution with zero mean and $\\sqrt{T/m_i}$ standard deviation, where $T$ is the temperature and $m_i$ is the $i$-th particle mass. Once all the velocities are generated, compute the velocity of the center of mass (i.e. compute the total momentum and divide by the total mass). Then subtract the center-of-mass velocity from the velocity of every particle."
   ]
  },
  {
   "cell_type": "code",
   "execution_count": 322,
   "id": "0b358c4a",
   "metadata": {},
   "outputs": [],
   "source": [
    "# initialize particle velocities, subtract the velocity of the center of mass\n",
    "# Input:\n",
    "# lbox -- array with sizes\n",
    "# v -- allocated array of shape N * dim,\n",
    "#      where N is the number of particles and dim is the dimensionality\n",
    "# Output:\n",
    "# the input v is changed\n",
    "def initial_v( lbox, v, T, masses ):\n",
    "    masses = np.array([[m] for m in masses])\n",
    "    sigma = np.sqrt(T/masses)\n",
    "\n",
    "    v[:] = np.random.randn(3,2)  * sigma\n",
    "    \n",
    "    total_momentum = np.sum(masses * v, axis=1, keepdims=True)\n",
    "    total_mass = np.sum(masses)\n",
    "    \n",
    "    v[:] -= total_momentum / total_mass"
   ]
  },
  {
   "cell_type": "markdown",
   "id": "31cf54d4",
   "metadata": {},
   "source": [
    "<div style=\"page-break-after: always\"></div>"
   ]
  },
  {
   "cell_type": "markdown",
   "id": "344289d3",
   "metadata": {},
   "source": [
    "**Task 7.** Modify the update functions for the position and velocity to incorporate the forces.\n"
   ]
  },
  {
   "cell_type": "code",
   "execution_count": 9,
   "id": "03e57b94",
   "metadata": {},
   "outputs": [],
   "source": [
    "# propagate the particle positions by step dt\n",
    "# Input:\n",
    "# dt -- time step\n",
    "# r -- array with particle positions\n",
    "# v -- array with particle velocities\n",
    "# Output:\n",
    "# the input r is changed\n",
    "def update_r( dt, r, v ):\n",
    "    \n",
    "    # ...\n",
    "    \n",
    "    return\n"
   ]
  },
  {
   "cell_type": "code",
   "execution_count": 10,
   "id": "bdb85476",
   "metadata": {},
   "outputs": [],
   "source": [
    "# propagate the particle velocities by step dt\n",
    "# Input:\n",
    "# dt -- time step\n",
    "# v -- array with particle velocities\n",
    "# f -- array with forces\n",
    "# masses -- array with masses\n",
    "# Output:\n",
    "# the input v is changed\n",
    "def update_v( dt, v, f, masses ):\n",
    "\n",
    "    # ...\n",
    "\n",
    "    return\n"
   ]
  },
  {
   "cell_type": "markdown",
   "id": "8b4c5c29",
   "metadata": {},
   "source": [
    "**Task 8.** Using the boundary conitions function from the previous assignment, put together a full molecular dynamics simulation. In the outer `Nsim` loop of the simulation measure the kinetic, potential and total energy in the simulation. Plot the total energy.\n"
   ]
  },
  {
   "cell_type": "code",
   "execution_count": 11,
   "id": "7e77504a",
   "metadata": {},
   "outputs": [],
   "source": [
    "### main parameters\n",
    "\n",
    "# dimension\n",
    "dim = 2\n",
    "\n",
    "# number of particles\n",
    "N = 10 # increase once the code is working properly\n",
    "\n",
    "# particle radius (for plotting)\n",
    "radius = 0.5\n",
    "\n",
    "# set potential to zero at this distance\n",
    "rcut = 2.5\n",
    "\n",
    "# box sizes (the size of this array should match \"dim\"),\n",
    "# to simplify, box size should be >= 2*rcut\n",
    "lbox = np.array( [8.0,8.0] )\n",
    "\n",
    "# allocate arrays for the position r and velocity v,\n",
    "# the first index is particle index and the second is the vector component\n",
    "r = np.zeros( (N,dim) )\n",
    "v = np.zeros( (N,dim) )\n",
    "\n",
    "# allocate array for the forces\n",
    "f = np.zeros( (N,dim) )\n",
    "\n",
    "# array with masses (set to 1 for now)\n",
    "masses = np.full( N, 1.0 )\n",
    "\n",
    "\n",
    "# for reproducibility\n",
    "np.random.seed(2)\n",
    "\n",
    "# time step\n",
    "dt = 0.003\n",
    "\n",
    "# temperature (in microcanonical distribution it is only used for the initial configuration)\n",
    "Temp = 1.3\n",
    "\n",
    "# number of simulation steps\n",
    "Nsim = 20\n",
    "Ninner = 1\n",
    "\n",
    "# periodic boundary conditions if True\n",
    "PBC = True\n",
    "\n"
   ]
  },
  {
   "cell_type": "code",
   "execution_count": 12,
   "id": "902ca6cd",
   "metadata": {},
   "outputs": [],
   "source": [
    "# initialize particle positions and velocities\n",
    "initial_r( lbox, r )\n",
    "initial_v( lbox, v, Temp, masses )\n"
   ]
  },
  {
   "cell_type": "code",
   "execution_count": 13,
   "id": "96615747",
   "metadata": {},
   "outputs": [],
   "source": [
    "# precompute forces\n",
    "\n",
    "\n",
    "# main simulation loop\n",
    "    \n",
    "    # inner loop\n",
    "\n",
    "        # propagate velocities by dt/2\n",
    "\n",
    "        # propagate positions r by dt\n",
    "\n",
    "        # apply boundary conditions\n",
    "\n",
    "        # compute forces\n",
    "\n",
    "        # propagate velocities by dt/2\n",
    "    \n",
    "    # compute observables (kinetic, potential energy, etc.)\n",
    "\n",
    "    # print info\n",
    "\n"
   ]
  },
  {
   "cell_type": "markdown",
   "id": "2a9a18c9",
   "metadata": {},
   "source": [
    "&#169; Copyright 2025,  Michigan State University Board of Trustees"
   ]
  }
 ],
 "metadata": {
  "kernelspec": {
   "display_name": ".venv",
   "language": "python",
   "name": "python3"
  },
  "language_info": {
   "codemirror_mode": {
    "name": "ipython",
    "version": 3
   },
   "file_extension": ".py",
   "mimetype": "text/x-python",
   "name": "python",
   "nbconvert_exporter": "python",
   "pygments_lexer": "ipython3",
   "version": "3.12.5"
  }
 },
 "nbformat": 4,
 "nbformat_minor": 5
}
