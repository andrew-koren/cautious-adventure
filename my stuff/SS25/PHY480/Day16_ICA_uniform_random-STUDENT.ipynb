{
 "cells": [
  {
   "cell_type": "markdown",
   "id": "4ed4ee34",
   "metadata": {},
   "source": [
    "### <p style=\"text-align: right;\"> &#9989; Put your name here.</p>"
   ]
  },
  {
   "cell_type": "markdown",
   "id": "4ef15ee2",
   "metadata": {},
   "source": [
    "# PHY480 Day 16\n",
    "\n",
    "## In-class assignment: Elements of probability and statistics\n",
    "\n",
    "In this assignment we study the properties of the uniform distribution. It is a fundamental building block for any other distributions and Monte Carlo methods. We generate a sequence of random numbers and then estimate from that data the mean, the variance, the probability density function (PDF) and the cumulative distribution function (CDF). We will use the same strategy for more complex distribution to understand their properties as well as to debug our code by comparing estimators to expected exact results.\n"
   ]
  },
  {
   "cell_type": "code",
   "execution_count": 3,
   "id": "297c5d85",
   "metadata": {},
   "outputs": [],
   "source": [
    "import numpy as np\n",
    "import matplotlib.pyplot as plt\n",
    "%matplotlib inline\n"
   ]
  },
  {
   "cell_type": "markdown",
   "id": "6c1a425b",
   "metadata": {},
   "source": [
    "## Properties of the uniform distribution\n"
   ]
  },
  {
   "cell_type": "markdown",
   "id": "9daabca0",
   "metadata": {},
   "source": [
    "**Task 1.** Generate $n$ random numbers uniformly distibuted in $[0,1)$ using NumPy `random` function. Calculate the estimator of the mean and the variance. Print the results for different $n$. Compare with the exact values for the mean and variance."
   ]
  },
  {
   "cell_type": "code",
   "execution_count": 4,
   "id": "57f8634a",
   "metadata": {},
   "outputs": [
    {
     "name": "stdout",
     "output_type": "stream",
     "text": [
      "n = 10\n",
      "0.5-0.3146 = 0.1854\n",
      "0.0833-0.0426 = 0.0407\n",
      "n = 100\n",
      "0.5-0.5170 = -0.0170\n",
      "0.0833-0.0897 = -0.0064\n",
      "n = 1000\n",
      "0.5-0.5026 = -0.0026\n",
      "0.0833-0.0832 = 0.0002\n",
      "n = 10000\n",
      "0.5-0.4985 = 0.0015\n",
      "0.0833-0.0824 = 0.0009\n",
      "n = 100000\n",
      "0.5-0.4997 = 0.0003\n",
      "0.0833-0.0839 = -0.0006\n",
      "n = 1000000\n",
      "0.5-0.4999 = 0.0001\n",
      "0.0833-0.0832 = 0.0001\n"
     ]
    }
   ],
   "source": [
    "# set the seed for reproducibility\n",
    "np.random.seed(1)\n",
    "\n",
    "# list with sample sizes\n",
    "n_list = [10,100,1000,10000,100000,1000000]\n",
    "\n",
    "for n in n_list:\n",
    "    n_rand = np.random.rand(n)\n",
    "    stat_mean = n_rand.mean()\n",
    "    stat_var = n_rand.var()\n",
    "    \n",
    "    print(f'n = {n}')\n",
    "    print(f'0.5-{stat_mean:.4f} = {0.5-stat_mean:.4f}')\n",
    "    print(f'{1/12.:.4f}-{stat_var:.4f} = {1/12-stat_var:.4f}')"
   ]
  },
  {
   "cell_type": "markdown",
   "id": "f9e71a01",
   "metadata": {},
   "source": [
    "**Task 2.** For a fixed $n$ generate $n$ uniformly distributed random numbers and plot the histogram (which is an estimator of the probability density function from the data). Try different values for $n$: 100, 1000, 100000, etc. For the histogram use the `hist` function of PyPlot. Adjust the number of bins as necessary and normalize the historgram to have the total area of 1. Compare with the exact result."
   ]
  },
  {
   "cell_type": "code",
   "execution_count": 5,
   "id": "e3a1a383",
   "metadata": {},
   "outputs": [],
   "source": [
    "# YOUR CODE HERE\n",
    "def rand_hist(n):\n",
    "    n_rand = np.random.rand(n)\n",
    "    plt.hist(n_rand, density=True, bins=20, label=f'{n}', alpha=.8)"
   ]
  },
  {
   "cell_type": "markdown",
   "id": "ad54c2e2",
   "metadata": {},
   "source": [
    "**Task 3.** Using the random numbers you generated in the previous task, plot an estimator for the cumulative distribution function. Compare with the exact result.\n"
   ]
  },
  {
   "cell_type": "code",
   "execution_count": 6,
   "id": "b4685926",
   "metadata": {},
   "outputs": [
    {
     "name": "stdout",
     "output_type": "stream",
     "text": [
      "n = 10\n",
      "0.5-0.4430 = 0.0570\n",
      "0.0833-0.0805 = 0.0028\n",
      "n = 100\n",
      "0.5-0.5102 = -0.0102\n",
      "0.0833-0.0845 = -0.0012\n",
      "n = 1000\n",
      "0.5-0.5105 = -0.0105\n",
      "0.0833-0.0851 = -0.0017\n",
      "n = 10000\n",
      "0.5-0.4949 = 0.0051\n",
      "0.0833-0.0829 = 0.0005\n",
      "n = 100000\n",
      "0.5-0.4995 = 0.0005\n",
      "0.0833-0.0835 = -0.0001\n",
      "n = 1000000\n",
      "0.5-0.4999 = 0.0001\n",
      "0.0833-0.0834 = -0.0000\n"
     ]
    },
    {
     "data": {
      "text/plain": [
       "<matplotlib.legend.Legend at 0x2518c7df920>"
      ]
     },
     "execution_count": 6,
     "metadata": {},
     "output_type": "execute_result"
    },
    {
     "data": {
      "image/png": "[encoded data removed]",
      "text/plain": [
       "<Figure size 640x480 with 1 Axes>"
      ]
     },
     "metadata": {},
     "output_type": "display_data"
    }
   ],
   "source": [
    "# YOUR CODE HERE\n",
    "for n in n_list:\n",
    "    n_rand = np.random.rand(n)\n",
    "    stat_mean = n_rand.mean()\n",
    "    stat_var = n_rand.var()\n",
    "    \n",
    "    print(f'n = {n}')\n",
    "    print(f'0.5-{stat_mean:.4f} = {0.5-stat_mean:.4f}')\n",
    "    print(f'{1/12.:.4f}-{stat_var:.4f} = {1/12-stat_var:.4f}')\n",
    "    rand_hist(n)\n",
    "plt.legend()"
   ]
  },
  {
   "cell_type": "markdown",
   "id": "e9d510be",
   "metadata": {},
   "source": [
    "&#169; Copyright 2025,  Michigan State University Board of Trustees\n"
   ]
  }
 ],
 "metadata": {
  "kernelspec": {
   "display_name": ".venv",
   "language": "python",
   "name": "python3"
  },
  "language_info": {
   "codemirror_mode": {
    "name": "ipython",
    "version": 3
   },
   "file_extension": ".py",
   "mimetype": "text/x-python",
   "name": "python",
   "nbconvert_exporter": "python",
   "pygments_lexer": "ipython3",
   "version": "3.12.5"
  }
 },
 "nbformat": 4,
 "nbformat_minor": 5
}
