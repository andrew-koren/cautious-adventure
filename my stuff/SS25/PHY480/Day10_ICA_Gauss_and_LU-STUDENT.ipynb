{
 "cells": [
  {
   "cell_type": "markdown",
   "id": "4c6f605b",
   "metadata": {},
   "source": [
    "### <p style=\"text-align: right;\"> &#9989; Andrew </p>"
   ]
  },
  {
   "cell_type": "markdown",
   "id": "f4caec77",
   "metadata": {},
   "source": [
    "# PHY480 Day 10\n",
    "\n",
    "## In-class assignment: Linear algebra, Gaussian elimination and LU decomposition\n",
    "\n",
    "In this in-class assignment we discuss methods for solving systems of linear equations: Guassian elimination and LU decomposition. These methods are similar, however, the Gaussian elimination method solves a system $Ax=b$, while LU decomposition uses a similar process to decompose $A$ as a product $A=LU$, where $L$ is a lower-triangular and $U$ is an upper-triangular matrices with the intent of speeding up solving $Ax=b$ systems later. The latter method is beneficial if one anticipates solving a number of similar systems that have the same matrix $A$ but differ in the right-hand-side vector $b$.\n",
    "\n",
    "Calculating a matrix inverse is a similar process, since it is equivalent to solving a collection of systems $Ax=b$ where the vectors $b$ form an identity matrix.\n"
   ]
  },
  {
   "cell_type": "code",
   "execution_count": 11,
   "id": "21026a5c",
   "metadata": {},
   "outputs": [],
   "source": [
    "import numpy as np\n",
    "import matplotlib.pyplot as plt\n",
    "%matplotlib inline\n"
   ]
  },
  {
   "cell_type": "markdown",
   "id": "bd8916bd",
   "metadata": {},
   "source": [
    "**Task 1.** Implement the forward and backward substitution code from the book of Gezerlis, chapter 4 (code 4.1 in 2023 edition)."
   ]
  },
  {
   "cell_type": "markdown",
   "id": "97ed4d95",
   "metadata": {},
   "source": [
    "If my answers look familiar, they should be!"
   ]
  },
  {
   "cell_type": "code",
   "execution_count": 12,
   "id": "e82ba735",
   "metadata": {},
   "outputs": [],
   "source": [
    "# solve lower-triangular system Lx=b by forward substitution (no pivoting)\n",
    "# Input:\n",
    "# L -- square lower-triangular matrix\n",
    "# bs -- right-hand-side vector\n",
    "# Output:\n",
    "# solution vector\n",
    "def forsub(L,bs):\n",
    "    n = bs.size\n",
    "    xs = np.zeros(n)\n",
    "    for i in range(n):\n",
    "        val = 0.\n",
    "        for j in range(i):\n",
    "            val += L[i,j]*xs[j]\n",
    "        xs[i] = (bs[i] - val)/L[i,i]\n",
    "    return xs\n",
    "\n",
    "\n",
    "# solve upper-triangular system Ux=b with backward substitution (no pivoting)\n",
    "# Input:\n",
    "# U -- square upper-triangular matrix\n",
    "# bs -- right-hand-side vector\n",
    "# Output:\n",
    "# solution vector\n",
    "def backsub(U,bs):\n",
    "    n = bs.size\n",
    "    xs = np.zeros(n)\n",
    "    for i in reversed(range(n)):\n",
    "        val = 0.\n",
    "        for j in range(i+1,n):\n",
    "            val += U[i,j]*xs[j]\n",
    "        xs[i] = (bs[i] - val)/U[i,i]\n",
    "    return xs\n"
   ]
  },
  {
   "cell_type": "markdown",
   "id": "89f3a9bd",
   "metadata": {},
   "source": [
    "**Task 2.** Implement the Gaussian elimination code from the book of Gezerlis, chapter 4 (codes 4.2 and 4.4 in the 2023 edition).\n"
   ]
  },
  {
   "cell_type": "code",
   "execution_count": 13,
   "id": "cd3affcc",
   "metadata": {},
   "outputs": [],
   "source": [
    "# solve Ax=b by Gaussian elimination (no pivoting)\n",
    "# Input:\n",
    "# inA -- square matrix A\n",
    "# inbs -- right-hand-side vector\n",
    "# Output:\n",
    "# solution vector\n",
    "def gauelim( inA, inbs ):\n",
    "    A = np.copy(inA)\n",
    "    bs = np.copy(inbs)\n",
    "    n = bs.size\n",
    "\n",
    "    for j in range(n-1):\n",
    "        for i in range(j+1,n):\n",
    "            coeff = A[i,j]/A[j,j]\n",
    "            A[i,j:] -= coeff*A[j,j:]\n",
    "            bs[i] -= coeff*bs[j]\n",
    "\n",
    "    xs = backsub(A,bs)\n",
    "    return xs\n",
    "\n",
    "\n",
    "# solve Ax=b by Gaussian elimination with partial pivoting\n",
    "# Input:\n",
    "# inA -- square matrix A\n",
    "# inbs -- right-hand-side vector\n",
    "# Output:\n",
    "# solution vector\n",
    "def gauelim_pivot(inA,inbs):\n",
    "    A = np.copy(inA)\n",
    "    bs = np.copy(inbs)\n",
    "    n = bs.size\n",
    "\n",
    "    for j in range(n-1):\n",
    "        k = np.argmax(np.abs(A[j:,j])) + j\n",
    "        if k != j:\n",
    "            A[j,:], A[k,:] = A[k,:], A[j,:].copy()\n",
    "            bs[j], bs[k] = bs[k], bs[j]\n",
    "\n",
    "        for i in range(j+1,n):\n",
    "            coeff = A[i,j]/A[j,j]\n",
    "            A[i,j:] -= coeff*A[j,j:]\n",
    "            bs[i] -= coeff*bs[j]\n",
    "\n",
    "    xs = backsub(A,bs)\n",
    "    return xs\n"
   ]
  },
  {
   "cell_type": "markdown",
   "id": "0c2b7b47",
   "metadata": {},
   "source": [
    "**Task 3.** Implement the LU decomposition and linear system solver code from the book of Gezerlis, chapter 4 (code 4.3 in the 2023 edition)."
   ]
  },
  {
   "cell_type": "code",
   "execution_count": 14,
   "id": "196e3253",
   "metadata": {},
   "outputs": [],
   "source": [
    "# LU decomposition of A (no pivoting)\n",
    "# Input:\n",
    "# A -- square matrix\n",
    "# Output:\n",
    "# L, U -- lower- and upper-triangular parts\n",
    "def ludec( A ):\n",
    "    n = A.shape[0]\n",
    "    U = np.copy(A)\n",
    "    L = np.identity(n)\n",
    "\n",
    "    for j in range(n-1):\n",
    "        for i in range(j+1,n):\n",
    "            coeff = U[i,j]/U[j,j]\n",
    "            U[i,j:] -= coeff*U[j,j:]\n",
    "            L[i,j] = coeff\n",
    "\n",
    "    return L, U\n",
    "\n",
    "\n",
    "# solve linear system by using LU decomposition\n",
    "# Input:\n",
    "# A -- square matrix\n",
    "# bs -- right-hand-side vector\n",
    "# Output:\n",
    "# solution vector\n",
    "def lusolve( A, bs ):\n",
    "    L, U = ludec(A)\n",
    "    ys = forsub(L,bs)\n",
    "    xs = backsub(U,ys)\n",
    "    return xs\n"
   ]
  },
  {
   "cell_type": "markdown",
   "id": "453b835a",
   "metadata": {},
   "source": [
    "**Task 4.** Generate random matrices $A$ of different sizes and the right-hand-side vectors $b$ (of matching size) and solve the linear system $Ax=b$ with your implementation of the Gaussian elimination algorithm (with and without pivoting). Compare your solution to the one calculated with `numpy.linalg.solve`.\n",
    "\n",
    "**Note:** In general, chances are a random matrix is singular (i.e. $Ax=b$ does not have a solution and $A$ does not have an inverse). In that case, simply change the random seed.\n"
   ]
  },
  {
   "cell_type": "code",
   "execution_count": 30,
   "id": "40bbf707",
   "metadata": {},
   "outputs": [
    {
     "name": "stdout",
     "output_type": "stream",
     "text": [
      "[[4.17022005e-01 7.20324493e-01 1.14374817e-04 3.02332573e-01\n",
      "  1.46755891e-01]\n",
      " [9.23385948e-02 1.86260211e-01 3.45560727e-01 3.96767474e-01\n",
      "  5.38816734e-01]\n",
      " [4.19194514e-01 6.85219500e-01 2.04452250e-01 8.78117436e-01\n",
      "  2.73875932e-02]\n",
      " [6.70467510e-01 4.17304802e-01 5.58689828e-01 1.40386939e-01\n",
      "  1.98101489e-01]\n",
      " [8.00744569e-01 9.68261576e-01 3.13424178e-01 6.92322616e-01\n",
      "  8.76389152e-01]]\n"
     ]
    }
   ],
   "source": [
    "# it is a good idea to fix the random seed for reproducibility\n",
    "np.random.seed( 1 )\n",
    "\n",
    "n = 5 # experiment with different sizes from e.g. 2 to 12\n",
    "\n",
    "A = np.random.rand( n, n )\n",
    "b = np.random.rand( n )\n",
    "\n",
    "print( A )\n"
   ]
  },
  {
   "cell_type": "code",
   "execution_count": 31,
   "id": "74a74339",
   "metadata": {},
   "outputs": [
    {
     "data": {
      "text/plain": [
       "array([-1.14572898,  2.35642506,  0.08995417, -1.28158098,  0.42562896])"
      ]
     },
     "execution_count": 31,
     "metadata": {},
     "output_type": "execute_result"
    }
   ],
   "source": [
    "# YOUR CODE HERE\n",
    "\n",
    "lusolve(A, b)"
   ]
  },
  {
   "cell_type": "markdown",
   "id": "f8975d6e",
   "metadata": {},
   "source": [
    "**Task 5.** Repeat the previous exercise with your version of the LU decomposition-based solver. Compare the result with `numpy.linalg.solve`."
   ]
  },
  {
   "cell_type": "code",
   "execution_count": 18,
   "id": "0b325ed6",
   "metadata": {},
   "outputs": [
    {
     "data": {
      "text/plain": [
       "array([-1.14572898,  2.35642506,  0.08995417, -1.28158098,  0.42562896])"
      ]
     },
     "execution_count": 18,
     "metadata": {},
     "output_type": "execute_result"
    }
   ],
   "source": [
    "# YOUR CODE HERE\n",
    "\n",
    "np.linalg.solve(A, b)"
   ]
  },
  {
   "cell_type": "markdown",
   "id": "d879bfbf",
   "metadata": {},
   "source": [
    "**Task 6.** Based on your LU decomposition, implement calculation of matrix inverse. (Make sure that LU decomposition is called only once during that calculation!) After calculating the inverse, check that $A^{-1}A=I$ (approximately) holds. Also, compare your inverse with the result of `numpy.linalg.inv`."
   ]
  },
  {
   "cell_type": "code",
   "execution_count": 82,
   "id": "8ade51c2",
   "metadata": {},
   "outputs": [],
   "source": [
    "# calculate matrix inverse using LU decomposition (no pivoting)\n",
    "# Input:\n",
    "# A -- square matrix\n",
    "# Output:\n",
    "# inverse matrix\n",
    "def mat_inverse(A):\n",
    "    n = A.shape[0]\n",
    "    L, U = ludec(A)\n",
    "    I = np.eye(n)\n",
    "    inv_A = np.zeros((n, n))\n",
    "    for i in range(n):\n",
    "        Y = forsub(L, I[:, i])\n",
    "        X = backsub(U, Y)\n",
    "        inv_A[:, i] = X\n",
    "\n",
    "    return inv_A"
   ]
  },
  {
   "cell_type": "code",
   "execution_count": 87,
   "id": "a1569f75",
   "metadata": {},
   "outputs": [],
   "source": [
    "X = mat_inverse(A)\n",
    "A_inv = np.linalg.inv(A)\n",
    "\n",
    "assert np.max(A_inv - X) < 1e-10"
   ]
  },
  {
   "cell_type": "markdown",
   "id": "9fe35a48",
   "metadata": {},
   "source": [
    "&#169; Copyright 2025,  Michigan State University Board of Trustees"
   ]
  }
 ],
 "metadata": {
  "kernelspec": {
   "display_name": ".venv",
   "language": "python",
   "name": "python3"
  },
  "language_info": {
   "codemirror_mode": {
    "name": "ipython",
    "version": 3
   },
   "file_extension": ".py",
   "mimetype": "text/x-python",
   "name": "python",
   "nbconvert_exporter": "python",
   "pygments_lexer": "ipython3",
   "version": "3.12.5"
  }
 },
 "nbformat": 4,
 "nbformat_minor": 5
}
