{
 "cells": [
  {
   "cell_type": "markdown",
   "id": "84a18b19",
   "metadata": {},
   "source": [
    "### <p style=\"text-align: right;\"> &#9989; Andrew Koren</p>"
   ]
  },
  {
   "cell_type": "markdown",
   "id": "14dcbdd0",
   "metadata": {},
   "source": [
    "# PHY480 Day 3\n",
    "\n",
    "## In-class assignment: Numerical differentiation\n"
   ]
  },
  {
   "cell_type": "code",
   "execution_count": 1,
   "id": "5d119cb1",
   "metadata": {},
   "outputs": [],
   "source": [
    "import numpy as np\n",
    "import matplotlib.pyplot as plt\n",
    "%matplotlib inline\n"
   ]
  },
  {
   "cell_type": "markdown",
   "id": "b3d9120f",
   "metadata": {},
   "source": [
    "Consider the following univariate function:\n",
    "\n",
    "$$\n",
    "f(x) = \\sin(x^2).\n",
    "$$\n"
   ]
  },
  {
   "cell_type": "code",
   "execution_count": 3,
   "id": "94e438a9",
   "metadata": {},
   "outputs": [],
   "source": [
    "\n",
    "def fun( x ):\n",
    "    '''\n",
    "    function sin(x^2)\n",
    "    Input:\n",
    "    x\n",
    "    Output\n",
    "    f(x) = sin(x^2)\n",
    "    '''\n",
    "\n",
    "    return np.sin( x*x )\n"
   ]
  },
  {
   "cell_type": "markdown",
   "id": "f8160756",
   "metadata": {},
   "source": [
    "**Task 1.** Calculate analytically the derivative $f'(x)$. Complete the following function that returns the value of the derivative. Check that you programmed the derivative correctly by printing $f'(x)$ at several points and comparing to e.g. calculator."
   ]
  },
  {
   "cell_type": "code",
   "execution_count": 4,
   "id": "6d54df99",
   "metadata": {},
   "outputs": [],
   "source": [
    "# derivative of the function sin(x^2)\n",
    "# Input:\n",
    "# x\n",
    "# Output\n",
    "# f'(x)\n",
    "def d_fun( x ):\n",
    "    return 2*x*np.cos(x**2)\n"
   ]
  },
  {
   "cell_type": "markdown",
   "id": "d8c3d460",
   "metadata": {},
   "source": [
    "**Task 2.** Program the three schemes for the first derivative: forward, backward and central. You provide the function to be derived as input (i.e. the functions to be coded are general, they can accept any function to calculate the derivative). To check correctness, calculate the derivatives for the `fun` function given above and compare against the analytic derivative with `d_fun` function you coded earlier."
   ]
  },
  {
   "cell_type": "code",
   "execution_count": null,
   "id": "4cb907e5",
   "metadata": {},
   "outputs": [],
   "source": [
    "# forward finite difference\n",
    "# Input:\n",
    "# fun -- function to be derived\n",
    "# x -- at which point\n",
    "# eps -- step size for approximations\n",
    "def df_forward( fun, x, eps=0.001 ):\n",
    "    return # something\n",
    "\n",
    "# backward finite difference\n",
    "# Input:\n",
    "# fun -- function to be derived\n",
    "# x -- at which point\n",
    "# eps -- step size for approximations\n",
    "def df_backward( fun, x, eps=0.001 ):\n",
    "    return # something\n",
    "\n",
    "# central finite difference\n",
    "# Input:\n",
    "# fun -- function to be derived\n",
    "# x -- at which point\n",
    "# eps -- step size for approximations\n",
    "def df_central( fun, x, eps=0.001 ):\n",
    "    return # something\n"
   ]
  },
  {
   "cell_type": "markdown",
   "id": "34f84998",
   "metadata": {},
   "source": [
    "**Task 3.** For a list of step sizes `eps` given below do the following. At fixed value $x_0=1$ calculate the difference in derivative between the approximate scheme and the (exact) analytic expression for $f(x)=\\sin(x^2)$. Plot that difference as function of `eps` for the forward, backward and central difference on the log-log scale on the same plot. Explain the resulting plot and if it matches your expectations."
   ]
  },
  {
   "cell_type": "code",
   "execution_count": null,
   "id": "d7eecf1f",
   "metadata": {},
   "outputs": [],
   "source": [
    "# list of step sizes to check the precision of various finite difference schemes\n",
    "eps_list = [10**(-i) for i in range(1,6) ]\n",
    "print( eps_list )\n"
   ]
  },
  {
   "cell_type": "markdown",
   "id": "f6d0ce05",
   "metadata": {},
   "source": [
    "**Task 4.** Study the documentation of the `autograd` package. Write code below to evaluate the derivaitve of $f(x)=\\sin(x^2)$ with `autograd`. Compute the derivative at $x=1,2,3$ and compare the result to your analytic calculation.\n",
    "\n",
    "A detailed discussion of autodifferentiation can be found in Alex Gezerlis, Numerical Methods in Physics with Python."
   ]
  },
  {
   "cell_type": "code",
   "execution_count": null,
   "id": "2f3c5c0e",
   "metadata": {},
   "outputs": [],
   "source": [
    "import autograd.numpy as np\n",
    "import autograd as ad\n"
   ]
  },
  {
   "cell_type": "code",
   "execution_count": null,
   "id": "4789743b",
   "metadata": {},
   "outputs": [],
   "source": [
    "# YOUR CODE HERE\n"
   ]
  },
  {
   "cell_type": "markdown",
   "id": "9c437492",
   "metadata": {},
   "source": [
    "&#169; Copyright 2025,  Michigan State University Board of Trustees"
   ]
  }
 ],
 "metadata": {
  "kernelspec": {
   "display_name": ".venv",
   "language": "python",
   "name": "python3"
  },
  "language_info": {
   "codemirror_mode": {
    "name": "ipython",
    "version": 3
   },
   "file_extension": ".py",
   "mimetype": "text/x-python",
   "name": "python",
   "nbconvert_exporter": "python",
   "pygments_lexer": "ipython3",
   "version": "3.12.5"
  }
 },
 "nbformat": 4,
 "nbformat_minor": 5
}
