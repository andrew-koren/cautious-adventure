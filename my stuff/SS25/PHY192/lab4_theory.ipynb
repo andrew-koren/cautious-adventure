{
 "cells": [
  {
   "cell_type": "markdown",
   "metadata": {},
   "source": [
    "Theory Questions"
   ]
  },
  {
   "cell_type": "markdown",
   "metadata": {},
   "source": [
    "1a The spiral trajectory comes from a combination of the lorentz force and \"drag\"/energy loss to the chamber. Moving charges would make a continuous circle due to cyclotron radius, but velocity decays and causes radius to decrease.\n",
    "\n",
    "1b Paricle $x$ must have the opposite charge in order to have lorentz force in the opposite direction. It is likely a positron since the incoming particle does not appear to have charge or interact with the bubble chamber."
   ]
  },
  {
   "attachments": {
    "image.png": {
     "image/png": "[encoded data removed]"
    }
   },
   "cell_type": "markdown",
   "metadata": {},
   "source": [
    "2a \n",
    "\n",
    "![image.png](attachment:image.png)\n",
    "\n",
    "2b Magnetic field points out of the page\n",
    "\n",
    "2c The electrons will then fly off in a straight line"
   ]
  },
  {
   "cell_type": "markdown",
   "metadata": {},
   "source": [
    "3 Rederive equation 9\n",
    "\n",
    "$$\n",
    "v = \\sqrt{\\frac{2eV_a}{m}} \\\\\n",
    "r = \\frac{mv}{eB} = \\frac{m\\sqrt{\\frac{2eV_a}{m}}}{eB} \\\\\n",
    "r^2 = \\frac{m^2(2eV_a)}{e^2 B^2 m} = \\frac{m}{e} \\frac{2V_a}{B^2}\n",
    "$$"
   ]
  },
  {
   "cell_type": "markdown",
   "metadata": {},
   "source": [
    "4 According to (9), use $y=r^2, x=\\frac{2V_a}{B^2}$"
   ]
  },
  {
   "cell_type": "markdown",
   "metadata": {},
   "source": [
    "5 Using separation $d=R$, we have\n",
    "\n",
    "$$\n",
    "B_0 = \\frac{\\mu_0 N I}{R} \\left[\\frac{1}{1 + \\frac{1}{4}} \\right]^{3/2} \\approx 0.716\\frac{\\mu_0 N I}{R}\n",
    "$$"
   ]
  },
  {
   "cell_type": "code",
   "execution_count": 1,
   "metadata": {},
   "outputs": [
    {
     "name": "stdout",
     "output_type": "stream",
     "text": [
      "1.25663706212e-06\n"
     ]
    },
    {
     "data": {
      "text/plain": [
       "7.96413281941251e-05"
      ]
     },
     "execution_count": 1,
     "metadata": {},
     "output_type": "execute_result"
    }
   ],
   "source": [
    "from scipy.constants import mu_0\n",
    "print(mu_0)\n",
    "(4/5)**(3/2)*(mu_0*124/0.14)/10"
   ]
  },
  {
   "cell_type": "markdown",
   "metadata": {},
   "source": [
    "I estimate $B/B_0 = 0.74\\pm 0.2$ for $r/R = 0.8.$. For very small $r/R$ I think $B \\approx B_0$ is fine, since that error is hardly as large as many other errors we deal with."
   ]
  }
 ],
 "metadata": {
  "kernelspec": {
   "display_name": ".venv",
   "language": "python",
   "name": "python3"
  },
  "language_info": {
   "codemirror_mode": {
    "name": "ipython",
    "version": 3
   },
   "file_extension": ".py",
   "mimetype": "text/x-python",
   "name": "python",
   "nbconvert_exporter": "python",
   "pygments_lexer": "ipython3",
   "version": "3.12.5"
  }
 },
 "nbformat": 4,
 "nbformat_minor": 2
}
