{
 "cells": [
  {
   "cell_type": "markdown",
   "id": "9d50f08b",
   "metadata": {},
   "source": [
    "Andrew Koren"
   ]
  },
  {
   "cell_type": "markdown",
   "id": "8cac4bfd",
   "metadata": {},
   "source": [
    "Continued from last week:\n",
    "\n",
    "If data can be fit with a flat line, your data isn't really able to tell you much more. Don't add more parameters for no reason.\n",
    "\n",
    "A small lattice will have trouble fitting/modeling a much larger system.\n",
    "\n",
    "We were able to calcualte yesterday:\n",
    "\n",
    "$$\n",
    "\\text{Prob}(\\chi^2 > \\chi_0^2) = \\int_{\\chi_0^2}^{\\infty} P_m (\\chi^2) d\\chi^2\n",
    "$$\n",
    "\n",
    "This is also called the $p$ value. A bad fit has a small p-value 0.1%, etc., since it is easy to get a better fit. A $p=99.9\\%$  means it is very unlikely that repeating the experiment would yield a better result. The cutoff value used in research is usually $p=5\\%$ or $1\\%$ (a suprisingly small value). At this point, there's no reason to stick on more parameters\n",
    "\n",
    "\n"
   ]
  },
  {
   "cell_type": "markdown",
   "id": "29341a41",
   "metadata": {},
   "source": [
    "Today's lecture\n",
    "\n",
    "Lennard-Jones fluid\n",
    "\n",
    "$$\n",
    "V_{LJ} = 4\\epsilon \\left[\\left(\\frac{\\sigma}{r}\\right)^{12} - \\left(\\frac{\\sigma}{r}\\right)^6\\right]\n",
    "$$\n",
    "\n",
    "$V_{LJ}$ has energy units. Consider reduced units to get out our annoying energy units\n",
    "\n",
    "$$\n",
    "r^* - \\frac{r}{\\sigma} \\\\\n",
    "E^* = \\frac{E}{\\epsilon} \\\\\n",
    "k_B = 1 \\\\\n",
    "k_B T^* = \\frac{k_B T}{\\epsilon}\n",
    "$$\n",
    "Also we'll assume reduced units (drop the asterisk)"
   ]
  },
  {
   "attachments": {
    "image-2.png": {
     "image/png": "[encoded data removed]"
    }
   },
   "cell_type": "markdown",
   "id": "d96cb0ae",
   "metadata": {},
   "source": [
    "$$\n",
    "V_{LJ}^{(r)} = 4 \\left[ \\left(\\frac{1}{r}\\right)^{12} - \\left(\\frac{1}{r}\\right)^6\\right] \\\\\n",
    "r\\rightarrow 0 , V_{LJ} \\rightarrow +\\infty \\\\\n",
    "r \\rightarrow \\infty, V_{LJ} \\rightarrow 0^- \\\\\n",
    "r = 1, V_{LJ} = 0 \\\\\n",
    "r_{\\min} = \\sqrt[6]{2}\n",
    "$$\n",
    "\n",
    "![image-2.png](attachment:image-2.png)"
   ]
  },
  {
   "cell_type": "markdown",
   "id": "72b6e62a",
   "metadata": {},
   "source": [
    "$$\n",
    "m \\frac{d\\vec v_i}{dt} = \\vec d_i \\\\\n",
    "\\vec f_i = -\\vec \\nabla_i \\sum_{J=1}^N \\sum_{k=j+1}^N V_{LJ} (\\vec r_j, \\vec r_k) \\\\\n",
    "\\mathcal O(N^2)\n",
    "$$\n",
    "\n",
    "The indexing $i$ is for each of $N$ particles. This is our first system in this class tracking all-to-all interaction, and is very costly. Alternatively, we can limit range to speed things up.\n",
    "\n",
    "$$\n",
    "V_{\\vec r_i, \\vec r_j} = \\begin{cases} V_{LJ} (\\vec r_i, \\vec r_j), & |\\vec r_i - \\vec r_j| \\leq r_{\\text{cut}} \\\\ 0, & \\text{otherwise} \\end{cases}\n",
    "$$\n",
    "\n",
    "Still needs to evaluate if particles are in the cut or not, which isn't necessarily easy. $r_{\\text{cut}} = 2.5÷3$\n",
    "\n",
    "$$\n",
    "\\frac{d \\vec v_i}{dt} (t) = \\frac{\\vec f_i (t)}{m} \\\\\n",
    "\\frac{d \\vec r_i (t)}{dt} = \\vec v_i (t)\n",
    "$$\n",
    "\n",
    "Can use leaprfrog:\n",
    "\n",
    "$$\n",
    "v_i \\left( t + \\frac{\\Delta t}{2}\\right) = v_i(t) + \\frac{\\Delta t}{2} \\frac{f_i ({\\vec r(t)})}{m} \\\\\n",
    "\\vec r_i ( t + \\Delta t) = \\vec r_i (t) + \\Delta t \\vec v_i \\left(t + \\frac{\\Delta t}{2}\\right) \\\\ \n",
    "\\rightarrow \\text{compute } \\vec f_i ( {\\vec r(t+\\Delta t)}) \\\\\n",
    "\\vec v_i (t+ \\Delta t) = \\vec v_i \\left( t+ \\frac{\\Delta t}{2} \\right) + \\frac{\\Delta t}{2} \\frac{f_i ({\\vec r(t+\\Delta t)})}{m}\n",
    "$$\n",
    "\n",
    "It looks like the 1st and 4th step are kinda repetitive, but we're going to modify the code later. This is a symplectic-integrator, actually the velocity-verlet not leapfrog."
   ]
  },
  {
   "cell_type": "markdown",
   "id": "8dd6353b",
   "metadata": {},
   "source": [
    "Simulation details:\n",
    "\n",
    "- initialize $\\vec r_i, \\vec v_i, i=1, N$ \n",
    "- Copute pairwise forces\n",
    "- propogate $\\vec r_i, \\vec v_i$\n",
    "- hanlde boundary condtions\n",
    "- more to come when we modify the code\n",
    "\n",
    "This simulation is energy-conserving. Use uniform or maxwell's distribution (basically gaussian) for initial conditions. \n",
    "\n",
    "Energy-conserving symplectic integrators won't have constant energy, but they'll fluxuate around the initial energy. This is a microcanonical ensemble or in chemical/statistcal physics it is fixed NVE, and we're looking to extract physical quantities.\n",
    "\n",
    "Canonical ensemble fixed NVT. We might be interested in implementing a thermostat of our simulation as well (various techniques exist)"
   ]
  },
  {
   "cell_type": "markdown",
   "id": "d3361438",
   "metadata": {},
   "source": [
    "Boundaries:\n",
    "\n",
    "- Periodic BC <br>\n",
    "Needs us to write our particles to see their image, not trivial\n",
    "\n",
    "- Hard wall <br>\n",
    "Elastic bouncing, needs a method to flip vectors\n",
    "\n",
    "\n",
    "Periodic $x \\leftarrow ( x+ L_x) \\% L_x $ <br>\n",
    "HW:\n",
    "\n",
    "\n",
    "```python\n",
    "\n",
    "if x < R:\n",
    "    x ← 2R - x\n",
    "    if v_x < 0:\n",
    "        v_x ← -v_x"
   ]
  }
 ],
 "metadata": {
  "kernelspec": {
   "display_name": ".venv",
   "language": "python",
   "name": "python3"
  },
  "language_info": {
   "name": "python",
   "version": "3.12.5"
  }
 },
 "nbformat": 4,
 "nbformat_minor": 5
}
