{
 "cells": [
  {
   "cell_type": "markdown",
   "metadata": {},
   "source": [
    "Operators:\n",
    "\n",
    "Charge conjugation:\n",
    "\n",
    "$$\n",
    "C |\\psi \\rangle = |\\psi^* \\rangle \\\\\n",
    "\\text{Eigenstates: } C |\\psi \\rangle = (-1)^L|\\psi\\rangle \\\\\n",
    "\n",
    "$$\n",
    "\n",
    "Decay products must have the same operator eigenvalues as the original particle (at least for photons)"
   ]
  },
  {
   "cell_type": "markdown",
   "metadata": {},
   "source": [
    "$u$ and $d$ carry isospin, the others have other stuff"
   ]
  },
  {
   "cell_type": "code",
   "execution_count": 15,
   "metadata": {},
   "outputs": [
    {
     "name": "stdout",
     "output_type": "stream",
     "text": [
      "0.9262468707875986\n",
      "1\n",
      "0.8223740612362797\n"
     ]
    }
   ],
   "source": [
    "#hw_p = min(((73+82+74+74)/(82+90+80+80))+.1,1)\n",
    "hw_p = min(((73+82+74+74+64+54+60)/(82+90+80+80+110+60+75))/.9, 1)\n",
    "print(hw_p)\n",
    "quiz_p = min( (7*10+14+9)/(100)/.8 , 1)\n",
    "print(quiz_p)\n",
    "exam_p = 183/200 #91.5\n",
    "review_p = 0.9\n",
    "paper_p = 0#.70\n",
    "\n",
    "grade = .3*hw_p+.15*quiz_p+.3*exam_p + .1*review_p + .01 + .01 + .01 + .12*paper_p\n",
    "print(grade)\n",
    "\n",
    "\n",
    "#.15 + .15*(.68+.15)+(hw_p)*.3+.15*((7*2+10*6+9)/(9*10))+.01*3 +.22"
   ]
  }
 ],
 "metadata": {
  "kernelspec": {
   "display_name": ".venv",
   "language": "python",
   "name": "python3"
  },
  "language_info": {
   "codemirror_mode": {
    "name": "ipython",
    "version": 3
   },
   "file_extension": ".py",
   "mimetype": "text/x-python",
   "name": "python",
   "nbconvert_exporter": "python",
   "pygments_lexer": "ipython3",
   "version": "3.12.5"
  }
 },
 "nbformat": 4,
 "nbformat_minor": 2
}
