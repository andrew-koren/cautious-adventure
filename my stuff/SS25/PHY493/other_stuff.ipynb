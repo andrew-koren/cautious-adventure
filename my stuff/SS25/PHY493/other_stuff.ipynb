{
 "cells": [
  {
   "cell_type": "markdown",
   "metadata": {},
   "source": [
    "Operators:\n",
    "\n",
    "Charge conjugation:\n",
    "\n",
    "$$\n",
    "C |\\psi \\rangle = |\\psi^* \\rangle \\\\\n",
    "\\text{Eigenstates: } C |\\psi \\rangle = (-1)^L|\\psi\\rangle \\\\\n",
    "\n",
    "$$\n",
    "\n",
    "Decay products must have the same operator eigenvalues as the original particle (at least for photons)"
   ]
  },
  {
   "cell_type": "markdown",
   "metadata": {},
   "source": [
    "$u$ and $d$ carry isospin, the others have other stuff"
   ]
  }
 ],
 "metadata": {
  "language_info": {
   "name": "python"
  }
 },
 "nbformat": 4,
 "nbformat_minor": 2
}
