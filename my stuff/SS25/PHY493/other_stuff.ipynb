{
 "cells": [
  {
   "cell_type": "markdown",
   "metadata": {},
   "source": [
    "Operators:\n",
    "\n",
    "Charge conjugation:\n",
    "\n",
    "$$\n",
    "C |\\psi \\rangle = |\\psi^* \\rangle \\\\\n",
    "\\text{Eigenstates: } C |\\psi \\rangle = (-1)^L|\\psi\\rangle \\\\\n",
    "\n",
    "$$\n",
    "\n",
    "Decay products must have the same operator eigenvalues as the original particle (at least for photons)"
   ]
  },
  {
   "cell_type": "markdown",
   "metadata": {},
   "source": [
    "$u$ and $d$ carry isospin, the others have other stuff"
   ]
  },
  {
   "cell_type": "code",
   "execution_count": 22,
   "metadata": {},
   "outputs": [
    {
     "data": {
      "text/plain": [
       "0.9096460823373174"
      ]
     },
     "execution_count": 22,
     "metadata": {},
     "output_type": "execute_result"
    }
   ],
   "source": [
    "#hw_p = min(((73+82+74+74)/(82+90+80+80))+.1,1)\n",
    "hw_p = min(((73+82+74+74+60+50)/(82+90+80+80+110+60)), 1)\n",
    "\n",
    ".15 + .15*(.68+.15)+(hw_p)*.3+.15*((7*2+10*6+9)/(9*10))+.01*3 +.22"
   ]
  },
  {
   "cell_type": "code",
   "execution_count": 6,
   "metadata": {},
   "outputs": [
    {
     "data": {
      "text/plain": [
       "0.946875"
      ]
     },
     "execution_count": 6,
     "metadata": {},
     "output_type": "execute_result"
    }
   ],
   "source": [
    "((73+82+74+74)/(4*80))"
   ]
  }
 ],
 "metadata": {
  "kernelspec": {
   "display_name": ".venv",
   "language": "python",
   "name": "python3"
  },
  "language_info": {
   "codemirror_mode": {
    "name": "ipython",
    "version": 3
   },
   "file_extension": ".py",
   "mimetype": "text/x-python",
   "name": "python",
   "nbconvert_exporter": "python",
   "pygments_lexer": "ipython3",
   "version": "3.12.5"
  }
 },
 "nbformat": 4,
 "nbformat_minor": 2
}
