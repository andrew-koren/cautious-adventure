{
 "cells": [
  {
   "cell_type": "markdown",
   "metadata": {},
   "source": [
    "# Things that must Be (conservation)"
   ]
  },
  {
   "cell_type": "markdown",
   "metadata": {},
   "source": [
    "Momentum & energy conservation\n",
    "\n",
    "ex:\n",
    "$$\n",
    "p_{\\overline{q}}^\\mu + p_{q}^\\mu = p_{e^-}^\\mu + p_{e^+}^\\mu \\\\\n",
    "$$"
   ]
  },
  {
   "cell_type": "markdown",
   "metadata": {},
   "source": [
    "Lorentz invariance\n",
    "\n",
    "ex\n",
    "$$\n",
    "s^2 = E_i^2 - p_i^2 c^2 = E_f^2 - p_f^2 c^2\n",
    "$$"
   ]
  },
  {
   "cell_type": "markdown",
   "metadata": {},
   "source": [
    "Baryon number (3 quarks)"
   ]
  },
  {
   "cell_type": "markdown",
   "metadata": {},
   "source": [
    "# Conservation in Interactions:"
   ]
  },
  {
   "cell_type": "markdown",
   "metadata": {},
   "source": [
    "E&M (photon)\n",
    "\n",
    "Violates:\n",
    "- Isospin"
   ]
  },
  {
   "cell_type": "markdown",
   "metadata": {},
   "source": [
    "Strong force (gluons)\n",
    "\n",
    "Conserves:\n",
    "- Isospin"
   ]
  },
  {
   "cell_type": "markdown",
   "metadata": {},
   "source": [
    "Weak force (bosons)"
   ]
  },
  {
   "cell_type": "code",
   "execution_count": null,
   "metadata": {
    "vscode": {
     "languageId": "plaintext"
    }
   },
   "outputs": [],
   "source": []
  }
 ],
 "metadata": {
  "language_info": {
   "name": "python"
  }
 },
 "nbformat": 4,
 "nbformat_minor": 2
}
