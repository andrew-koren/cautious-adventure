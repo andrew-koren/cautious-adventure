{
 "cells": [
  {
   "cell_type": "markdown",
   "metadata": {},
   "source": [
    "# Things that must Be (conservation)"
   ]
  },
  {
   "cell_type": "markdown",
   "metadata": {},
   "source": [
    "Momentum & energy conservation\n",
    "\n",
    "ex:\n",
    "$$\n",
    "p_{\\overline{q}}^\\mu + p_{q}^\\mu = p_{e^-}^\\mu + p_{e^+}^\\mu \\\\\n",
    "$$"
   ]
  },
  {
   "cell_type": "markdown",
   "metadata": {},
   "source": [
    "Lorentz invariance\n",
    "\n",
    "ex\n",
    "$$\n",
    "s^2 = E_i^2 - p_i^2 c^2 = E_f^2 - p_f^2 c^2\n",
    "$$"
   ]
  },
  {
   "cell_type": "markdown",
   "metadata": {},
   "source": [
    "Baryon number (3 quarks)"
   ]
  },
  {
   "cell_type": "markdown",
   "metadata": {},
   "source": [
    "# More math & notation"
   ]
  }
 ],
 "metadata": {
  "language_info": {
   "name": "python"
  }
 },
 "nbformat": 4,
 "nbformat_minor": 2
}
