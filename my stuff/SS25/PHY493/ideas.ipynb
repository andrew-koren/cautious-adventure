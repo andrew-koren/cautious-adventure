{
 "cells": [
  {
   "cell_type": "markdown",
   "metadata": {},
   "source": [
    "Hadron info\n"
   ]
  },
  {
   "cell_type": "markdown",
   "metadata": {},
   "source": [
    "(e) This one is valid. Since the $\\pi^+$ pion is $u\\overline{d}$ and the proton is $uud$\n",
    "\n",
    "\n",
    "(f) quark violation, lepton flavor violation. Where do the quarks go?\n"
   ]
  }
 ],
 "metadata": {
  "language_info": {
   "name": "python"
  }
 },
 "nbformat": 4,
 "nbformat_minor": 2
}
