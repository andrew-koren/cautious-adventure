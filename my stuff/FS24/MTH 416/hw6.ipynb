{
 "cells": [
  {
   "cell_type": "markdown",
   "metadata": {},
   "source": [
    "# Mth 416 HW 6\n",
    "Andrew Koren"
   ]
  },
  {
   "cell_type": "markdown",
   "metadata": {},
   "source": [
    "## Exercise 1"
   ]
  },
  {
   "cell_type": "markdown",
   "metadata": {},
   "source": [
    "$$\n",
    "x = \\begin{matrix} \n",
    "\\begin{pmatrix} a & b & c \\end{pmatrix} & \\\\\n",
    "\\begin{bmatrix}\n",
    "1 & 1 & 1 \\\\\n",
    "1 & 0 & 1 \\\\\n",
    "0 & 0 & 1 \\\\\n",
    "1 & 1 & 0 \\\\\n",
    "0 & 1 & 0 \\\\\n",
    "\\end{bmatrix} &\n",
    "=\n",
    "\\begin{pmatrix}\n",
    "a+b+c \\\\\n",
    "a+c \\\\\n",
    "c \\\\\n",
    "a + b \\\\\n",
    "b \\\\\n",
    "\\end{pmatrix}\n",
    "\\end{matrix}\n",
    "$$\n",
    "With y=abc there are eight values to find"
   ]
  },
  {
   "cell_type": "code",
   "execution_count": 1,
   "metadata": {},
   "outputs": [
    {
     "data": {
      "text/plain": [
       "{(0, 0, 0, 0, 0),\n",
       " (0, 0, 1, 1, 0),\n",
       " (0, 1, 0, 0, 1),\n",
       " (0, 1, 1, 1, 1),\n",
       " (1, 0, 0, 1, 1),\n",
       " (1, 0, 1, 0, 1),\n",
       " (1, 1, 0, 1, 0),\n",
       " (1, 1, 1, 0, 0)}"
      ]
     },
     "execution_count": 1,
     "metadata": {},
     "output_type": "execute_result"
    }
   ],
   "source": [
    "code_words = set()\n",
    "\n",
    "for i in range(8):\n",
    "    input_bin = format(i, '#05b')[2:]\n",
    "    a, b, c = [int(i) for i in input_bin]\n",
    "    cw = (a^b^c, a^c, c, a^b, b)\n",
    "    code_words.add(cw)\n",
    "\n",
    "code_words"
   ]
  },
  {
   "cell_type": "markdown",
   "metadata": {},
   "source": [
    "Using lemma 6.1.12 we know that the minimum distance is the minimum weight of a nonzero code word"
   ]
  },
  {
   "cell_type": "code",
   "execution_count": 2,
   "metadata": {},
   "outputs": [
    {
     "data": {
      "text/plain": [
       "[3, 2, 2, 3, 0, 4, 3, 3]"
      ]
     },
     "execution_count": 2,
     "metadata": {},
     "output_type": "execute_result"
    }
   ],
   "source": [
    "[sum(cw) for cw in code_words]"
   ]
  },
  {
   "cell_type": "markdown",
   "metadata": {},
   "source": [
    "Note that the above list is not in order, but the zero distance term must be $\\vec 0$, so we get $\\delta(C) = 2$. From definition (5.1.17), we know 1-error correcting codes must have $\\delta(C) \\geq 3$, so this is not 1-error correcting."
   ]
  },
  {
   "cell_type": "markdown",
   "metadata": {},
   "source": [
    "## Exercise 2"
   ]
  },
  {
   "cell_type": "markdown",
   "metadata": {},
   "source": [
    "We can use that $C=\\text{Nul}(H)$  by definition of a check matrix. Lemma 6.4.3 will help with (b) and (c) as well.\n",
    "\n",
    "(a) We can brute force this by finding the null space of $H$, but first let's see if we can narrow down what has to be checked.\n",
    "\n",
    "$$\n",
    "\\vec 0 = \\begin{matrix} \n",
    "\\begin{pmatrix} a & b & c & d & e \\end{pmatrix} & \\\\\n",
    "\\begin{bmatrix}\n",
    "0 & 1 & 1 & 0 & 1\\\\\n",
    "1 & 1 & 0 & 1 & 0 \\\\\n",
    "0 & 1 & 0 & 1 & 1 \\\\\n",
    "\\end{bmatrix} &\n",
    "=\n",
    "\\begin{pmatrix}\n",
    "b+c+e \\\\\n",
    "a+b+d \\\\\n",
    "b+d+e \\\\\n",
    "\\end{pmatrix}\n",
    "\\end{matrix}\n",
    "$$\n",
    "\n",
    "Thus we know $b+c+e = a+b+d = b+d+e = 0$. Can we use these to find any particular results?\n",
    "\n",
    "$$\n",
    "b+e+c = b+e+d \\rightarrow c=d \\\\\n",
    "b+d+a = b+d+e \\rightarrow a=e \\\\\n",
    "$$\n",
    "\n",
    "That drops us from checking $2^5=32$ values to $2^3=8$."
   ]
  },
  {
   "cell_type": "markdown",
   "metadata": {},
   "source": [
    "$$\n",
    "\\vec 0 = \\begin{pmatrix}\n",
    "a+b+c \\\\\n",
    "a+b+c \\\\\n",
    "a+b+c \\\\\n",
    "\\end{pmatrix}\n",
    "$$\n",
    "\n",
    "Using only a+b+c, this yields\n",
    "\n",
    "$$\n",
    "C_{reduced} = \\{000, 011, 101, 110 \\}\n",
    "$$\n",
    "With the addition of $d=c$ and $e=a$, we have $C$ as\n",
    "$$\n",
    "C = \\{00000, 01110, 10111, 11001\\}\n",
    "$$"
   ]
  },
  {
   "cell_type": "markdown",
   "metadata": {},
   "source": [
    "For parts (b) and (c): Note the 4th column is $b+c$ while the 5th is $a+b$, so the minimum distance $\\delta(C)=3$, and the code is $1$-error correcting according to definition ($\\delta(C)\\geq 2r+1$)\n",
    "\n"
   ]
  },
  {
   "cell_type": "markdown",
   "metadata": {},
   "source": [
    "Brute Force method below:"
   ]
  },
  {
   "cell_type": "code",
   "execution_count": 7,
   "metadata": {},
   "outputs": [
    {
     "data": {
      "text/plain": [
       "{'00000', '01110', '10111', '11001'}"
      ]
     },
     "execution_count": 7,
     "metadata": {},
     "output_type": "execute_result"
    }
   ],
   "source": [
    "code_words = set()\n",
    "\n",
    "for i in range(32):\n",
    "    input_bin = format(i, '#07b')[2:]\n",
    "    a, b, c, d, e = [int(i) for i in input_bin]\n",
    "    cw = [b^c^e, a^b^d, b^d^e]\n",
    "    if cw==[0, 0, 0]:\n",
    "        code_words.add(format(i, '#07b')[2:])\n",
    "\n",
    "code_words"
   ]
  },
  {
   "cell_type": "markdown",
   "metadata": {},
   "source": [
    "## Exercise 3"
   ]
  },
  {
   "cell_type": "markdown",
   "metadata": {},
   "source": [
    "As the notation $E_0$ would suggest, this problem is really asking us to work through Theorem 6.3.11. I suspect that this matrix generates half of $\\mathbb{F}_2^5$. I could code up the algorithm, but it doesn't seem too bad to do by hand for this problem alone.\n",
    "\n",
    "Step 1: $A_1$ is $E_0$ without zero column\n",
    "\n",
    "$$\n",
    "A_1 = \\begin{bmatrix}\n",
    "1 & 1 & 1 & 0 \\\\\n",
    "0 & 0 & 1 & 0 \\\\\n",
    "1 & 1 & 0 & 0 \\\\\n",
    "0 & 1 & 0 & 1 \\\\\n",
    "0 & 0 & 1 & 1\n",
    "\\end{bmatrix}\n",
    "$$\n",
    "We dont know what $E_k$ looks like yet, so we'll just keep going.\n",
    "\n",
    "Step 2: Perform row swap. Not needed since $A_{11}$ is already 1.\n",
    "\n",
    "$B_1=A_1$\n",
    "\n",
    "Step 3: $E_1$ using column addition. Adding to column 2, 3\n",
    "\n",
    "$$\n",
    "E_1 = \\begin{bmatrix}\n",
    "1 & 0 & 0 & 0 \\\\\n",
    "0 & 0 & 1 & 0 \\\\\n",
    "1 & 0 & 1 & 0 \\\\\n",
    "0 & 1 & 0 & 1 \\\\\n",
    "0 & 0 & 1 & 1\n",
    "\\end{bmatrix}\n",
    "$$\n",
    "\n",
    "Repeat!<br>\n",
    "1. No zero column\n",
    "$$ A_2 = E_1 $$\n",
    "2. $R_4 \\leftrightarrow R_2$\n",
    "$$ B_2 = \\begin{bmatrix}\n",
    "1 & 0 & 0 & 0 \\\\\n",
    "0 & 1 & 0 & 1 \\\\\n",
    "1 & 0 & 1 & 0 \\\\\n",
    "0 & 0 & 1 & 0 \\\\\n",
    "0 & 0 & 1 & 1\n",
    "\\end{bmatrix}\n",
    "$$\n",
    "3. Elimination\n",
    "$$\n",
    "E_2 = \\begin{bmatrix}\n",
    "1 & 0 & 0 & 0 \\\\\n",
    "0 & 1 & 0 & 0 \\\\\n",
    "1 & 0 & 1 & 0 \\\\\n",
    "0 & 0 & 1 & 0 \\\\\n",
    "0 & 0 & 1 & 1\n",
    "\\end{bmatrix}\n",
    "$$\n",
    "Notice that We already have $E_{33}=1$ so we can skip to elimination\n",
    "$$B_3 = E_2$$\n",
    "$$\n",
    "E_3 = \\begin{bmatrix}\n",
    "1 & 0 & 0 & 0 \\\\\n",
    "0 & 1 & 0 & 0 \\\\\n",
    "0 & 0 & 1 & 0 \\\\\n",
    "1 & 0 & 1 & 0 \\\\\n",
    "1 & 0 & 1 & 1\n",
    "\\end{bmatrix}\n",
    "$$\n",
    "1. $A_4 = E_3$<br>\n",
    "2. $R_4 \\leftrightarrow R_5$\n",
    "$$\n",
    "B_4 = \\begin{bmatrix}\n",
    "1 & 0 & 0 & 0 \\\\\n",
    "0 & 1 & 0 & 0 \\\\\n",
    "0 & 0 & 1 & 0 \\\\\n",
    "1 & 0 & 1 & 1 \\\\\n",
    "1 & 0 & 1 & 0 \\\\\n",
    "\\end{bmatrix}\n",
    "$$\n",
    "3. Elimination\n",
    "$$\n",
    "E_4 = \\begin{bmatrix}\n",
    "1 & 0 & 0 & 0 \\\\\n",
    "0 & 1 & 0 & 0 \\\\\n",
    "0 & 0 & 1 & 0 \\\\\n",
    "0 & 0 & 0 & 1 \\\\\n",
    "1 & 0 & 1 & 0 \\\\\n",
    "\\end{bmatrix}\n",
    "$$\n",
    "\n",
    "This is the result, where $E = \\begin{bmatrix} I_k \\\\ A \\end{bmatrix}$ tells us that $A = [1\\ 0\\ 1\\ 0]$ and\n",
    "$$\n",
    "H = \\left[ A\\ I_m \\right] = [1\\ 0\\ 1\\ 0\\ 1]\n",
    "$$\n",
    "And $D=\\text{Col}(E)$, which is computed below. The null space of the check matrix can also describe these qualitatively: each term can have zero or two '1's in the 1,3,5 slot and '0' or '1' in the 2,4 slots. Tracking the row operations we did above would allow us to recover the original codewords $C$.\n"
   ]
  },
  {
   "cell_type": "code",
   "execution_count": 2,
   "metadata": {},
   "outputs": [
    {
     "name": "stdout",
     "output_type": "stream",
     "text": [
      "D =\n"
     ]
    },
    {
     "data": {
      "text/plain": [
       "{(0, 0, 0, 0, 0),\n",
       " (0, 0, 0, 1, 0),\n",
       " (0, 0, 1, 0, 1),\n",
       " (0, 0, 1, 1, 1),\n",
       " (0, 1, 0, 0, 0),\n",
       " (0, 1, 0, 1, 0),\n",
       " (0, 1, 1, 0, 1),\n",
       " (0, 1, 1, 1, 1),\n",
       " (1, 0, 0, 0, 1),\n",
       " (1, 0, 0, 1, 1),\n",
       " (1, 0, 1, 0, 0),\n",
       " (1, 0, 1, 1, 0),\n",
       " (1, 1, 0, 0, 1),\n",
       " (1, 1, 0, 1, 1),\n",
       " (1, 1, 1, 0, 0),\n",
       " (1, 1, 1, 1, 0)}"
      ]
     },
     "execution_count": 2,
     "metadata": {},
     "output_type": "execute_result"
    }
   ],
   "source": [
    "code_words = set()\n",
    "\n",
    "for i in range(16):\n",
    "    input_bin = format(i, '#06b')[2:]\n",
    "    a, b, c, d = [int(i) for i in input_bin]\n",
    "    cw = (a, b, c, d, a^c)\n",
    "    code_words.add(cw)\n",
    "\n",
    "print('D =')\n",
    "code_words"
   ]
  },
  {
   "cell_type": "markdown",
   "metadata": {},
   "source": [
    "## Exercise 4"
   ]
  },
  {
   "cell_type": "markdown",
   "metadata": {},
   "source": [
    "Note that we can move all the terms to the right side, giving us the rows of our check matrix. Remember that addition and subtraction are the same in $\\mathbb{F}_2$\n",
    "\n",
    "$$\n",
    "\\begin{align*}\n",
    "0 & = & x_1 + x_2 + x_3 + x_4 \\\\\n",
    "0 & = & x_2 + x_5 \\\\\n",
    "0 & = & x_3 + x_5 \\\\\n",
    "0 & = & x_4 + x_7 \\\\\n",
    "0 & = & x_5 + x_6 + x_7 + x_8\n",
    "\\end{align*}\n",
    "$$\n",
    "\n",
    "This gives our check matrix\n",
    "\n",
    "$$\n",
    "H = \\begin{bmatrix}\n",
    "1&1&1&1&0&0&0&0\\\\\n",
    "0&1&0&0&1&0&0&0\\\\\n",
    "0&0&1&0&1&0&0&0\\\\\n",
    "0&0&0&1&0&0&1&0\\\\\n",
    "0&0&0&0&1&1&1&1\\\\\n",
    "\\end{bmatrix}\n",
    "$$"
   ]
  },
  {
   "cell_type": "markdown",
   "metadata": {},
   "source": [
    "According to Lemma 6.3.10, we can perform elementary row operations and still have the same nullspace, so we can use row operations and swap columns to get the check matrix in standard form. \n",
    "\n",
    "$$\n",
    "\\begin{align*}\n",
    "R1 &=& R1+R2+R3+R4\\\\\n",
    "R2 &=& R2+R5\\\\\n",
    "R3 &=& R3+R5\\\\\n",
    "\\end{align*}\\\\\n",
    "\n",
    "H = \\begin{bmatrix}\n",
    "1&0&0&0&0&0&1&0\\\\\n",
    "0&1&0&0&0&1&1&1\\\\\n",
    "0&0&1&0&0&1&1&1\\\\\n",
    "0&0&0&1&0&0&1&0\\\\\n",
    "0&0&0&0&1&1&1&1\\\\\n",
    "\\end{bmatrix}\n",
    "$$\n",
    "\n",
    "We can push our identity block to the right side and obtain $H=[A|I_5]$\n",
    "\n",
    "$$\n",
    "A = \\begin{bmatrix}\n",
    "0&1&0\\\\\n",
    "1&1&1\\\\\n",
    "1&1&1\\\\\n",
    "0&1&0\\\\\n",
    "1&1&1\\\\\n",
    "\\end{bmatrix}\\\\\n",
    "E = \\left[\\dfrac{I_3}{A} \\right] \\\\\n",
    "E = \\begin{bmatrix}\n",
    "1&0&0\\\\\n",
    "0&1&0\\\\\n",
    "0&0&1\\\\\n",
    "0&1&0\\\\\n",
    "1&1&1\\\\\n",
    "1&1&1\\\\\n",
    "0&1&0\\\\\n",
    "1&1&1\\\\\n",
    "\\end{bmatrix}\\\\\n",
    "$$\n",
    "\n",
    "Using the brute force method to find the column space (see below), we find there are 8 codewords, so the information rate is.\n",
    "\n",
    "$$\n",
    "\\rho(C) = \\frac{\\log_2(8)}{8} = 3/8\n",
    "$$"
   ]
  },
  {
   "cell_type": "code",
   "execution_count": 2,
   "metadata": {},
   "outputs": [
    {
     "name": "stdout",
     "output_type": "stream",
     "text": [
      "C =\n"
     ]
    },
    {
     "data": {
      "text/plain": [
       "{(0, 0, 0, 0, 0, 0, 0, 0),\n",
       " (0, 0, 1, 0, 1, 1, 0, 1),\n",
       " (0, 1, 0, 1, 1, 1, 1, 1),\n",
       " (0, 1, 1, 1, 0, 0, 1, 0),\n",
       " (1, 0, 0, 0, 1, 1, 0, 1),\n",
       " (1, 0, 1, 0, 0, 0, 0, 0),\n",
       " (1, 1, 0, 1, 0, 0, 1, 0),\n",
       " (1, 1, 1, 1, 1, 1, 1, 1)}"
      ]
     },
     "execution_count": 2,
     "metadata": {},
     "output_type": "execute_result"
    }
   ],
   "source": [
    "code_words = set()\n",
    "\n",
    "for i in range(8):\n",
    "    input_bin = format(i, '#05b')[2:]\n",
    "    a, b, c = [int(i) for i in input_bin]\n",
    "    cw = (a, b, c, b, a^b^c, a^b^c, b, a^b^c)\n",
    "    code_words.add(cw)\n",
    "\n",
    "print('C =')\n",
    "code_words"
   ]
  },
  {
   "cell_type": "markdown",
   "metadata": {},
   "source": [
    "## Exercise 5"
   ]
  },
  {
   "cell_type": "markdown",
   "metadata": {},
   "source": [
    "(a) From lemma 6.4.6 we know that one exists $11 \\leq 16 - \\lceil \\log_2(17)\\rceil = 11$.\n",
    "\n",
    "Using $n=16$ and $k=11$, $m=n-k=5$, we can find an $m\\times n$ check matrix in standard form out of pairwise distinct columns.\n",
    "\n",
    "$$\n",
    "H = \\left[A|I_5 \\right] = \\begin{bmatrix}\n",
    "1&0&0&0&1&0&0&1&0&1&0&1&0&0&0&0\\\\\n",
    "1&1&0&0&0&1&0&0&1&1&1&0&1&0&0&0\\\\\n",
    "0&1&1&0&1&0&1&0&0&1&1&0&0&1&0&0\\\\\n",
    "0&0&1&1&0&1&0&1&0&0&1&0&0&0&1&0\\\\\n",
    "0&0&0&1&0&0&1&0&1&0&0&0&0&0&0&1\\\\\n",
    "\n",
    "\\end{bmatrix}\n",
    "$$\n",
    "\n",
    "(b) 15 = 2^4-1 so use $4\\times 15$ check matrix with pairwise distinct columns to fulfil the requirements in Theorem 6.4.9\n",
    "\n",
    "$$\n",
    "H = \\begin{bmatrix}\n",
    "1&1&1&1&0&0&0&1&0&1&1&1&0&0&0\\\\\n",
    "1&1&1&0&1&0&1&1&1&0&0&0&1&0&0\\\\\n",
    "1&1&0&1&1&1&1&0&0&0&1&0&0&1&0\\\\\n",
    "1&0&1&1&1&1&0&0&1&1&0&0&0&0&1\\\\\n",
    "\\end{bmatrix}\n",
    "$$"
   ]
  },
  {
   "cell_type": "markdown",
   "metadata": {},
   "source": [
    "## Exercise 6"
   ]
  },
  {
   "cell_type": "markdown",
   "metadata": {},
   "source": [
    "Let's find the syndrome for each of $z_1, z_2, z_3$ listed above.\n",
    "\n",
    "$$\n",
    "Hz_1 = 010 \\\\\n",
    "Hz_2 = 110 \\\\\n",
    "Hz_3 = 000\n",
    "$$\n",
    "\n",
    "For $z_3$ this is trivial; since $z_3$ is in $\\text{Nul}(H)$ it is a codeword, so $a=z$, $d(a,z)=0$.\n",
    "\n",
    "Rather than make the whole syndrome lookup table, we can examine the other two codewords and see what bits would have to be flipped. Note that each row is independen\n",
    "\n",
    "$z_1: $ Flip a bit in index 2, 5, or 8 and 1, 4, or 7. Since this needs two bit flips to be in the nullspace of $H$, no such $a$ exists.\n",
    "\n",
    "$z_2: $ Flip a bit in index 2, 5, or 8. So, using $a=101010011 \\in \\text{Nul}(H)$, we have $d(a,z)=1$\n"
   ]
  },
  {
   "cell_type": "markdown",
   "metadata": {},
   "source": [
    "## Exercise 7"
   ]
  },
  {
   "cell_type": "markdown",
   "metadata": {},
   "source": [
    "$H$ is not in standard form, so we will simply work through 6.5.12 until we hit an end condition. Note that $|\\text{Col}(H)|=8$. Also I'll skip recording input $z_l$ values that do not produce a new syndrome."
   ]
  },
  {
   "cell_type": "markdown",
   "metadata": {},
   "source": [
    "$$\n",
    "\\begin{matrix}\n",
    "    & 0 & 1 & 0 & 0 & 0 & 0 & 0 & 1 \\\\\n",
    "    & 0 & 0 & 1 & 0 & 0 & 0 & 0 & 0 \\\\\n",
    "z_l & 0 & 0 & 0 & 1 & 0 & 0 & 0 & 0 \\\\\n",
    "    & 0 & 0 & 0 & 0 & 1 & 0 & 0 & 1 \\\\\n",
    "    & 0 & 0 & 0 & 0 & 0 & 1 & 0 & 0 \\\\\n",
    "    & 0 & 0 & 0 & 0 & 0 & 0 & 1 & 0 \\\\\n",
    "\n",
    "\\\\\n",
    "    & 0 & 0 & 1 & 1 & 0 & 1 & 1 & 0 \\\\\n",
    "s_l & 0 & 1 & 0 & 1 & 1 & 0 & 1 & 0 \\\\\n",
    "    & 0 & 1 & 1 & 0 & 1 & 1 & 0 & 0 \\\\\n",
    "    & 0 & 0 & 1 & 0 & 1 & 0 & 1 & 1 \\\\\n",
    "\\\\\n",
    "|S_l| & 1 & 2 & 3 & 4 & 5 & 6 & 7 & 8 \\\\\n",
    "\\end{matrix}\n",
    "$$"
   ]
  },
  {
   "cell_type": "markdown",
   "metadata": {},
   "source": [
    "This hits our column space end condition. Next we'll find the codewords corresponding to $z_1 = 011110$ and $z_2 = 110011$\n",
    "\n",
    "$$\n",
    "Hz_1 = 1010 \\\\\n",
    "Hz_2 = 1010\n",
    "$$\n",
    "\n",
    "Both terms have the same syndrome, so this turns out to be pretty easy. According to our lookup table, adding $z_l=000010$ returns the associated codeword\n",
    "\n",
    "$$\n",
    "\\sigma(011110) = 011100 \\\\\n",
    "\\sigma(110011) = 110001\n",
    "$$"
   ]
  },
  {
   "cell_type": "code",
   "execution_count": 9,
   "metadata": {},
   "outputs": [
    {
     "name": "stdout",
     "output_type": "stream",
     "text": [
      "C =\n"
     ]
    },
    {
     "data": {
      "text/plain": [
       "{(0, 0, 0, 0),\n",
       " (0, 0, 0, 1),\n",
       " (0, 1, 1, 0),\n",
       " (0, 1, 1, 1),\n",
       " (1, 0, 1, 0),\n",
       " (1, 0, 1, 1),\n",
       " (1, 1, 0, 0),\n",
       " (1, 1, 0, 1)}"
      ]
     },
     "execution_count": 9,
     "metadata": {},
     "output_type": "execute_result"
    }
   ],
   "source": [
    "# column space brute force\n",
    "\n",
    "code_words = set()\n",
    "\n",
    "for i in range(64):\n",
    "    input_bin = format(i, '#08b')[2:]\n",
    "    a, b, c, d, e, f = [int(i) for i in input_bin]\n",
    "    cw = (b^c^e^f, a^c^d^f, a^b^d^e, b^d^f)\n",
    "    code_words.add(cw)\n",
    "\n",
    "print('C =')\n",
    "code_words"
   ]
  },
  {
   "cell_type": "markdown",
   "metadata": {},
   "source": [
    "## Exercise 8"
   ]
  },
  {
   "cell_type": "markdown",
   "metadata": {},
   "source": [
    "(a) Not cyclic: $0110$ is not a codeword (does not 'cycle')<br>\n",
    "(b) Cyclic <br>\n",
    "(c) Not cyclic: no closure of addition ($1000+0111=1111$)"
   ]
  }
 ],
 "metadata": {
  "kernelspec": {
   "display_name": "Python 3",
   "language": "python",
   "name": "python3"
  },
  "language_info": {
   "codemirror_mode": {
    "name": "ipython",
    "version": 3
   },
   "file_extension": ".py",
   "mimetype": "text/x-python",
   "name": "python",
   "nbconvert_exporter": "python",
   "pygments_lexer": "ipython3",
   "version": "3.12.1"
  }
 },
 "nbformat": 4,
 "nbformat_minor": 2
}
