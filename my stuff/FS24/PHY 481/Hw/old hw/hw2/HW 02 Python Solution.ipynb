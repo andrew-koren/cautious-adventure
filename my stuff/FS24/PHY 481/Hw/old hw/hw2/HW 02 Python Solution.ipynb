{
 "cells": [
  {
   "cell_type": "markdown",
   "metadata": {},
   "source": [
    "# Numerically integrating functions of one variable\n",
    "\n",
    "In this problem, you will learn how to approximately determine the integral of a functions of a single variable using the trapezoidal rule and Simpson's rule. You will compare your results to the simplest built-in integrator from the ``scipy.integrate`` library, ``quad``. In this notebook, we have started by walking through the results of a computing numerically the integral of a function with known anti-derivative, but have left developing the Simpson alogorithm to you."
   ]
  },
  {
   "cell_type": "markdown",
   "metadata": {},
   "source": [
    "## Import all the libraries\n",
    "\n",
    "We will start by importing all the libraries and functions that we need. These can be called upon in any cell, but it's often useful to call them up in the first cell, so you know what's available. Also, to avoid conflicts in namespaces (i.e., functions and methods that appear in multiple libraries), we will use the ``as`` methods of importing libraries."
   ]
  },
  {
   "cell_type": "code",
   "execution_count": 2,
   "metadata": {},
   "outputs": [],
   "source": [
    "import sympy as sp                 ## Import symbolic python library\n",
    "import numpy as np                 ## Import basic scientific computing library\n",
    "import matplotlib.pyplot as plt    ## Import plotting library\n",
    "from scipy.integrate import quad   ## Import a specific integrator from scipy.intergrate library\n",
    "\n",
    "## Make sure our plots show up inline\n",
    "%matplotlib inline\n",
    "\n",
    "## Add some style to the printing of sympy functions and matplotlib plots\n",
    "sp.init_printing(use_unicode=False, wrap_line=False, no_global=True)\n",
    "plt.style.use('ggplot')"
   ]
  },
  {
   "cell_type": "markdown",
   "metadata": {},
   "source": [
    "## An example\n",
    "\n",
    "We will work with a function with a known anti-derivative,\n",
    "\n",
    "$$ g(x) = 10*e^{-x},$$\n",
    "\n",
    "which are planning to integrate from 0 to 10,\n",
    "\n",
    "$$I(0,10) = \\int_0^{10} 10*e^{-x} dx.$$\n",
    "\n",
    "If this all looks familar, please skip to the problem to solve below."
   ]
  },
  {
   "cell_type": "markdown",
   "metadata": {},
   "source": [
    "### Example: Plot this function\n",
    "\n",
    "First, we will get a sense of what the function looks like over the domain we care about."
   ]
  },
  {
   "cell_type": "code",
   "execution_count": 3,
   "metadata": {},
   "outputs": [
    {
     "data": {
      "text/plain": [
       "Text(0, 0.5, 'g(x)')"
      ]
     },
     "execution_count": 3,
     "metadata": {},
     "output_type": "execute_result"
    },
    {
     "data": {
      "image/png": "[encoded data removed]",
      "text/plain": [
       "<Figure size 1200x600 with 1 Axes>"
      ]
     },
     "metadata": {},
     "output_type": "display_data"
    }
   ],
   "source": [
    "t = np.arange(0,10,0.01)\n",
    "g = 10*np.exp(-t)\n",
    "\n",
    "plt.figure(figsize=(12,6))\n",
    "plt.plot(t,g)\n",
    "plt.xlabel('x')\n",
    "plt.ylabel('g(x)')"
   ]
  },
  {
   "cell_type": "markdown",
   "metadata": {},
   "source": [
    "### Example: Does it have a known anti-derivative?\n",
    "\n",
    "Next, we can use the ``sympy`` library to check if this function has a known anti-derivative, that is, can it be integated analytically? "
   ]
  },
  {
   "cell_type": "code",
   "execution_count": 4,
   "metadata": {},
   "outputs": [
    {
     "data": {
      "image/png": "[encoded data removed]",
      "text/latex": [
       "$\\displaystyle - 10 e^{- x}$"
      ],
      "text/plain": [
       "     -x\n",
       "-10*e  "
      ]
     },
     "execution_count": 4,
     "metadata": {},
     "output_type": "execute_result"
    }
   ],
   "source": [
    "x=sp.Symbol('x')\n",
    "sp.integrate(10*sp.exp(-x),x)"
   ]
  },
  {
   "cell_type": "markdown",
   "metadata": {},
   "source": [
    "In this case, the function has a known anti-derivative, so numerically finding the integral from 0 to 10 is not necessary. We can simply use the antiderivative to evaluate it at the end points and compute the integral,\n",
    "\n",
    "$$I = -10*e^{-x}$$\n",
    "\n",
    "So that,\n",
    "\n",
    "$$I(0,10) = -10({e^{-10}-1}) \\approx 9.9995460007$$\n",
    "\n",
    "But let's see what happens when we numerically integrate it."
   ]
  },
  {
   "cell_type": "markdown",
   "metadata": {},
   "source": [
    "### Example: Define the function\n",
    "\n",
    "First, we define the function, so we can call it as we use our trapezoidal method"
   ]
  },
  {
   "cell_type": "code",
   "execution_count": 5,
   "metadata": {},
   "outputs": [],
   "source": [
    "def g(t):\n",
    "    return 10*np.exp(-t)"
   ]
  },
  {
   "cell_type": "markdown",
   "metadata": {},
   "source": [
    "### Example: Trapezoidal Approach\n",
    "Now we apply the trapezodial algorithm to this integral to determine the approximate value. Here, we are using 10 equally sized steps."
   ]
  },
  {
   "cell_type": "code",
   "execution_count": 6,
   "metadata": {},
   "outputs": [
    {
     "name": "stdout",
     "output_type": "stream",
     "text": [
      "10.819275852028298\n"
     ]
    }
   ],
   "source": [
    "N = 10\n",
    "a = 0\n",
    "b = 10\n",
    "h = (b-a)/N\n",
    "s = 0       # this just ensures we don't add more to it if we run it again!\n",
    "\n",
    "s = 0.5*g(a) + 0.5*g(b)\n",
    "for k in range(1,N):\n",
    "    s += g(a+k*h)\n",
    "    \n",
    "I = s*h\n",
    "print(I)"
   ]
  },
  {
   "cell_type": "markdown",
   "metadata": {},
   "source": [
    "Our approximate answer isn't great. It's off by about 8%. We can increase the number of steps to get better."
   ]
  },
  {
   "cell_type": "code",
   "execution_count": 7,
   "metadata": {},
   "outputs": [
    {
     "name": "stdout",
     "output_type": "stream",
     "text": [
      "10.007877567207714\n"
     ]
    }
   ],
   "source": [
    "N = 100\n",
    "a = 0\n",
    "b = 10\n",
    "h = (b-a)/N\n",
    "s = 0       # this just ensures we don't add more to it if we run it again!\n",
    "\n",
    "s = 0.5*g(a) + 0.5*g(b)\n",
    "for k in range(1,N):\n",
    "    s += g(a+k*h)\n",
    "    \n",
    "I = s*h\n",
    "print(I)"
   ]
  },
  {
   "cell_type": "markdown",
   "metadata": {},
   "source": [
    "With 10 times more steps, we are now off by only about 0.08%! But we can do even better with more steps."
   ]
  },
  {
   "cell_type": "code",
   "execution_count": 8,
   "metadata": {},
   "outputs": [
    {
     "name": "stdout",
     "output_type": "stream",
     "text": [
      "9.999629330113484\n"
     ]
    }
   ],
   "source": [
    "N = 1000\n",
    "a = 0\n",
    "b = 10\n",
    "h = (b-a)/N\n",
    "s = 0       # this just ensures we don't add more to it if we run it again!\n",
    "\n",
    "s = 0.5*g(a) + 0.5*g(b)\n",
    "for k in range(1,N):\n",
    "    s += g(a+k*h)\n",
    "    \n",
    "I = s*h\n",
    "print(I)"
   ]
  },
  {
   "cell_type": "markdown",
   "metadata": {},
   "source": [
    "### Example: Can we do even better?\n",
    "\n",
    "Now, we are only off by 0.0007%! We can keep doing this for a while, but at some point we are running too many iterations for the gain in precision. We will also run into the issue of machine precision, which is error inherent in the storing on numbers in a computer. \n",
    "\n",
    "There are better methods for numerical integration, which are inherently faster (fewer iterations for same or better precision) and/or adaptive to the problem (get you the best answer for your required precision). One of these is Gaussian quadrature, which the ``quad`` function performs. The first result is the integral result. What's the second one?"
   ]
  },
  {
   "cell_type": "code",
   "execution_count": 9,
   "metadata": {},
   "outputs": [
    {
     "name": "stdout",
     "output_type": "stream",
     "text": [
      "(9.999546000702377, 2.832752842517095e-13)\n"
     ]
    }
   ],
   "source": [
    "I = quad(g, 0, 10)\n",
    "print(I)"
   ]
  },
  {
   "cell_type": "markdown",
   "metadata": {},
   "source": [
    "## Problem to Solve:  An odd charge distribution\n",
    "\n",
    "Up till now, most of your experience with integration has likely been integrating functions that have anti-derivatives. While this is kind of integration is problematic when you have data that must be integrated (e.g., using measures of position to determine potential energy), we will focus on functions for which there are no anti-derivatives.\n",
    "\n",
    "Consider a line of charge that lives on the x-axis. It exists from $x=-1$ to $x=2$, and distribution of that charge is given by,\n",
    "\n",
    "$$\\lambda(x) = 3e^{-x^2}.$$\n",
    "\n",
    "In this problem, you will work through this Jupyter notebook to determine the total charge one this line by performing the integral,\n",
    "\n",
    "$$Q = \\int_{-1}^2 3e^{-x^2} dx.$$\n",
    "\n",
    "As you work through this problem, you will work through the following activities:\n",
    "\n",
    "1. Plot the distribution of charge λ(x) between −1 ≤ x ≤ 2.\n",
    "2. Use ``sympy`` to compute the integral Q of the function. What does it return? Discuss the function. Is it analytic?\n",
    "3. Apply the trapezoidal rule to compute the integral of this function. Use 10 equal width steps. To receive full credit, you must write the code to do this and not use built-in integration functions of ``scipy``.\n",
    "4. Apply the trapezoidal rule to compute the integral again but this time use 100 equal width steps.\n",
    "5. Apply Simpson’s rule to compute the integral of this function. Use 10 equal width steps. To receive full credit, you must write the code to do this and not use built-in integration functions of “scipy”.\n",
    "Hint: for the summations that require you to distinguish between even and odd terms, review the “range” function, which allows you to specify how many steps to take in between each term in a sum. Also you will need to use two ”for” statements; one for the odd sum and one for the even sum in the Simpson’s rule equation.\n",
    "6. Apply Simpson’s rule to compute the integral of this function again. This time use 100 equal width steps.\n",
    "7. Look up ``scipy.integrate`` built-in quadrature function, ``quad.`` Use it to compute the same integral and compare its result to what your code produced. What are the two variables that ``quad`` gives you by default?\n",
    "8. Explain how the trapezoidal rule and Simpson's rule are different. How do they compute the integrals? Explain how the [Gaussian quadrature](https://en.wikipedia.org/wiki/Gaussian_quadrature), which is what ``quad`` and its cousins in the ``scipy.integrate`` library do, is different from both of them."
   ]
  },
  {
   "cell_type": "markdown",
   "metadata": {},
   "source": [
    "## Part 1 - Plotting"
   ]
  },
  {
   "cell_type": "code",
   "execution_count": 17,
   "metadata": {},
   "outputs": [
    {
     "data": {
      "text/plain": [
       "Text(0, 0.5, '$\\\\lambda$')"
      ]
     },
     "execution_count": 17,
     "metadata": {},
     "output_type": "execute_result"
    },
    {
     "data": {
      "image/png": "[encoded data removed]",
      "text/plain": [
       "<Figure size 1200x600 with 1 Axes>"
      ]
     },
     "metadata": {},
     "output_type": "display_data"
    }
   ],
   "source": [
    "from matplotlib import rc\n",
    "\n",
    "t = np.arange(-1,2,0.01)\n",
    "l = 3*np.exp(-t**2)\n",
    "\n",
    "plt.figure(figsize=(12,6))\n",
    "plt.plot(t,l)\n",
    "plt.xlabel(r'$x$', fontsize=20)\n",
    "plt.ylabel(r'$\\lambda$', fontsize=20)"
   ]
  },
  {
   "cell_type": "markdown",
   "metadata": {},
   "source": [
    "## Part 2 - Does it have a known anti-derivative?¶\n",
    "Use the sympy library to check if this function has a known anti-derivative, that is, can it be integated analytically?"
   ]
  },
  {
   "cell_type": "code",
   "execution_count": 11,
   "metadata": {},
   "outputs": [
    {
     "data": {
      "image/png": "[encoded data removed]",
      "text/latex": [
       "$\\displaystyle \\frac{3 \\sqrt{\\pi} \\operatorname{erf}{\\left(x \\right)}}{2}$"
      ],
      "text/plain": [
       "    ____       \n",
       "3*\\/ pi *erf(x)\n",
       "---------------\n",
       "       2       "
      ]
     },
     "execution_count": 11,
     "metadata": {},
     "output_type": "execute_result"
    }
   ],
   "source": [
    "x=sp.Symbol('x')\n",
    "sp.integrate(3*sp.exp(-x**2),x)"
   ]
  },
  {
   "cell_type": "markdown",
   "metadata": {},
   "source": [
    "The symbolic integral returns the ``erf`` function, which is Python description of the special function called the error function. It is a [well-known function](https://en.wikipedia.org/wiki/Error_function) and the solution to integral of Gaussian, but it is a not an analytical function. It must be computed numerically."
   ]
  },
  {
   "cell_type": "markdown",
   "metadata": {},
   "source": [
    "## Part 3 - Integrate with Trapezoidal Rule usind 10 equal width steps"
   ]
  },
  {
   "cell_type": "code",
   "execution_count": 32,
   "metadata": {},
   "outputs": [
    {
     "name": "stdout",
     "output_type": "stream",
     "text": [
      "-0.7\n",
      "1.8378791825532483\n",
      "-0.4\n",
      "2.556431366898634\n",
      "-0.10000000000000009\n",
      "2.970149501247504\n",
      "0.19999999999999996\n",
      "2.8823683174569696\n",
      "0.5\n",
      "2.3364023492142145\n",
      "0.7999999999999998\n",
      "1.5818772721291463\n",
      "1.1\n",
      "0.894591838289662\n",
      "1.4\n",
      "0.42257526276313506\n",
      "1.6999999999999997\n",
      "0.16672863783444936\n",
      "4.8684889045431685\n"
     ]
    }
   ],
   "source": [
    "def f(t):\n",
    "    return 3*np.exp(-t**2)\n",
    "\n",
    "N = 10\n",
    "a = -1\n",
    "b = 2\n",
    "h = (b-a)/N\n",
    "s = 0       # this just ensures we don't add more to it if we run it again!\n",
    "\n",
    "s = 0.5*f(a) + 0.5*f(b)\n",
    "for k in range(1,N):\n",
    "    s += f(a+k*h)\n",
    "    \n",
    "I = s*h"
   ]
  },
  {
   "cell_type": "markdown",
   "metadata": {},
   "source": [
    "## Part 4 - Integrate with Trapezoidal Rule usind 100 equal width steps"
   ]
  },
  {
   "cell_type": "code",
   "execution_count": 13,
   "metadata": {},
   "outputs": [
    {
     "name": "stdout",
     "output_type": "stream",
     "text": [
      "4.886534538407494\n"
     ]
    }
   ],
   "source": [
    "N = 100\n",
    "a = -1\n",
    "b = 2\n",
    "h = (b-a)/N\n",
    "s = 0       # this just ensures we don't add more to it if we run it again!\n",
    "\n",
    "s = 0.5*f(a) + 0.5*f(b)\n",
    "for k in range(1,N):\n",
    "    s += f(a+k*h)\n",
    "    \n",
    "I = s*h\n",
    "print(I)"
   ]
  },
  {
   "cell_type": "markdown",
   "metadata": {},
   "source": [
    "## Part 4 - Integrate with Simpson's Rule using 10 equal width steps"
   ]
  },
  {
   "cell_type": "code",
   "execution_count": 43,
   "metadata": {},
   "outputs": [
    {
     "name": "stdout",
     "output_type": "stream",
     "text": [
      "1.8378791825532483\n",
      "2.970149501247504\n",
      "2.3364023492142145\n",
      "0.894591838289662\n",
      "0.16672863783444936\n",
      "\n",
      "\n",
      "\n",
      "\n",
      "4.88680957152326\n"
     ]
    }
   ],
   "source": [
    "N = 10\n",
    "a = -1\n",
    "b = 2\n",
    "    \n",
    "s = 0\n",
    "h = (b-a)/N\n",
    "    \n",
    "s = f(a) + f(b)\n",
    "for k in range(1,N,2):   # generating odd integers from 0 to N-1 (N is even)\n",
    "    s += 4*f(a+k*h)\n",
    "        \n",
    "for k in range(2,N-1,2):    # generating even integers from 0 to N-2 (N is even)\n",
    "    print()\n",
    "    s += 2*f(a+k*h)\n",
    "        \n",
    "I = (1/3)*h*s\n",
    "\n",
    "print(I)"
   ]
  },
  {
   "cell_type": "code",
   "execution_count": 42,
   "metadata": {},
   "outputs": [
    {
     "name": "stdout",
     "output_type": "stream",
     "text": [
      "-1 2\n",
      "[-0.7, -0.10000000000000009, 0.5, 1.1, 1.6999999999999997]\n",
      "[-0.4, 0.19999999999999996, 0.7999999999999998, 1.4]\n"
     ]
    }
   ],
   "source": [
    "print(a, b)\n",
    "print([a+i*h for i in range(1,N,2)])\n",
    "print([a+i*h for i in range(2,N-1,2)])"
   ]
  },
  {
   "cell_type": "markdown",
   "metadata": {},
   "source": [
    "## Part 6 - Integrate with Simpson's Rule using 100 equal width steps"
   ]
  },
  {
   "cell_type": "code",
   "execution_count": 15,
   "metadata": {},
   "outputs": [
    {
     "name": "stdout",
     "output_type": "stream",
     "text": [
      "4.8867165806948965\n"
     ]
    }
   ],
   "source": [
    "N = 100\n",
    "a = -1\n",
    "b = 2\n",
    "    \n",
    "s = 0\n",
    "h = (b-a)/N\n",
    "    \n",
    "s = f(a) + f(b)\n",
    "for k in range(1,N,2):   # generating odd integers from 0 to N-1 (N is even)\n",
    "    s += 4*f(a+k*h)\n",
    "        \n",
    "for k in range(2,N-1,2):    # generating even integers from 0 to N-2 (N is even)\n",
    "    s += 2*f(a+k*h)\n",
    "        \n",
    "I = (1/3)*h*s\n",
    "\n",
    "print(I)"
   ]
  },
  {
   "cell_type": "markdown",
   "metadata": {},
   "source": [
    "## Part 6 - Using ``quad``"
   ]
  },
  {
   "cell_type": "code",
   "execution_count": 16,
   "metadata": {},
   "outputs": [
    {
     "name": "stdout",
     "output_type": "stream",
     "text": [
      "(4.886716570724547, 4.014028567897092e-10)\n"
     ]
    }
   ],
   "source": [
    "I = quad(f, -1, 2)\n",
    "print(I)"
   ]
  },
  {
   "cell_type": "markdown",
   "metadata": {},
   "source": [
    "The result is first the value of the integral and, second, the estimate of the error."
   ]
  },
  {
   "cell_type": "markdown",
   "metadata": {},
   "source": [
    "## Part 7 - Explanations\n",
    "\n",
    "Both the Trapezoidal and Simpson's Rule use approximations of the functions to determine the integrals. They use polynomials with the Trapzoidal rule approximating the function as a line and Simpson's rule approximating them as quadartics. Both use the same step size between bins. In a sense, they do the same thing, adding up the area under the curve of the approximate function they have constructed.\n",
    "\n",
    "Quadratures use very similar kinds of methods (at least conceptually), they approximate the function and integrate those approximate forms. What is different is that they decide on the best polynomial (or other function, splines, etc.) to use based on the error that you specify. That is, they determine when they have used enough terms based on the error estimates that one can make from the order of the terms you decide to keep. Moreover, they work with unequal step sizes, so they can be more efficient - using big steps when functions vary slowly and smaller ones when they don't. "
   ]
  },
  {
   "cell_type": "code",
   "execution_count": null,
   "metadata": {},
   "outputs": [],
   "source": []
  }
 ],
 "metadata": {
  "kernelspec": {
   "display_name": "Python 3 (ipykernel)",
   "language": "python",
   "name": "python3"
  },
  "language_info": {
   "codemirror_mode": {
    "name": "ipython",
    "version": 3
   },
   "file_extension": ".py",
   "mimetype": "text/x-python",
   "name": "python",
   "nbconvert_exporter": "python",
   "pygments_lexer": "ipython3",
   "version": "3.11.9"
  }
 },
 "nbformat": 4,
 "nbformat_minor": 4
}
