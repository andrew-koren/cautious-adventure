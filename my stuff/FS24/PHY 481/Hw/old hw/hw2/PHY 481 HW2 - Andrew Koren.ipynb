{
 "cells": [
  {
   "cell_type": "markdown",
   "metadata": {},
   "source": [
    "# Phy 481 - HW 2"
   ]
  },
  {
   "cell_type": "markdown",
   "metadata": {},
   "source": [
    "1. Line (or path) integral\n",
    "\n",
    "The work done on a path is simply an integral of the dot with the path. This is one of the easier ones."
   ]
  },
  {
   "cell_type": "markdown",
   "metadata": {},
   "source": [
    "$$\n",
    "\\vec F = y^3 \\hat x - 2x^2 \\hat y \\\\\n",
    "dl = dx \\hat x + dy \\hat y \\\\\n",
    "W = \\int_l \\vec F \\cdot d\\vec l \\\\\n",
    "= \\int_l y^3 dx - 2x^2 dy\n",
    "$$\n",
    "To make the path itself convert to one variable\n",
    "$$\n",
    "y = x^2 + 1 \\\\\n",
    "dy = 2x dx \\\\\n",
    "W = \\int_{0}^2 (x^2+1)^3 dx - 2x^2 (2x dx) = \\int_0^2 \\left[(x^2+ 1)^3 - 4x^3 \\right]dx\n",
    "$$"
   ]
  },
  {
   "cell_type": "markdown",
   "metadata": {},
   "source": [
    "Wolfram reports that this is\n",
    "$$\n",
    "\\left. \\left[\\frac{1}{7}x^7+\\frac{3}{5}x^5-x^4+x^3+x \\right] \\right|_0^2 = \\frac{1102}{35}\n",
    "$$\n",
    "\n",
    "$\\vec F$ is path-independent if $\\vec \\nabla \\times \\vec F = 0 $\n",
    "\n",
    "$$\n",
    "\\vec \\nabla \\times \\vec F = \\left| \\begin{matrix} \\hat x & \\hat y & \\hat z \\\\ \\frac{\\partial}{\\partial x} &\\frac{\\partial}{\\partial y} &\\frac{\\partial}{\\partial z} \\\\ y^3 &- 2x^2 & 0  \\end{matrix} \\right| = \\hat z \\left( -4x -3y^2 \\right)\n",
    "$$\n",
    "\n",
    "So $\\vec F$ is not path independent"
   ]
  },
  {
   "cell_type": "markdown",
   "metadata": {},
   "source": [
    "2. Surface Integrals\n",
    "\n",
    "We only look at the components of $\\vec v$ parallel to the surface, and integrate twice since it is area.\n",
    "\n",
    "$$\n",
    "\\vec v = 3zx \\hat x + 5x \\hat y + 2y \\hat z \\\\\n",
    "d \\vec A = dx dz \\hat y \\\\\n",
    "\\vec v \\cdot d \\vec A = 5x dx dz \\\\\n",
    "\\int_S \\vec v \\cdot d\\vec A = \\int_0^3 \\int_0^2 5x dx dz \\\\ \n",
    "= \\int_0^3 10 dz = 30\n",
    "$$\n",
    "\n",
    "The result is positive since the two important vectors are $\\hat y$ (from the surface integral) and $5x\\hat y$ (from the flux vector). Since x is positive on the surface, this yields two positive vectors being dotted together, and a positive result"
   ]
  },
  {
   "cell_type": "markdown",
   "metadata": {},
   "source": [
    "3. Volume integrals\n",
    "\n",
    "Here we will simply calculate the volume integral. These are radially/azimuthally invariant, so we can actually just do a simple integral\n",
    "\n",
    "$$\n",
    "dV = \\rho^2 \\sin(\\theta) d\\rho d \\theta d\\phi \\\\\n",
    "\\int_0^{\\pi} \\int_0^{2\\pi}\\sin(\\phi)  d \\theta d \\phi = 4 \\pi \\\\\n",
    "\\int_V p_0 dv = 4\\pi \\int_0^{R} \\rho_0 \\rho^2  d\\rho = \\frac{4}{3} \\pi R^3 \\rho_0 \n",
    "$$\n",
    "Which makes me realize I could have used the volume formula for this part\n",
    "$$\n",
    "\\int_V \\frac{4\\rho_0}{5R} \\rho dv = 4\\pi \\frac{4\\rho_0}{5R}\\int_0^{R} \\rho^3  d\\rho = \\frac{4\\pi}{5} R^3 \\rho_0 \n",
    "$$"
   ]
  },
  {
   "cell_type": "markdown",
   "metadata": {},
   "source": [
    "$4/3 > 4/5$ so the first sphere is heavier than the second"
   ]
  },
  {
   "cell_type": "markdown",
   "metadata": {},
   "source": [
    "4. Some vector proofs\n",
    "\n",
    "Part 1: show $\\nabla \\times \\nabla T = 0$\n",
    "\n",
    "Gradient theorem: $$\\oint_C \\nabla T \\cdot d\\vec l = 0$$\n",
    "\n",
    "Stokes Theorem states the integral of the curl of a vector across a surface is equal to the integral of a path around the surface with the vector. Since $\\nabla T$ the gradient of a scalar function is a vector, stokes states that\n",
    "\n",
    "$$\n",
    "\\int_S \\vec \\nabla \\times \\vec{\\nabla T} \\cdot  d \\vec a = \\oint_C \\nabla T \\cdot d\\vec l = 0\n",
    "$$"
   ]
  },
  {
   "cell_type": "markdown",
   "metadata": {},
   "source": [
    "Part 2: show $\\int \\nabla \\cdot \\left(\\vec \\nabla \\times \\vec v \\right) dV= 0 $\n",
    "\n",
    "Same as before, we use the divergence theorem to convert the desired expression into one that equals zero. \n",
    "\n",
    "Stokes: $\\oint_S \\vec \\nabla \\times \\vec v \\cdot d \\vec a = 0 $\n",
    "\n",
    "Since the curl of a vector is a vector itself, we can use stokes theorem to convert from a volume intergral of a divergence to a closed area integral of a vector\n",
    "\n",
    "$$\n",
    "\\int \\nabla \\cdot \\left(\\vec \\nabla \\times \\vec v \\right) dV=\\oint_S \\vec \\nabla \\times \\vec v \\cdot d \\vec a = 0\n",
    "$$"
   ]
  },
  {
   "cell_type": "markdown",
   "metadata": {},
   "source": [
    "5. Test stokes' theorem\n",
    "\n",
    "Do the integrals!\n",
    "\n",
    "$$\n",
    "\\vec v = xy \\hat x + 2yz \\hat y + 3zx \\hat z \\\\\n",
    "\\oint d \\vec l = \\int_{y=0}^{y=2} dy \\hat y + \\int_{y=2}^{z=2} \\left[dy \\hat y + dz \\hat z \\right] + \\int_{z=2}^{z=0} dz \\hat z\n",
    "$$\n",
    "\n",
    "First let's see all the dot products\n",
    "\n",
    "$$\n",
    "\\vec v \\cdot dy \\hat y = 2yz dy \\\\\n",
    "\\vec v \\cdot \\left[dy \\hat y + dz \\hat z \\right] = 2yz dy + 3zx dz \\\\\n",
    "\\vec v \\cdot dz \\hat z = 3zx dz\n",
    "$$\n",
    "\n",
    "For the first curve, z=0 so the integral is zero. For the second and third curve, x = 0, so the third integral is zero and the second reduces to $2yz dy$ Using $z = 2-y$, this gives us"
   ]
  },
  {
   "cell_type": "markdown",
   "metadata": {},
   "source": [
    "$$\n",
    "\\int_2^0 2y(2-y) dy = \\left. 2y^2-\\frac{2}{3} y^3 \\right|_2^0 = -\\frac{8}{3}\n",
    "$$"
   ]
  },
  {
   "cell_type": "markdown",
   "metadata": {},
   "source": [
    "Lets verify against the curl-area integral\n",
    "\n",
    "$$\n",
    "\\vec \\nabla \\times \\vec  v = \\left| \\begin{matrix} \\hat x & \\hat y & \\hat z \\\\ \\frac{\\partial}{\\partial x} &\\frac{\\partial}{\\partial y} &\\frac{\\partial}{\\partial z} \\\\ xy & 2yz & 3zx  \\end{matrix} \\right| = -2y \\hat x - 3z \\hat y - x \\hat z\n",
    "$$\n",
    "\n",
    "For the integral, we'll use the same bounds as before with $y=2-z$ and $y=0$ as our first integral. Using $d \\vec a = dy dz \\hat x$ we can use the $\\hat x$ portion of the curl.\n",
    "\n",
    "$$\n",
    "\\int_0^2 \\int_0^{2-z} -2y dy dz = - \\int_0^2 (2-z)^2 dz = -\\frac{8}{3}\n",
    "$$\n",
    "\n",
    "As such our test of stokes is succesful"
   ]
  },
  {
   "cell_type": "markdown",
   "metadata": {},
   "source": [
    "6. Python: An odd charge distribution\n",
    "\n",
    "See:\n",
    "Koren, Andrew - HW02.ipynb"
   ]
  }
 ],
 "metadata": {
  "language_info": {
   "name": "python"
  }
 },
 "nbformat": 4,
 "nbformat_minor": 2
}
