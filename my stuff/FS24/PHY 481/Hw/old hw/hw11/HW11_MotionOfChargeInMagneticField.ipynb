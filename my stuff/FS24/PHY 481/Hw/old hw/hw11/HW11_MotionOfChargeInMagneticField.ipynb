{
 "cells": [
  {
   "cell_type": "markdown",
   "metadata": {},
   "source": [
    "## Modeling the motion of a charge in a magnetic field\n",
    "\n",
    "In this problem, you will develop the essential computational physics to model the motion of a charged particle in a magnetic field. The force acting on such a particle is,\n",
    "\n",
    "$$\\mathbf{F} = q \\mathbf{v} \\times \\mathbf{B}$$\n",
    "\n",
    "The code below sets up all the parameters and initial conditions that you need and provides the loop structure needed to model the motion. The essential physics that you need to provide will do the following:\n",
    "\n",
    "1. Compute the magnetic force\n",
    "2. Update the velocity by simple numerical integration (Euler step)\n",
    "3. Update the position by simple numerical integration (Euler step)\n",
    "\n",
    "After you complete the numerical integration, we ask you to plot the motion in 3 dimensions. You might have to look up how to do that online.\n",
    "\n",
    "Once your code is working for the case of a positive charge with no initial velicty in the direction of the magnetic field, this problem asks you to:\n",
    "1. use the code to model the motion of the positive charge with an initial velocity that includes a component in the direction of the magnetic field, and\n",
    "2. use the code to model the motion of a negative charge also with an initial velocity that includes a component in the direction of the magnetic field."
   ]
  },
  {
   "cell_type": "markdown",
   "metadata": {},
   "source": [
    "### Import necessary libraries and setup plots\n",
    "\n",
    "Below, we call the Python numerical library (```numpy```) and the 3D plotting module.  We also make sure plots occur inline and we set the size of the plots."
   ]
  },
  {
   "cell_type": "code",
   "execution_count": 1,
   "metadata": {},
   "outputs": [],
   "source": [
    "import numpy as np\n",
    "import matplotlib.pyplot as mpl\n",
    "from mpl_toolkits.mplot3d import Axes3D\n",
    "%matplotlib inline\n",
    "mpl.rc(\"figure\", figsize=(8,8))"
   ]
  },
  {
   "cell_type": "markdown",
   "metadata": {},
   "source": [
    "### Setup constants, parameters, and initialize vectors\n",
    "\n",
    "Below, we define the mass and charge of the positive particle, which we define in SI units. We also give the initial speed of the particle and the strength of the magnetic field in SI units. We also set up the array that keeps track of the time, and initialize arrays that keep track of the position and velocity vectors (careful here! these arrays have 3 components per element)."
   ]
  },
  {
   "cell_type": "code",
   "execution_count": 2,
   "metadata": {},
   "outputs": [],
   "source": [
    "mp = 1.67E-27        # mass of proton: kg\n",
    "qe = 1.602E-19       # charge of proton: C\n",
    "\n",
    "v0 = 1e3             # speed of the proton: m/s\n",
    "B0 = 1.0E-4          # strength of the magnetic field: T\n",
    "\n",
    "## Setup the timing\n",
    "dt = 1.0E-8          # time step: s\n",
    "t = np.arange(0.0, 0.005, dt) # array of time\n",
    "\n",
    "## Initialize position and veloicty arrays to be zero\n",
    "rp = np.zeros((len(t), 3))    \n",
    "vp = np.zeros((len(t), 3))"
   ]
  },
  {
   "cell_type": "markdown",
   "metadata": {},
   "source": [
    "### Setup initial conditions\n",
    "To expeirence a magnetic force, the charge needs to be moving. We initialize the position and velocity arrays below with an initial condition on the velocity that is non-zero only in the $x$-direction.\n",
    "\n",
    "Notice also they way that an element in the array is referenced. For example, ```rp[0,:]``` references all 3 components of the first (zeroth) element in the array. This will be important for doing the numerical integration."
   ]
  },
  {
   "cell_type": "code",
   "execution_count": 3,
   "metadata": {},
   "outputs": [],
   "source": [
    "# initial condition\n",
    "rp[0,:] = np.array([0.0, 0.0, 0.0])\n",
    "vp[0,:] = np.array([v0, 0.0, 0.0])"
   ]
  },
  {
   "cell_type": "markdown",
   "metadata": {},
   "source": [
    "## Problems to Solve \n",
    "### Part 1- Integration loop\n",
    "Below, we created a loop that runs until the final time. In this loop, you need to:\n",
    "\n",
    "1. Compute the magnetic force (as a vector)\n",
    "2. Update the velocity by simple numerical integration (Euler step)\n",
    "3. Update the position by simple numerical integration (Euler step)"
   ]
  },
  {
   "cell_type": "code",
   "execution_count": 6,
   "metadata": {},
   "outputs": [],
   "source": [
    "# Integration Loop\n",
    "for i in range(0, len(t)-1):\n",
    "    Bfield = np.array([0,0,B0])\n",
    "    Force = qe*np.cross(vp[i,:], Bfield)\n",
    "    vp[i+1] = vp[i] + Force/mp * dt\n",
    "    rp[i+1] = rp[i] + vp[i] * dt\n",
    "    # Your physics goes here"
   ]
  },
  {
   "cell_type": "code",
   "execution_count": null,
   "metadata": {},
   "outputs": [],
   "source": [
    "# let's animate it!\n",
    "from matplotlib.animation import FuncAnimation\n",
    "from IPython.display import HTML\n",
    "\n",
    "\n",
    "fig = mpl.figure()\n",
    "ax = fig.add_subplot(111, projection=\"3d\")\n",
    "line, = ax.plot([], [], [], color='red')\n",
    "point = ax.scatter([], [], [], color='blue', s=50)  # Red point\n",
    "\n",
    "ax.set_xlim(np.min(rp[:, 0]), np.max(rp[:, 0]))\n",
    "ax.set_ylim(np.min(rp[:, 1]), np.max(rp[:, 1]))\n",
    "ax.set_zlim(np.min(rp[:, 2])-0.01, np.max(rp[:, 2])+0.01)\n",
    "\n",
    "def update(frame):\n",
    "    frame = frame * 5000 #speed up animation\n",
    "    line.set_data(rp[:frame, 0], rp[:frame, 1])\n",
    "    line.set_3d_properties(rp[:frame, 2])\n",
    "\n",
    "    point._offsets3d = (  # This updates the scatter's position in 3D\n",
    "            [rp[frame, 0]],\n",
    "            [rp[frame, 1]],\n",
    "            [rp[frame, 2]],\n",
    "        )\n",
    "    return line, point\n",
    "\n",
    "frames = int(len(rp)/5000)\n",
    "\n",
    "ani = FuncAnimation(fig, update, frames=frames, interval=50, blit=True)\n",
    "HTML(ani.to_jshtml())\n"
   ]
  },
  {
   "cell_type": "markdown",
   "metadata": {},
   "source": [
    "### Plot the results\n",
    "\n",
    "Plot your results in 3-dimensions using the 3D plotting toolkit."
   ]
  },
  {
   "cell_type": "code",
   "execution_count": null,
   "metadata": {},
   "outputs": [],
   "source": [
    "# add code here for 3D plot"
   ]
  },
  {
   "cell_type": "markdown",
   "metadata": {},
   "source": [
    "## Part 2 - Helical Motion"
   ]
  },
  {
   "cell_type": "code",
   "execution_count": null,
   "metadata": {},
   "outputs": [],
   "source": [
    "# setup initial condition this time by giving the proton a component of velocity v0 along the direction of the magnetic field.\n",
    "\n",
    "\n",
    "# Integration Loop\n",
    "for i in range(0, len(t)-1):\n",
    "    \n",
    "    # Your physics goes here\n",
    "\n",
    "    \n",
    "# plot your result by adding the code below"
   ]
  }
 ],
 "metadata": {
  "kernelspec": {
   "display_name": ".venv",
   "language": "python",
   "name": "python3"
  },
  "language_info": {
   "codemirror_mode": {
    "name": "ipython",
    "version": 3
   },
   "file_extension": ".py",
   "mimetype": "text/x-python",
   "name": "python",
   "nbconvert_exporter": "python",
   "pygments_lexer": "ipython3",
   "version": "3.12.5"
  }
 },
 "nbformat": 4,
 "nbformat_minor": 1
}
